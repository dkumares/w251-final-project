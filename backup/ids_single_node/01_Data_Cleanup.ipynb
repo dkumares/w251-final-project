{
 "cells": [
  {
   "cell_type": "markdown",
   "id": "5fd0f3d3",
   "metadata": {},
   "source": [
    "## DATA CLEANUP"
   ]
  },
  {
   "cell_type": "code",
   "execution_count": 12,
   "id": "28374b4b",
   "metadata": {
    "ExecuteTime": {
     "end_time": "2021-04-04T14:44:29.536101Z",
     "start_time": "2021-04-04T14:44:29.526135Z"
    }
   },
   "outputs": [],
   "source": [
    "####################################################################################\n",
    "# Notebook to be used for cleaning up the raw data files,  special values, etc.    # \n",
    "####################################################################################"
   ]
  },
  {
   "cell_type": "code",
   "execution_count": 1,
   "id": "2e6f7ab2",
   "metadata": {
    "ExecuteTime": {
     "end_time": "2021-04-04T14:44:29.555208Z",
     "start_time": "2021-04-04T14:44:29.543759Z"
    }
   },
   "outputs": [],
   "source": [
    "# Import libraries\n",
    "import numpy as np\n",
    "import pandas as pd\n",
    "import os\n",
    "import re\n",
    "import datetime\n",
    "from dateutil import parser"
   ]
  },
  {
   "cell_type": "code",
   "execution_count": 2,
   "id": "903e748e",
   "metadata": {
    "ExecuteTime": {
     "end_time": "2021-04-04T14:44:29.577949Z",
     "start_time": "2021-04-04T14:44:29.562816Z"
    }
   },
   "outputs": [],
   "source": [
    "# Create a set of the raw data and processed files name\n",
    "# CONFIG NEEDED: Uncomment only the specific files to be processed on your node\n",
    "\n",
    "csv_files = {\n",
    " '02-14-2018.csv': '02-14-2018-bruteforce-ftp-ssh.csv',\n",
    " '02-15-2018.csv': '02-15-2018-dos-goldeneye-slowloris.csv',\n",
    " '02-16-2018.csv': '02-16-2018-dos-slowhttp-hulk.csv',\n",
    " '02-21-2018.csv': '02-21-2018-ddos-loic-udp.csv',\n",
    " '02-22-2018.csv': '02-22-2018-bruteforce-webxss.csv',\n",
    " '02-23-2018.csv': '02-23-2018-bruteforce-webxss-sql.csv',\n",
    " '02-28-2018.csv': '02-28-2018-infiltration.csv',\n",
    " '03-01-2018.csv': '03-01-2018-botnet.csv',\n",
    " '03-02-2018.csv': '03-02-2018-infiltration.csv',\n",
    " '02-20-2018.csv': '02-20-2018-ddos-loic-tcp.csv'   # WARNING: 4GB FILE.\n",
    "}"
   ]
  },
  {
   "cell_type": "code",
   "execution_count": 3,
   "id": "1e6908d8",
   "metadata": {
    "ExecuteTime": {
     "end_time": "2021-04-04T14:44:29.598740Z",
     "start_time": "2021-04-04T14:44:29.585206Z"
    }
   },
   "outputs": [],
   "source": [
    "# Set the folder name for raw data and processed files under the project directory\n",
    "# CONFIG NEEDED: Change the './data' and 'processed' to what you named your directories\n",
    "# Raw Data Files Location: final_project/data\n",
    "# Processed Data Files Location: final_project/data/processed\n",
    "\n",
    "rawdata_path = '../data/CSE-CIC-IDS2018'\n",
    "processed_path = os.path.join(rawdata_path, 'processed')"
   ]
  },
  {
   "cell_type": "code",
   "execution_count": 4,
   "id": "192e80a3",
   "metadata": {
    "ExecuteTime": {
     "end_time": "2021-04-04T14:44:29.621159Z",
     "start_time": "2021-04-04T14:44:29.608175Z"
    }
   },
   "outputs": [],
   "source": [
    "# Remove duplicate headers\n",
    "def remove_headers(f):    \n",
    "    return f[~f['Dst Port'].str.contains('Dst Port', na=False)]"
   ]
  },
  {
   "cell_type": "code",
   "execution_count": 5,
   "id": "80c78ce1",
   "metadata": {
    "ExecuteTime": {
     "end_time": "2021-04-04T14:44:29.664955Z",
     "start_time": "2021-04-04T14:44:29.650187Z"
    }
   },
   "outputs": [],
   "source": [
    "# Drop rows that have 'Infinity', 'infinity', or 'inf' as value\n",
    "def drop_infinity(f):\n",
    "    # Remove infinity and NaN values    \n",
    "    num_of_raw_records = f.shape[0]\n",
    "    \n",
    "    print('Number of Infinity or NaN Values')\n",
    "    print(f.isin([np.nan, np.inf, -np.inf]).sum().sum())\n",
    "\n",
    "    # Replace infinity to NaN and drop NaN values\n",
    "    f = f.replace([np.inf, -np.inf], np.nan)\n",
    "    f = f.dropna()\n",
    "    f = f.reset_index(drop=True)\n",
    "\n",
    "    dropped_NaN_records = num_of_raw_records - f.shape[0]\n",
    "    print('Number of NaN/Inf Records Dropped: ', dropped_NaN_records)\n",
    "\n",
    "    # Check infinity and NaN values\n",
    "    print('Remaining Infinity or NaN Values')\n",
    "    print(f.isin([np.nan, np.inf, -np.inf]).sum().sum())\n",
    "    \n",
    "    return f"
   ]
  },
  {
   "cell_type": "code",
   "execution_count": 6,
   "id": "7864a472",
   "metadata": {
    "ExecuteTime": {
     "end_time": "2021-04-04T14:44:29.713422Z",
     "start_time": "2021-04-04T14:44:29.698456Z"
    }
   },
   "outputs": [],
   "source": [
    "column_name_regex = re.compile(r\"\\W\", re.IGNORECASE)\n",
    "\n",
    "# Clean (spaces, special characters, etc.) column headers and lower case \n",
    "def remove_non_word_chars_from_column_names(f):\n",
    "    return [column_name_regex.sub('_', c.lower()) for c in df.columns]"
   ]
  },
  {
   "cell_type": "code",
   "execution_count": 11,
   "id": "b87b02d7",
   "metadata": {
    "ExecuteTime": {
     "end_time": "2021-04-04T14:45:15.215724Z",
     "start_time": "2021-04-04T14:44:29.744044Z"
    }
   },
   "outputs": [
    {
     "name": "stdout",
     "output_type": "stream",
     "text": [
      "reading: ../data/CSE-CIC-IDS2018/02-14-2018.csv\n",
      "Dst Port - object\n",
      "Protocol - object\n",
      "Timestamp - object\n",
      "Flow Duration - object\n",
      "Tot Fwd Pkts - object\n",
      "Tot Bwd Pkts - object\n",
      "TotLen Fwd Pkts - object\n",
      "TotLen Bwd Pkts - object\n",
      "Fwd Pkt Len Max - object\n",
      "Fwd Pkt Len Min - object\n",
      "Fwd Pkt Len Mean - object\n",
      "Fwd Pkt Len Std - object\n",
      "Bwd Pkt Len Max - object\n",
      "Bwd Pkt Len Min - object\n",
      "Bwd Pkt Len Mean - object\n",
      "Bwd Pkt Len Std - object\n",
      "Flow Byts/s - object\n",
      "Flow Pkts/s - object\n",
      "Flow IAT Mean - object\n",
      "Flow IAT Std - object\n",
      "Flow IAT Max - object\n",
      "Flow IAT Min - object\n",
      "Fwd IAT Tot - object\n",
      "Fwd IAT Mean - object\n",
      "Fwd IAT Std - object\n",
      "Fwd IAT Max - object\n",
      "Fwd IAT Min - object\n",
      "Bwd IAT Tot - object\n",
      "Bwd IAT Mean - object\n",
      "Bwd IAT Std - object\n",
      "Bwd IAT Max - object\n",
      "Bwd IAT Min - object\n",
      "Fwd PSH Flags - object\n",
      "Bwd PSH Flags - object\n",
      "Fwd URG Flags - object\n",
      "Bwd URG Flags - object\n",
      "Fwd Header Len - object\n",
      "Bwd Header Len - object\n",
      "Fwd Pkts/s - object\n",
      "Bwd Pkts/s - object\n",
      "Pkt Len Min - object\n",
      "Pkt Len Max - object\n",
      "Pkt Len Mean - object\n",
      "Pkt Len Std - object\n",
      "Pkt Len Var - object\n",
      "FIN Flag Cnt - object\n",
      "SYN Flag Cnt - object\n",
      "RST Flag Cnt - object\n",
      "PSH Flag Cnt - object\n",
      "ACK Flag Cnt - object\n",
      "URG Flag Cnt - object\n",
      "CWE Flag Count - object\n",
      "ECE Flag Cnt - object\n",
      "Down/Up Ratio - object\n",
      "Pkt Size Avg - object\n",
      "Fwd Seg Size Avg - object\n",
      "Bwd Seg Size Avg - object\n",
      "Fwd Byts/b Avg - object\n",
      "Fwd Pkts/b Avg - object\n",
      "Fwd Blk Rate Avg - object\n",
      "Bwd Byts/b Avg - object\n",
      "Bwd Pkts/b Avg - object\n",
      "Bwd Blk Rate Avg - object\n",
      "Subflow Fwd Pkts - object\n",
      "Subflow Fwd Byts - object\n",
      "Subflow Bwd Pkts - object\n",
      "Subflow Bwd Byts - object\n",
      "Init Fwd Win Byts - object\n",
      "Init Bwd Win Byts - object\n",
      "Fwd Act Data Pkts - object\n",
      "Fwd Seg Size Min - object\n",
      "Active Mean - object\n",
      "Active Std - object\n",
      "Active Max - object\n",
      "Active Min - object\n",
      "Idle Mean - object\n",
      "Idle Std - object\n",
      "Idle Max - object\n",
      "Idle Min - object\n",
      "Label - object\n",
      "processing: ../data/CSE-CIC-IDS2018/02-14-2018.csv\n",
      "Number of Infinity or NaN Values\n",
      "2277\n"
     ]
    },
    {
     "ename": "KeyboardInterrupt",
     "evalue": "",
     "output_type": "error",
     "traceback": [
      "\u001b[0;31m---------------------------------------------------------------------------\u001b[0m",
      "\u001b[0;31mKeyboardInterrupt\u001b[0m                         Traceback (most recent call last)",
      "\u001b[0;32m<ipython-input-11-c127404b97ac>\u001b[0m in \u001b[0;36m<module>\u001b[0;34m\u001b[0m\n\u001b[1;32m     18\u001b[0m     \u001b[0mdf\u001b[0m \u001b[0;34m=\u001b[0m \u001b[0mremove_headers\u001b[0m\u001b[0;34m(\u001b[0m\u001b[0mdf\u001b[0m\u001b[0;34m)\u001b[0m\u001b[0;34m\u001b[0m\u001b[0;34m\u001b[0m\u001b[0m\n\u001b[1;32m     19\u001b[0m     \u001b[0mdf\u001b[0m\u001b[0;34m.\u001b[0m\u001b[0mcolumns\u001b[0m \u001b[0;34m=\u001b[0m \u001b[0mremove_non_word_chars_from_column_names\u001b[0m\u001b[0;34m(\u001b[0m\u001b[0mdf\u001b[0m\u001b[0;34m)\u001b[0m\u001b[0;34m\u001b[0m\u001b[0;34m\u001b[0m\u001b[0m\n\u001b[0;32m---> 20\u001b[0;31m     \u001b[0mdf\u001b[0m \u001b[0;34m=\u001b[0m \u001b[0mdrop_infinity\u001b[0m\u001b[0;34m(\u001b[0m\u001b[0mdf\u001b[0m\u001b[0;34m)\u001b[0m\u001b[0;34m\u001b[0m\u001b[0;34m\u001b[0m\u001b[0m\n\u001b[0m\u001b[1;32m     21\u001b[0m \u001b[0;34m\u001b[0m\u001b[0m\n\u001b[1;32m     22\u001b[0m     \u001b[0;31m# Write it as a cleaned file in the processed directory\u001b[0m\u001b[0;34m\u001b[0m\u001b[0;34m\u001b[0m\u001b[0;34m\u001b[0m\u001b[0m\n",
      "\u001b[0;32m<ipython-input-5-7b0be4789596>\u001b[0m in \u001b[0;36mdrop_infinity\u001b[0;34m(f)\u001b[0m\n\u001b[1;32m      8\u001b[0m \u001b[0;34m\u001b[0m\u001b[0m\n\u001b[1;32m      9\u001b[0m     \u001b[0;31m# Replace infinity to NaN and drop NaN values\u001b[0m\u001b[0;34m\u001b[0m\u001b[0;34m\u001b[0m\u001b[0;34m\u001b[0m\u001b[0m\n\u001b[0;32m---> 10\u001b[0;31m     \u001b[0mf\u001b[0m \u001b[0;34m=\u001b[0m \u001b[0mf\u001b[0m\u001b[0;34m.\u001b[0m\u001b[0mreplace\u001b[0m\u001b[0;34m(\u001b[0m\u001b[0;34m[\u001b[0m\u001b[0mnp\u001b[0m\u001b[0;34m.\u001b[0m\u001b[0minf\u001b[0m\u001b[0;34m,\u001b[0m \u001b[0;34m-\u001b[0m\u001b[0mnp\u001b[0m\u001b[0;34m.\u001b[0m\u001b[0minf\u001b[0m\u001b[0;34m]\u001b[0m\u001b[0;34m,\u001b[0m \u001b[0mnp\u001b[0m\u001b[0;34m.\u001b[0m\u001b[0mnan\u001b[0m\u001b[0;34m)\u001b[0m\u001b[0;34m\u001b[0m\u001b[0;34m\u001b[0m\u001b[0m\n\u001b[0m\u001b[1;32m     11\u001b[0m     \u001b[0mf\u001b[0m \u001b[0;34m=\u001b[0m \u001b[0mf\u001b[0m\u001b[0;34m.\u001b[0m\u001b[0mdropna\u001b[0m\u001b[0;34m(\u001b[0m\u001b[0;34m)\u001b[0m\u001b[0;34m\u001b[0m\u001b[0;34m\u001b[0m\u001b[0m\n\u001b[1;32m     12\u001b[0m     \u001b[0mf\u001b[0m \u001b[0;34m=\u001b[0m \u001b[0mf\u001b[0m\u001b[0;34m.\u001b[0m\u001b[0mreset_index\u001b[0m\u001b[0;34m(\u001b[0m\u001b[0mdrop\u001b[0m\u001b[0;34m=\u001b[0m\u001b[0;32mTrue\u001b[0m\u001b[0;34m)\u001b[0m\u001b[0;34m\u001b[0m\u001b[0;34m\u001b[0m\u001b[0m\n",
      "\u001b[0;32m~/anaconda3/lib/python3.7/site-packages/pandas/core/frame.py\u001b[0m in \u001b[0;36mreplace\u001b[0;34m(self, to_replace, value, inplace, limit, regex, method)\u001b[0m\n\u001b[1;32m   4525\u001b[0m             \u001b[0mlimit\u001b[0m\u001b[0;34m=\u001b[0m\u001b[0mlimit\u001b[0m\u001b[0;34m,\u001b[0m\u001b[0;34m\u001b[0m\u001b[0;34m\u001b[0m\u001b[0m\n\u001b[1;32m   4526\u001b[0m             \u001b[0mregex\u001b[0m\u001b[0;34m=\u001b[0m\u001b[0mregex\u001b[0m\u001b[0;34m,\u001b[0m\u001b[0;34m\u001b[0m\u001b[0;34m\u001b[0m\u001b[0m\n\u001b[0;32m-> 4527\u001b[0;31m             \u001b[0mmethod\u001b[0m\u001b[0;34m=\u001b[0m\u001b[0mmethod\u001b[0m\u001b[0;34m,\u001b[0m\u001b[0;34m\u001b[0m\u001b[0;34m\u001b[0m\u001b[0m\n\u001b[0m\u001b[1;32m   4528\u001b[0m         )\n\u001b[1;32m   4529\u001b[0m \u001b[0;34m\u001b[0m\u001b[0m\n",
      "\u001b[0;32m~/anaconda3/lib/python3.7/site-packages/pandas/core/generic.py\u001b[0m in \u001b[0;36mreplace\u001b[0;34m(self, to_replace, value, inplace, limit, regex, method)\u001b[0m\n\u001b[1;32m   6893\u001b[0m                     \u001b[0mdest_list\u001b[0m\u001b[0;34m=\u001b[0m\u001b[0mvalue\u001b[0m\u001b[0;34m,\u001b[0m\u001b[0;34m\u001b[0m\u001b[0;34m\u001b[0m\u001b[0m\n\u001b[1;32m   6894\u001b[0m                     \u001b[0minplace\u001b[0m\u001b[0;34m=\u001b[0m\u001b[0minplace\u001b[0m\u001b[0;34m,\u001b[0m\u001b[0;34m\u001b[0m\u001b[0;34m\u001b[0m\u001b[0m\n\u001b[0;32m-> 6895\u001b[0;31m                     \u001b[0mregex\u001b[0m\u001b[0;34m=\u001b[0m\u001b[0mregex\u001b[0m\u001b[0;34m,\u001b[0m\u001b[0;34m\u001b[0m\u001b[0;34m\u001b[0m\u001b[0m\n\u001b[0m\u001b[1;32m   6896\u001b[0m                 )\n\u001b[1;32m   6897\u001b[0m \u001b[0;34m\u001b[0m\u001b[0m\n",
      "\u001b[0;32m~/anaconda3/lib/python3.7/site-packages/pandas/core/internals/managers.py\u001b[0m in \u001b[0;36mreplace_list\u001b[0;34m(self, src_list, dest_list, inplace, regex)\u001b[0m\n\u001b[1;32m    667\u001b[0m             \u001b[0mdest_list\u001b[0m\u001b[0;34m=\u001b[0m\u001b[0mdest_list\u001b[0m\u001b[0;34m,\u001b[0m\u001b[0;34m\u001b[0m\u001b[0;34m\u001b[0m\u001b[0m\n\u001b[1;32m    668\u001b[0m             \u001b[0minplace\u001b[0m\u001b[0;34m=\u001b[0m\u001b[0minplace\u001b[0m\u001b[0;34m,\u001b[0m\u001b[0;34m\u001b[0m\u001b[0;34m\u001b[0m\u001b[0m\n\u001b[0;32m--> 669\u001b[0;31m             \u001b[0mregex\u001b[0m\u001b[0;34m=\u001b[0m\u001b[0mregex\u001b[0m\u001b[0;34m,\u001b[0m\u001b[0;34m\u001b[0m\u001b[0;34m\u001b[0m\u001b[0m\n\u001b[0m\u001b[1;32m    670\u001b[0m         )\n\u001b[1;32m    671\u001b[0m         \u001b[0mbm\u001b[0m\u001b[0;34m.\u001b[0m\u001b[0m_consolidate_inplace\u001b[0m\u001b[0;34m(\u001b[0m\u001b[0;34m)\u001b[0m\u001b[0;34m\u001b[0m\u001b[0;34m\u001b[0m\u001b[0m\n",
      "\u001b[0;32m~/anaconda3/lib/python3.7/site-packages/pandas/core/internals/managers.py\u001b[0m in \u001b[0;36mapply\u001b[0;34m(self, f, align_keys, ignore_failures, **kwargs)\u001b[0m\n\u001b[1;32m    425\u001b[0m                     \u001b[0mapplied\u001b[0m \u001b[0;34m=\u001b[0m \u001b[0mb\u001b[0m\u001b[0;34m.\u001b[0m\u001b[0mapply\u001b[0m\u001b[0;34m(\u001b[0m\u001b[0mf\u001b[0m\u001b[0;34m,\u001b[0m \u001b[0;34m**\u001b[0m\u001b[0mkwargs\u001b[0m\u001b[0;34m)\u001b[0m\u001b[0;34m\u001b[0m\u001b[0;34m\u001b[0m\u001b[0m\n\u001b[1;32m    426\u001b[0m                 \u001b[0;32melse\u001b[0m\u001b[0;34m:\u001b[0m\u001b[0;34m\u001b[0m\u001b[0;34m\u001b[0m\u001b[0m\n\u001b[0;32m--> 427\u001b[0;31m                     \u001b[0mapplied\u001b[0m \u001b[0;34m=\u001b[0m \u001b[0mgetattr\u001b[0m\u001b[0;34m(\u001b[0m\u001b[0mb\u001b[0m\u001b[0;34m,\u001b[0m \u001b[0mf\u001b[0m\u001b[0;34m)\u001b[0m\u001b[0;34m(\u001b[0m\u001b[0;34m**\u001b[0m\u001b[0mkwargs\u001b[0m\u001b[0;34m)\u001b[0m\u001b[0;34m\u001b[0m\u001b[0;34m\u001b[0m\u001b[0m\n\u001b[0m\u001b[1;32m    428\u001b[0m             \u001b[0;32mexcept\u001b[0m \u001b[0;34m(\u001b[0m\u001b[0mTypeError\u001b[0m\u001b[0;34m,\u001b[0m \u001b[0mNotImplementedError\u001b[0m\u001b[0;34m)\u001b[0m\u001b[0;34m:\u001b[0m\u001b[0;34m\u001b[0m\u001b[0;34m\u001b[0m\u001b[0m\n\u001b[1;32m    429\u001b[0m                 \u001b[0;32mif\u001b[0m \u001b[0;32mnot\u001b[0m \u001b[0mignore_failures\u001b[0m\u001b[0;34m:\u001b[0m\u001b[0;34m\u001b[0m\u001b[0;34m\u001b[0m\u001b[0m\n",
      "\u001b[0;32m~/anaconda3/lib/python3.7/site-packages/pandas/core/internals/blocks.py\u001b[0m in \u001b[0;36m_replace_list\u001b[0;34m(self, src_list, dest_list, inplace, regex)\u001b[0m\n\u001b[1;32m    886\u001b[0m             \u001b[0;31m# in order to avoid repeating the same computations\u001b[0m\u001b[0;34m\u001b[0m\u001b[0;34m\u001b[0m\u001b[0;34m\u001b[0m\u001b[0m\n\u001b[1;32m    887\u001b[0m             \u001b[0mmask\u001b[0m \u001b[0;34m=\u001b[0m \u001b[0;34m~\u001b[0m\u001b[0misna\u001b[0m\u001b[0;34m(\u001b[0m\u001b[0mself\u001b[0m\u001b[0;34m.\u001b[0m\u001b[0mvalues\u001b[0m\u001b[0;34m)\u001b[0m\u001b[0;34m\u001b[0m\u001b[0;34m\u001b[0m\u001b[0m\n\u001b[0;32m--> 888\u001b[0;31m             \u001b[0mmasks\u001b[0m \u001b[0;34m=\u001b[0m \u001b[0;34m[\u001b[0m\u001b[0mcomp\u001b[0m\u001b[0;34m(\u001b[0m\u001b[0ms\u001b[0m\u001b[0;34m[\u001b[0m\u001b[0;36m0\u001b[0m\u001b[0;34m]\u001b[0m\u001b[0;34m,\u001b[0m \u001b[0mmask\u001b[0m\u001b[0;34m,\u001b[0m \u001b[0mregex\u001b[0m\u001b[0;34m)\u001b[0m \u001b[0;32mfor\u001b[0m \u001b[0ms\u001b[0m \u001b[0;32min\u001b[0m \u001b[0mpairs\u001b[0m\u001b[0;34m]\u001b[0m\u001b[0;34m\u001b[0m\u001b[0;34m\u001b[0m\u001b[0m\n\u001b[0m\u001b[1;32m    889\u001b[0m         \u001b[0;32melse\u001b[0m\u001b[0;34m:\u001b[0m\u001b[0;34m\u001b[0m\u001b[0;34m\u001b[0m\u001b[0m\n\u001b[1;32m    890\u001b[0m             \u001b[0;31m# GH#38086 faster if we know we dont need to check for regex\u001b[0m\u001b[0;34m\u001b[0m\u001b[0;34m\u001b[0m\u001b[0;34m\u001b[0m\u001b[0m\n",
      "\u001b[0;32m~/anaconda3/lib/python3.7/site-packages/pandas/core/internals/blocks.py\u001b[0m in \u001b[0;36m<listcomp>\u001b[0;34m(.0)\u001b[0m\n\u001b[1;32m    886\u001b[0m             \u001b[0;31m# in order to avoid repeating the same computations\u001b[0m\u001b[0;34m\u001b[0m\u001b[0;34m\u001b[0m\u001b[0;34m\u001b[0m\u001b[0m\n\u001b[1;32m    887\u001b[0m             \u001b[0mmask\u001b[0m \u001b[0;34m=\u001b[0m \u001b[0;34m~\u001b[0m\u001b[0misna\u001b[0m\u001b[0;34m(\u001b[0m\u001b[0mself\u001b[0m\u001b[0;34m.\u001b[0m\u001b[0mvalues\u001b[0m\u001b[0;34m)\u001b[0m\u001b[0;34m\u001b[0m\u001b[0;34m\u001b[0m\u001b[0m\n\u001b[0;32m--> 888\u001b[0;31m             \u001b[0mmasks\u001b[0m \u001b[0;34m=\u001b[0m \u001b[0;34m[\u001b[0m\u001b[0mcomp\u001b[0m\u001b[0;34m(\u001b[0m\u001b[0ms\u001b[0m\u001b[0;34m[\u001b[0m\u001b[0;36m0\u001b[0m\u001b[0;34m]\u001b[0m\u001b[0;34m,\u001b[0m \u001b[0mmask\u001b[0m\u001b[0;34m,\u001b[0m \u001b[0mregex\u001b[0m\u001b[0;34m)\u001b[0m \u001b[0;32mfor\u001b[0m \u001b[0ms\u001b[0m \u001b[0;32min\u001b[0m \u001b[0mpairs\u001b[0m\u001b[0;34m]\u001b[0m\u001b[0;34m\u001b[0m\u001b[0;34m\u001b[0m\u001b[0m\n\u001b[0m\u001b[1;32m    889\u001b[0m         \u001b[0;32melse\u001b[0m\u001b[0;34m:\u001b[0m\u001b[0;34m\u001b[0m\u001b[0;34m\u001b[0m\u001b[0m\n\u001b[1;32m    890\u001b[0m             \u001b[0;31m# GH#38086 faster if we know we dont need to check for regex\u001b[0m\u001b[0;34m\u001b[0m\u001b[0;34m\u001b[0m\u001b[0;34m\u001b[0m\u001b[0m\n",
      "\u001b[0;32m~/anaconda3/lib/python3.7/site-packages/pandas/core/internals/blocks.py\u001b[0m in \u001b[0;36mcomp\u001b[0;34m(s, mask, regex)\u001b[0m\n\u001b[1;32m    880\u001b[0m \u001b[0;34m\u001b[0m\u001b[0m\n\u001b[1;32m    881\u001b[0m             \u001b[0ms\u001b[0m \u001b[0;34m=\u001b[0m \u001b[0mmaybe_box_datetimelike\u001b[0m\u001b[0;34m(\u001b[0m\u001b[0ms\u001b[0m\u001b[0;34m)\u001b[0m\u001b[0;34m\u001b[0m\u001b[0;34m\u001b[0m\u001b[0m\n\u001b[0;32m--> 882\u001b[0;31m             \u001b[0;32mreturn\u001b[0m \u001b[0mcompare_or_regex_search\u001b[0m\u001b[0;34m(\u001b[0m\u001b[0mself\u001b[0m\u001b[0;34m.\u001b[0m\u001b[0mvalues\u001b[0m\u001b[0;34m,\u001b[0m \u001b[0ms\u001b[0m\u001b[0;34m,\u001b[0m \u001b[0mregex\u001b[0m\u001b[0;34m,\u001b[0m \u001b[0mmask\u001b[0m\u001b[0;34m)\u001b[0m\u001b[0;34m\u001b[0m\u001b[0;34m\u001b[0m\u001b[0m\n\u001b[0m\u001b[1;32m    883\u001b[0m \u001b[0;34m\u001b[0m\u001b[0m\n\u001b[1;32m    884\u001b[0m         \u001b[0;32mif\u001b[0m \u001b[0mself\u001b[0m\u001b[0;34m.\u001b[0m\u001b[0mis_object\u001b[0m\u001b[0;34m:\u001b[0m\u001b[0;34m\u001b[0m\u001b[0;34m\u001b[0m\u001b[0m\n",
      "\u001b[0;32m~/anaconda3/lib/python3.7/site-packages/pandas/core/array_algos/replace.py\u001b[0m in \u001b[0;36mcompare_or_regex_search\u001b[0;34m(a, b, regex, mask)\u001b[0m\n\u001b[1;32m     79\u001b[0m         \u001b[0;32mreturn\u001b[0m \u001b[0;32mFalse\u001b[0m\u001b[0;34m\u001b[0m\u001b[0;34m\u001b[0m\u001b[0m\n\u001b[1;32m     80\u001b[0m \u001b[0;34m\u001b[0m\u001b[0m\n\u001b[0;32m---> 81\u001b[0;31m     \u001b[0mresult\u001b[0m \u001b[0;34m=\u001b[0m \u001b[0mop\u001b[0m\u001b[0;34m(\u001b[0m\u001b[0ma\u001b[0m\u001b[0;34m)\u001b[0m\u001b[0;34m\u001b[0m\u001b[0;34m\u001b[0m\u001b[0m\n\u001b[0m\u001b[1;32m     82\u001b[0m \u001b[0;34m\u001b[0m\u001b[0m\n\u001b[1;32m     83\u001b[0m     \u001b[0;32mif\u001b[0m \u001b[0misinstance\u001b[0m\u001b[0;34m(\u001b[0m\u001b[0mresult\u001b[0m\u001b[0;34m,\u001b[0m \u001b[0mnp\u001b[0m\u001b[0;34m.\u001b[0m\u001b[0mndarray\u001b[0m\u001b[0;34m)\u001b[0m \u001b[0;32mand\u001b[0m \u001b[0mmask\u001b[0m \u001b[0;32mis\u001b[0m \u001b[0;32mnot\u001b[0m \u001b[0;32mNone\u001b[0m\u001b[0;34m:\u001b[0m\u001b[0;34m\u001b[0m\u001b[0;34m\u001b[0m\u001b[0m\n",
      "\u001b[0;32m~/anaconda3/lib/python3.7/site-packages/pandas/core/array_algos/replace.py\u001b[0m in \u001b[0;36m<lambda>\u001b[0;34m(x)\u001b[0m\n\u001b[1;32m     58\u001b[0m \u001b[0;34m\u001b[0m\u001b[0m\n\u001b[1;32m     59\u001b[0m     \u001b[0;32mif\u001b[0m \u001b[0;32mnot\u001b[0m \u001b[0mregex\u001b[0m\u001b[0;34m:\u001b[0m\u001b[0;34m\u001b[0m\u001b[0;34m\u001b[0m\u001b[0m\n\u001b[0;32m---> 60\u001b[0;31m         \u001b[0mop\u001b[0m \u001b[0;34m=\u001b[0m \u001b[0;32mlambda\u001b[0m \u001b[0mx\u001b[0m\u001b[0;34m:\u001b[0m \u001b[0moperator\u001b[0m\u001b[0;34m.\u001b[0m\u001b[0meq\u001b[0m\u001b[0;34m(\u001b[0m\u001b[0mx\u001b[0m\u001b[0;34m,\u001b[0m \u001b[0mb\u001b[0m\u001b[0;34m)\u001b[0m\u001b[0;34m\u001b[0m\u001b[0;34m\u001b[0m\u001b[0m\n\u001b[0m\u001b[1;32m     61\u001b[0m     \u001b[0;32melse\u001b[0m\u001b[0;34m:\u001b[0m\u001b[0;34m\u001b[0m\u001b[0;34m\u001b[0m\u001b[0m\n\u001b[1;32m     62\u001b[0m         op = np.vectorize(\n",
      "\u001b[0;31mKeyboardInterrupt\u001b[0m: "
     ]
    }
   ],
   "source": [
    "# Create folder for processed files if none exists\n",
    "if not os.path.exists(processed_path):\n",
    "    os.mkdir(processed_path)    \n",
    "\n",
    "# Process the list of files specified\n",
    "for f, out in csv_files.items():\n",
    "    file_path = os.path.join(rawdata_path, f)\n",
    "    output_path = os.path.join(processed_path, out)\n",
    "\n",
    "    print('reading:', file_path)\n",
    "    # One of the data files has four extra columns which need to be dropped. Checks each file for extra columns.\n",
    "    df = pd.read_csv(file_path, dtype=str).drop(columns=['Flow ID', 'Src IP', 'Dst IP', 'Src Port'], errors='ignore')\n",
    "    for i in range(len(df.columns)):\n",
    "        print(df.columns[i], '-', df.dtypes[i])\n",
    "\n",
    "    # Clean up the data files\n",
    "    print('processing:', file_path)\n",
    "    df = remove_headers(df)\n",
    "    df.columns = remove_non_word_chars_from_column_names(df)\n",
    "    df = drop_infinity(df)\n",
    "\n",
    "    # Write it as a cleaned file in the processed directory\n",
    "    print('writing:', output_path)\n",
    "    df.to_csv(output_path, index=False)"
   ]
  },
  {
   "cell_type": "code",
   "execution_count": null,
   "id": "alive-bernard",
   "metadata": {},
   "outputs": [],
   "source": []
  },
  {
   "cell_type": "code",
   "execution_count": null,
   "id": "e6334467",
   "metadata": {
    "ExecuteTime": {
     "end_time": "2021-04-04T14:45:15.232964Z",
     "start_time": "2021-04-04T14:44:29.357Z"
    }
   },
   "outputs": [],
   "source": [
    "############################################################################################\n",
    "# Cells below this are only needed if you want to test if the files were created correctly #\n",
    "# Comment/Uncomment as needed\n",
    "############################################################################################"
   ]
  },
  {
   "cell_type": "code",
   "execution_count": 8,
   "id": "902fee8b",
   "metadata": {
    "ExecuteTime": {
     "end_time": "2021-04-04T14:45:15.238874Z",
     "start_time": "2021-04-04T14:44:29.360Z"
    }
   },
   "outputs": [
    {
     "name": "stdout",
     "output_type": "stream",
     "text": [
      "['02-20-2018-ddos-loic-tcp.csv', '02-22-2018-bruteforce-webxss.csv', '02-28-2018-infiltration.csv', '02-15-2018-dos-goldeneye-slowloris.csv', '03-01-2018-botnet.csv', '03-02-2018-infiltration.csv', '02-14-2018-bruteforce-ftp-ssh.csv', '02-16-2018-dos-slowhttp-hulk.csv', '02-21-2018-ddos-loic-udp.csv', '02-23-2018-bruteforce-webxss-sql.csv']\n"
     ]
    }
   ],
   "source": [
    "print(os.listdir(processed_path))  # Print list of files in the processed directory"
   ]
  },
  {
   "cell_type": "code",
   "execution_count": 9,
   "id": "b1da94f5",
   "metadata": {
    "ExecuteTime": {
     "end_time": "2021-04-04T14:45:15.244199Z",
     "start_time": "2021-04-04T14:44:29.363Z"
    }
   },
   "outputs": [
    {
     "data": {
      "text/plain": [
       "Benign    760892\n",
       "Bot       286191\n",
       "Name: label, dtype: int64"
      ]
     },
     "execution_count": 9,
     "metadata": {},
     "output_type": "execute_result"
    }
   ],
   "source": [
    "# Read a sample file and check label counts\n",
    "# CONFIG NEEDED: Change file name to the file you want to check\n",
    "df = pd.read_csv(\"../data/processed/03-02-2018-infiltration.csv\")\n",
    "df['label'].value_counts()"
   ]
  },
  {
   "cell_type": "code",
   "execution_count": null,
   "id": "72d445f8",
   "metadata": {},
   "outputs": [],
   "source": []
  }
 ],
 "metadata": {
  "kernelspec": {
   "display_name": "Python 3",
   "language": "python",
   "name": "python3"
  },
  "language_info": {
   "codemirror_mode": {
    "name": "ipython",
    "version": 3
   },
   "file_extension": ".py",
   "mimetype": "text/x-python",
   "name": "python",
   "nbconvert_exporter": "python",
   "pygments_lexer": "ipython3",
   "version": "3.7.10"
  }
 },
 "nbformat": 4,
 "nbformat_minor": 5
}
