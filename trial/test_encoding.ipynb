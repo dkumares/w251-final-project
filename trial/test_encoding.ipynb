{
 "cells": [
  {
   "cell_type": "code",
   "execution_count": 1,
   "id": "disciplinary-combining",
   "metadata": {},
   "outputs": [],
   "source": [
    "import torch\n",
    "import io\n",
    "import re\n",
    "import json\n",
    "import pandas as pd\n",
    "from model import CNNModel\n",
    "import matplotlib.pyplot as plt"
   ]
  },
  {
   "cell_type": "code",
   "execution_count": 2,
   "id": "permanent-excuse",
   "metadata": {},
   "outputs": [],
   "source": [
    "df_test = pd.read_csv('data/mnist_test.csv')"
   ]
  },
  {
   "cell_type": "code",
   "execution_count": 3,
   "id": "accessory-czech",
   "metadata": {},
   "outputs": [],
   "source": [
    "model = CNNModel()"
   ]
  },
  {
   "cell_type": "code",
   "execution_count": 4,
   "id": "polyphonic-southwest",
   "metadata": {},
   "outputs": [
    {
     "data": {
      "text/plain": [
       "<All keys matched successfully>"
      ]
     },
     "execution_count": 4,
     "metadata": {},
     "output_type": "execute_result"
    }
   ],
   "source": [
    "model.load_state_dict(torch.load('models/mnist_cnn.pt'))"
   ]
  },
  {
   "cell_type": "code",
   "execution_count": 4,
   "id": "collect-berlin",
   "metadata": {},
   "outputs": [],
   "source": [
    "weights = model.state_dict()"
   ]
  },
  {
   "cell_type": "code",
   "execution_count": 5,
   "id": "vanilla-therapy",
   "metadata": {},
   "outputs": [],
   "source": [
    "buff = io.BytesIO()"
   ]
  },
  {
   "cell_type": "code",
   "execution_count": 6,
   "id": "arbitrary-infrastructure",
   "metadata": {},
   "outputs": [
    {
     "data": {
      "text/plain": [
       "0"
      ]
     },
     "execution_count": 6,
     "metadata": {},
     "output_type": "execute_result"
    }
   ],
   "source": [
    "torch.save(weights, buff)\n",
    "buff.seek(0) "
   ]
  },
  {
   "cell_type": "code",
   "execution_count": 7,
   "id": "opposed-vector",
   "metadata": {},
   "outputs": [],
   "source": [
    "model_str = buff.getvalue()"
   ]
  },
  {
   "cell_type": "code",
   "execution_count": 8,
   "id": "legislative-institution",
   "metadata": {},
   "outputs": [],
   "source": [
    "buff1 = io.BytesIO(bytes(model_str))"
   ]
  },
  {
   "cell_type": "code",
   "execution_count": 9,
   "id": "numerical-tissue",
   "metadata": {},
   "outputs": [
    {
     "data": {
      "text/plain": [
       "<All keys matched successfully>"
      ]
     },
     "execution_count": 9,
     "metadata": {},
     "output_type": "execute_result"
    }
   ],
   "source": [
    "model.load_state_dict(torch.load(buff1))"
   ]
  },
  {
   "cell_type": "code",
   "execution_count": 10,
   "id": "documentary-bryan",
   "metadata": {},
   "outputs": [
    {
     "name": "stdout",
     "output_type": "stream",
     "text": [
      "Prediction:  8\n"
     ]
    }
   ],
   "source": [
    "# Test the model\n",
    "device = 'cuda'\n",
    "\n",
    "df_test_features = df_test.iloc[:, 1:785]\n",
    "df_test_label = df_test.iloc[:, 0]\n",
    "\n",
    "X_test = df_test_features.to_numpy()\n",
    "y_test = df_test_label.to_numpy()\n",
    "\n",
    "sample = 10\n",
    "\n",
    "img = X_test[sample] #shape (784,1)\n",
    "img = img.reshape(1, 1, 28, 28) #shape (1,1,28,28)\n",
    "img  = torch.from_numpy(img).float().to(device) #tensor\n",
    "\n",
    "# Read model from saved file\n",
    "model.to(device)\n",
    "prediction = model(img).detach().cpu().numpy()[0].argmax()\n",
    "print('Prediction: ', prediction)"
   ]
  },
  {
   "cell_type": "code",
   "execution_count": 12,
   "id": "scientific-night",
   "metadata": {},
   "outputs": [
    {
     "data": {
      "image/png": "[encoded data removed]",
      "text/plain": [
       "<Figure size 432x288 with 1 Axes>"
      ]
     },
     "metadata": {
      "needs_background": "light"
     },
     "output_type": "display_data"
    }
   ],
   "source": [
    "fig = plt.figure\n",
    "plt.imshow(X_test[sample].reshape(28,28), cmap='gray')\n",
    "plt.show()"
   ]
  },
  {
   "cell_type": "code",
   "execution_count": null,
   "id": "square-preparation",
   "metadata": {},
   "outputs": [],
   "source": []
  },
  {
   "cell_type": "code",
   "execution_count": 10,
   "id": "neural-thanks",
   "metadata": {},
   "outputs": [
    {
     "name": "stdout",
     "output_type": "stream",
     "text": [
      "fed_ml/coordinator/1/model\n",
      "1\n",
      "<class 'int'>\n"
     ]
    }
   ],
   "source": [
    "topic = 'fed_ml/coordinator/epoch_num/model'\n",
    "topic = topic.replace('epoch_num', str(1))\n",
    "print(topic)\n",
    "epoch_num = re.search('coordinator/(\\d+)/model', topic).group(1)\n",
    "epoch_num = int(epoch_num)\n",
    "print(epoch_num)\n",
    "print(type(epoch_num))"
   ]
  },
  {
   "cell_type": "code",
   "execution_count": null,
   "id": "removed-consensus",
   "metadata": {},
   "outputs": [],
   "source": []
  }
 ],
 "metadata": {
  "kernelspec": {
   "display_name": "Python 3",
   "language": "python",
   "name": "python3"
  },
  "language_info": {
   "codemirror_mode": {
    "name": "ipython",
    "version": 3
   },
   "file_extension": ".py",
   "mimetype": "text/x-python",
   "name": "python",
   "nbconvert_exporter": "python",
   "pygments_lexer": "ipython3",
   "version": "3.6.9"
  }
 },
 "nbformat": 4,
 "nbformat_minor": 5
}
