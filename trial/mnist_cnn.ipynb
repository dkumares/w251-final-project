{
 "cells": [
  {
   "cell_type": "code",
   "execution_count": 5,
   "id": "twelve-airline",
   "metadata": {},
   "outputs": [],
   "source": [
    "import pandas as pd\n",
    "import numpy as np\n",
    "from sklearn.model_selection import train_test_split\n",
    "import torch\n",
    "import torch.nn as nn\n",
    "from torch.autograd import Variable\n",
    "import matplotlib.pyplot as plt\n",
    "\n",
    "%matplotlib inline"
   ]
  },
  {
   "cell_type": "code",
   "execution_count": 6,
   "id": "serious-controversy",
   "metadata": {},
   "outputs": [],
   "source": [
    "df_train = pd.read_csv('data/mnist_train.csv')\n",
    "df_test = pd.read_csv('data/mnist_test.csv')"
   ]
  },
  {
   "cell_type": "code",
   "execution_count": 7,
   "id": "together-praise",
   "metadata": {},
   "outputs": [
    {
     "name": "stdout",
     "output_type": "stream",
     "text": [
      "(60000, 785)\n"
     ]
    }
   ],
   "source": [
    "print(df_train.shape)\n",
    "#print(df_test.shape)"
   ]
  },
  {
   "cell_type": "code",
   "execution_count": 8,
   "id": "fiscal-convert",
   "metadata": {},
   "outputs": [],
   "source": [
    "# df_test.head()"
   ]
  },
  {
   "cell_type": "code",
   "execution_count": 9,
   "id": "extended-paste",
   "metadata": {},
   "outputs": [],
   "source": [
    "df_features = df_train.iloc[:, 1:785]\n",
    "df_label = df_train.iloc[:, 0]"
   ]
  },
  {
   "cell_type": "code",
   "execution_count": 10,
   "id": "reverse-broadcast",
   "metadata": {},
   "outputs": [],
   "source": [
    "X_train, X_valid, y_train, y_valid = train_test_split(df_features, df_label, \n",
    "                                                      test_size = 0.2,\n",
    "                                                      random_state = 1234)"
   ]
  },
  {
   "cell_type": "code",
   "execution_count": 11,
   "id": "linear-server",
   "metadata": {},
   "outputs": [
    {
     "name": "stdout",
     "output_type": "stream",
     "text": [
      "(48000, 784) (12000, 784)\n"
     ]
    }
   ],
   "source": [
    "print(X_train.shape, X_valid.shape)"
   ]
  },
  {
   "cell_type": "code",
   "execution_count": 12,
   "id": "varied-breeding",
   "metadata": {},
   "outputs": [],
   "source": [
    "X_train = np.array(X_train).reshape(48000, 784)\n",
    "X_valid = np.array(X_valid).reshape(12000, 784)"
   ]
  },
  {
   "cell_type": "code",
   "execution_count": 13,
   "id": "isolated-skill",
   "metadata": {},
   "outputs": [],
   "source": [
    "X_train = X_train.reshape(48000, 1, 28, 28)\n",
    "X_train  = torch.from_numpy(X_train).float()\n",
    "\n",
    "y_train = torch.from_numpy(np.array(y_train))"
   ]
  },
  {
   "cell_type": "code",
   "execution_count": 14,
   "id": "focused-healthcare",
   "metadata": {},
   "outputs": [
    {
     "name": "stdout",
     "output_type": "stream",
     "text": [
      "torch.Size([48000, 1, 28, 28]) torch.Size([48000])\n"
     ]
    }
   ],
   "source": [
    "print(X_train.shape, y_train.shape)"
   ]
  },
  {
   "cell_type": "code",
   "execution_count": 15,
   "id": "macro-vegetable",
   "metadata": {},
   "outputs": [],
   "source": [
    "X_valid = X_valid.reshape(12000, 1, 28, 28)\n",
    "X_valid = torch.from_numpy(X_valid).float()\n",
    "\n",
    "y_valid = torch.from_numpy(np.array(y_valid))"
   ]
  },
  {
   "cell_type": "code",
   "execution_count": 16,
   "id": "unsigned-ultimate",
   "metadata": {},
   "outputs": [
    {
     "name": "stdout",
     "output_type": "stream",
     "text": [
      "torch.Size([12000, 1, 28, 28]) torch.Size([12000])\n"
     ]
    }
   ],
   "source": [
    "print(X_valid.shape, y_valid.shape)"
   ]
  },
  {
   "cell_type": "code",
   "execution_count": 17,
   "id": "italian-drawing",
   "metadata": {},
   "outputs": [],
   "source": [
    "batch_size = 100\n",
    "\n",
    "# Pytorch train and test sets\n",
    "train = torch.utils.data.TensorDataset(X_train,y_train)\n",
    "valid = torch.utils.data.TensorDataset(X_valid,y_valid)\n",
    "\n",
    "# data loader\n",
    "train_loader = torch.utils.data.DataLoader(train, batch_size = batch_size, shuffle = False)\n",
    "valid_loader = torch.utils.data.DataLoader(valid, batch_size = batch_size, shuffle = False)"
   ]
  },
  {
   "cell_type": "code",
   "execution_count": 18,
   "id": "front-nature",
   "metadata": {},
   "outputs": [],
   "source": [
    "class CNNModel(nn.Module):\n",
    "    def __init__(self):\n",
    "        super(CNNModel, self).__init__()\n",
    "        \n",
    "        # Convolution 1\n",
    "        self.cnn1 = nn.Conv2d(in_channels=1, out_channels=16, kernel_size=3, stride=1, padding=0)\n",
    "        self.relu1 = nn.ReLU()\n",
    "        \n",
    "        # Max pool 1\n",
    "        self.maxpool1 = nn.MaxPool2d(kernel_size=2)\n",
    "     \n",
    "        # Convolution 2\n",
    "        self.cnn2 = nn.Conv2d(in_channels=16, out_channels=32, kernel_size=3, stride=1, padding=0)\n",
    "        self.relu2 = nn.ReLU()\n",
    "        \n",
    "        # Max pool 2\n",
    "        self.maxpool2 = nn.MaxPool2d(kernel_size=2)\n",
    "        \n",
    "        # Fully connected 1\n",
    "        self.fc1 = nn.Linear(32 * 5 * 5, 10) \n",
    "    \n",
    "    def forward(self, x):\n",
    "        # Set 1\n",
    "        out = self.cnn1(x)\n",
    "        out = self.relu1(out)\n",
    "        out = self.maxpool1(out)\n",
    "        \n",
    "        # Set 2\n",
    "        out = self.cnn2(out)\n",
    "        out = self.relu2(out)\n",
    "        out = self.maxpool2(out)\n",
    "        \n",
    "        #Flatten\n",
    "        out = out.view(out.size(0), -1)\n",
    "\n",
    "        #Dense\n",
    "        out = self.fc1(out)\n",
    "        \n",
    "        return out\n",
    "\n",
    "model = CNNModel()"
   ]
  },
  {
   "cell_type": "code",
   "execution_count": 19,
   "id": "plain-resident",
   "metadata": {},
   "outputs": [
    {
     "data": {
      "text/plain": [
       "CNNModel(\n",
       "  (cnn1): Conv2d(1, 16, kernel_size=(3, 3), stride=(1, 1))\n",
       "  (relu1): ReLU()\n",
       "  (maxpool1): MaxPool2d(kernel_size=2, stride=2, padding=0, dilation=1, ceil_mode=False)\n",
       "  (cnn2): Conv2d(16, 32, kernel_size=(3, 3), stride=(1, 1))\n",
       "  (relu2): ReLU()\n",
       "  (maxpool2): MaxPool2d(kernel_size=2, stride=2, padding=0, dilation=1, ceil_mode=False)\n",
       "  (fc1): Linear(in_features=800, out_features=10, bias=True)\n",
       ")"
      ]
     },
     "execution_count": 19,
     "metadata": {},
     "output_type": "execute_result"
    }
   ],
   "source": [
    "device = 'cpu'\n",
    "if torch.cuda.is_available():\n",
    "    device = 'cuda'\n",
    "    \n",
    "model.to(device)"
   ]
  },
  {
   "cell_type": "code",
   "execution_count": 20,
   "id": "exciting-volume",
   "metadata": {},
   "outputs": [],
   "source": [
    "#Definition of hyperparameters\n",
    "n_iters = 250\n",
    "num_epochs = n_iters / (len(X_train) / batch_size)\n",
    "num_epochs = int(num_epochs)\n",
    "\n",
    "# Cross Entropy Loss \n",
    "error = nn.CrossEntropyLoss().to(device)\n",
    "\n",
    "# SGD Optimizer\n",
    "learning_rate = 0.001\n",
    "optimizer = torch.optim.Adam(model.parameters(), lr=learning_rate)"
   ]
  },
  {
   "cell_type": "code",
   "execution_count": 21,
   "id": "informed-police",
   "metadata": {},
   "outputs": [
    {
     "name": "stdout",
     "output_type": "stream",
     "text": [
      "Iteration: 10  Loss: 5.363000869750977  Accuracy: 46.33333206176758 %\n",
      "Iteration: 20  Loss: 1.343904733657837  Accuracy: 72.30833435058594 %\n",
      "Iteration: 30  Loss: 0.8382713794708252  Accuracy: 80.05833435058594 %\n",
      "Iteration: 40  Loss: 0.7045939564704895  Accuracy: 85.44166564941406 %\n",
      "Iteration: 50  Loss: 0.483016699552536  Accuracy: 86.90833282470703 %\n",
      "Iteration: 60  Loss: 0.36561015248298645  Accuracy: 88.85832977294922 %\n",
      "Iteration: 70  Loss: 0.4232848286628723  Accuracy: 89.2249984741211 %\n",
      "Iteration: 80  Loss: 0.4933415949344635  Accuracy: 89.63333129882812 %\n",
      "Iteration: 90  Loss: 0.44810864329338074  Accuracy: 90.91666412353516 %\n",
      "Iteration: 100  Loss: 0.3838980197906494  Accuracy: 91.75 %\n",
      "Iteration: 110  Loss: 0.18992942571640015  Accuracy: 92.32499694824219 %\n",
      "Iteration: 120  Loss: 0.23533588647842407  Accuracy: 92.88333129882812 %\n",
      "Iteration: 130  Loss: 0.42365169525146484  Accuracy: 92.49166870117188 %\n",
      "Iteration: 140  Loss: 0.21078795194625854  Accuracy: 92.90833282470703 %\n",
      "Iteration: 150  Loss: 0.1837558150291443  Accuracy: 93.3499984741211 %\n",
      "Iteration: 160  Loss: 0.2338021844625473  Accuracy: 92.8499984741211 %\n",
      "Iteration: 170  Loss: 0.16968366503715515  Accuracy: 92.5250015258789 %\n",
      "Iteration: 180  Loss: 0.26113656163215637  Accuracy: 93.78333282470703 %\n",
      "Iteration: 190  Loss: 0.19799914956092834  Accuracy: 94.26667022705078 %\n",
      "Iteration: 200  Loss: 0.18069908022880554  Accuracy: 94.54166412353516 %\n",
      "Iteration: 210  Loss: 0.1952231079339981  Accuracy: 93.93333435058594 %\n",
      "Iteration: 220  Loss: 0.1705498844385147  Accuracy: 94.09166717529297 %\n",
      "Iteration: 230  Loss: 0.06640917807817459  Accuracy: 94.78333282470703 %\n",
      "Iteration: 240  Loss: 0.15895530581474304  Accuracy: 94.80833435058594 %\n",
      "Iteration: 250  Loss: 0.08269895613193512  Accuracy: 94.5 %\n",
      "Iteration: 260  Loss: 0.07371137291193008  Accuracy: 94.55000305175781 %\n",
      "Iteration: 270  Loss: 0.3471129536628723  Accuracy: 94.91666412353516 %\n",
      "Iteration: 280  Loss: 0.1813904345035553  Accuracy: 95.1500015258789 %\n",
      "Iteration: 290  Loss: 0.17374050617218018  Accuracy: 95.49166870117188 %\n",
      "Iteration: 300  Loss: 0.0940500944852829  Accuracy: 95.48332977294922 %\n",
      "Iteration: 310  Loss: 0.1218947097659111  Accuracy: 95.4749984741211 %\n",
      "Iteration: 320  Loss: 0.24330051243305206  Accuracy: 95.81666564941406 %\n",
      "Iteration: 330  Loss: 0.2814555764198303  Accuracy: 96.13333129882812 %\n",
      "Iteration: 340  Loss: 0.08554467558860779  Accuracy: 95.79166412353516 %\n",
      "Iteration: 350  Loss: 0.14823734760284424  Accuracy: 95.44166564941406 %\n",
      "Iteration: 360  Loss: 0.29629847407341003  Accuracy: 96.29166412353516 %\n",
      "Iteration: 370  Loss: 0.07538315653800964  Accuracy: 95.38333129882812 %\n",
      "Iteration: 380  Loss: 0.19402816891670227  Accuracy: 96.04166412353516 %\n",
      "Iteration: 390  Loss: 0.14539259672164917  Accuracy: 95.95833587646484 %\n",
      "Iteration: 400  Loss: 0.17787373065948486  Accuracy: 95.82499694824219 %\n",
      "Iteration: 410  Loss: 0.14086894690990448  Accuracy: 96.17500305175781 %\n",
      "Iteration: 420  Loss: 0.1337062567472458  Accuracy: 95.86666870117188 %\n",
      "Iteration: 430  Loss: 0.2306421846151352  Accuracy: 96.14167022705078 %\n",
      "Iteration: 440  Loss: 0.0997595563530922  Accuracy: 96.35832977294922 %\n",
      "Iteration: 450  Loss: 0.09924954175949097  Accuracy: 96.32499694824219 %\n",
      "Iteration: 460  Loss: 0.29457777738571167  Accuracy: 96.45833587646484 %\n",
      "Iteration: 470  Loss: 0.11654314398765564  Accuracy: 96.55833435058594 %\n",
      "Iteration: 480  Loss: 0.07691232115030289  Accuracy: 96.20833587646484 %\n",
      "Iteration: 490  Loss: 0.11621411144733429  Accuracy: 96.53333282470703 %\n",
      "Iteration: 500  Loss: 0.02822655625641346  Accuracy: 96.50833129882812 %\n",
      "Iteration: 510  Loss: 0.07422363013029099  Accuracy: 96.50833129882812 %\n",
      "Iteration: 520  Loss: 0.11144528537988663  Accuracy: 96.64167022705078 %\n",
      "Iteration: 530  Loss: 0.05527736619114876  Accuracy: 96.79166412353516 %\n",
      "Iteration: 540  Loss: 0.035267312079668045  Accuracy: 96.0999984741211 %\n",
      "Iteration: 550  Loss: 0.03558487445116043  Accuracy: 96.56666564941406 %\n",
      "Iteration: 560  Loss: 0.056504443287849426  Accuracy: 96.91666412353516 %\n",
      "Iteration: 570  Loss: 0.25738954544067383  Accuracy: 96.7249984741211 %\n",
      "Iteration: 580  Loss: 0.1051640510559082  Accuracy: 96.84166717529297 %\n",
      "Iteration: 590  Loss: 0.10981927812099457  Accuracy: 96.67500305175781 %\n",
      "Iteration: 600  Loss: 0.06211069971323013  Accuracy: 97.19166564941406 %\n",
      "Iteration: 610  Loss: 0.051071103662252426  Accuracy: 96.95833587646484 %\n",
      "Iteration: 620  Loss: 0.12321929633617401  Accuracy: 96.92500305175781 %\n",
      "Iteration: 630  Loss: 0.09064240753650665  Accuracy: 96.89167022705078 %\n",
      "Iteration: 640  Loss: 0.0861935019493103  Accuracy: 97.21666717529297 %\n",
      "Iteration: 650  Loss: 0.09180546551942825  Accuracy: 96.36666870117188 %\n",
      "Iteration: 660  Loss: 0.12914970517158508  Accuracy: 96.9000015258789 %\n",
      "Iteration: 670  Loss: 0.13723793625831604  Accuracy: 97.16666412353516 %\n",
      "Iteration: 680  Loss: 0.09261861443519592  Accuracy: 97.21666717529297 %\n",
      "Iteration: 690  Loss: 0.11111053824424744  Accuracy: 96.94999694824219 %\n",
      "Iteration: 700  Loss: 0.08889718353748322  Accuracy: 96.89167022705078 %\n",
      "Iteration: 710  Loss: 0.025002796202898026  Accuracy: 96.64167022705078 %\n",
      "Iteration: 720  Loss: 0.11643631756305695  Accuracy: 96.91666412353516 %\n",
      "Iteration: 730  Loss: 0.024071380496025085  Accuracy: 96.69166564941406 %\n",
      "Iteration: 740  Loss: 0.00932636484503746  Accuracy: 97.06666564941406 %\n",
      "Iteration: 750  Loss: 0.1827288269996643  Accuracy: 96.70833587646484 %\n",
      "Iteration: 760  Loss: 0.13907092809677124  Accuracy: 97.11666870117188 %\n",
      "Iteration: 770  Loss: 0.09847007691860199  Accuracy: 97.19166564941406 %\n",
      "Iteration: 780  Loss: 0.015453075058758259  Accuracy: 97.17500305175781 %\n",
      "Iteration: 790  Loss: 0.054680000990629196  Accuracy: 96.75 %\n",
      "Iteration: 800  Loss: 0.1343356966972351  Accuracy: 97.51667022705078 %\n",
      "Iteration: 810  Loss: 0.10226654261350632  Accuracy: 97.32499694824219 %\n",
      "Iteration: 820  Loss: 0.04745742678642273  Accuracy: 97.375 %\n",
      "Iteration: 830  Loss: 0.10220282524824142  Accuracy: 97.39167022705078 %\n",
      "Iteration: 840  Loss: 0.21262848377227783  Accuracy: 97.375 %\n",
      "Iteration: 850  Loss: 0.058140892535448074  Accuracy: 97.21666717529297 %\n",
      "Iteration: 860  Loss: 0.04065277427434921  Accuracy: 97.4749984741211 %\n",
      "Iteration: 870  Loss: 0.07590185105800629  Accuracy: 97.25833129882812 %\n",
      "Iteration: 880  Loss: 0.08558817207813263  Accuracy: 97.33333587646484 %\n",
      "Iteration: 890  Loss: 0.13076505064964294  Accuracy: 97.55833435058594 %\n",
      "Iteration: 900  Loss: 0.04225333780050278  Accuracy: 97.4000015258789 %\n",
      "Iteration: 910  Loss: 0.11451953649520874  Accuracy: 97.5 %\n",
      "Iteration: 920  Loss: 0.08034751564264297  Accuracy: 97.3499984741211 %\n",
      "Iteration: 930  Loss: 0.07644565403461456  Accuracy: 97.53333282470703 %\n",
      "Iteration: 940  Loss: 0.21894443035125732  Accuracy: 97.61666870117188 %\n",
      "Iteration: 950  Loss: 0.10297475010156631  Accuracy: 97.55000305175781 %\n",
      "Iteration: 960  Loss: 0.04676984250545502  Accuracy: 97.25 %\n",
      "Iteration: 970  Loss: 0.057238027453422546  Accuracy: 97.41666412353516 %\n",
      "Iteration: 980  Loss: 0.006287551950663328  Accuracy: 97.44999694824219 %\n",
      "Iteration: 990  Loss: 0.04466653987765312  Accuracy: 97.375 %\n",
      "Iteration: 1000  Loss: 0.029738018289208412  Accuracy: 97.04166412353516 %\n",
      "Iteration: 1010  Loss: 0.012288150377571583  Accuracy: 97.54166412353516 %\n",
      "Iteration: 1020  Loss: 0.012983271852135658  Accuracy: 97.13333129882812 %\n",
      "Iteration: 1030  Loss: 0.035792093724012375  Accuracy: 97.6500015258789 %\n",
      "Iteration: 1040  Loss: 0.04472984001040459  Accuracy: 97.61666870117188 %\n",
      "Iteration: 1050  Loss: 0.1979905515909195  Accuracy: 97.60832977294922 %\n",
      "Iteration: 1060  Loss: 0.10548534989356995  Accuracy: 97.34166717529297 %\n",
      "Iteration: 1070  Loss: 0.058800920844078064  Accuracy: 97.48332977294922 %\n",
      "Iteration: 1080  Loss: 0.04443328082561493  Accuracy: 97.61666870117188 %\n",
      "Iteration: 1090  Loss: 0.025494268164038658  Accuracy: 97.68333435058594 %\n",
      "Iteration: 1100  Loss: 0.06688771396875381  Accuracy: 97.64167022705078 %\n",
      "Iteration: 1110  Loss: 0.06769175827503204  Accuracy: 97.60832977294922 %\n",
      "Iteration: 1120  Loss: 0.030765917152166367  Accuracy: 97.69999694824219 %\n",
      "Iteration: 1130  Loss: 0.08011549711227417  Accuracy: 97.05833435058594 %\n",
      "Iteration: 1140  Loss: 0.09261970221996307  Accuracy: 97.51667022705078 %\n",
      "Iteration: 1150  Loss: 0.07432806491851807  Accuracy: 97.55833435058594 %\n",
      "Iteration: 1160  Loss: 0.08053922653198242  Accuracy: 97.73332977294922 %\n",
      "Iteration: 1170  Loss: 0.06247518211603165  Accuracy: 97.44999694824219 %\n",
      "Iteration: 1180  Loss: 0.042152367532253265  Accuracy: 97.36666870117188 %\n",
      "Iteration: 1190  Loss: 0.023867828771471977  Accuracy: 96.94999694824219 %\n",
      "Iteration: 1200  Loss: 0.09955150634050369  Accuracy: 97.64167022705078 %\n",
      "Iteration: 1210  Loss: 0.04166876897215843  Accuracy: 97.20833587646484 %\n",
      "Iteration: 1220  Loss: 0.010692213661968708  Accuracy: 97.625 %\n",
      "Iteration: 1230  Loss: 0.14138875901699066  Accuracy: 97.20833587646484 %\n",
      "Iteration: 1240  Loss: 0.10993626713752747  Accuracy: 97.60832977294922 %\n",
      "Iteration: 1250  Loss: 0.06935609877109528  Accuracy: 97.66666412353516 %\n",
      "Iteration: 1260  Loss: 0.01684456318616867  Accuracy: 97.63333129882812 %\n",
      "Iteration: 1270  Loss: 0.0483846552670002  Accuracy: 97.05833435058594 %\n",
      "Iteration: 1280  Loss: 0.08388033509254456  Accuracy: 97.89167022705078 %\n",
      "Iteration: 1290  Loss: 0.0766090601682663  Accuracy: 97.82499694824219 %\n",
      "Iteration: 1300  Loss: 0.03211766481399536  Accuracy: 97.6500015258789 %\n",
      "Iteration: 1310  Loss: 0.1050972044467926  Accuracy: 97.7249984741211 %\n",
      "Iteration: 1320  Loss: 0.13351593911647797  Accuracy: 97.91666412353516 %\n",
      "Iteration: 1330  Loss: 0.0324849858880043  Accuracy: 97.69166564941406 %\n",
      "Iteration: 1340  Loss: 0.042201586067676544  Accuracy: 97.875 %\n",
      "Iteration: 1350  Loss: 0.05570395290851593  Accuracy: 97.70833587646484 %\n",
      "Iteration: 1360  Loss: 0.024500109255313873  Accuracy: 97.98332977294922 %\n",
      "Iteration: 1370  Loss: 0.12953858077526093  Accuracy: 98.01667022705078 %\n",
      "Iteration: 1380  Loss: 0.03154083341360092  Accuracy: 97.69166564941406 %\n",
      "Iteration: 1390  Loss: 0.05265968665480614  Accuracy: 97.85832977294922 %\n",
      "Iteration: 1400  Loss: 0.061362698674201965  Accuracy: 97.63333129882812 %\n",
      "Iteration: 1410  Loss: 0.04861851781606674  Accuracy: 97.99166870117188 %\n",
      "Iteration: 1420  Loss: 0.18486860394477844  Accuracy: 97.84166717529297 %\n",
      "Iteration: 1430  Loss: 0.08481031656265259  Accuracy: 97.75 %\n",
      "Iteration: 1440  Loss: 0.01912263222038746  Accuracy: 97.5999984741211 %\n",
      "Iteration: 1450  Loss: 0.05750172585248947  Accuracy: 97.76667022705078 %\n",
      "Iteration: 1460  Loss: 0.0033675574231892824  Accuracy: 97.95833587646484 %\n",
      "Iteration: 1470  Loss: 0.034295957535505295  Accuracy: 97.67500305175781 %\n",
      "Iteration: 1480  Loss: 0.021285030990839005  Accuracy: 97.40833282470703 %\n",
      "Iteration: 1490  Loss: 0.009874704293906689  Accuracy: 97.73332977294922 %\n",
      "Iteration: 1500  Loss: 0.016442682594060898  Accuracy: 97.19999694824219 %\n",
      "Iteration: 1510  Loss: 0.020050082355737686  Accuracy: 97.7249984741211 %\n",
      "Iteration: 1520  Loss: 0.03550111874938011  Accuracy: 97.91666412353516 %\n",
      "Iteration: 1530  Loss: 0.13248291611671448  Accuracy: 97.90833282470703 %\n",
      "Iteration: 1540  Loss: 0.0854567438364029  Accuracy: 97.875 %\n",
      "Iteration: 1550  Loss: 0.04361598193645477  Accuracy: 97.59166717529297 %\n",
      "Iteration: 1560  Loss: 0.027475882321596146  Accuracy: 97.71666717529297 %\n",
      "Iteration: 1570  Loss: 0.03806648775935173  Accuracy: 97.8499984741211 %\n",
      "Iteration: 1580  Loss: 0.05529441684484482  Accuracy: 97.76667022705078 %\n",
      "Iteration: 1590  Loss: 0.03538107872009277  Accuracy: 97.9000015258789 %\n",
      "Iteration: 1600  Loss: 0.013359000906348228  Accuracy: 98.00833129882812 %\n",
      "Iteration: 1610  Loss: 0.07356852293014526  Accuracy: 97.03333282470703 %\n",
      "Iteration: 1620  Loss: 0.04452022537589073  Accuracy: 97.73332977294922 %\n",
      "Iteration: 1630  Loss: 0.0362054705619812  Accuracy: 97.78333282470703 %\n",
      "Iteration: 1640  Loss: 0.04472890496253967  Accuracy: 97.9000015258789 %\n",
      "Iteration: 1650  Loss: 0.039144307374954224  Accuracy: 97.57499694824219 %\n",
      "Iteration: 1660  Loss: 0.02432076446712017  Accuracy: 97.5999984741211 %\n",
      "Iteration: 1670  Loss: 0.018469497561454773  Accuracy: 97.42500305175781 %\n",
      "Iteration: 1680  Loss: 0.11343862861394882  Accuracy: 97.60832977294922 %\n",
      "Iteration: 1690  Loss: 0.021942468360066414  Accuracy: 97.30833435058594 %\n",
      "Iteration: 1700  Loss: 0.011080977506935596  Accuracy: 97.76667022705078 %\n",
      "Iteration: 1710  Loss: 0.10451797395944595  Accuracy: 97.34166717529297 %\n",
      "Iteration: 1720  Loss: 0.053231339901685715  Accuracy: 97.80000305175781 %\n",
      "Iteration: 1730  Loss: 0.04648628085851669  Accuracy: 97.7750015258789 %\n",
      "Iteration: 1740  Loss: 0.019792253151535988  Accuracy: 97.79166412353516 %\n",
      "Iteration: 1750  Loss: 0.041627850383520126  Accuracy: 97.4000015258789 %\n",
      "Iteration: 1760  Loss: 0.03794749826192856  Accuracy: 97.9000015258789 %\n",
      "Iteration: 1770  Loss: 0.08561437577009201  Accuracy: 97.83333587646484 %\n",
      "Iteration: 1780  Loss: 0.021180832758545876  Accuracy: 97.75 %\n",
      "Iteration: 1790  Loss: 0.11365515738725662  Accuracy: 97.69999694824219 %\n",
      "Iteration: 1800  Loss: 0.07607554644346237  Accuracy: 98.05000305175781 %\n",
      "Iteration: 1810  Loss: 0.01878238283097744  Accuracy: 97.83333587646484 %\n",
      "Iteration: 1820  Loss: 0.027379173785448074  Accuracy: 98.03333282470703 %\n",
      "Iteration: 1830  Loss: 0.06784690916538239  Accuracy: 97.9000015258789 %\n",
      "Iteration: 1840  Loss: 0.01613268256187439  Accuracy: 97.96666717529297 %\n",
      "Iteration: 1850  Loss: 0.12056075781583786  Accuracy: 97.8499984741211 %\n",
      "Iteration: 1860  Loss: 0.030575834214687347  Accuracy: 97.85832977294922 %\n",
      "Iteration: 1870  Loss: 0.025811640545725822  Accuracy: 97.90833282470703 %\n",
      "Iteration: 1880  Loss: 0.04872182011604309  Accuracy: 97.56666564941406 %\n",
      "Iteration: 1890  Loss: 0.04499166086316109  Accuracy: 98.0999984741211 %\n",
      "Iteration: 1900  Loss: 0.18860796093940735  Accuracy: 97.875 %\n",
      "Iteration: 1910  Loss: 0.08492541313171387  Accuracy: 97.70833587646484 %\n",
      "Iteration: 1920  Loss: 0.011411178857088089  Accuracy: 97.30000305175781 %\n",
      "Iteration: 1930  Loss: 0.05499600991606712  Accuracy: 97.74166870117188 %\n",
      "Iteration: 1940  Loss: 0.010007082484662533  Accuracy: 97.81666564941406 %\n",
      "Iteration: 1950  Loss: 0.027206452563405037  Accuracy: 97.80833435058594 %\n",
      "Iteration: 1960  Loss: 0.012846402823925018  Accuracy: 97.4749984741211 %\n",
      "Iteration: 1970  Loss: 0.005888153798878193  Accuracy: 97.80000305175781 %\n",
      "Iteration: 1980  Loss: 0.011716004461050034  Accuracy: 97.28333282470703 %\n",
      "Iteration: 1990  Loss: 0.00798051804304123  Accuracy: 97.75833129882812 %\n",
      "Iteration: 2000  Loss: 0.01911606267094612  Accuracy: 98.25833129882812 %\n",
      "Iteration: 2010  Loss: 0.09678247570991516  Accuracy: 97.98332977294922 %\n",
      "Iteration: 2020  Loss: 0.04313024505972862  Accuracy: 97.42500305175781 %\n",
      "Iteration: 2030  Loss: 0.022412842139601707  Accuracy: 97.4000015258789 %\n",
      "Iteration: 2040  Loss: 0.01553170196712017  Accuracy: 97.66666412353516 %\n",
      "Iteration: 2050  Loss: 0.030940260738134384  Accuracy: 98.09166717529297 %\n",
      "Iteration: 2060  Loss: 0.06133629009127617  Accuracy: 97.70833587646484 %\n",
      "Iteration: 2070  Loss: 0.00726540619507432  Accuracy: 97.98332977294922 %\n",
      "Iteration: 2080  Loss: 0.01046821754425764  Accuracy: 98.06666564941406 %\n",
      "Iteration: 2090  Loss: 0.023649785667657852  Accuracy: 97.45833587646484 %\n",
      "Iteration: 2100  Loss: 0.03552263602614403  Accuracy: 97.55000305175781 %\n",
      "Iteration: 2110  Loss: 0.017351491376757622  Accuracy: 97.94999694824219 %\n",
      "Iteration: 2120  Loss: 0.018308356404304504  Accuracy: 97.99166870117188 %\n",
      "Iteration: 2130  Loss: 0.05150413140654564  Accuracy: 97.50833129882812 %\n",
      "Iteration: 2140  Loss: 0.019006723538041115  Accuracy: 97.875 %\n",
      "Iteration: 2150  Loss: 0.012030677869915962  Accuracy: 97.78333282470703 %\n",
      "Iteration: 2160  Loss: 0.05469676852226257  Accuracy: 97.71666717529297 %\n",
      "Iteration: 2170  Loss: 0.0113534489646554  Accuracy: 97.0999984741211 %\n",
      "Iteration: 2180  Loss: 0.0034527918323874474  Accuracy: 97.9749984741211 %\n",
      "Iteration: 2190  Loss: 0.09623076766729355  Accuracy: 97.33333587646484 %\n",
      "Iteration: 2200  Loss: 0.057944849133491516  Accuracy: 97.82499694824219 %\n",
      "Iteration: 2210  Loss: 0.035373181104660034  Accuracy: 97.75833129882812 %\n",
      "Iteration: 2220  Loss: 0.023774072527885437  Accuracy: 97.92500305175781 %\n",
      "Iteration: 2230  Loss: 0.038115620613098145  Accuracy: 97.71666717529297 %\n",
      "Iteration: 2240  Loss: 0.06165103614330292  Accuracy: 97.69999694824219 %\n",
      "Iteration: 2250  Loss: 0.08014245331287384  Accuracy: 97.875 %\n",
      "Iteration: 2260  Loss: 0.01743340864777565  Accuracy: 97.69999694824219 %\n",
      "Iteration: 2270  Loss: 0.10496479272842407  Accuracy: 97.54166412353516 %\n",
      "Iteration: 2280  Loss: 0.07873377203941345  Accuracy: 97.93333435058594 %\n",
      "Iteration: 2290  Loss: 0.043525394052267075  Accuracy: 97.69999694824219 %\n",
      "Iteration: 2300  Loss: 0.011663350276648998  Accuracy: 98.18333435058594 %\n",
      "Iteration: 2310  Loss: 0.0370628759264946  Accuracy: 97.90833282470703 %\n",
      "Iteration: 2320  Loss: 0.03061993606388569  Accuracy: 98.04166412353516 %\n",
      "Iteration: 2330  Loss: 0.10763972252607346  Accuracy: 97.98332977294922 %\n",
      "Iteration: 2340  Loss: 0.018142690882086754  Accuracy: 97.54166412353516 %\n",
      "Iteration: 2350  Loss: 0.025161132216453552  Accuracy: 97.99166870117188 %\n",
      "Iteration: 2360  Loss: 0.015267386101186275  Accuracy: 97.71666717529297 %\n",
      "Iteration: 2370  Loss: 0.03294682130217552  Accuracy: 98.0999984741211 %\n",
      "Iteration: 2380  Loss: 0.22084075212478638  Accuracy: 97.91666412353516 %\n",
      "Iteration: 2390  Loss: 0.0779021680355072  Accuracy: 97.75 %\n",
      "Iteration: 2400  Loss: 0.011252936907112598  Accuracy: 97.34166717529297 %\n"
     ]
    }
   ],
   "source": [
    "count = 0\n",
    "loss_list = []\n",
    "iteration_list = []\n",
    "accuracy_list = []\n",
    "\n",
    "for epoch in range(num_epochs):\n",
    "    for i, (images, labels) in enumerate(train_loader):\n",
    "        \n",
    "        #train = Variable(images.view(100,1,28,28))\n",
    "        #labels = Variable(labels)\n",
    "        train = images.to(device)\n",
    "        labels = labels.to(device)\n",
    "        \n",
    "        # Clear gradients\n",
    "        optimizer.zero_grad()\n",
    "        # Forward propagation\n",
    "        outputs = model(train)\n",
    "        # Calculate softmax and cross entropy loss\n",
    "        loss = error(outputs, labels)\n",
    "        # Calculating gradients\n",
    "        loss.backward()\n",
    "        # Update parameters\n",
    "        optimizer.step()\n",
    "        \n",
    "        count += 1\n",
    "        if count % 10 == 0:\n",
    "            # Calculate Accuracy         \n",
    "            correct = 0\n",
    "            total = 0\n",
    "            # Iterate through test dataset\n",
    "            for images, labels in valid_loader:\n",
    "                \n",
    "                valid = Variable(images.view(batch_size,1,28,28))\n",
    "                # Forward propagation\n",
    "                outputs = model(valid)\n",
    "                # Get predictions from the maximum value\n",
    "                predicted = torch.max(outputs.data, 1)[1]\n",
    "                \n",
    "                # Total number of labels\n",
    "                total += len(labels)\n",
    "                correct += (predicted == labels).sum()\n",
    "            \n",
    "            accuracy = 100 * correct / float(total)\n",
    "            \n",
    "            # store loss and iteration\n",
    "            loss_list.append(loss.data)\n",
    "            iteration_list.append(count)\n",
    "            accuracy_list.append(accuracy)\n",
    "        if count % 100 == 0:\n",
    "            # Print Loss\n",
    "            print('Iteration: {}  Loss: {}  Accuracy: {} %'.format(count, loss.data, accuracy))"
   ]
  },
  {
   "cell_type": "code",
   "execution_count": 22,
   "id": "behavioral-configuration",
   "metadata": {},
   "outputs": [
    {
     "data": {
      "image/png": "[encoded data removed]",
      "text/plain": [
       "<Figure size 432x288 with 1 Axes>"
      ]
     },
     "metadata": {
      "needs_background": "light"
     },
     "output_type": "display_data"
    },
    {
     "data": {
      "image/png": "[encoded data removed]",
      "text/plain": [
       "<Figure size 432x288 with 1 Axes>"
      ]
     },
     "metadata": {
      "needs_background": "light"
     },
     "output_type": "display_data"
    }
   ],
   "source": [
    "plt.plot(iteration_list,loss_list)\n",
    "plt.xlabel(\"Number of iteration\")\n",
    "plt.ylabel(\"Loss\")\n",
    "plt.title(\"CNN: Loss vs Number of iteration\")\n",
    "plt.show()\n",
    "\n",
    "# visualization accuracy \n",
    "plt.plot(iteration_list,accuracy_list,color = \"red\")\n",
    "plt.xlabel(\"Number of iteration\")\n",
    "plt.ylabel(\"Accuracy\")\n",
    "plt.title(\"CNN: Accuracy vs Number of iteration\")\n",
    "plt.show()"
   ]
  },
  {
   "cell_type": "code",
   "execution_count": 24,
   "id": "greek-karen",
   "metadata": {},
   "outputs": [
    {
     "name": "stdout",
     "output_type": "stream",
     "text": [
      "<class 'collections.OrderedDict'>\n"
     ]
    }
   ],
   "source": [
    "print(type(model.state_dict()))"
   ]
  },
  {
   "cell_type": "code",
   "execution_count": 25,
   "id": "accompanied-gregory",
   "metadata": {},
   "outputs": [],
   "source": [
    "# Test the model\n",
    "df_test_features = df_test.iloc[:, 1:785]\n",
    "df_test_label = df_test.iloc[:, 0]\n",
    "\n",
    "X_test = df_test_features.to_numpy()\n",
    "y_test = df_test_label.to_numpy()"
   ]
  },
  {
   "cell_type": "code",
   "execution_count": 26,
   "id": "boolean-title",
   "metadata": {},
   "outputs": [
    {
     "name": "stdout",
     "output_type": "stream",
     "text": [
      "Prediction:  0\n"
     ]
    }
   ],
   "source": [
    "sample = 10\n",
    "img = X_test[sample] #shape (784,1)\n",
    "img = img.reshape(1, 1, 28, 28) #shape (1,1,28,28)\n",
    "img  = torch.from_numpy(img).float().to(device) #tensor\n",
    "\n",
    "prediction = model(img).detach().numpy()[0].argmax()\n",
    "print('Prediction: ', prediction)"
   ]
  },
  {
   "cell_type": "code",
   "execution_count": 27,
   "id": "floral-advocate",
   "metadata": {},
   "outputs": [
    {
     "data": {
      "image/png": "[encoded data removed]",
      "text/plain": [
       "<Figure size 432x288 with 1 Axes>"
      ]
     },
     "metadata": {
      "needs_background": "light"
     },
     "output_type": "display_data"
    }
   ],
   "source": [
    "# fig = plt.figure\n",
    "# plt.imshow(X_test[sample].reshape(28,28), cmap='gray')\n",
    "# plt.show()"
   ]
  },
  {
   "cell_type": "code",
   "execution_count": 28,
   "id": "intensive-russia",
   "metadata": {},
   "outputs": [],
   "source": [
    "# Save model state\n",
    "torch.save(model.state_dict(), 'models/mnist_cnn.pt')"
   ]
  },
  {
   "cell_type": "code",
   "execution_count": null,
   "id": "bigger-christian",
   "metadata": {},
   "outputs": [],
   "source": []
  }
 ],
 "metadata": {
  "kernelspec": {
   "display_name": "Python 3",
   "language": "python",
   "name": "python3"
  },
  "language_info": {
   "codemirror_mode": {
    "name": "ipython",
    "version": 3
   },
   "file_extension": ".py",
   "mimetype": "text/x-python",
   "name": "python",
   "nbconvert_exporter": "python",
   "pygments_lexer": "ipython3",
   "version": "3.7.10"
  }
 },
 "nbformat": 4,
 "nbformat_minor": 5
}
