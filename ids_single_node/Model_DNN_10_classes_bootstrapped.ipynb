{
 "cells": [
  {
   "cell_type": "code",
   "execution_count": 204,
   "metadata": {},
   "outputs": [],
   "source": [
    "import torch\n",
    "import torchvision\n",
    "import torch.nn as nn\n",
    "import torch.nn.functional as F\n",
    "from torchvision import datasets, transforms\n",
    "import matplotlib.pyplot as plt\n",
    "from torch import optim\n",
    "import numpy as np\n",
    "import pandas as pd\n",
    "import os\n",
    "import io\n",
    "import re\n",
    "import sys\n",
    "import time\n",
    "from sklearn.model_selection import StratifiedKFold\n",
    "from sklearn.metrics import accuracy_score\n",
    "from sklearn.metrics import confusion_matrix\n",
    "from imblearn.over_sampling import SMOTE\n",
    "%matplotlib inline"
   ]
  },
  {
   "cell_type": "code",
   "execution_count": 2,
   "metadata": {},
   "outputs": [
    {
     "data": {
      "text/plain": [
       "\"\\ncleaned_csv_files = [\\n  'TRAIN-1-DATA-IDS-2018-multiclass-bootstrap.csv',\\n  'TRAIN-2-DATA-IDS-2018-multiclass-bootstrap.csv',\\n  'TRAIN-3-DATA-IDS-2018-multiclass-bootstrap.csv',\\n  'TRAIN-4-DATA-IDS-2018-multiclass-bootstrap.csv',\\n  #'02-20-2018-ddos-loic-tcp.csv'   # WARNING: 4GB FILE.\\n]\\n\\nlist_of_dataframes = []\\nfor filename in cleaned_csv_files:\\n    fname = os.path.join(processed_path, filename)\\n    list_of_dataframes.append(pd.read_csv(fname))\\n\\nIDS_df = pd.concat(list_of_dataframes)\\n\""
      ]
     },
     "execution_count": 2,
     "metadata": {},
     "output_type": "execute_result"
    }
   ],
   "source": [
    "processed_path = '../data'\n",
    "'''\n",
    "cleaned_csv_files = [\n",
    "  'TRAIN-1-DATA-IDS-2018-multiclass-bootstrap.csv',\n",
    "  'TRAIN-2-DATA-IDS-2018-multiclass-bootstrap.csv',\n",
    "  'TRAIN-3-DATA-IDS-2018-multiclass-bootstrap.csv',\n",
    "  'TRAIN-4-DATA-IDS-2018-multiclass-bootstrap.csv',\n",
    "  #'02-20-2018-ddos-loic-tcp.csv'   # WARNING: 4GB FILE.\n",
    "]\n",
    "\n",
    "list_of_dataframes = []\n",
    "for filename in cleaned_csv_files:\n",
    "    fname = os.path.join(processed_path, filename)\n",
    "    list_of_dataframes.append(pd.read_csv(fname))\n",
    "\n",
    "IDS_df = pd.concat(list_of_dataframes)\n",
    "'''"
   ]
  },
  {
   "cell_type": "code",
   "execution_count": 143,
   "metadata": {},
   "outputs": [
    {
     "data": {
      "text/plain": [
       "Index(['dst_port', 'protocol', 'timestamp', 'flow_duration', 'tot_fwd_pkts',\n",
       "       'tot_bwd_pkts', 'totlen_fwd_pkts', 'totlen_bwd_pkts', 'fwd_pkt_len_max',\n",
       "       'fwd_pkt_len_min', 'fwd_pkt_len_mean', 'fwd_pkt_len_std',\n",
       "       'bwd_pkt_len_max', 'bwd_pkt_len_min', 'bwd_pkt_len_mean',\n",
       "       'bwd_pkt_len_std', 'flow_byts_s', 'flow_pkts_s', 'flow_iat_mean',\n",
       "       'flow_iat_std', 'flow_iat_max', 'flow_iat_min', 'fwd_iat_tot',\n",
       "       'fwd_iat_mean', 'fwd_iat_std', 'fwd_iat_max', 'fwd_iat_min',\n",
       "       'bwd_iat_tot', 'bwd_iat_mean', 'bwd_iat_std', 'bwd_iat_max',\n",
       "       'bwd_iat_min', 'fwd_psh_flags', 'bwd_psh_flags', 'fwd_urg_flags',\n",
       "       'bwd_urg_flags', 'fwd_header_len', 'bwd_header_len', 'fwd_pkts_s',\n",
       "       'bwd_pkts_s', 'pkt_len_min', 'pkt_len_max', 'pkt_len_mean',\n",
       "       'pkt_len_std', 'pkt_len_var', 'fin_flag_cnt', 'syn_flag_cnt',\n",
       "       'rst_flag_cnt', 'psh_flag_cnt', 'ack_flag_cnt', 'urg_flag_cnt',\n",
       "       'cwe_flag_count', 'ece_flag_cnt', 'down_up_ratio', 'pkt_size_avg',\n",
       "       'fwd_seg_size_avg', 'bwd_seg_size_avg', 'fwd_byts_b_avg',\n",
       "       'fwd_pkts_b_avg', 'fwd_blk_rate_avg', 'bwd_byts_b_avg',\n",
       "       'bwd_pkts_b_avg', 'bwd_blk_rate_avg', 'subflow_fwd_pkts',\n",
       "       'subflow_fwd_byts', 'subflow_bwd_pkts', 'subflow_bwd_byts',\n",
       "       'init_fwd_win_byts', 'init_bwd_win_byts', 'fwd_act_data_pkts',\n",
       "       'fwd_seg_size_min', 'active_mean', 'active_std', 'active_max',\n",
       "       'active_min', 'idle_mean', 'idle_std', 'idle_max', 'idle_min', 'label'],\n",
       "      dtype='object')"
      ]
     },
     "execution_count": 143,
     "metadata": {},
     "output_type": "execute_result"
    }
   ],
   "source": [
    "IDS_df = pd.read_csv(\"../data/CSE-CIC-IDS2018/IDS-2018-multiclass.csv\")\n",
    "\n",
    "# To display the top 5 rows/\n",
    "# IDS_df.head(5)\n",
    "IDS_df.columns"
   ]
  },
  {
   "cell_type": "code",
   "execution_count": 144,
   "metadata": {},
   "outputs": [],
   "source": [
    "test_df = pd.read_csv(os.path.join(processed_path, 'TEST--DATA-IDS-2018-multiclass.csv'))"
   ]
  },
  {
   "cell_type": "code",
   "execution_count": 145,
   "metadata": {},
   "outputs": [],
   "source": [
    "IDS_df = IDS_df.drop('timestamp', axis=1)"
   ]
  },
  {
   "cell_type": "code",
   "execution_count": 146,
   "metadata": {
    "jupyter": {
     "outputs_hidden": true
    }
   },
   "outputs": [],
   "source": [
    "# for i in range(len(IDS_df.columns)):\n",
    "#      print(IDS_df.columns[i], '-', IDS_df.dtypes[i])"
   ]
  },
  {
   "cell_type": "code",
   "execution_count": 147,
   "metadata": {},
   "outputs": [
    {
     "name": "stdout",
     "output_type": "stream",
     "text": [
      "(413648, 79)\n"
     ]
    }
   ],
   "source": [
    "# print shape before dropping NaN rows\n",
    "print(IDS_df.shape)"
   ]
  },
  {
   "cell_type": "code",
   "execution_count": 148,
   "metadata": {},
   "outputs": [
    {
     "name": "stdout",
     "output_type": "stream",
     "text": [
      "(1613821, 79)\n"
     ]
    }
   ],
   "source": [
    "print(test_df.shape)"
   ]
  },
  {
   "cell_type": "code",
   "execution_count": 149,
   "metadata": {},
   "outputs": [
    {
     "name": "stdout",
     "output_type": "stream",
     "text": [
      "1900\n"
     ]
    }
   ],
   "source": [
    "# Finding the null values.\n",
    "print(IDS_df.isin([np.nan, np.inf, -np.inf]).sum().sum())"
   ]
  },
  {
   "cell_type": "code",
   "execution_count": 150,
   "metadata": {},
   "outputs": [],
   "source": [
    "#  first replace infs to NaN:\n",
    "IDS_df = IDS_df.replace([np.inf, -np.inf], np.nan)"
   ]
  },
  {
   "cell_type": "code",
   "execution_count": 151,
   "metadata": {},
   "outputs": [
    {
     "name": "stdout",
     "output_type": "stream",
     "text": [
      "(412698, 79)\n"
     ]
    }
   ],
   "source": [
    "# print shape after dropping NaN rows\n",
    "IDS_df = IDS_df.dropna()\n",
    "print(IDS_df.shape)\n",
    "IDS_df = IDS_df.reset_index(drop=True)"
   ]
  },
  {
   "cell_type": "code",
   "execution_count": 152,
   "metadata": {},
   "outputs": [
    {
     "name": "stdout",
     "output_type": "stream",
     "text": [
      "0\n"
     ]
    }
   ],
   "source": [
    "# Finding the null values.\n",
    "print(IDS_df.isin([np.nan, np.inf, -np.inf]).sum().sum())"
   ]
  },
  {
   "cell_type": "code",
   "execution_count": 153,
   "metadata": {},
   "outputs": [
    {
     "name": "stdout",
     "output_type": "stream",
     "text": [
      "(412698, 79)\n"
     ]
    }
   ],
   "source": [
    "# print shape before dropping NaN rows\n",
    "print(IDS_df.shape)"
   ]
  },
  {
   "cell_type": "code",
   "execution_count": 154,
   "metadata": {},
   "outputs": [
    {
     "name": "stdout",
     "output_type": "stream",
     "text": [
      "232\n"
     ]
    }
   ],
   "source": [
    "# Finding the null values.\n",
    "print(test_df.isin([np.nan, np.inf, -np.inf]).sum().sum())"
   ]
  },
  {
   "cell_type": "code",
   "execution_count": 155,
   "metadata": {},
   "outputs": [],
   "source": [
    "#  first replace infs to NaN:\n",
    "test_df = test_df.replace([np.inf, -np.inf], np.nan)"
   ]
  },
  {
   "cell_type": "code",
   "execution_count": 156,
   "metadata": {},
   "outputs": [
    {
     "name": "stdout",
     "output_type": "stream",
     "text": [
      "(1613705, 79)\n"
     ]
    }
   ],
   "source": [
    "# print shape after dropping NaN rows\n",
    "test_df = test_df.dropna()\n",
    "print(test_df.shape)\n",
    "test_df = test_df.reset_index(drop=True)"
   ]
  },
  {
   "cell_type": "code",
   "execution_count": 157,
   "metadata": {},
   "outputs": [
    {
     "name": "stdout",
     "output_type": "stream",
     "text": [
      "0\n"
     ]
    }
   ],
   "source": [
    "# Finding the null values.\n",
    "print(test_df.isin([np.nan, np.inf, -np.inf]).sum().sum())"
   ]
  },
  {
   "cell_type": "code",
   "execution_count": 158,
   "metadata": {},
   "outputs": [
    {
     "name": "stdout",
     "output_type": "stream",
     "text": [
      "(1613705, 79)\n"
     ]
    }
   ],
   "source": [
    "print(test_df.shape)"
   ]
  },
  {
   "cell_type": "markdown",
   "metadata": {},
   "source": [
    "Examine the proportion of types of traffic:"
   ]
  },
  {
   "cell_type": "code",
   "execution_count": 159,
   "metadata": {},
   "outputs": [
    {
     "data": {
      "text/plain": [
       "Benign                      199275\n",
       "Infilteration                39777\n",
       "SSH-Bruteforce               20000\n",
       "DDoS attacks-LOIC-HTTP       20000\n",
       "DoS attacks-Hulk             20000\n",
       "DoS attacks-SlowHTTPTest     20000\n",
       "Bot                          20000\n",
       "DDOS attack-HOIC             20000\n",
       "DoS attacks-GoldenEye        20000\n",
       "FTP-BruteForce               19998\n",
       "DoS attacks-Slowloris        10990\n",
       "DDOS attack-LOIC-UDP          1730\n",
       "Brute Force -Web               611\n",
       "Brute Force -XSS               230\n",
       "SQL Injection                   87\n",
       "Name: label, dtype: int64"
      ]
     },
     "execution_count": 159,
     "metadata": {},
     "output_type": "execute_result"
    }
   ],
   "source": [
    "IDS_df['label'].value_counts()"
   ]
  },
  {
   "cell_type": "code",
   "execution_count": 160,
   "metadata": {},
   "outputs": [
    {
     "data": {
      "text/plain": [
       "Benign                      1339012\n",
       "DDOS attack-HOIC              68601\n",
       "DDoS attacks-LOIC-HTTP        57619\n",
       "DoS attacks-Hulk              46191\n",
       "Bot                           28619\n",
       "FTP-BruteForce                19335\n",
       "SSH-Bruteforce                18759\n",
       "Infilteration                 16064\n",
       "DoS attacks-SlowHTTPTest      13989\n",
       "DoS attacks-GoldenEye          4151\n",
       "DoS attacks-Slowloris          1099\n",
       "DDOS attack-LOIC-UDP            173\n",
       "Brute Force -Web                 61\n",
       "Brute Force -XSS                 23\n",
       "SQL Injection                     9\n",
       "Name: label, dtype: int64"
      ]
     },
     "execution_count": 160,
     "metadata": {},
     "output_type": "execute_result"
    }
   ],
   "source": [
    "test_df['label'].value_counts()"
   ]
  },
  {
   "cell_type": "code",
   "execution_count": 161,
   "metadata": {},
   "outputs": [],
   "source": [
    "original_IDS_df = IDS_df\n",
    "Y_train = IDS_df.pop(\"label\")\n",
    "X_train = IDS_df"
   ]
  },
  {
   "cell_type": "code",
   "execution_count": 172,
   "metadata": {},
   "outputs": [
    {
     "data": {
      "text/plain": [
       "(412698, 78)"
      ]
     },
     "execution_count": 172,
     "metadata": {},
     "output_type": "execute_result"
    }
   ],
   "source": [
    "original_IDS_df.shape"
   ]
  },
  {
   "cell_type": "code",
   "execution_count": 162,
   "metadata": {},
   "outputs": [],
   "source": [
    "# Resample the minority class. You can change the strategy to 'auto' if you are not sure.\n",
    "sm = SMOTE()"
   ]
  },
  {
   "cell_type": "code",
   "execution_count": 163,
   "metadata": {},
   "outputs": [],
   "source": [
    "# Fit the model to generate the data.\n",
    "oversampled_trainX, oversampled_trainY = sm.fit_resample(X_train, Y_train)"
   ]
  },
  {
   "cell_type": "code",
   "execution_count": 164,
   "metadata": {},
   "outputs": [
    {
     "name": "stdout",
     "output_type": "stream",
     "text": [
      "label=DoS attacks-GoldenEye, n=199275 (6.667%)\n",
      "label=DDoS attacks-LOIC-HTTP, n=199275 (6.667%)\n",
      "label=Benign, n=199275 (6.667%)\n",
      "label=DoS attacks-Hulk, n=199275 (6.667%)\n",
      "label=DDOS attack-HOIC, n=199275 (6.667%)\n",
      "label=Bot, n=199275 (6.667%)\n",
      "label=FTP-BruteForce, n=199275 (6.667%)\n",
      "label=SSH-Bruteforce, n=199275 (6.667%)\n",
      "label=Infilteration, n=199275 (6.667%)\n",
      "label=DoS attacks-SlowHTTPTest, n=199275 (6.667%)\n",
      "label=DoS attacks-Slowloris, n=199275 (6.667%)\n",
      "label=DDOS attack-LOIC-UDP, n=199275 (6.667%)\n",
      "label=Brute Force -Web, n=199275 (6.667%)\n",
      "label=Brute Force -XSS, n=199275 (6.667%)\n",
      "label=SQL Injection, n=199275 (6.667%)\n"
     ]
    }
   ],
   "source": [
    "#oversampled_trainY.value_counts()\n",
    "# summarize distribution\n",
    "from collections import Counter\n",
    "\n",
    "counter = Counter(oversampled_trainY)\n",
    "for k,v in counter.items():\n",
    "    per = v / len(oversampled_trainY) * 100\n",
    "    print('label=%s, n=%d (%.3f%%)' % (k, v, per))"
   ]
  },
  {
   "cell_type": "code",
   "execution_count": 167,
   "metadata": {},
   "outputs": [
    {
     "data": {
      "text/plain": [
       "(2989125, 79)"
      ]
     },
     "execution_count": 167,
     "metadata": {},
     "output_type": "execute_result"
    }
   ],
   "source": [
    "oversampled_train = pd.concat([pd.DataFrame(oversampled_trainX), pd.DataFrame(oversampled_trainY)], axis=1)\n",
    "oversampled_train.shape"
   ]
  },
  {
   "cell_type": "code",
   "execution_count": 171,
   "metadata": {},
   "outputs": [
    {
     "data": {
      "text/plain": [
       "Index(['dst_port', 'protocol', 'flow_duration', 'tot_fwd_pkts', 'tot_bwd_pkts',\n",
       "       'totlen_fwd_pkts', 'totlen_bwd_pkts', 'fwd_pkt_len_max',\n",
       "       'fwd_pkt_len_min', 'fwd_pkt_len_mean', 'fwd_pkt_len_std',\n",
       "       'bwd_pkt_len_max', 'bwd_pkt_len_min', 'bwd_pkt_len_mean',\n",
       "       'bwd_pkt_len_std', 'flow_byts_s', 'flow_pkts_s', 'flow_iat_mean',\n",
       "       'flow_iat_std', 'flow_iat_max', 'flow_iat_min', 'fwd_iat_tot',\n",
       "       'fwd_iat_mean', 'fwd_iat_std', 'fwd_iat_max', 'fwd_iat_min',\n",
       "       'bwd_iat_tot', 'bwd_iat_mean', 'bwd_iat_std', 'bwd_iat_max',\n",
       "       'bwd_iat_min', 'fwd_psh_flags', 'bwd_psh_flags', 'fwd_urg_flags',\n",
       "       'bwd_urg_flags', 'fwd_header_len', 'bwd_header_len', 'fwd_pkts_s',\n",
       "       'bwd_pkts_s', 'pkt_len_min', 'pkt_len_max', 'pkt_len_mean',\n",
       "       'pkt_len_std', 'pkt_len_var', 'fin_flag_cnt', 'syn_flag_cnt',\n",
       "       'rst_flag_cnt', 'psh_flag_cnt', 'ack_flag_cnt', 'urg_flag_cnt',\n",
       "       'cwe_flag_count', 'ece_flag_cnt', 'down_up_ratio', 'pkt_size_avg',\n",
       "       'fwd_seg_size_avg', 'bwd_seg_size_avg', 'fwd_byts_b_avg',\n",
       "       'fwd_pkts_b_avg', 'fwd_blk_rate_avg', 'bwd_byts_b_avg',\n",
       "       'bwd_pkts_b_avg', 'bwd_blk_rate_avg', 'subflow_fwd_pkts',\n",
       "       'subflow_fwd_byts', 'subflow_bwd_pkts', 'subflow_bwd_byts',\n",
       "       'init_fwd_win_byts', 'init_bwd_win_byts', 'fwd_act_data_pkts',\n",
       "       'fwd_seg_size_min', 'active_mean', 'active_std', 'active_max',\n",
       "       'active_min', 'idle_mean', 'idle_std', 'idle_max', 'idle_min', 'label'],\n",
       "      dtype='object')"
      ]
     },
     "execution_count": 171,
     "metadata": {},
     "output_type": "execute_result"
    }
   ],
   "source": [
    "oversampled_train.columns"
   ]
  },
  {
   "cell_type": "code",
   "execution_count": 173,
   "metadata": {},
   "outputs": [],
   "source": [
    "#oversampled_train.columns = original_IDS_df.columns"
   ]
  },
  {
   "cell_type": "code",
   "execution_count": 174,
   "metadata": {},
   "outputs": [
    {
     "name": "stdout",
     "output_type": "stream",
     "text": [
      "Index(['dst_port', 'protocol', 'flow_duration', 'tot_fwd_pkts', 'tot_bwd_pkts',\n",
      "       'totlen_fwd_pkts', 'totlen_bwd_pkts', 'fwd_pkt_len_max',\n",
      "       'fwd_pkt_len_min', 'fwd_pkt_len_mean', 'fwd_pkt_len_std',\n",
      "       'bwd_pkt_len_max', 'bwd_pkt_len_min', 'bwd_pkt_len_mean',\n",
      "       'bwd_pkt_len_std', 'flow_byts_s', 'flow_pkts_s', 'flow_iat_mean',\n",
      "       'flow_iat_std', 'flow_iat_max', 'flow_iat_min', 'fwd_iat_tot',\n",
      "       'fwd_iat_mean', 'fwd_iat_std', 'fwd_iat_max', 'fwd_iat_min',\n",
      "       'bwd_iat_tot', 'bwd_iat_mean', 'bwd_iat_std', 'bwd_iat_max',\n",
      "       'bwd_iat_min', 'fwd_psh_flags', 'bwd_psh_flags', 'fwd_urg_flags',\n",
      "       'bwd_urg_flags', 'fwd_header_len', 'bwd_header_len', 'fwd_pkts_s',\n",
      "       'bwd_pkts_s', 'pkt_len_min', 'pkt_len_max', 'pkt_len_mean',\n",
      "       'pkt_len_std', 'pkt_len_var', 'fin_flag_cnt', 'syn_flag_cnt',\n",
      "       'rst_flag_cnt', 'psh_flag_cnt', 'ack_flag_cnt', 'urg_flag_cnt',\n",
      "       'cwe_flag_count', 'ece_flag_cnt', 'down_up_ratio', 'pkt_size_avg',\n",
      "       'fwd_seg_size_avg', 'bwd_seg_size_avg', 'fwd_byts_b_avg',\n",
      "       'fwd_pkts_b_avg', 'fwd_blk_rate_avg', 'bwd_byts_b_avg',\n",
      "       'bwd_pkts_b_avg', 'bwd_blk_rate_avg', 'subflow_fwd_pkts',\n",
      "       'subflow_fwd_byts', 'subflow_bwd_pkts', 'subflow_bwd_byts',\n",
      "       'init_fwd_win_byts', 'init_bwd_win_byts', 'fwd_act_data_pkts',\n",
      "       'fwd_seg_size_min', 'active_mean', 'active_std', 'active_max',\n",
      "       'active_min', 'idle_mean', 'idle_std', 'idle_max', 'idle_min'],\n",
      "      dtype='object')\n"
     ]
    }
   ],
   "source": [
    "print(original_IDS_df.columns)"
   ]
  },
  {
   "cell_type": "code",
   "execution_count": 175,
   "metadata": {},
   "outputs": [
    {
     "data": {
      "text/plain": [
       "FTP-BruteForce              199275\n",
       "DDOS attack-HOIC            199275\n",
       "DDOS attack-LOIC-UDP        199275\n",
       "SQL Injection               199275\n",
       "Brute Force -Web            199275\n",
       "Infilteration               199275\n",
       "SSH-Bruteforce              199275\n",
       "DoS attacks-Hulk            199275\n",
       "DoS attacks-GoldenEye       199275\n",
       "DoS attacks-Slowloris       199275\n",
       "Bot                         199275\n",
       "Benign                      199275\n",
       "Brute Force -XSS            199275\n",
       "DDoS attacks-LOIC-HTTP      199275\n",
       "DoS attacks-SlowHTTPTest    199275\n",
       "Name: label, dtype: int64"
      ]
     },
     "execution_count": 175,
     "metadata": {},
     "output_type": "execute_result"
    }
   ],
   "source": [
    "oversampled_train['label'].value_counts()"
   ]
  },
  {
   "cell_type": "code",
   "execution_count": 176,
   "metadata": {},
   "outputs": [],
   "source": [
    "def get_label(text):    \n",
    "    if text == \"Benign\":\n",
    "        return 0\n",
    "    elif text == 'Infilteration':\n",
    "        return 1\n",
    "    elif text == 'DoS attacks-Slowloris':\n",
    "        return 2\n",
    "    elif text == 'SSH-Bruteforce':\n",
    "        return 3\n",
    "    elif text == 'DDOS attack-HOIC':\n",
    "        return 4\n",
    "    elif text == 'FTP-BruteForce':\n",
    "        return 5\n",
    "    elif text == 'DoS attacks-SlowHTTPTest':\n",
    "        return 6\n",
    "    elif text == 'Bot':\n",
    "        return 7\n",
    "    elif text == 'DoS attacks-Hulk':\n",
    "        return 8\n",
    "    elif text == 'DoS attacks-GoldenEye':\n",
    "        return 9\n",
    "    elif text == 'DDoS attacks-LOIC-HTTP':\n",
    "        return 10\n",
    "    elif text == 'DDOS attack-LOIC-UDP':\n",
    "        return 11\n",
    "    elif text == 'Brute Force -Web':\n",
    "        return 12\n",
    "    elif text == 'Brute Force -XSS':\n",
    "        return 13\n",
    "    elif text == 'SQL Injection':\n",
    "        return 14\n",
    "\n",
    "oversampled_train[\"label\"] = oversampled_train[\"label\"].apply(get_label)\n",
    "test_df[\"label\"] = test_df[\"label\"].apply(get_label)"
   ]
  },
  {
   "cell_type": "code",
   "execution_count": 177,
   "metadata": {},
   "outputs": [
    {
     "data": {
      "text/plain": [
       "14    199275\n",
       "13    199275\n",
       "12    199275\n",
       "11    199275\n",
       "10    199275\n",
       "9     199275\n",
       "8     199275\n",
       "7     199275\n",
       "6     199275\n",
       "5     199275\n",
       "4     199275\n",
       "3     199275\n",
       "2     199275\n",
       "1     199275\n",
       "0     199275\n",
       "Name: label, dtype: int64"
      ]
     },
     "execution_count": 177,
     "metadata": {},
     "output_type": "execute_result"
    }
   ],
   "source": [
    "oversampled_train['label'].value_counts()"
   ]
  },
  {
   "cell_type": "markdown",
   "metadata": {},
   "source": [
    "Convert all categorical features into numerical form:"
   ]
  },
  {
   "cell_type": "code",
   "execution_count": 178,
   "metadata": {},
   "outputs": [],
   "source": [
    "from sklearn.preprocessing import LabelEncoder\n",
    "\n",
    "encodings_dictionary = dict()\n",
    "for c in IDS_df.columns:\n",
    "    if IDS_df[c].dtype == \"object\":\n",
    "        encodings_dictionary[c] = LabelEncoder()\n",
    "        oversampled_train[c] = encodings_dictionary[c].fit_transform(oversampled_train[c])\n",
    "        test_df[c] = encodings_dictionary[c].fit_transform(test_df[c])"
   ]
  },
  {
   "cell_type": "markdown",
   "metadata": {},
   "source": [
    "Use Stratified K Fold to split the data into train and validation"
   ]
  },
  {
   "cell_type": "code",
   "execution_count": 179,
   "metadata": {},
   "outputs": [],
   "source": [
    "seed = 1234\n",
    "skf = StratifiedKFold(n_splits=5, shuffle=True, random_state = seed)\n",
    "target = oversampled_train.loc[:,'label']"
   ]
  },
  {
   "cell_type": "markdown",
   "metadata": {},
   "source": [
    "Train-test split the dataset:"
   ]
  },
  {
   "cell_type": "code",
   "execution_count": 180,
   "metadata": {},
   "outputs": [],
   "source": [
    "def GetPyTorchDataLoaders(x_train, x_test, y_train, y_test, batch_size = 1000):\n",
    "    # Pytorch\n",
    "    X_train  = torch.from_numpy(x_train).float()\n",
    "    Y_train = torch.from_numpy(y_train)\n",
    "\n",
    "    X_test = torch.from_numpy(x_test).float()\n",
    "    Y_test = torch.from_numpy(y_test)\n",
    "\n",
    "    # Pytorch train and test sets\n",
    "    train = torch.utils.data.TensorDataset(X_train, Y_train)\n",
    "    valid = torch.utils.data.TensorDataset(X_test, Y_test)\n",
    "\n",
    "    # data loader\n",
    "    train_loader = torch.utils.data.DataLoader(train, batch_size = batch_size, shuffle = True)\n",
    "    valid_loader = torch.utils.data.DataLoader(valid, batch_size = batch_size, shuffle = True)\n",
    "\n",
    "    print('Completed loading data and returning pytorch train and validation data loaders')\n",
    "    return train_loader, valid_loader"
   ]
  },
  {
   "cell_type": "code",
   "execution_count": 207,
   "metadata": {},
   "outputs": [
    {
     "name": "stdout",
     "output_type": "stream",
     "text": [
      "MLP(\n",
      "  (layer1): Linear(in_features=78, out_features=256, bias=True)\n",
      "  (activ1): ReLU()\n",
      "  (layer2): Linear(in_features=256, out_features=128, bias=True)\n",
      "  (activ2): ReLU()\n",
      "  (layer3): Linear(in_features=128, out_features=64, bias=True)\n",
      "  (activ3): ReLU()\n",
      "  (layer4): Linear(in_features=64, out_features=15, bias=True)\n",
      ")\n"
     ]
    }
   ],
   "source": [
    "device = 'cpu'\n",
    "if torch.cuda.is_available():\n",
    "    device = 'cuda'\n",
    "        \n",
    "# Defining the DNN model\n",
    "#input_size = train_loader.dataset.tensors[0].shape[1]\n",
    "input_size = 78\n",
    "hidden_layers = [256,128,64]\n",
    "output_size = 15\n",
    "\n",
    "# model definition\n",
    "class MLP(nn.Module):\n",
    "    # define model elements\n",
    "    def __init__(self, n_inputs):\n",
    "        super(MLP, self).__init__()\n",
    "        self.layer1 = nn.Linear(n_inputs, hidden_layers[0])\n",
    "        self.activ1 = nn.ReLU()\n",
    "        \n",
    "        self.layer2 = nn.Linear(hidden_layers[0], hidden_layers[1])\n",
    "        self.activ2 = nn.ReLU()\n",
    "\n",
    "        self.layer3 = nn.Linear(hidden_layers[1], hidden_layers[2])\n",
    "        self.activ3 = nn.ReLU()\n",
    "        \n",
    "        self.layer4 = nn.Linear(hidden_layers[2], output_size)\n",
    "        \n",
    "    # forward propagate input\n",
    "    def forward(self, x):\n",
    "        x = self.layer1(x)\n",
    "        x = self.activ1(x)\n",
    "        \n",
    "        x = self.layer2(x)\n",
    "        x = self.activ2(x)\n",
    "        \n",
    "        x = self.layer3(x)\n",
    "        x = self.activ3(x)\n",
    "        \n",
    "        x = self.layer4(x)\n",
    "        return x\n",
    "\n",
    "model = MLP(input_size)\n",
    "print(model)\n",
    "model.to(device)\n",
    "\n",
    " # Cross Entropy Loss \n",
    "error = nn.CrossEntropyLoss().to(device)\n",
    "# Adam Optimizer\n",
    "learning_rate = 0.001\n",
    "optimizer = torch.optim.Adam(model.parameters(), lr=learning_rate, weight_decay=0.01)"
   ]
  },
  {
   "cell_type": "code",
   "execution_count": 208,
   "metadata": {},
   "outputs": [],
   "source": [
    "def train_model(train, test, fold_no):\n",
    "    print('Start training...')\n",
    "    start_time = time.time()\n",
    "\n",
    "    epochs = 1\n",
    "\n",
    "    count = 0\n",
    "    loss_list = []\n",
    "    iteration_list = []\n",
    "    accuracy_list = []\n",
    "    accuracy_scores = []\n",
    "    \n",
    "    # Separate into training data and labels, testing data and labels\n",
    "    Y_train = train.pop(\"label\").values\n",
    "    X_train = train.values\n",
    "    \n",
    "    Y_test = test.pop(\"label\").values\n",
    "    X_test = test.values\n",
    "    \n",
    "    # Get PyTorch training and validation data loaders\n",
    "    train_loader, valid_loader = GetPyTorchDataLoaders(X_train, X_test, Y_train, Y_test, batch_size = 5000)\n",
    "\n",
    "    for e in range(epochs):\n",
    "        correct_epoch = 0\n",
    "        total_epoch = 0\n",
    "        for i, (data, labels) in enumerate(train_loader):\n",
    "            train = data.to(device)\n",
    "            labels = labels.to(device)\n",
    "\n",
    "            # Clear gradients\n",
    "            optimizer.zero_grad()\n",
    "\n",
    "            # Forward propagation\n",
    "            outputs = model(train)\n",
    "\n",
    "            # Calculate softmax and cross entropy loss\n",
    "            loss = error(outputs, labels)\n",
    "\n",
    "            # Calculating gradients\n",
    "            loss.backward()\n",
    "\n",
    "            # Update parameters\n",
    "            optimizer.step()\n",
    "\n",
    "            if count % 100 == 0:\n",
    "                # Calculate Accuracy         \n",
    "                correct = 0\n",
    "                total = 0\n",
    "\n",
    "                # Iterate through test dataset\n",
    "                for data, labels in valid_loader:\n",
    "                    valid = data.to(device)                               \n",
    "                    labels = labels.to(device)\n",
    "\n",
    "                    # Forward propagation\n",
    "                    outputs = model(valid)\n",
    "\n",
    "                    # Get predictions from the maximum value\n",
    "                    predicted = torch.max(outputs.data, 1)[1]\n",
    "\n",
    "                    #print('Predicted: ', predicted)\n",
    "\n",
    "                    # Total number of labels\n",
    "                    total += len(labels)\n",
    "                    correct += (predicted == labels).sum()\n",
    "\n",
    "                accuracy = 100 * correct / float(total)\n",
    "\n",
    "                # store loss and iteration\n",
    "                loss_list.append(loss.data)\n",
    "                iteration_list.append(count)\n",
    "                accuracy_list.append(accuracy)\n",
    "                \n",
    "            if count % 100 == 0:\n",
    "                # Print Loss\n",
    "                print('Epoch: {} Iteration: {}  Loss: {}  Accuracy: {} %'.format(e + 1, count, loss.data, accuracy))\n",
    "\n",
    "            count += 1\n",
    "        \n",
    "        \n",
    "        # calculate accuracy on the validation set\n",
    "        # Iterate through test dataset\n",
    "        for data, labels in valid_loader:\n",
    "            valid = data.to(device)                               \n",
    "            labels = labels.to(device)\n",
    "\n",
    "            # Forward propagation\n",
    "            outputs = model(valid)\n",
    "\n",
    "            # Get predictions from the maximum value\n",
    "            predicted = torch.max(outputs.data, 1)[1]\n",
    "            \n",
    "            total_epoch += len(labels)\n",
    "            correct_epoch += (predicted == labels).sum()\n",
    "\n",
    "        accuracy_epoch = (100 * correct_epoch / float(total_epoch)).item()\n",
    "\n",
    "        print('Fold',str(fold_no), 'Epoch No. :', e, 'Accuracy for Epoch :', accuracy_epoch)\n",
    "\n",
    "    end_time = time.time()\n",
    "    accuracy_scores.append(accuracy_epoch)\n",
    "    mean_accuracy_score = np.mean(accuracy_scores)\n",
    "    print('Epochs completed. Time taken (seconds): ', str(end_time - start_time))\n",
    "    print('Average accuracy over all epochs', mean_accuracy_score)\n",
    "    return mean_accuracy_score"
   ]
  },
  {
   "cell_type": "code",
   "execution_count": null,
   "metadata": {},
   "outputs": [
    {
     "name": "stdout",
     "output_type": "stream",
     "text": [
      "Start training...\n",
      "Completed loading data and returning pytorch train and validation data loaders\n",
      "Epoch: 1 Iteration: 0  Loss: 228779.90625  Accuracy: 11.446995735168457 %\n",
      "Epoch: 1 Iteration: 100  Loss: 3748.9892578125  Accuracy: 55.1512565612793 %\n",
      "Epoch: 1 Iteration: 200  Loss: 1449.14013671875  Accuracy: 47.837745666503906 %\n",
      "Epoch: 1 Iteration: 300  Loss: 1609.274658203125  Accuracy: 56.710575103759766 %\n",
      "Epoch: 1 Iteration: 400  Loss: 277.6749267578125  Accuracy: 55.06761932373047 %\n",
      "Fold 1 Epoch No. : 0 Accuracy for Epoch : 57.504451751708984\n",
      "Epochs completed. Time taken (seconds):  134.03818583488464\n",
      "Average accuracy over all epochs 57.504451751708984\n",
      "Start training...\n",
      "Completed loading data and returning pytorch train and validation data loaders\n",
      "Epoch: 1 Iteration: 0  Loss: 552.2286987304688  Accuracy: 60.61372375488281 %\n"
     ]
    }
   ],
   "source": [
    "accuracy_scores = []\n",
    "fold_no = 1\n",
    "\n",
    "for train_index, test_index in skf.split(oversampled_train, target):\n",
    "    train = oversampled_train.loc[train_index,:]\n",
    "    test = oversampled_train.loc[test_index,:]\n",
    "    accuracy_score = train_model(train, test, fold_no)\n",
    "    accuracy_scores.append(accuracy_score)\n",
    "    fold_no += 1\n",
    "    \n",
    "print('Accuracy score across after stratified K Fold validation and training', accuracy_score[-1])"
   ]
  },
  {
   "cell_type": "code",
   "execution_count": 191,
   "metadata": {},
   "outputs": [],
   "source": [
    "def GetPyTorchTestDataLoader(test_data, test_labels, batch_size=1000):\n",
    "    # Pytorch\n",
    "\n",
    "    X_test = torch.from_numpy(test_data).float()\n",
    "    Y_test = torch.from_numpy(test_labels)\n",
    "\n",
    "    # Pytorch train and test sets\n",
    "    test = torch.utils.data.TensorDataset(X_test, Y_test)\n",
    "\n",
    "    # data loader\n",
    "    test_loader = torch.utils.data.DataLoader(test, batch_size=batch_size)\n",
    "\n",
    "    print('Completed loading data and returning pytorch test data loaders')\n",
    "    return test_loader"
   ]
  },
  {
   "cell_type": "code",
   "execution_count": 192,
   "metadata": {},
   "outputs": [
    {
     "ename": "KeyError",
     "evalue": "'label'",
     "output_type": "error",
     "traceback": [
      "\u001b[1;31m---------------------------------------------------------------------------\u001b[0m",
      "\u001b[1;31mKeyError\u001b[0m                                  Traceback (most recent call last)",
      "\u001b[1;32m~\\Anaconda3\\lib\\site-packages\\pandas\\core\\indexes\\base.py\u001b[0m in \u001b[0;36mget_loc\u001b[1;34m(self, key, method, tolerance)\u001b[0m\n\u001b[0;32m   2894\u001b[0m             \u001b[1;32mtry\u001b[0m\u001b[1;33m:\u001b[0m\u001b[1;33m\u001b[0m\u001b[1;33m\u001b[0m\u001b[0m\n\u001b[1;32m-> 2895\u001b[1;33m                 \u001b[1;32mreturn\u001b[0m \u001b[0mself\u001b[0m\u001b[1;33m.\u001b[0m\u001b[0m_engine\u001b[0m\u001b[1;33m.\u001b[0m\u001b[0mget_loc\u001b[0m\u001b[1;33m(\u001b[0m\u001b[0mcasted_key\u001b[0m\u001b[1;33m)\u001b[0m\u001b[1;33m\u001b[0m\u001b[1;33m\u001b[0m\u001b[0m\n\u001b[0m\u001b[0;32m   2896\u001b[0m             \u001b[1;32mexcept\u001b[0m \u001b[0mKeyError\u001b[0m \u001b[1;32mas\u001b[0m \u001b[0merr\u001b[0m\u001b[1;33m:\u001b[0m\u001b[1;33m\u001b[0m\u001b[1;33m\u001b[0m\u001b[0m\n",
      "\u001b[1;32mpandas\\_libs\\index.pyx\u001b[0m in \u001b[0;36mpandas._libs.index.IndexEngine.get_loc\u001b[1;34m()\u001b[0m\n",
      "\u001b[1;32mpandas\\_libs\\index.pyx\u001b[0m in \u001b[0;36mpandas._libs.index.IndexEngine.get_loc\u001b[1;34m()\u001b[0m\n",
      "\u001b[1;32mpandas\\_libs\\hashtable_class_helper.pxi\u001b[0m in \u001b[0;36mpandas._libs.hashtable.PyObjectHashTable.get_item\u001b[1;34m()\u001b[0m\n",
      "\u001b[1;32mpandas\\_libs\\hashtable_class_helper.pxi\u001b[0m in \u001b[0;36mpandas._libs.hashtable.PyObjectHashTable.get_item\u001b[1;34m()\u001b[0m\n",
      "\u001b[1;31mKeyError\u001b[0m: 'label'",
      "\nThe above exception was the direct cause of the following exception:\n",
      "\u001b[1;31mKeyError\u001b[0m                                  Traceback (most recent call last)",
      "\u001b[1;32m<ipython-input-192-2878e06afa99>\u001b[0m in \u001b[0;36m<module>\u001b[1;34m\u001b[0m\n\u001b[1;32m----> 1\u001b[1;33m \u001b[0mtest_labels\u001b[0m \u001b[1;33m=\u001b[0m \u001b[0mtest_df\u001b[0m\u001b[1;33m.\u001b[0m\u001b[0mpop\u001b[0m\u001b[1;33m(\u001b[0m\u001b[1;34m\"label\"\u001b[0m\u001b[1;33m)\u001b[0m\u001b[1;33m.\u001b[0m\u001b[0mvalues\u001b[0m\u001b[1;33m\u001b[0m\u001b[1;33m\u001b[0m\u001b[0m\n\u001b[0m\u001b[0;32m      2\u001b[0m \u001b[0mtest_data\u001b[0m \u001b[1;33m=\u001b[0m \u001b[0mtest_df\u001b[0m\u001b[1;33m.\u001b[0m\u001b[0mvalues\u001b[0m\u001b[1;33m\u001b[0m\u001b[1;33m\u001b[0m\u001b[0m\n",
      "\u001b[1;32m~\\Anaconda3\\lib\\site-packages\\pandas\\core\\frame.py\u001b[0m in \u001b[0;36mpop\u001b[1;34m(self, item)\u001b[0m\n\u001b[0;32m   4365\u001b[0m         \u001b[1;36m3\u001b[0m  \u001b[0mmonkey\u001b[0m        \u001b[0mNaN\u001b[0m\u001b[1;33m\u001b[0m\u001b[1;33m\u001b[0m\u001b[0m\n\u001b[0;32m   4366\u001b[0m         \"\"\"\n\u001b[1;32m-> 4367\u001b[1;33m         \u001b[1;32mreturn\u001b[0m \u001b[0msuper\u001b[0m\u001b[1;33m(\u001b[0m\u001b[1;33m)\u001b[0m\u001b[1;33m.\u001b[0m\u001b[0mpop\u001b[0m\u001b[1;33m(\u001b[0m\u001b[0mitem\u001b[0m\u001b[1;33m=\u001b[0m\u001b[0mitem\u001b[0m\u001b[1;33m)\u001b[0m\u001b[1;33m\u001b[0m\u001b[1;33m\u001b[0m\u001b[0m\n\u001b[0m\u001b[0;32m   4368\u001b[0m \u001b[1;33m\u001b[0m\u001b[0m\n\u001b[0;32m   4369\u001b[0m     \u001b[1;33m@\u001b[0m\u001b[0mdoc\u001b[0m\u001b[1;33m(\u001b[0m\u001b[0mNDFrame\u001b[0m\u001b[1;33m.\u001b[0m\u001b[0mreplace\u001b[0m\u001b[1;33m,\u001b[0m \u001b[1;33m**\u001b[0m\u001b[0m_shared_doc_kwargs\u001b[0m\u001b[1;33m)\u001b[0m\u001b[1;33m\u001b[0m\u001b[1;33m\u001b[0m\u001b[0m\n",
      "\u001b[1;32m~\\Anaconda3\\lib\\site-packages\\pandas\\core\\generic.py\u001b[0m in \u001b[0;36mpop\u001b[1;34m(self, item)\u001b[0m\n\u001b[0;32m    659\u001b[0m \u001b[1;33m\u001b[0m\u001b[0m\n\u001b[0;32m    660\u001b[0m     \u001b[1;32mdef\u001b[0m \u001b[0mpop\u001b[0m\u001b[1;33m(\u001b[0m\u001b[0mself\u001b[0m\u001b[1;33m,\u001b[0m \u001b[0mitem\u001b[0m\u001b[1;33m:\u001b[0m \u001b[0mLabel\u001b[0m\u001b[1;33m)\u001b[0m \u001b[1;33m->\u001b[0m \u001b[0mUnion\u001b[0m\u001b[1;33m[\u001b[0m\u001b[1;34m\"Series\"\u001b[0m\u001b[1;33m,\u001b[0m \u001b[0mAny\u001b[0m\u001b[1;33m]\u001b[0m\u001b[1;33m:\u001b[0m\u001b[1;33m\u001b[0m\u001b[1;33m\u001b[0m\u001b[0m\n\u001b[1;32m--> 661\u001b[1;33m         \u001b[0mresult\u001b[0m \u001b[1;33m=\u001b[0m \u001b[0mself\u001b[0m\u001b[1;33m[\u001b[0m\u001b[0mitem\u001b[0m\u001b[1;33m]\u001b[0m\u001b[1;33m\u001b[0m\u001b[1;33m\u001b[0m\u001b[0m\n\u001b[0m\u001b[0;32m    662\u001b[0m         \u001b[1;32mdel\u001b[0m \u001b[0mself\u001b[0m\u001b[1;33m[\u001b[0m\u001b[0mitem\u001b[0m\u001b[1;33m]\u001b[0m\u001b[1;33m\u001b[0m\u001b[1;33m\u001b[0m\u001b[0m\n\u001b[0;32m    663\u001b[0m         \u001b[1;32mif\u001b[0m \u001b[0mself\u001b[0m\u001b[1;33m.\u001b[0m\u001b[0mndim\u001b[0m \u001b[1;33m==\u001b[0m \u001b[1;36m2\u001b[0m\u001b[1;33m:\u001b[0m\u001b[1;33m\u001b[0m\u001b[1;33m\u001b[0m\u001b[0m\n",
      "\u001b[1;32m~\\Anaconda3\\lib\\site-packages\\pandas\\core\\frame.py\u001b[0m in \u001b[0;36m__getitem__\u001b[1;34m(self, key)\u001b[0m\n\u001b[0;32m   2900\u001b[0m             \u001b[1;32mif\u001b[0m \u001b[0mself\u001b[0m\u001b[1;33m.\u001b[0m\u001b[0mcolumns\u001b[0m\u001b[1;33m.\u001b[0m\u001b[0mnlevels\u001b[0m \u001b[1;33m>\u001b[0m \u001b[1;36m1\u001b[0m\u001b[1;33m:\u001b[0m\u001b[1;33m\u001b[0m\u001b[1;33m\u001b[0m\u001b[0m\n\u001b[0;32m   2901\u001b[0m                 \u001b[1;32mreturn\u001b[0m \u001b[0mself\u001b[0m\u001b[1;33m.\u001b[0m\u001b[0m_getitem_multilevel\u001b[0m\u001b[1;33m(\u001b[0m\u001b[0mkey\u001b[0m\u001b[1;33m)\u001b[0m\u001b[1;33m\u001b[0m\u001b[1;33m\u001b[0m\u001b[0m\n\u001b[1;32m-> 2902\u001b[1;33m             \u001b[0mindexer\u001b[0m \u001b[1;33m=\u001b[0m \u001b[0mself\u001b[0m\u001b[1;33m.\u001b[0m\u001b[0mcolumns\u001b[0m\u001b[1;33m.\u001b[0m\u001b[0mget_loc\u001b[0m\u001b[1;33m(\u001b[0m\u001b[0mkey\u001b[0m\u001b[1;33m)\u001b[0m\u001b[1;33m\u001b[0m\u001b[1;33m\u001b[0m\u001b[0m\n\u001b[0m\u001b[0;32m   2903\u001b[0m             \u001b[1;32mif\u001b[0m \u001b[0mis_integer\u001b[0m\u001b[1;33m(\u001b[0m\u001b[0mindexer\u001b[0m\u001b[1;33m)\u001b[0m\u001b[1;33m:\u001b[0m\u001b[1;33m\u001b[0m\u001b[1;33m\u001b[0m\u001b[0m\n\u001b[0;32m   2904\u001b[0m                 \u001b[0mindexer\u001b[0m \u001b[1;33m=\u001b[0m \u001b[1;33m[\u001b[0m\u001b[0mindexer\u001b[0m\u001b[1;33m]\u001b[0m\u001b[1;33m\u001b[0m\u001b[1;33m\u001b[0m\u001b[0m\n",
      "\u001b[1;32m~\\Anaconda3\\lib\\site-packages\\pandas\\core\\indexes\\base.py\u001b[0m in \u001b[0;36mget_loc\u001b[1;34m(self, key, method, tolerance)\u001b[0m\n\u001b[0;32m   2895\u001b[0m                 \u001b[1;32mreturn\u001b[0m \u001b[0mself\u001b[0m\u001b[1;33m.\u001b[0m\u001b[0m_engine\u001b[0m\u001b[1;33m.\u001b[0m\u001b[0mget_loc\u001b[0m\u001b[1;33m(\u001b[0m\u001b[0mcasted_key\u001b[0m\u001b[1;33m)\u001b[0m\u001b[1;33m\u001b[0m\u001b[1;33m\u001b[0m\u001b[0m\n\u001b[0;32m   2896\u001b[0m             \u001b[1;32mexcept\u001b[0m \u001b[0mKeyError\u001b[0m \u001b[1;32mas\u001b[0m \u001b[0merr\u001b[0m\u001b[1;33m:\u001b[0m\u001b[1;33m\u001b[0m\u001b[1;33m\u001b[0m\u001b[0m\n\u001b[1;32m-> 2897\u001b[1;33m                 \u001b[1;32mraise\u001b[0m \u001b[0mKeyError\u001b[0m\u001b[1;33m(\u001b[0m\u001b[0mkey\u001b[0m\u001b[1;33m)\u001b[0m \u001b[1;32mfrom\u001b[0m \u001b[0merr\u001b[0m\u001b[1;33m\u001b[0m\u001b[1;33m\u001b[0m\u001b[0m\n\u001b[0m\u001b[0;32m   2898\u001b[0m \u001b[1;33m\u001b[0m\u001b[0m\n\u001b[0;32m   2899\u001b[0m         \u001b[1;32mif\u001b[0m \u001b[0mtolerance\u001b[0m \u001b[1;32mis\u001b[0m \u001b[1;32mnot\u001b[0m \u001b[1;32mNone\u001b[0m\u001b[1;33m:\u001b[0m\u001b[1;33m\u001b[0m\u001b[1;33m\u001b[0m\u001b[0m\n",
      "\u001b[1;31mKeyError\u001b[0m: 'label'"
     ]
    }
   ],
   "source": [
    "test_labels = test_df.pop(\"label\").values\n",
    "test_data = test_df.values"
   ]
  },
  {
   "cell_type": "code",
   "execution_count": 193,
   "metadata": {},
   "outputs": [
    {
     "name": "stdout",
     "output_type": "stream",
     "text": [
      "Completed loading data and returning pytorch test data loaders\n"
     ]
    }
   ],
   "source": [
    "test_loader = GetPyTorchTestDataLoader(test_data, test_labels, batch_size=5000)"
   ]
  },
  {
   "cell_type": "code",
   "execution_count": 205,
   "metadata": {},
   "outputs": [],
   "source": [
    "def plot_confusion_matrix(conf_matrix, label_names):\n",
    "    '''Plot confusion matrix\n",
    "    # param conf_matrix: confusion matrix nd array\n",
    "    # return: None\n",
    "    '''\n",
    "    fig, ax = plt.subplots(figsize=(15, 10))\n",
    "    ax.matshow(conf_matrix, cmap=plt.cm.Blues, alpha=0.7)\n",
    "    # show all ticks\n",
    "    ax.set_xticks(np.arange(len(label_names)))\n",
    "    ax.set_yticks(np.arange(len(label_names)))\n",
    "    # label them with the respective list entries\n",
    "    ax.set_xticklabels(label_names,  rotation=45)\n",
    "    ax.set_yticklabels(label_names)\n",
    "    \n",
    "    for i in range(conf_matrix.shape[0]):\n",
    "        for j in range(conf_matrix.shape[1]):\n",
    "            ax.text(x=j, y=i, s=conf_matrix[i,j], va='center', ha='center')\n",
    "    plt.xlabel('Predicted Label')\n",
    "    plt.ylabel('True Label')\n",
    "    plt.title('Confusion Matrix')\n",
    "    plt.tight_layout()\n",
    "    plt.show()"
   ]
  },
  {
   "cell_type": "markdown",
   "metadata": {},
   "source": [
    "Completed loading data and returning pytorch train and validation data loaders"
   ]
  },
  {
   "cell_type": "code",
   "execution_count": 195,
   "metadata": {},
   "outputs": [],
   "source": [
    "# Aggregate all predictions in this torch tensor \n",
    "all_labels = torch.LongTensor([]).to(device)\n",
    "all_predictions = torch.LongTensor([]).to(device)\n",
    "\n",
    "for data, label in test_loader:\n",
    "    valid = data.to(device)                               \n",
    "    label = label.to(device)\n",
    "\n",
    "    # Forward propagation\n",
    "    outputs = model(valid)\n",
    "\n",
    "    # Get predictions from the maximum value\n",
    "    predicted = torch.max(outputs.data, 1)[1]\n",
    "    \n",
    "    all_predictions = torch.cat(\n",
    "        (all_predictions, predicted),\n",
    "        dim =0\n",
    "    )\n",
    "    all_labels = torch.cat(\n",
    "        (all_labels, label),\n",
    "        dim =0\n",
    "    )"
   ]
  },
  {
   "cell_type": "code",
   "execution_count": 196,
   "metadata": {},
   "outputs": [
    {
     "name": "stdout",
     "output_type": "stream",
     "text": [
      "torch.Size([1613705])\n",
      "torch.Size([1613705])\n"
     ]
    }
   ],
   "source": [
    "print(all_labels.size())\n",
    "print(all_predictions.size())"
   ]
  },
  {
   "cell_type": "code",
   "execution_count": 197,
   "metadata": {},
   "outputs": [],
   "source": [
    "LABEL_TO_ID = {  \n",
    "    \"Benign\": 0,\n",
    "    'Infilteration': 1,\n",
    "    'DoS attacks-Slowloris': 2,\n",
    "    'SSH-Bruteforce': 3,\n",
    "    'DDOS attack-HOIC': 4,\n",
    "    'FTP-BruteForce': 5,\n",
    "    'DoS attacks-SlowHTTPTest': 6,\n",
    "    'Bot': 7,\n",
    "    'DoS attacks-Hulk': 8,\n",
    "    'DoS attacks-GoldenEye': 9,\n",
    "    'DDoS attacks-LOIC-HTTP': 10,\n",
    "    'DDOS attack-LOIC-UDP': 11,\n",
    "    'Brute Force -Web': 12,\n",
    "    'Brute Force -XSS': 13,\n",
    "    'SQL Injection': 14,\n",
    "}\n",
    "\n",
    "ID_TO_LABEL = {\n",
    "    v: k for k, v in LABEL_TO_ID.items()\n",
    "}"
   ]
  },
  {
   "cell_type": "code",
   "execution_count": 198,
   "metadata": {},
   "outputs": [],
   "source": [
    "label_names = []\n",
    "for i in range(15):\n",
    "    label_names.append(ID_TO_LABEL[i])"
   ]
  },
  {
   "cell_type": "code",
   "execution_count": 203,
   "metadata": {},
   "outputs": [
    {
     "name": "stdout",
     "output_type": "stream",
     "text": [
      "['Benign', 'Infilteration', 'DoS attacks-Slowloris', 'SSH-Bruteforce', 'DDOS attack-HOIC', 'FTP-BruteForce', 'DoS attacks-SlowHTTPTest', 'Bot', 'DoS attacks-Hulk', 'DoS attacks-GoldenEye', 'DDoS attacks-LOIC-HTTP', 'DDOS attack-LOIC-UDP', 'Brute Force -Web', 'Brute Force -XSS', 'SQL Injection']\n"
     ]
    }
   ],
   "source": [
    "print(label_names)"
   ]
  },
  {
   "cell_type": "code",
   "execution_count": 206,
   "metadata": {},
   "outputs": [
    {
     "name": "stdout",
     "output_type": "stream",
     "text": [
      "Converting predictions torch tensor to numpy array\n",
      "Plotting confusion matrix for test data\n"
     ]
    },
    {
     "data": {
      "image/png": "[encoded data removed]",
      "text/plain": [
       "<Figure size 1080x720 with 1 Axes>"
      ]
     },
     "metadata": {
      "needs_background": "light"
     },
     "output_type": "display_data"
    }
   ],
   "source": [
    "print('Converting predictions torch tensor to numpy array')\n",
    "all_preds_np = all_predictions.cpu().data.numpy()\n",
    "all_labels_np = all_labels.cpu().data.numpy()\n",
    "\n",
    "# print the confusion matrix for this epoch and fold\n",
    "print('Plotting confusion matrix for test data')\n",
    "cnf_matrix = confusion_matrix(all_preds_np, all_labels_np, labels=[x for x in range(15)])\n",
    "plot_confusion_matrix(cnf_matrix, label_names)    "
   ]
  },
  {
   "cell_type": "code",
   "execution_count": null,
   "metadata": {},
   "outputs": [],
   "source": [
    "plt.plot(losses)\n",
    "plt.xlabel(\"Number of folds\")\n",
    "plt.ylabel(\"Loss\")\n",
    "plt.title(\"Number of folds vs Loss\")\n",
    "plt.show()\n",
    "\n",
    "# visualization accuracy \n",
    "plt.plot(accuracy_scores, color = \"red\")\n",
    "plt.xlabel(\"Number of folds\")\n",
    "plt.ylabel(\"Accuracy\")\n",
    "plt.title(\"Number of folds vs Accuracy\")\n",
    "plt.show()"
   ]
  }
 ],
 "metadata": {
  "kernelspec": {
   "display_name": "Python 3",
   "language": "python",
   "name": "python3"
  },
  "language_info": {
   "codemirror_mode": {
    "name": "ipython",
    "version": 3
   },
   "file_extension": ".py",
   "mimetype": "text/x-python",
   "name": "python",
   "nbconvert_exporter": "python",
   "pygments_lexer": "ipython3",
   "version": "3.8.5"
  }
 },
 "nbformat": 4,
 "nbformat_minor": 4
}
