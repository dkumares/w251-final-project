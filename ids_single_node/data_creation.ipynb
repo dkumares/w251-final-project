{
 "cells": [
  {
   "cell_type": "code",
   "execution_count": 1,
   "id": "surprising-leather",
   "metadata": {},
   "outputs": [],
   "source": [
    "import pandas as pd"
   ]
  },
  {
   "cell_type": "code",
   "execution_count": 2,
   "id": "desperate-edition",
   "metadata": {},
   "outputs": [],
   "source": [
    "def get_samples(x):\n",
    "    # Get samples from classes that have atleast 10K entries.\n",
    "    if(x.shape[0] > 10000):\n",
    "        # Increase num_samples to get more samples per class.\n",
    "        num_samples=20000\n",
    "        if x.shape[0] < num_samples:\n",
    "            num_samples = x.shape[0]\n",
    "        return x.sample(num_samples)"
   ]
  },
  {
   "cell_type": "markdown",
   "id": "hairy-mason",
   "metadata": {},
   "source": [
    "## CSV1"
   ]
  },
  {
   "cell_type": "code",
   "execution_count": 3,
   "id": "choice-personal",
   "metadata": {},
   "outputs": [
    {
     "data": {
      "text/plain": [
       "Benign            667626\n",
       "FTP-BruteForce    193360\n",
       "SSH-Bruteforce    187589\n",
       "Name: Label, dtype: int64"
      ]
     },
     "execution_count": 3,
     "metadata": {},
     "output_type": "execute_result"
    }
   ],
   "source": [
    "df = pd.read_csv(\"data/02-14-2018.csv\")\n",
    "df['Label'].value_counts()"
   ]
  },
  {
   "cell_type": "code",
   "execution_count": 4,
   "id": "institutional-indication",
   "metadata": {},
   "outputs": [
    {
     "data": {
      "text/plain": [
       "Benign            20000\n",
       "SSH-Bruteforce    20000\n",
       "FTP-BruteForce    20000\n",
       "Name: Label, dtype: int64"
      ]
     },
     "execution_count": 4,
     "metadata": {},
     "output_type": "execute_result"
    }
   ],
   "source": [
    "#df_1=df.groupby('Label', as_index=False, group_keys=False).apply(lambda x: x.sample(n=187589))\n",
    "df_chosen = df.groupby('Label', as_index=False, group_keys=False).apply(get_samples)\n",
    "df_chosen['Label'].value_counts()"
   ]
  },
  {
   "cell_type": "code",
   "execution_count": 5,
   "id": "signed-bibliography",
   "metadata": {},
   "outputs": [],
   "source": [
    "dataset = df_chosen"
   ]
  },
  {
   "cell_type": "markdown",
   "id": "black-obligation",
   "metadata": {},
   "source": [
    "## CSV2"
   ]
  },
  {
   "cell_type": "code",
   "execution_count": 6,
   "id": "indian-abortion",
   "metadata": {},
   "outputs": [
    {
     "data": {
      "text/plain": [
       "Benign                   996077\n",
       "DoS attacks-GoldenEye     41508\n",
       "DoS attacks-Slowloris     10990\n",
       "Name: Label, dtype: int64"
      ]
     },
     "execution_count": 6,
     "metadata": {},
     "output_type": "execute_result"
    }
   ],
   "source": [
    "df = pd.read_csv(\"data/02-15-2018.csv\")\n",
    "df['Label'].value_counts()"
   ]
  },
  {
   "cell_type": "code",
   "execution_count": 7,
   "id": "solved-remains",
   "metadata": {},
   "outputs": [
    {
     "data": {
      "text/plain": [
       "DoS attacks-GoldenEye    20000\n",
       "Benign                   20000\n",
       "DoS attacks-Slowloris    10990\n",
       "Name: Label, dtype: int64"
      ]
     },
     "execution_count": 7,
     "metadata": {},
     "output_type": "execute_result"
    }
   ],
   "source": [
    "df_chosen = df.groupby('Label', as_index=False, group_keys=False).apply(get_samples)\n",
    "df_chosen['Label'].value_counts()"
   ]
  },
  {
   "cell_type": "code",
   "execution_count": 8,
   "id": "dominant-muslim",
   "metadata": {},
   "outputs": [
    {
     "data": {
      "text/plain": [
       "(110990, 80)"
      ]
     },
     "execution_count": 8,
     "metadata": {},
     "output_type": "execute_result"
    }
   ],
   "source": [
    "dataset = dataset.append(df_chosen)\n",
    "dataset.shape"
   ]
  },
  {
   "cell_type": "markdown",
   "id": "secret-horse",
   "metadata": {},
   "source": [
    "## CSV3"
   ]
  },
  {
   "cell_type": "code",
   "execution_count": 9,
   "id": "comparable-promise",
   "metadata": {},
   "outputs": [
    {
     "name": "stderr",
     "output_type": "stream",
     "text": [
      "/usr/local/lib/python3.6/dist-packages/IPython/core/interactiveshell.py:3072: DtypeWarning: Columns (0,1,3,4,5,6,7,8,9,10,11,12,13,14,15,16,17,18,19,20,21,22,23,24,25,26,27,28,29,30,31,32,33,34,35,36,37,38,39,40,41,42,43,44,45,46,47,48,49,50,51,52,53,54,55,56,57,58,59,60,61,62,63,64,65,66,67,68,69,70,71,72,73,74,75,76,77,78) have mixed types.Specify dtype option on import or set low_memory=False.\n",
      "  interactivity=interactivity, compiler=compiler, result=result)\n"
     ]
    },
    {
     "data": {
      "text/plain": [
       "DoS attacks-Hulk            461912\n",
       "Benign                      446772\n",
       "DoS attacks-SlowHTTPTest    139890\n",
       "Label                            1\n",
       "Name: Label, dtype: int64"
      ]
     },
     "execution_count": 9,
     "metadata": {},
     "output_type": "execute_result"
    }
   ],
   "source": [
    "df = pd.read_csv(\"data/02-16-2018.csv\")\n",
    "df['Label'].value_counts()"
   ]
  },
  {
   "cell_type": "code",
   "execution_count": 10,
   "id": "former-alcohol",
   "metadata": {},
   "outputs": [
    {
     "data": {
      "text/plain": [
       "DoS attacks-Hulk            20000\n",
       "DoS attacks-SlowHTTPTest    20000\n",
       "Benign                      20000\n",
       "Name: Label, dtype: int64"
      ]
     },
     "execution_count": 10,
     "metadata": {},
     "output_type": "execute_result"
    }
   ],
   "source": [
    "df_chosen = df.groupby('Label', as_index=False, group_keys=False).apply(get_samples)\n",
    "df_chosen['Label'].value_counts()"
   ]
  },
  {
   "cell_type": "code",
   "execution_count": 11,
   "id": "heated-sampling",
   "metadata": {},
   "outputs": [
    {
     "data": {
      "text/plain": [
       "(170990, 80)"
      ]
     },
     "execution_count": 11,
     "metadata": {},
     "output_type": "execute_result"
    }
   ],
   "source": [
    "dataset = dataset.append(df_chosen)\n",
    "dataset.shape"
   ]
  },
  {
   "cell_type": "markdown",
   "id": "interracial-creator",
   "metadata": {},
   "source": [
    "## CSV4"
   ]
  },
  {
   "cell_type": "code",
   "execution_count": 12,
   "id": "understanding-magic",
   "metadata": {},
   "outputs": [],
   "source": [
    "# This csv seems to have extra columns (84 columns) . Skip this.\n",
    "# df = pd.read_csv(\"data/02-20-2018.csv\")\n",
    "# df['Label'].value_counts()"
   ]
  },
  {
   "cell_type": "code",
   "execution_count": 13,
   "id": "french-barrier",
   "metadata": {},
   "outputs": [],
   "source": [
    "# df.shape"
   ]
  },
  {
   "cell_type": "code",
   "execution_count": 14,
   "id": "retired-american",
   "metadata": {},
   "outputs": [],
   "source": [
    "# df_chosen = df.groupby('Label', as_index=False, group_keys=False).apply(get_samples)\n",
    "# df_chosen['Label'].value_counts()"
   ]
  },
  {
   "cell_type": "code",
   "execution_count": 15,
   "id": "robust-message",
   "metadata": {},
   "outputs": [],
   "source": [
    "# dataset = dataset.append(df_chosen)\n",
    "# dataset.shape"
   ]
  },
  {
   "cell_type": "markdown",
   "id": "headed-latest",
   "metadata": {},
   "source": [
    "## CSV5"
   ]
  },
  {
   "cell_type": "code",
   "execution_count": 16,
   "id": "relevant-florist",
   "metadata": {},
   "outputs": [
    {
     "data": {
      "text/plain": [
       "DDOS attack-HOIC        686012\n",
       "Benign                  360833\n",
       "DDOS attack-LOIC-UDP      1730\n",
       "Name: Label, dtype: int64"
      ]
     },
     "execution_count": 16,
     "metadata": {},
     "output_type": "execute_result"
    }
   ],
   "source": [
    "df = pd.read_csv(\"data/02-21-2018.csv\")\n",
    "df['Label'].value_counts()"
   ]
  },
  {
   "cell_type": "code",
   "execution_count": 17,
   "id": "published-anaheim",
   "metadata": {},
   "outputs": [
    {
     "data": {
      "text/plain": [
       "DDOS attack-HOIC    20000\n",
       "Benign              20000\n",
       "Name: Label, dtype: int64"
      ]
     },
     "execution_count": 17,
     "metadata": {},
     "output_type": "execute_result"
    }
   ],
   "source": [
    "df_chosen = df.groupby('Label', as_index=False, group_keys=False).apply(get_samples)\n",
    "df_chosen['Label'].value_counts()"
   ]
  },
  {
   "cell_type": "code",
   "execution_count": 18,
   "id": "virgin-locking",
   "metadata": {},
   "outputs": [
    {
     "data": {
      "text/plain": [
       "(210990, 80)"
      ]
     },
     "execution_count": 18,
     "metadata": {},
     "output_type": "execute_result"
    }
   ],
   "source": [
    "dataset = dataset.append(df_chosen)\n",
    "dataset.shape"
   ]
  },
  {
   "cell_type": "markdown",
   "id": "popular-summit",
   "metadata": {},
   "source": [
    "## CSV6"
   ]
  },
  {
   "cell_type": "code",
   "execution_count": 19,
   "id": "humanitarian-singing",
   "metadata": {},
   "outputs": [
    {
     "data": {
      "text/plain": [
       "Benign              1048213\n",
       "Brute Force -Web        249\n",
       "Brute Force -XSS         79\n",
       "SQL Injection            34\n",
       "Name: Label, dtype: int64"
      ]
     },
     "execution_count": 19,
     "metadata": {},
     "output_type": "execute_result"
    }
   ],
   "source": [
    "df = pd.read_csv(\"data/02-22-2018.csv\")\n",
    "df['Label'].value_counts()"
   ]
  },
  {
   "cell_type": "code",
   "execution_count": 20,
   "id": "cellular-arkansas",
   "metadata": {},
   "outputs": [
    {
     "data": {
      "text/plain": [
       "Benign    20000\n",
       "Name: Label, dtype: int64"
      ]
     },
     "execution_count": 20,
     "metadata": {},
     "output_type": "execute_result"
    }
   ],
   "source": [
    "df_chosen = df.groupby('Label', as_index=False, group_keys=False).apply(get_samples)\n",
    "df_chosen['Label'].value_counts()"
   ]
  },
  {
   "cell_type": "code",
   "execution_count": 21,
   "id": "velvet-excellence",
   "metadata": {},
   "outputs": [
    {
     "data": {
      "text/plain": [
       "(230990, 80)"
      ]
     },
     "execution_count": 21,
     "metadata": {},
     "output_type": "execute_result"
    }
   ],
   "source": [
    "dataset = dataset.append(df_chosen)\n",
    "dataset.shape"
   ]
  },
  {
   "cell_type": "markdown",
   "id": "responsible-shaft",
   "metadata": {},
   "source": [
    "## CSV7"
   ]
  },
  {
   "cell_type": "code",
   "execution_count": 22,
   "id": "forty-oxygen",
   "metadata": {},
   "outputs": [],
   "source": [
    "# This dataset has only Benign, the other classes are very few. so skip this csv\n",
    "# df = pd.read_csv(\"data/02-23-2018.csv\")\n",
    "# df['Label'].value_counts()"
   ]
  },
  {
   "cell_type": "code",
   "execution_count": 23,
   "id": "contemporary-bottom",
   "metadata": {},
   "outputs": [],
   "source": [
    "# df_chosen = df.groupby('Label', as_index=False, group_keys=False).apply(get_samples)\n",
    "# df_chosen['Label'].value_counts()"
   ]
  },
  {
   "cell_type": "code",
   "execution_count": 24,
   "id": "hundred-score",
   "metadata": {},
   "outputs": [],
   "source": [
    "# dataset = dataset.append(df_chosen)\n",
    "# dataset.shape"
   ]
  },
  {
   "cell_type": "code",
   "execution_count": null,
   "id": "noted-grain",
   "metadata": {},
   "outputs": [],
   "source": []
  },
  {
   "cell_type": "markdown",
   "id": "requested-colon",
   "metadata": {},
   "source": [
    "## CSV8"
   ]
  },
  {
   "cell_type": "code",
   "execution_count": 25,
   "id": "basic-classics",
   "metadata": {},
   "outputs": [
    {
     "data": {
      "text/plain": [
       "Benign           544200\n",
       "Infilteration     68871\n",
       "Label                33\n",
       "Name: Label, dtype: int64"
      ]
     },
     "execution_count": 25,
     "metadata": {},
     "output_type": "execute_result"
    }
   ],
   "source": [
    "df = pd.read_csv(\"data/02-28-2018.csv\")\n",
    "df['Label'].value_counts()"
   ]
  },
  {
   "cell_type": "code",
   "execution_count": 26,
   "id": "roman-liberal",
   "metadata": {},
   "outputs": [
    {
     "data": {
      "text/plain": [
       "(613104, 80)"
      ]
     },
     "execution_count": 26,
     "metadata": {},
     "output_type": "execute_result"
    }
   ],
   "source": [
    "df.shape"
   ]
  },
  {
   "cell_type": "code",
   "execution_count": 27,
   "id": "checked-butler",
   "metadata": {},
   "outputs": [
    {
     "data": {
      "text/plain": [
       "Infilteration    20000\n",
       "Benign           20000\n",
       "Name: Label, dtype: int64"
      ]
     },
     "execution_count": 27,
     "metadata": {},
     "output_type": "execute_result"
    }
   ],
   "source": [
    "df_chosen = df.groupby('Label', as_index=False, group_keys=False).apply(get_samples)\n",
    "df_chosen['Label'].value_counts()"
   ]
  },
  {
   "cell_type": "code",
   "execution_count": 28,
   "id": "valuable-franklin",
   "metadata": {},
   "outputs": [
    {
     "data": {
      "text/plain": [
       "(270990, 80)"
      ]
     },
     "execution_count": 28,
     "metadata": {},
     "output_type": "execute_result"
    }
   ],
   "source": [
    "dataset = dataset.append(df_chosen)\n",
    "dataset.shape"
   ]
  },
  {
   "cell_type": "markdown",
   "id": "complicated-disabled",
   "metadata": {},
   "source": [
    "## CSV9"
   ]
  },
  {
   "cell_type": "code",
   "execution_count": 29,
   "id": "abroad-olive",
   "metadata": {},
   "outputs": [
    {
     "data": {
      "text/plain": [
       "Benign           238037\n",
       "Infilteration     93063\n",
       "Label                25\n",
       "Name: Label, dtype: int64"
      ]
     },
     "execution_count": 29,
     "metadata": {},
     "output_type": "execute_result"
    }
   ],
   "source": [
    "df = pd.read_csv(\"data/03-01-2018.csv\")\n",
    "df['Label'].value_counts()"
   ]
  },
  {
   "cell_type": "code",
   "execution_count": 30,
   "id": "moderate-kinase",
   "metadata": {},
   "outputs": [
    {
     "data": {
      "text/plain": [
       "Infilteration    20000\n",
       "Benign           20000\n",
       "Name: Label, dtype: int64"
      ]
     },
     "execution_count": 30,
     "metadata": {},
     "output_type": "execute_result"
    }
   ],
   "source": [
    "df_chosen = df.groupby('Label', as_index=False, group_keys=False).apply(get_samples)\n",
    "df_chosen['Label'].value_counts()"
   ]
  },
  {
   "cell_type": "code",
   "execution_count": 31,
   "id": "damaged-shirt",
   "metadata": {},
   "outputs": [
    {
     "data": {
      "text/plain": [
       "(310990, 80)"
      ]
     },
     "execution_count": 31,
     "metadata": {},
     "output_type": "execute_result"
    }
   ],
   "source": [
    "dataset = dataset.append(df_chosen)\n",
    "dataset.shape"
   ]
  },
  {
   "cell_type": "markdown",
   "id": "intensive-chicago",
   "metadata": {},
   "source": [
    "## CSV10"
   ]
  },
  {
   "cell_type": "code",
   "execution_count": 32,
   "id": "resistant-exhaust",
   "metadata": {},
   "outputs": [
    {
     "data": {
      "text/plain": [
       "Benign    762384\n",
       "Bot       286191\n",
       "Name: Label, dtype: int64"
      ]
     },
     "execution_count": 32,
     "metadata": {},
     "output_type": "execute_result"
    }
   ],
   "source": [
    "df = pd.read_csv(\"data/03-02-2018.csv\")\n",
    "df['Label'].value_counts()"
   ]
  },
  {
   "cell_type": "code",
   "execution_count": 33,
   "id": "invalid-notion",
   "metadata": {},
   "outputs": [
    {
     "data": {
      "text/plain": [
       "Bot       20000\n",
       "Benign    20000\n",
       "Name: Label, dtype: int64"
      ]
     },
     "execution_count": 33,
     "metadata": {},
     "output_type": "execute_result"
    }
   ],
   "source": [
    "df_chosen = df.groupby('Label', as_index=False, group_keys=False).apply(get_samples)\n",
    "df_chosen['Label'].value_counts()"
   ]
  },
  {
   "cell_type": "code",
   "execution_count": 34,
   "id": "metric-halifax",
   "metadata": {},
   "outputs": [
    {
     "data": {
      "text/plain": [
       "(350990, 80)"
      ]
     },
     "execution_count": 34,
     "metadata": {},
     "output_type": "execute_result"
    }
   ],
   "source": [
    "dataset = dataset.append(df_chosen)\n",
    "dataset.shape"
   ]
  },
  {
   "cell_type": "markdown",
   "id": "detailed-democrat",
   "metadata": {},
   "source": [
    "## Write to csv file"
   ]
  },
  {
   "cell_type": "code",
   "execution_count": 6,
   "id": "local-berkeley",
   "metadata": {},
   "outputs": [],
   "source": [
    "dataset.to_csv('data/ids_small.csv', index=False)"
   ]
  },
  {
   "cell_type": "code",
   "execution_count": null,
   "id": "constitutional-rainbow",
   "metadata": {},
   "outputs": [],
   "source": []
  }
 ],
 "metadata": {
  "kernelspec": {
   "display_name": "Python 3",
   "language": "python",
   "name": "python3"
  },
  "language_info": {
   "codemirror_mode": {
    "name": "ipython",
    "version": 3
   },
   "file_extension": ".py",
   "mimetype": "text/x-python",
   "name": "python",
   "nbconvert_exporter": "python",
   "pygments_lexer": "ipython3",
   "version": "3.6.9"
  }
 },
 "nbformat": 4,
 "nbformat_minor": 5
}
