{
 "cells": [
  {
   "cell_type": "code",
   "execution_count": 1,
   "id": "37960378",
   "metadata": {
    "ExecuteTime": {
     "end_time": "2021-04-04T03:01:10.018960Z",
     "start_time": "2021-04-04T03:01:10.009457Z"
    }
   },
   "outputs": [],
   "source": [
    "####################################################################################\n",
    "# Notebook to be used for training and testing an MLP model using FASTAI/Pytorch   # \n",
    "####################################################################################"
   ]
  },
  {
   "cell_type": "code",
   "execution_count": 2,
   "id": "c8e3b543",
   "metadata": {
    "ExecuteTime": {
     "end_time": "2021-04-04T03:01:10.034993Z",
     "start_time": "2021-04-04T03:01:10.027740Z"
    },
    "scrolled": false
   },
   "outputs": [],
   "source": [
    "# Need to add the FASTAI install to Dockerfile \n",
    "# ! pip3 install fastai==1.0.61"
   ]
  },
  {
   "cell_type": "code",
   "execution_count": 3,
   "id": "1b4f3d10",
   "metadata": {
    "ExecuteTime": {
     "end_time": "2021-04-04T03:01:15.311811Z",
     "start_time": "2021-04-04T03:01:10.043899Z"
    }
   },
   "outputs": [
    {
     "ename": "ModuleNotFoundError",
     "evalue": "No module named 'fastai'",
     "output_type": "error",
     "traceback": [
      "\u001b[0;31m---------------------------------------------------------------------------\u001b[0m",
      "\u001b[0;31mModuleNotFoundError\u001b[0m                       Traceback (most recent call last)",
      "\u001b[0;32m<ipython-input-3-6609a442f47d>\u001b[0m in \u001b[0;36m<module>\u001b[0;34m\u001b[0m\n\u001b[1;32m      1\u001b[0m \u001b[0;31m# Import libraries\u001b[0m\u001b[0;34m\u001b[0m\u001b[0;34m\u001b[0m\u001b[0;34m\u001b[0m\u001b[0m\n\u001b[0;32m----> 2\u001b[0;31m \u001b[0;32mfrom\u001b[0m \u001b[0mfastai\u001b[0m\u001b[0;34m.\u001b[0m\u001b[0mtabular\u001b[0m \u001b[0;32mimport\u001b[0m \u001b[0;34m*\u001b[0m\u001b[0;34m\u001b[0m\u001b[0;34m\u001b[0m\u001b[0m\n\u001b[0m\u001b[1;32m      3\u001b[0m \u001b[0;32mimport\u001b[0m \u001b[0mpandas\u001b[0m \u001b[0;32mas\u001b[0m \u001b[0mpd\u001b[0m\u001b[0;34m\u001b[0m\u001b[0;34m\u001b[0m\u001b[0m\n\u001b[1;32m      4\u001b[0m \u001b[0;32mimport\u001b[0m \u001b[0mnumpy\u001b[0m \u001b[0;32mas\u001b[0m \u001b[0mnp\u001b[0m\u001b[0;34m\u001b[0m\u001b[0;34m\u001b[0m\u001b[0m\n\u001b[1;32m      5\u001b[0m \u001b[0;32mfrom\u001b[0m \u001b[0msklearn\u001b[0m\u001b[0;34m.\u001b[0m\u001b[0mmodel_selection\u001b[0m \u001b[0;32mimport\u001b[0m \u001b[0mStratifiedKFold\u001b[0m\u001b[0;34m\u001b[0m\u001b[0;34m\u001b[0m\u001b[0m\n",
      "\u001b[0;31mModuleNotFoundError\u001b[0m: No module named 'fastai'"
     ]
    }
   ],
   "source": [
    "# Import libraries\n",
    "from fastai.tabular import *\n",
    "import pandas as pd\n",
    "import numpy as np\n",
    "from sklearn.model_selection import StratifiedKFold\n",
    "from sklearn.model_selection import train_test_split, StratifiedShuffleSplit\n",
    "import os\n",
    "import sys\n",
    "import glob\n",
    "from sklearn.utils import shuffle"
   ]
  },
  {
   "cell_type": "code",
   "execution_count": null,
   "id": "5a3a4db2",
   "metadata": {
    "ExecuteTime": {
     "end_time": "2021-04-04T03:01:15.348599Z",
     "start_time": "2021-04-04T03:01:15.318728Z"
    }
   },
   "outputs": [],
   "source": [
    "dep_var = 'label'\n",
    "cat_names = ['dst_port', 'protocol']\n",
    "\n",
    "cont_names = ['timestamp', 'flow_duration', 'tot_fwd_pkts', \n",
    "              'tot_bwd_pkts', 'totlen_fwd_pkts', 'totlen_bwd_pkts', 'fwd_pkt_len_max', \n",
    "              'fwd_pkt_len_min', 'fwd_pkt_len_mean', 'fwd_pkt_len_std', \n",
    "              'bwd_pkt_len_max', 'bwd_pkt_len_min', 'bwd_pkt_len_mean', \n",
    "              'bwd_pkt_len_std', 'flow_byts_s', 'flow_pkts_s', 'flow_iat_mean', \n",
    "              'flow_iat_std', 'flow_iat_max', 'flow_iat_min', 'fwd_iat_tot', \n",
    "              'fwd_iat_mean', 'fwd_iat_std', 'fwd_iat_max', 'fwd_iat_min', \n",
    "              'bwd_iat_tot', 'bwd_iat_mean', 'bwd_iat_std', 'bwd_iat_max',\n",
    "              'bwd_iat_min', 'fwd_psh_flags', 'bwd_psh_flags', 'fwd_urg_flags', \n",
    "              'bwd_urg_flags', 'fwd_header_len', 'bwd_header_len', 'fwd_pkts_s',\n",
    "              'bwd_pkts_s', 'pkt_len_min', 'pkt_len_max', 'pkt_len_mean', \n",
    "              'pkt_len_std', 'pkt_len_var', 'fin_flag_cnt', 'syn_flag_cnt',\n",
    "              'rst_flag_cnt', 'psh_flag_cnt', 'ack_flag_cnt', 'urg_flag_cnt',\n",
    "              'cwe_flag_count', 'ece_flag_cnt', 'down_up_ratio', 'pkt_size_avg',\n",
    "              'fwd_seg_size_avg', 'bwd_seg_size_avg', 'fwd_byts_b_avg',\n",
    "              'fwd_pkts_b_avg', 'fwd_blk_rate_avg', 'bwd_byts_b_avg', \n",
    "              'bwd_pkts_b_avg', 'bwd_blk_rate_avg', 'subflow_fwd_pkts', \n",
    "              'subflow_fwd_byts', 'subflow_bwd_pkts', 'subflow_bwd_byts', \n",
    "              'init_fwd_win_byts', 'init_bwd_win_byts', 'fwd_act_data_pkts',\n",
    "              'fwd_seg_size_min', 'active_mean', 'active_std', 'active_max',\n",
    "              'active_min', 'idle_mean', 'idle_std', 'idle_max', 'idle_min']"
   ]
  },
  {
   "cell_type": "code",
   "execution_count": null,
   "id": "be56abe6",
   "metadata": {
    "ExecuteTime": {
     "end_time": "2021-04-04T03:01:15.368477Z",
     "start_time": "2021-04-04T03:01:15.356180Z"
    }
   },
   "outputs": [],
   "source": [
    "rawdata_path = './data'\n",
    "processed_path = os.path.join(rawdata_path, 'processed')\n",
    "results_path = './results'"
   ]
  },
  {
   "cell_type": "code",
   "execution_count": null,
   "id": "309a50c9",
   "metadata": {
    "ExecuteTime": {
     "end_time": "2021-04-04T03:01:15.393956Z",
     "start_time": "2021-04-04T03:01:15.375480Z"
    }
   },
   "outputs": [],
   "source": [
    "def loadDataFile(fileName):\n",
    "    global processed_path\n",
    "    dataFile = os.path.join(processed_path, fileName)\n",
    "    pickleDump = '{}.pickle'.format(dataFile)\n",
    "    if os.path.exists(pickleDump):\n",
    "        df = pd.read_pickle(pickleDump)\n",
    "    else:\n",
    "        df = pd.read_csv(dataFile)\n",
    "        df = df.dropna()\n",
    "        df = shuffle(df)\n",
    "        df.to_pickle(pickleDump)\n",
    "    return df"
   ]
  },
  {
   "cell_type": "code",
   "execution_count": null,
   "id": "3cd31143",
   "metadata": {
    "ExecuteTime": {
     "end_time": "2021-04-04T03:01:15.448281Z",
     "start_time": "2021-04-04T03:01:15.401236Z"
    }
   },
   "outputs": [],
   "source": [
    "def modelIndividual(dataFile, epochs=5, normalize=False):\n",
    "    global processed_path\n",
    "    global results_path\n",
    "    \n",
    "    # Create folder for processed files if none exists\n",
    "    if not os.path.exists(results_path):\n",
    "        os.mkdir(results_path)    \n",
    "    \n",
    "    # procs = [FillMissing, Categorify, Normalize]\n",
    "    procs = [FillMissing, Categorify]\n",
    "    if normalize:\n",
    "        procs.append(Normalize)\n",
    "\n",
    "    seed = 7\n",
    "    np.random.seed(seed)\n",
    "    # load data\n",
    "    data = loadDataFile(dataFile)\n",
    "    # define 10-fold cross validation test harness\n",
    "    kfold = StratifiedKFold(n_splits=5, shuffle=True, random_state=seed)\n",
    "    cvscores = []\n",
    "    fold = 1\n",
    "    for train_idx, test_idx in kfold.split(data.index, data[dep_var]):\n",
    "        print('running fold = ', fold)\n",
    "        fold += 1\n",
    "        # create model\n",
    "        data_fold = (TabularList.from_df(data, path=processed_path, cat_names=cat_names, cont_names=cont_names, procs=procs)\n",
    "                     .split_by_idxs(train_idx, test_idx)\n",
    "                     .label_from_df(cols=dep_var)\n",
    "                     .databunch())\n",
    "        # create model and learn\n",
    "        model = tabular_learner(\n",
    "            data_fold, layers=[200, 100], metrics=accuracy, callback_fns=ShowGraph)\n",
    "        model.fit(epochs, 1e-2)\n",
    "        model.save('{}.model'.format(os.path.basename(dataFile)))\n",
    "        # train the model, iterating on the data in batches of batch_size\n",
    "        # evaluate the model\n",
    "        loss, acc = model.validate()\n",
    "        print('loss {}: accuracy: {:.2f}%'.format(loss, acc*100))\n",
    "        cvscores.append(acc*100)\n",
    "        resultFile = os.path.join(results_path, dataFile)\n",
    "        with open('{}.result'.format(resultFile), 'a') as fout:\n",
    "            fout.write(\n",
    "                'accuracy: {:.2f} std-dev: {:.2f}\\n'.format(np.mean(cvscores), np.std(cvscores)))"
   ]
  },
  {
   "cell_type": "code",
   "execution_count": null,
   "id": "d23fd254",
   "metadata": {
    "ExecuteTime": {
     "end_time": "2021-04-04T03:30:43.874823Z",
     "start_time": "2021-04-04T03:01:15.458615Z"
    },
    "scrolled": false
   },
   "outputs": [],
   "source": [
    " modelIndividual('IDS-2018-multiclass.csv')"
   ]
  },
  {
   "cell_type": "code",
   "execution_count": null,
   "id": "59453bf2",
   "metadata": {
    "ExecuteTime": {
     "end_time": "2021-04-04T06:10:54.132792Z",
     "start_time": "2021-04-04T06:09:50.585366Z"
    }
   },
   "outputs": [],
   "source": [
    " modelIndividual('IDS-2018-binaryclass.csv')"
   ]
  },
  {
   "cell_type": "code",
   "execution_count": null,
   "id": "28d1c347",
   "metadata": {},
   "outputs": [],
   "source": []
  }
 ],
 "metadata": {
  "kernelspec": {
   "display_name": "Python 3",
   "language": "python",
   "name": "python3"
  },
  "language_info": {
   "codemirror_mode": {
    "name": "ipython",
    "version": 3
   },
   "file_extension": ".py",
   "mimetype": "text/x-python",
   "name": "python",
   "nbconvert_exporter": "python",
   "pygments_lexer": "ipython3",
   "version": "3.6.9"
  }
 },
 "nbformat": 4,
 "nbformat_minor": 5
}
