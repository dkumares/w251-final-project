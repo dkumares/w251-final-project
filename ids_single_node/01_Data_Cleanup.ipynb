{
 "cells": [
  {
   "cell_type": "markdown",
   "id": "5fd0f3d3",
   "metadata": {},
   "source": [
    "## DATA CLEANUP"
   ]
  },
  {
   "cell_type": "code",
   "execution_count": 1,
   "id": "28374b4b",
   "metadata": {
    "ExecuteTime": {
     "end_time": "2021-04-04T14:44:29.536101Z",
     "start_time": "2021-04-04T14:44:29.526135Z"
    }
   },
   "outputs": [],
   "source": [
    "####################################################################################\n",
    "# Notebook to be used for cleaning up the raw data files,  special values, etc.    # \n",
    "####################################################################################"
   ]
  },
  {
   "cell_type": "code",
   "execution_count": 2,
   "id": "2e6f7ab2",
   "metadata": {
    "ExecuteTime": {
     "end_time": "2021-04-04T14:44:29.555208Z",
     "start_time": "2021-04-04T14:44:29.543759Z"
    }
   },
   "outputs": [],
   "source": [
    "# Import libraries\n",
    "import numpy as np\n",
    "import pandas as pd\n",
    "import os\n",
    "import re\n",
    "import datetime\n",
    "from dateutil import parser"
   ]
  },
  {
   "cell_type": "code",
   "execution_count": 3,
   "id": "903e748e",
   "metadata": {
    "ExecuteTime": {
     "end_time": "2021-04-04T14:44:29.577949Z",
     "start_time": "2021-04-04T14:44:29.562816Z"
    }
   },
   "outputs": [],
   "source": [
    "# Create a set of the raw data and processed files name\n",
    "# CONFIG NEEDED: Uncomment only the specific files to be processed on your node\n",
    "\n",
    "csv_files = {\n",
    " '02-14-2018.csv': '02-14-2018-bruteforce-ftp-ssh.csv',\n",
    " '02-15-2018.csv': '02-15-2018-dos-goldeneye-slowloris.csv',\n",
    " '02-16-2018.csv': '02-16-2018-dos-slowhttp-hulk.csv',\n",
    " '02-21-2018.csv': '02-21-2018-ddos-loic-udp.csv',\n",
    " '02-22-2018.csv': '02-22-2018-bruteforce-webxss.csv',\n",
    " '02-23-2018.csv': '02-23-2018-bruteforce-webxss-sql.csv',\n",
    " '02-28-2018.csv': '02-28-2018-infiltration.csv',\n",
    " '03-01-2018.csv': '03-01-2018-botnet.csv',\n",
    " '03-02-2018.csv': '03-02-2018-infiltration.csv',\n",
    " '02-20-2018.csv': '02-20-2018-ddos-loic-tcp.csv'   # WARNING: 4GB FILE.\n",
    "}"
   ]
  },
  {
   "cell_type": "code",
   "execution_count": 4,
   "id": "1e6908d8",
   "metadata": {
    "ExecuteTime": {
     "end_time": "2021-04-04T14:44:29.598740Z",
     "start_time": "2021-04-04T14:44:29.585206Z"
    }
   },
   "outputs": [],
   "source": [
    "# Set the folder name for raw data and processed files under the project directory\n",
    "# CONFIG NEEDED: Change the './data' and 'processed' to what you named your directories\n",
    "# Raw Data Files Location: final_project/data\n",
    "# Processed Data Files Location: final_project/data/processed\n",
    "\n",
    "rawdata_path = './data'\n",
    "processed_path = os.path.join(rawdata_path, 'processed')"
   ]
  },
  {
   "cell_type": "code",
   "execution_count": 5,
   "id": "192e80a3",
   "metadata": {
    "ExecuteTime": {
     "end_time": "2021-04-04T14:44:29.621159Z",
     "start_time": "2021-04-04T14:44:29.608175Z"
    }
   },
   "outputs": [],
   "source": [
    "# Remove duplicate headers\n",
    "def remove_headers(f):    \n",
    "    return f[~f['Dst Port'].str.contains('Dst Port', na=False)]"
   ]
  },
  {
   "cell_type": "code",
   "execution_count": 6,
   "id": "df8171fb",
   "metadata": {
    "ExecuteTime": {
     "end_time": "2021-04-04T14:44:29.639318Z",
     "start_time": "2021-04-04T14:44:29.627477Z"
    }
   },
   "outputs": [],
   "source": [
    "# Replace 'Infinity' values with 'inf'\n",
    "def replace_infinity(f):\n",
    "    return f.replace('Infinity', 'inf', inplace=True)"
   ]
  },
  {
   "cell_type": "code",
   "execution_count": 7,
   "id": "80c78ce1",
   "metadata": {
    "ExecuteTime": {
     "end_time": "2021-04-04T14:44:29.664955Z",
     "start_time": "2021-04-04T14:44:29.650187Z"
    }
   },
   "outputs": [],
   "source": [
    "# Drop rows that have 'Infinity', 'infinity', or 'inf' as value\n",
    "def drop_infinity(f):\n",
    "    return f[~f['flow_byts_s'].str.contains('Infinity|inf', na=False)]"
   ]
  },
  {
   "cell_type": "code",
   "execution_count": 8,
   "id": "02428c7e",
   "metadata": {
    "ExecuteTime": {
     "end_time": "2021-04-04T14:44:29.690681Z",
     "start_time": "2021-04-04T14:44:29.677189Z"
    }
   },
   "outputs": [],
   "source": [
    "# Drop rows that have 'NaN' as label value\n",
    "def drop_nan(f):\n",
    "    return f[~f['label'].str.contains('NaN', na=False)]"
   ]
  },
  {
   "cell_type": "code",
   "execution_count": 9,
   "id": "7864a472",
   "metadata": {
    "ExecuteTime": {
     "end_time": "2021-04-04T14:44:29.713422Z",
     "start_time": "2021-04-04T14:44:29.698456Z"
    }
   },
   "outputs": [],
   "source": [
    "column_name_regex = re.compile(r\"\\W\", re.IGNORECASE)\n",
    "\n",
    "# Clean (spaces, special characters, etc.) column headers and lower case \n",
    "def remove_non_word_chars_from_column_names(f):\n",
    "    return [column_name_regex.sub('_', c.lower()) for c in df.columns]"
   ]
  },
  {
   "cell_type": "code",
   "execution_count": 10,
   "id": "c9ee09c0",
   "metadata": {
    "ExecuteTime": {
     "end_time": "2021-04-04T14:44:29.736434Z",
     "start_time": "2021-04-04T14:44:29.720269Z"
    }
   },
   "outputs": [],
   "source": [
    "# Change datetime string to epochs from the date 01/01/1970\n",
    "def change_datetime_epochs(f):\n",
    "    # Note: The date time conversion in Pandas is extremely slow.....\n",
    "    #for index, rows in f.iterrows():\n",
    "    #    dt = parser.parse(rows[\"timestamp\"])\n",
    "    #    epochs = (dt - datetime.datetime(1970, 1, 1)).total_seconds()\n",
    "    #    rows[\"timestamp\"] = str(epochs)\n",
    "\n",
    "    f['timestamp'] = pd.to_datetime(f['timestamp'])\n",
    "    f['timestamp'] = f['timestamp'].astype('int64')//1e9\n",
    "    return f"
   ]
  },
  {
   "cell_type": "code",
   "execution_count": 11,
   "id": "b87b02d7",
   "metadata": {
    "ExecuteTime": {
     "end_time": "2021-04-04T14:45:15.215724Z",
     "start_time": "2021-04-04T14:44:29.744044Z"
    }
   },
   "outputs": [
    {
     "name": "stdout",
     "output_type": "stream",
     "text": [
      "reading: ./data/02-14-2018.csv\n",
      "processing: ./data/02-14-2018.csv\n",
      "writing: ./data/processed/02-14-2018-bruteforce-ftp-ssh.csv\n",
      "reading: ./data/02-15-2018.csv\n",
      "processing: ./data/02-15-2018.csv\n",
      "writing: ./data/processed/02-15-2018-dos-goldeneye-slowloris.csv\n",
      "reading: ./data/02-16-2018.csv\n",
      "processing: ./data/02-16-2018.csv\n",
      "writing: ./data/processed/02-16-2018-dos-slowhttp-hulk.csv\n",
      "reading: ./data/02-21-2018.csv\n",
      "processing: ./data/02-21-2018.csv\n",
      "writing: ./data/processed/02-21-2018-ddos-loic-udp.csv\n",
      "reading: ./data/02-22-2018.csv\n",
      "processing: ./data/02-22-2018.csv\n",
      "writing: ./data/processed/02-22-2018-bruteforce-webxss.csv\n",
      "reading: ./data/02-23-2018.csv\n",
      "processing: ./data/02-23-2018.csv\n",
      "writing: ./data/processed/02-23-2018-bruteforce-webxss-sql.csv\n",
      "reading: ./data/02-28-2018.csv\n",
      "processing: ./data/02-28-2018.csv\n",
      "writing: ./data/processed/02-28-2018-infiltration.csv\n",
      "reading: ./data/03-01-2018.csv\n",
      "processing: ./data/03-01-2018.csv\n",
      "writing: ./data/processed/03-01-2018-botnet.csv\n",
      "reading: ./data/03-02-2018.csv\n",
      "processing: ./data/03-02-2018.csv\n",
      "writing: ./data/processed/03-02-2018-infiltration.csv\n",
      "reading: ./data/02-20-2018.csv\n",
      "processing: ./data/02-20-2018.csv\n",
      "writing: ./data/processed/02-20-2018-ddos-loic-tcp.csv\n"
     ]
    }
   ],
   "source": [
    "# Create folder for processed files if none exists\n",
    "if not os.path.exists(processed_path):\n",
    "    os.mkdir(processed_path)    \n",
    "\n",
    "# Process the list of files specified\n",
    "for f, out in csv_files.items():\n",
    "    file_path = os.path.join(rawdata_path, f)\n",
    "    output_path = os.path.join(processed_path, out)\n",
    "\n",
    "    print('reading:', file_path)\n",
    "    # One of the data files has four extra columns which need to be dropped. Checks each file for extra columns.\n",
    "    df = pd.read_csv(file_path, dtype=str).drop(columns=['Flow ID', 'Src IP', 'Dst IP', 'Src Port'], errors='ignore')\n",
    "\n",
    "    # Clean up the data files\n",
    "    print('processing:', file_path)\n",
    "    df = remove_headers(df)\n",
    "    df.columns = remove_non_word_chars_from_column_names(df)\n",
    "    df = drop_infinity(df)\n",
    "    df = drop_nan(df)\n",
    "    df = change_datetime_epochs(df)\n",
    "\n",
    "    # Write it as a cleaned file in the processed directory\n",
    "    print('writing:', output_path)\n",
    "    df.to_csv(output_path, index=False)"
   ]
  },
  {
   "cell_type": "code",
   "execution_count": 12,
   "id": "e6334467",
   "metadata": {
    "ExecuteTime": {
     "end_time": "2021-04-04T14:45:15.232964Z",
     "start_time": "2021-04-04T14:44:29.357Z"
    }
   },
   "outputs": [],
   "source": [
    "############################################################################################\n",
    "# Cells below this are only needed if you want to test if the files were created correctly #\n",
    "# Comment/Uncomment as needed\n",
    "############################################################################################"
   ]
  },
  {
   "cell_type": "code",
   "execution_count": 13,
   "id": "902fee8b",
   "metadata": {
    "ExecuteTime": {
     "end_time": "2021-04-04T14:45:15.238874Z",
     "start_time": "2021-04-04T14:44:29.360Z"
    }
   },
   "outputs": [
    {
     "name": "stdout",
     "output_type": "stream",
     "text": [
      "['03-01-2018-botnet.csv', '03-02-2018-infiltration.csv', '02-28-2018-infiltration.csv', '02-22-2018-bruteforce-webxss.csv', '02-16-2018-dos-slowhttp-hulk.csv', '02-14-2018-bruteforce-ftp-ssh.csv', '02-15-2018-dos-goldeneye-slowloris.csv', 'models', '02-21-2018-ddos-loic-udp.csv', '.ipynb_checkpoints', '02-23-2018-bruteforce-webxss-sql.csv', '02-20-2018-ddos-loic-tcp.csv']\n"
     ]
    }
   ],
   "source": [
    "print(os.listdir(processed_path))  # Print list of files in the processed directory"
   ]
  },
  {
   "cell_type": "code",
   "execution_count": 14,
   "id": "b1da94f5",
   "metadata": {
    "ExecuteTime": {
     "end_time": "2021-04-04T14:45:15.244199Z",
     "start_time": "2021-04-04T14:44:29.363Z"
    }
   },
   "outputs": [
    {
     "data": {
      "text/plain": [
       "Benign    760892\n",
       "Bot       286191\n",
       "Name: label, dtype: int64"
      ]
     },
     "execution_count": 14,
     "metadata": {},
     "output_type": "execute_result"
    }
   ],
   "source": [
    "# Read a sample file and check label counts\n",
    "# CONFIG NEEDED: Change file name to the file you want to check\n",
    "df = pd.read_csv(\"./data/processed/03-02-2018-infiltration.csv\")\n",
    "df['label'].value_counts()"
   ]
  },
  {
   "cell_type": "code",
   "execution_count": 15,
   "id": "024635ee",
   "metadata": {
    "ExecuteTime": {
     "end_time": "2021-04-04T14:45:15.249877Z",
     "start_time": "2021-04-04T14:44:29.370Z"
    }
   },
   "outputs": [
    {
     "name": "stdout",
     "output_type": "stream",
     "text": [
      "<class 'pandas.core.frame.DataFrame'>\n",
      "RangeIndex: 1047083 entries, 0 to 1047082\n",
      "Data columns (total 80 columns):\n",
      " #   Column             Non-Null Count    Dtype  \n",
      "---  ------             --------------    -----  \n",
      " 0   dst_port           1047083 non-null  int64  \n",
      " 1   protocol           1047083 non-null  int64  \n",
      " 2   timestamp          1047083 non-null  float64\n",
      " 3   flow_duration      1047083 non-null  int64  \n",
      " 4   tot_fwd_pkts       1047083 non-null  int64  \n",
      " 5   tot_bwd_pkts       1047083 non-null  int64  \n",
      " 6   totlen_fwd_pkts    1047083 non-null  int64  \n",
      " 7   totlen_bwd_pkts    1047083 non-null  float64\n",
      " 8   fwd_pkt_len_max    1047083 non-null  int64  \n",
      " 9   fwd_pkt_len_min    1047083 non-null  int64  \n",
      " 10  fwd_pkt_len_mean   1047083 non-null  float64\n",
      " 11  fwd_pkt_len_std    1047083 non-null  float64\n",
      " 12  bwd_pkt_len_max    1047083 non-null  int64  \n",
      " 13  bwd_pkt_len_min    1047083 non-null  int64  \n",
      " 14  bwd_pkt_len_mean   1047083 non-null  float64\n",
      " 15  bwd_pkt_len_std    1047083 non-null  float64\n",
      " 16  flow_byts_s        1044525 non-null  float64\n",
      " 17  flow_pkts_s        1047083 non-null  float64\n",
      " 18  flow_iat_mean      1047083 non-null  float64\n",
      " 19  flow_iat_std       1047083 non-null  float64\n",
      " 20  flow_iat_max       1047083 non-null  float64\n",
      " 21  flow_iat_min       1047083 non-null  float64\n",
      " 22  fwd_iat_tot        1047083 non-null  float64\n",
      " 23  fwd_iat_mean       1047083 non-null  float64\n",
      " 24  fwd_iat_std        1047083 non-null  float64\n",
      " 25  fwd_iat_max        1047083 non-null  float64\n",
      " 26  fwd_iat_min        1047083 non-null  float64\n",
      " 27  bwd_iat_tot        1047083 non-null  float64\n",
      " 28  bwd_iat_mean       1047083 non-null  float64\n",
      " 29  bwd_iat_std        1047083 non-null  float64\n",
      " 30  bwd_iat_max        1047083 non-null  float64\n",
      " 31  bwd_iat_min        1047083 non-null  float64\n",
      " 32  fwd_psh_flags      1047083 non-null  int64  \n",
      " 33  bwd_psh_flags      1047083 non-null  int64  \n",
      " 34  fwd_urg_flags      1047083 non-null  int64  \n",
      " 35  bwd_urg_flags      1047083 non-null  int64  \n",
      " 36  fwd_header_len     1047083 non-null  int64  \n",
      " 37  bwd_header_len     1047083 non-null  int64  \n",
      " 38  fwd_pkts_s         1047083 non-null  float64\n",
      " 39  bwd_pkts_s         1047083 non-null  float64\n",
      " 40  pkt_len_min        1047083 non-null  int64  \n",
      " 41  pkt_len_max        1047083 non-null  int64  \n",
      " 42  pkt_len_mean       1047083 non-null  float64\n",
      " 43  pkt_len_std        1047083 non-null  float64\n",
      " 44  pkt_len_var        1047083 non-null  float64\n",
      " 45  fin_flag_cnt       1047083 non-null  int64  \n",
      " 46  syn_flag_cnt       1047083 non-null  int64  \n",
      " 47  rst_flag_cnt       1047083 non-null  int64  \n",
      " 48  psh_flag_cnt       1047083 non-null  int64  \n",
      " 49  ack_flag_cnt       1047083 non-null  int64  \n",
      " 50  urg_flag_cnt       1047083 non-null  int64  \n",
      " 51  cwe_flag_count     1047083 non-null  int64  \n",
      " 52  ece_flag_cnt       1047083 non-null  int64  \n",
      " 53  down_up_ratio      1047083 non-null  int64  \n",
      " 54  pkt_size_avg       1047083 non-null  float64\n",
      " 55  fwd_seg_size_avg   1047083 non-null  float64\n",
      " 56  bwd_seg_size_avg   1047083 non-null  float64\n",
      " 57  fwd_byts_b_avg     1047083 non-null  int64  \n",
      " 58  fwd_pkts_b_avg     1047083 non-null  int64  \n",
      " 59  fwd_blk_rate_avg   1047083 non-null  int64  \n",
      " 60  bwd_byts_b_avg     1047083 non-null  int64  \n",
      " 61  bwd_pkts_b_avg     1047083 non-null  int64  \n",
      " 62  bwd_blk_rate_avg   1047083 non-null  int64  \n",
      " 63  subflow_fwd_pkts   1047083 non-null  int64  \n",
      " 64  subflow_fwd_byts   1047083 non-null  int64  \n",
      " 65  subflow_bwd_pkts   1047083 non-null  int64  \n",
      " 66  subflow_bwd_byts   1047083 non-null  int64  \n",
      " 67  init_fwd_win_byts  1047083 non-null  int64  \n",
      " 68  init_bwd_win_byts  1047083 non-null  int64  \n",
      " 69  fwd_act_data_pkts  1047083 non-null  int64  \n",
      " 70  fwd_seg_size_min   1047083 non-null  int64  \n",
      " 71  active_mean        1047083 non-null  float64\n",
      " 72  active_std         1047083 non-null  float64\n",
      " 73  active_max         1047083 non-null  float64\n",
      " 74  active_min         1047083 non-null  float64\n",
      " 75  idle_mean          1047083 non-null  float64\n",
      " 76  idle_std           1047083 non-null  float64\n",
      " 77  idle_max           1047083 non-null  float64\n",
      " 78  idle_min           1047083 non-null  float64\n",
      " 79  label              1047083 non-null  object \n",
      "dtypes: float64(38), int64(41), object(1)\n",
      "memory usage: 639.1+ MB\n"
     ]
    }
   ],
   "source": [
    "# Check if the data types were detected and appropriate, file size, # of rows, # of columns, etc.\n",
    "df.info()"
   ]
  },
  {
   "cell_type": "code",
   "execution_count": 16,
   "id": "53b5eb0d",
   "metadata": {
    "ExecuteTime": {
     "end_time": "2021-04-04T14:45:15.254972Z",
     "start_time": "2021-04-04T14:44:29.373Z"
    }
   },
   "outputs": [
    {
     "data": {
      "text/html": [
       "<div>\n",
       "<style scoped>\n",
       "    .dataframe tbody tr th:only-of-type {\n",
       "        vertical-align: middle;\n",
       "    }\n",
       "\n",
       "    .dataframe tbody tr th {\n",
       "        vertical-align: top;\n",
       "    }\n",
       "\n",
       "    .dataframe thead th {\n",
       "        text-align: right;\n",
       "    }\n",
       "</style>\n",
       "<table border=\"1\" class=\"dataframe\">\n",
       "  <thead>\n",
       "    <tr style=\"text-align: right;\">\n",
       "      <th></th>\n",
       "      <th>dst_port</th>\n",
       "      <th>protocol</th>\n",
       "      <th>timestamp</th>\n",
       "      <th>flow_duration</th>\n",
       "      <th>tot_fwd_pkts</th>\n",
       "      <th>tot_bwd_pkts</th>\n",
       "      <th>totlen_fwd_pkts</th>\n",
       "      <th>totlen_bwd_pkts</th>\n",
       "      <th>fwd_pkt_len_max</th>\n",
       "      <th>fwd_pkt_len_min</th>\n",
       "      <th>...</th>\n",
       "      <th>fwd_seg_size_min</th>\n",
       "      <th>active_mean</th>\n",
       "      <th>active_std</th>\n",
       "      <th>active_max</th>\n",
       "      <th>active_min</th>\n",
       "      <th>idle_mean</th>\n",
       "      <th>idle_std</th>\n",
       "      <th>idle_max</th>\n",
       "      <th>idle_min</th>\n",
       "      <th>label</th>\n",
       "    </tr>\n",
       "  </thead>\n",
       "  <tbody>\n",
       "    <tr>\n",
       "      <th>0</th>\n",
       "      <td>443</td>\n",
       "      <td>6</td>\n",
       "      <td>1.517648e+09</td>\n",
       "      <td>141385</td>\n",
       "      <td>9</td>\n",
       "      <td>7</td>\n",
       "      <td>553</td>\n",
       "      <td>3773.0</td>\n",
       "      <td>202</td>\n",
       "      <td>0</td>\n",
       "      <td>...</td>\n",
       "      <td>20</td>\n",
       "      <td>0.0</td>\n",
       "      <td>0.0</td>\n",
       "      <td>0.0</td>\n",
       "      <td>0.0</td>\n",
       "      <td>0.0</td>\n",
       "      <td>0.0</td>\n",
       "      <td>0.0</td>\n",
       "      <td>0.0</td>\n",
       "      <td>Benign</td>\n",
       "    </tr>\n",
       "    <tr>\n",
       "      <th>1</th>\n",
       "      <td>49684</td>\n",
       "      <td>6</td>\n",
       "      <td>1.517648e+09</td>\n",
       "      <td>281</td>\n",
       "      <td>2</td>\n",
       "      <td>1</td>\n",
       "      <td>38</td>\n",
       "      <td>0.0</td>\n",
       "      <td>38</td>\n",
       "      <td>0</td>\n",
       "      <td>...</td>\n",
       "      <td>20</td>\n",
       "      <td>0.0</td>\n",
       "      <td>0.0</td>\n",
       "      <td>0.0</td>\n",
       "      <td>0.0</td>\n",
       "      <td>0.0</td>\n",
       "      <td>0.0</td>\n",
       "      <td>0.0</td>\n",
       "      <td>0.0</td>\n",
       "      <td>Benign</td>\n",
       "    </tr>\n",
       "    <tr>\n",
       "      <th>2</th>\n",
       "      <td>443</td>\n",
       "      <td>6</td>\n",
       "      <td>1.517648e+09</td>\n",
       "      <td>279824</td>\n",
       "      <td>11</td>\n",
       "      <td>15</td>\n",
       "      <td>1086</td>\n",
       "      <td>10527.0</td>\n",
       "      <td>385</td>\n",
       "      <td>0</td>\n",
       "      <td>...</td>\n",
       "      <td>20</td>\n",
       "      <td>0.0</td>\n",
       "      <td>0.0</td>\n",
       "      <td>0.0</td>\n",
       "      <td>0.0</td>\n",
       "      <td>0.0</td>\n",
       "      <td>0.0</td>\n",
       "      <td>0.0</td>\n",
       "      <td>0.0</td>\n",
       "      <td>Benign</td>\n",
       "    </tr>\n",
       "    <tr>\n",
       "      <th>3</th>\n",
       "      <td>443</td>\n",
       "      <td>6</td>\n",
       "      <td>1.517648e+09</td>\n",
       "      <td>132</td>\n",
       "      <td>2</td>\n",
       "      <td>0</td>\n",
       "      <td>0</td>\n",
       "      <td>0.0</td>\n",
       "      <td>0</td>\n",
       "      <td>0</td>\n",
       "      <td>...</td>\n",
       "      <td>20</td>\n",
       "      <td>0.0</td>\n",
       "      <td>0.0</td>\n",
       "      <td>0.0</td>\n",
       "      <td>0.0</td>\n",
       "      <td>0.0</td>\n",
       "      <td>0.0</td>\n",
       "      <td>0.0</td>\n",
       "      <td>0.0</td>\n",
       "      <td>Benign</td>\n",
       "    </tr>\n",
       "    <tr>\n",
       "      <th>4</th>\n",
       "      <td>443</td>\n",
       "      <td>6</td>\n",
       "      <td>1.517648e+09</td>\n",
       "      <td>274016</td>\n",
       "      <td>9</td>\n",
       "      <td>13</td>\n",
       "      <td>1285</td>\n",
       "      <td>6141.0</td>\n",
       "      <td>517</td>\n",
       "      <td>0</td>\n",
       "      <td>...</td>\n",
       "      <td>20</td>\n",
       "      <td>0.0</td>\n",
       "      <td>0.0</td>\n",
       "      <td>0.0</td>\n",
       "      <td>0.0</td>\n",
       "      <td>0.0</td>\n",
       "      <td>0.0</td>\n",
       "      <td>0.0</td>\n",
       "      <td>0.0</td>\n",
       "      <td>Benign</td>\n",
       "    </tr>\n",
       "  </tbody>\n",
       "</table>\n",
       "<p>5 rows × 80 columns</p>\n",
       "</div>"
      ],
      "text/plain": [
       "   dst_port  protocol     timestamp  flow_duration  tot_fwd_pkts  \\\n",
       "0       443         6  1.517648e+09         141385             9   \n",
       "1     49684         6  1.517648e+09            281             2   \n",
       "2       443         6  1.517648e+09         279824            11   \n",
       "3       443         6  1.517648e+09            132             2   \n",
       "4       443         6  1.517648e+09         274016             9   \n",
       "\n",
       "   tot_bwd_pkts  totlen_fwd_pkts  totlen_bwd_pkts  fwd_pkt_len_max  \\\n",
       "0             7              553           3773.0              202   \n",
       "1             1               38              0.0               38   \n",
       "2            15             1086          10527.0              385   \n",
       "3             0                0              0.0                0   \n",
       "4            13             1285           6141.0              517   \n",
       "\n",
       "   fwd_pkt_len_min  ...  fwd_seg_size_min  active_mean  active_std  \\\n",
       "0                0  ...                20          0.0         0.0   \n",
       "1                0  ...                20          0.0         0.0   \n",
       "2                0  ...                20          0.0         0.0   \n",
       "3                0  ...                20          0.0         0.0   \n",
       "4                0  ...                20          0.0         0.0   \n",
       "\n",
       "   active_max  active_min  idle_mean  idle_std  idle_max  idle_min   label  \n",
       "0         0.0         0.0        0.0       0.0       0.0       0.0  Benign  \n",
       "1         0.0         0.0        0.0       0.0       0.0       0.0  Benign  \n",
       "2         0.0         0.0        0.0       0.0       0.0       0.0  Benign  \n",
       "3         0.0         0.0        0.0       0.0       0.0       0.0  Benign  \n",
       "4         0.0         0.0        0.0       0.0       0.0       0.0  Benign  \n",
       "\n",
       "[5 rows x 80 columns]"
      ]
     },
     "execution_count": 16,
     "metadata": {},
     "output_type": "execute_result"
    }
   ],
   "source": [
    "df.head()"
   ]
  },
  {
   "cell_type": "code",
   "execution_count": null,
   "id": "72d445f8",
   "metadata": {},
   "outputs": [],
   "source": []
  }
 ],
 "metadata": {
  "kernelspec": {
   "display_name": "Python 3",
   "language": "python",
   "name": "python3"
  },
  "language_info": {
   "codemirror_mode": {
    "name": "ipython",
    "version": 3
   },
   "file_extension": ".py",
   "mimetype": "text/x-python",
   "name": "python",
   "nbconvert_exporter": "python",
   "pygments_lexer": "ipython3",
   "version": "3.6.9"
  }
 },
 "nbformat": 4,
 "nbformat_minor": 5
}
