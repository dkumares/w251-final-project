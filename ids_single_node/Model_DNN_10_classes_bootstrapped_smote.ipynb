{
 "cells": [
  {
   "cell_type": "code",
   "execution_count": 55,
   "metadata": {},
   "outputs": [],
   "source": [
    "import torch\n",
    "import torchvision\n",
    "import torch.nn as nn\n",
    "import torch.nn.functional as F\n",
    "from torchvision import datasets, transforms\n",
    "import matplotlib.pyplot as plt\n",
    "from torch import optim\n",
    "import numpy as np\n",
    "import pandas as pd\n",
    "import os\n",
    "import io\n",
    "import re\n",
    "import sys\n",
    "import time\n",
    "from sklearn.model_selection import StratifiedKFold\n",
    "from sklearn.metrics import accuracy_score\n",
    "from sklearn.metrics import confusion_matrix\n",
    "from imblearn.over_sampling import BorderlineSMOTE\n",
    "from imblearn.pipeline import Pipeline\n",
    "from imblearn.over_sampling import SMOTE\n",
    "from imblearn.under_sampling import RandomUnderSampler\n",
    "\n",
    "%matplotlib inline"
   ]
  },
  {
   "cell_type": "code",
   "execution_count": 87,
   "metadata": {},
   "outputs": [
    {
     "name": "stdout",
     "output_type": "stream",
     "text": [
      "Python 3.8.5\n"
     ]
    }
   ],
   "source": [
    "!python -V"
   ]
  },
  {
   "cell_type": "code",
   "execution_count": 4,
   "metadata": {},
   "outputs": [
    {
     "data": {
      "text/plain": [
       "\"\\ncleaned_csv_files = [\\n  'TRAIN-1-DATA-IDS-2018-multiclass-bootstrap.csv',\\n  'TRAIN-2-DATA-IDS-2018-multiclass-bootstrap.csv',\\n  'TRAIN-3-DATA-IDS-2018-multiclass-bootstrap.csv',\\n  'TRAIN-4-DATA-IDS-2018-multiclass-bootstrap.csv',\\n  #'02-20-2018-ddos-loic-tcp.csv'   # WARNING: 4GB FILE.\\n]\\n\\nlist_of_dataframes = []\\nfor filename in cleaned_csv_files:\\n    fname = os.path.join(processed_path, filename)\\n    list_of_dataframes.append(pd.read_csv(fname))\\n\\nIDS_df = pd.concat(list_of_dataframes)\\n\""
      ]
     },
     "execution_count": 4,
     "metadata": {},
     "output_type": "execute_result"
    }
   ],
   "source": [
    "processed_path = '../data'\n",
    "'''\n",
    "cleaned_csv_files = [\n",
    "  'TRAIN-1-DATA-IDS-2018-multiclass-bootstrap.csv',\n",
    "  'TRAIN-2-DATA-IDS-2018-multiclass-bootstrap.csv',\n",
    "  'TRAIN-3-DATA-IDS-2018-multiclass-bootstrap.csv',\n",
    "  'TRAIN-4-DATA-IDS-2018-multiclass-bootstrap.csv',\n",
    "  #'02-20-2018-ddos-loic-tcp.csv'   # WARNING: 4GB FILE.\n",
    "]\n",
    "\n",
    "list_of_dataframes = []\n",
    "for filename in cleaned_csv_files:\n",
    "    fname = os.path.join(processed_path, filename)\n",
    "    list_of_dataframes.append(pd.read_csv(fname))\n",
    "\n",
    "IDS_df = pd.concat(list_of_dataframes)\n",
    "'''"
   ]
  },
  {
   "cell_type": "code",
   "execution_count": 59,
   "metadata": {},
   "outputs": [
    {
     "data": {
      "text/plain": [
       "Index(['dst_port', 'protocol', 'timestamp', 'flow_duration', 'tot_fwd_pkts',\n",
       "       'tot_bwd_pkts', 'totlen_fwd_pkts', 'totlen_bwd_pkts', 'fwd_pkt_len_max',\n",
       "       'fwd_pkt_len_min', 'fwd_pkt_len_mean', 'fwd_pkt_len_std',\n",
       "       'bwd_pkt_len_max', 'bwd_pkt_len_min', 'bwd_pkt_len_mean',\n",
       "       'bwd_pkt_len_std', 'flow_byts_s', 'flow_pkts_s', 'flow_iat_mean',\n",
       "       'flow_iat_std', 'flow_iat_max', 'flow_iat_min', 'fwd_iat_tot',\n",
       "       'fwd_iat_mean', 'fwd_iat_std', 'fwd_iat_max', 'fwd_iat_min',\n",
       "       'bwd_iat_tot', 'bwd_iat_mean', 'bwd_iat_std', 'bwd_iat_max',\n",
       "       'bwd_iat_min', 'fwd_psh_flags', 'bwd_psh_flags', 'fwd_urg_flags',\n",
       "       'bwd_urg_flags', 'fwd_header_len', 'bwd_header_len', 'fwd_pkts_s',\n",
       "       'bwd_pkts_s', 'pkt_len_min', 'pkt_len_max', 'pkt_len_mean',\n",
       "       'pkt_len_std', 'pkt_len_var', 'fin_flag_cnt', 'syn_flag_cnt',\n",
       "       'rst_flag_cnt', 'psh_flag_cnt', 'ack_flag_cnt', 'urg_flag_cnt',\n",
       "       'cwe_flag_count', 'ece_flag_cnt', 'down_up_ratio', 'pkt_size_avg',\n",
       "       'fwd_seg_size_avg', 'bwd_seg_size_avg', 'fwd_byts_b_avg',\n",
       "       'fwd_pkts_b_avg', 'fwd_blk_rate_avg', 'bwd_byts_b_avg',\n",
       "       'bwd_pkts_b_avg', 'bwd_blk_rate_avg', 'subflow_fwd_pkts',\n",
       "       'subflow_fwd_byts', 'subflow_bwd_pkts', 'subflow_bwd_byts',\n",
       "       'init_fwd_win_byts', 'init_bwd_win_byts', 'fwd_act_data_pkts',\n",
       "       'fwd_seg_size_min', 'active_mean', 'active_std', 'active_max',\n",
       "       'active_min', 'idle_mean', 'idle_std', 'idle_max', 'idle_min', 'label'],\n",
       "      dtype='object')"
      ]
     },
     "execution_count": 59,
     "metadata": {},
     "output_type": "execute_result"
    }
   ],
   "source": [
    "IDS_df = pd.read_csv(\"../data/CSE-CIC-IDS2018/IDS-2018-multiclass.csv\")\n",
    "\n",
    "# To display the top 5 rows/\n",
    "# IDS_df.head(5)\n",
    "IDS_df.columns"
   ]
  },
  {
   "cell_type": "code",
   "execution_count": 60,
   "metadata": {},
   "outputs": [],
   "source": [
    "test_df = pd.read_csv(os.path.join(processed_path, 'TEST--DATA-IDS-2018-multiclass.csv'))"
   ]
  },
  {
   "cell_type": "code",
   "execution_count": 61,
   "metadata": {},
   "outputs": [],
   "source": [
    "IDS_df = IDS_df.drop('timestamp', axis=1)"
   ]
  },
  {
   "cell_type": "code",
   "execution_count": 62,
   "metadata": {
    "jupyter": {
     "outputs_hidden": true
    }
   },
   "outputs": [],
   "source": [
    "# for i in range(len(IDS_df.columns)):\n",
    "#      print(IDS_df.columns[i], '-', IDS_df.dtypes[i])"
   ]
  },
  {
   "cell_type": "code",
   "execution_count": 63,
   "metadata": {},
   "outputs": [
    {
     "name": "stdout",
     "output_type": "stream",
     "text": [
      "(413648, 79)\n"
     ]
    }
   ],
   "source": [
    "# print shape before dropping NaN rows\n",
    "print(IDS_df.shape)"
   ]
  },
  {
   "cell_type": "code",
   "execution_count": 64,
   "metadata": {},
   "outputs": [
    {
     "name": "stdout",
     "output_type": "stream",
     "text": [
      "(1613821, 79)\n"
     ]
    }
   ],
   "source": [
    "print(test_df.shape)"
   ]
  },
  {
   "cell_type": "code",
   "execution_count": 65,
   "metadata": {},
   "outputs": [
    {
     "name": "stdout",
     "output_type": "stream",
     "text": [
      "1900\n"
     ]
    }
   ],
   "source": [
    "# Finding the null values.\n",
    "print(IDS_df.isin([np.nan, np.inf, -np.inf]).sum().sum())"
   ]
  },
  {
   "cell_type": "code",
   "execution_count": 66,
   "metadata": {},
   "outputs": [],
   "source": [
    "#  first replace infs to NaN:\n",
    "IDS_df = IDS_df.replace([np.inf, -np.inf], np.nan)"
   ]
  },
  {
   "cell_type": "code",
   "execution_count": 67,
   "metadata": {},
   "outputs": [
    {
     "name": "stdout",
     "output_type": "stream",
     "text": [
      "(412698, 79)\n"
     ]
    }
   ],
   "source": [
    "# print shape after dropping NaN rows\n",
    "IDS_df = IDS_df.dropna()\n",
    "print(IDS_df.shape)\n",
    "IDS_df = IDS_df.reset_index(drop=True)"
   ]
  },
  {
   "cell_type": "code",
   "execution_count": 68,
   "metadata": {},
   "outputs": [
    {
     "name": "stdout",
     "output_type": "stream",
     "text": [
      "0\n"
     ]
    }
   ],
   "source": [
    "# Finding the null values.\n",
    "print(IDS_df.isin([np.nan, np.inf, -np.inf]).sum().sum())"
   ]
  },
  {
   "cell_type": "code",
   "execution_count": 69,
   "metadata": {},
   "outputs": [
    {
     "name": "stdout",
     "output_type": "stream",
     "text": [
      "(412698, 79)\n"
     ]
    }
   ],
   "source": [
    "# print shape before dropping NaN rows\n",
    "print(IDS_df.shape)"
   ]
  },
  {
   "cell_type": "code",
   "execution_count": 70,
   "metadata": {},
   "outputs": [
    {
     "name": "stdout",
     "output_type": "stream",
     "text": [
      "232\n"
     ]
    }
   ],
   "source": [
    "# Finding the null values.\n",
    "print(test_df.isin([np.nan, np.inf, -np.inf]).sum().sum())"
   ]
  },
  {
   "cell_type": "code",
   "execution_count": 71,
   "metadata": {},
   "outputs": [],
   "source": [
    "#  first replace infs to NaN:\n",
    "test_df = test_df.replace([np.inf, -np.inf], np.nan)"
   ]
  },
  {
   "cell_type": "code",
   "execution_count": 72,
   "metadata": {},
   "outputs": [
    {
     "name": "stdout",
     "output_type": "stream",
     "text": [
      "(1613705, 79)\n"
     ]
    }
   ],
   "source": [
    "# print shape after dropping NaN rows\n",
    "test_df = test_df.dropna()\n",
    "print(test_df.shape)\n",
    "test_df = test_df.reset_index(drop=True)"
   ]
  },
  {
   "cell_type": "code",
   "execution_count": 73,
   "metadata": {},
   "outputs": [
    {
     "name": "stdout",
     "output_type": "stream",
     "text": [
      "0\n"
     ]
    }
   ],
   "source": [
    "# Finding the null values.\n",
    "print(test_df.isin([np.nan, np.inf, -np.inf]).sum().sum())"
   ]
  },
  {
   "cell_type": "code",
   "execution_count": 74,
   "metadata": {},
   "outputs": [
    {
     "name": "stdout",
     "output_type": "stream",
     "text": [
      "(1613705, 79)\n"
     ]
    }
   ],
   "source": [
    "print(test_df.shape)"
   ]
  },
  {
   "cell_type": "markdown",
   "metadata": {},
   "source": [
    "Examine the proportion of types of traffic:"
   ]
  },
  {
   "cell_type": "code",
   "execution_count": 75,
   "metadata": {},
   "outputs": [
    {
     "data": {
      "text/plain": [
       "Benign                      199275\n",
       "Infilteration                39777\n",
       "DoS attacks-SlowHTTPTest     20000\n",
       "Bot                          20000\n",
       "SSH-Bruteforce               20000\n",
       "DDOS attack-HOIC             20000\n",
       "DoS attacks-Hulk             20000\n",
       "DoS attacks-GoldenEye        20000\n",
       "DDoS attacks-LOIC-HTTP       20000\n",
       "FTP-BruteForce               19998\n",
       "DoS attacks-Slowloris        10990\n",
       "DDOS attack-LOIC-UDP          1730\n",
       "Brute Force -Web               611\n",
       "Brute Force -XSS               230\n",
       "SQL Injection                   87\n",
       "Name: label, dtype: int64"
      ]
     },
     "execution_count": 75,
     "metadata": {},
     "output_type": "execute_result"
    }
   ],
   "source": [
    "IDS_df['label'].value_counts()"
   ]
  },
  {
   "cell_type": "code",
   "execution_count": 97,
   "metadata": {},
   "outputs": [
    {
     "data": {
      "text/plain": [
       "'Benign'"
      ]
     },
     "execution_count": 97,
     "metadata": {},
     "output_type": "execute_result"
    }
   ],
   "source": [
    "most_frequent_label = IDS_df['label'].value_counts().idxmax()\n",
    "most_frequent_label"
   ]
  },
  {
   "cell_type": "code",
   "execution_count": 98,
   "metadata": {},
   "outputs": [
    {
     "data": {
      "text/plain": [
       "199275"
      ]
     },
     "execution_count": 98,
     "metadata": {},
     "output_type": "execute_result"
    }
   ],
   "source": [
    "most_frequent_label_count = IDS_df[IDS_df['label'] == most_frequent].shape[0]\n",
    "most_frequent_label_count"
   ]
  },
  {
   "cell_type": "code",
   "execution_count": 20,
   "metadata": {},
   "outputs": [
    {
     "data": {
      "text/plain": [
       "Benign                      1339012\n",
       "DDOS attack-HOIC              68601\n",
       "DDoS attacks-LOIC-HTTP        57619\n",
       "DoS attacks-Hulk              46191\n",
       "Bot                           28619\n",
       "FTP-BruteForce                19335\n",
       "SSH-Bruteforce                18759\n",
       "Infilteration                 16064\n",
       "DoS attacks-SlowHTTPTest      13989\n",
       "DoS attacks-GoldenEye          4151\n",
       "DoS attacks-Slowloris          1099\n",
       "DDOS attack-LOIC-UDP            173\n",
       "Brute Force -Web                 61\n",
       "Brute Force -XSS                 23\n",
       "SQL Injection                     9\n",
       "Name: label, dtype: int64"
      ]
     },
     "execution_count": 20,
     "metadata": {},
     "output_type": "execute_result"
    }
   ],
   "source": [
    "test_df['label'].value_counts()"
   ]
  },
  {
   "cell_type": "code",
   "execution_count": 21,
   "metadata": {},
   "outputs": [],
   "source": [
    "original_IDS_df = IDS_df\n",
    "Y_train = IDS_df.pop(\"label\")\n",
    "X_train = IDS_df"
   ]
  },
  {
   "cell_type": "code",
   "execution_count": 52,
   "metadata": {},
   "outputs": [
    {
     "data": {
      "text/plain": [
       "(412698, 78)"
      ]
     },
     "execution_count": 52,
     "metadata": {},
     "output_type": "execute_result"
    }
   ],
   "source": [
    "original_IDS_df.shape"
   ]
  },
  {
   "cell_type": "code",
   "execution_count": 53,
   "metadata": {},
   "outputs": [
    {
     "name": "stdout",
     "output_type": "stream",
     "text": [
      "label=DoS attacks-GoldenEye, n=20000 (4.846%)\n",
      "label=DDoS attacks-LOIC-HTTP, n=20000 (4.846%)\n",
      "label=Benign, n=199275 (48.286%)\n",
      "label=DoS attacks-Hulk, n=20000 (4.846%)\n",
      "label=DDOS attack-HOIC, n=20000 (4.846%)\n",
      "label=Bot, n=20000 (4.846%)\n",
      "label=FTP-BruteForce, n=19998 (4.846%)\n",
      "label=SSH-Bruteforce, n=20000 (4.846%)\n",
      "label=Infilteration, n=39777 (9.638%)\n",
      "label=DoS attacks-SlowHTTPTest, n=20000 (4.846%)\n",
      "label=DoS attacks-Slowloris, n=10990 (2.663%)\n",
      "label=DDOS attack-LOIC-UDP, n=1730 (0.419%)\n",
      "label=Brute Force -Web, n=611 (0.148%)\n",
      "label=Brute Force -XSS, n=230 (0.056%)\n",
      "label=SQL Injection, n=87 (0.021%)\n"
     ]
    }
   ],
   "source": [
    "# summarize distribution before resampling and augmentation of data\n",
    "from collections import Counter\n",
    "\n",
    "counter = Counter(Y_train)\n",
    "for k,v in counter.items():\n",
    "    per = v / len(Y_train) * 100\n",
    "    print('label=%s, n=%d (%.3f%%)' % (k, v, per))"
   ]
  },
  {
   "cell_type": "code",
   "execution_count": 104,
   "metadata": {},
   "outputs": [],
   "source": [
    "sampling_strategy_dict = {\n",
    "    \"DDOS attack-HOIC\" : round(0.4*most_frequent_label_count),\n",
    "    \"DDoS attacks-LOIC-HTTP\" : round(0.6*most_frequent_label_count) ,\n",
    "    \"DoS attacks-Hulk\" : round(0.7*most_frequent_label_count) ,\n",
    "    \"Bot\" : round(0.5*most_frequent_label_count),\n",
    "    \"FTP-BruteForce\" : round(0.4*most_frequent_label_count),\n",
    "    \"SSH-Bruteforce\" : round(0.4*most_frequent_label_count),\n",
    "    \"Infilteration\" : round(0.4*most_frequent_label_count),\n",
    "    \"DoS attacks-SlowHTTPTest\" : round(0.5*most_frequent_label_count),\n",
    "    \"DoS attacks-GoldenEye\" : round(0.7*most_frequent_label_count),\n",
    "    \"DoS attacks-Slowloris\" : round(0.7*most_frequent_label_count),\n",
    "    \"DDOS attack-LOIC-UDP\" : round(0.7*most_frequent_label_count),\n",
    "    \"Brute Force -Web\" : round(0.5*most_frequent_label_count),\n",
    "    \"Brute Force -XSS\" : round(0.4*most_frequent_label_count),\n",
    "    \"SQL Injection\" : round(0.4*most_frequent_label_count)\n",
    "}"
   ]
  },
  {
   "cell_type": "code",
   "execution_count": 105,
   "metadata": {},
   "outputs": [],
   "source": [
    "# Upsample the minority class and randomly downsample the majority class.\n",
    "over = SMOTE(sampling_strategy=sampling_strategy_dict)"
   ]
  },
  {
   "cell_type": "code",
   "execution_count": 106,
   "metadata": {},
   "outputs": [],
   "source": [
    "# Fit the model to generate the data.\n",
    "oversampled_trainX, oversampled_trainY = over.fit_resample(X_train, Y_train)"
   ]
  },
  {
   "cell_type": "code",
   "execution_count": 107,
   "metadata": {},
   "outputs": [
    {
     "name": "stdout",
     "output_type": "stream",
     "text": [
      "label=DoS attacks-GoldenEye, n=139492 (8.434%)\n",
      "label=DDoS attacks-LOIC-HTTP, n=119565 (7.229%)\n",
      "label=Benign, n=199275 (12.048%)\n",
      "label=DoS attacks-Hulk, n=139492 (8.434%)\n",
      "label=DDOS attack-HOIC, n=79710 (4.819%)\n",
      "label=Bot, n=99638 (6.024%)\n",
      "label=FTP-BruteForce, n=79710 (4.819%)\n",
      "label=SSH-Bruteforce, n=79710 (4.819%)\n",
      "label=Infilteration, n=79710 (4.819%)\n",
      "label=DoS attacks-SlowHTTPTest, n=99638 (6.024%)\n",
      "label=DoS attacks-Slowloris, n=139492 (8.434%)\n",
      "label=DDOS attack-LOIC-UDP, n=139492 (8.434%)\n",
      "label=Brute Force -Web, n=99638 (6.024%)\n",
      "label=Brute Force -XSS, n=79710 (4.819%)\n",
      "label=SQL Injection, n=79710 (4.819%)\n"
     ]
    }
   ],
   "source": [
    "#oversampled_trainY.value_counts()\n",
    "# summarize distribution\n",
    "from collections import Counter\n",
    "\n",
    "counter = Counter(oversampled_trainY)\n",
    "for k,v in counter.items():\n",
    "    per = v / len(oversampled_trainY) * 100\n",
    "    print('label=%s, n=%d (%.3f%%)' % (k, v, per))"
   ]
  },
  {
   "cell_type": "code",
   "execution_count": 111,
   "metadata": {},
   "outputs": [],
   "source": [
    "sampling_strategy_dict_under = {\n",
    "    \"Benign\": round(0.8*most_frequent_label_count)    \n",
    "}\n",
    "under = RandomUnderSampler(sampling_strategy=sampling_strategy_dict_under)\n",
    "#steps = [('o', over), ('u', under)]\n",
    "#pipeline = Pipeline(steps=steps)"
   ]
  },
  {
   "cell_type": "code",
   "execution_count": 112,
   "metadata": {},
   "outputs": [],
   "source": [
    "# Fit the model to generate the data.\n",
    "sampled_trainX, sampled_trainY = under.fit_resample(oversampled_trainX, oversampled_trainY)"
   ]
  },
  {
   "cell_type": "code",
   "execution_count": 113,
   "metadata": {},
   "outputs": [
    {
     "name": "stdout",
     "output_type": "stream",
     "text": [
      "label=Benign, n=159420 (9.877%)\n",
      "label=Bot, n=99638 (6.173%)\n",
      "label=Brute Force -Web, n=99638 (6.173%)\n",
      "label=Brute Force -XSS, n=79710 (4.938%)\n",
      "label=DDOS attack-HOIC, n=79710 (4.938%)\n",
      "label=DDOS attack-LOIC-UDP, n=139492 (8.642%)\n",
      "label=DDoS attacks-LOIC-HTTP, n=119565 (7.407%)\n",
      "label=DoS attacks-GoldenEye, n=139492 (8.642%)\n",
      "label=DoS attacks-Hulk, n=139492 (8.642%)\n",
      "label=DoS attacks-SlowHTTPTest, n=99638 (6.173%)\n",
      "label=DoS attacks-Slowloris, n=139492 (8.642%)\n",
      "label=FTP-BruteForce, n=79710 (4.938%)\n",
      "label=Infilteration, n=79710 (4.938%)\n",
      "label=SQL Injection, n=79710 (4.938%)\n",
      "label=SSH-Bruteforce, n=79710 (4.938%)\n"
     ]
    }
   ],
   "source": [
    "#oversampled_trainY.value_counts()\n",
    "# summarize distribution\n",
    "from collections import Counter\n",
    "\n",
    "counter = Counter(sampled_trainY)\n",
    "for k,v in counter.items():\n",
    "    per = v / len(sampled_trainY) * 100\n",
    "    print('label=%s, n=%d (%.3f%%)' % (k, v, per))"
   ]
  },
  {
   "cell_type": "code",
   "execution_count": 114,
   "metadata": {},
   "outputs": [
    {
     "data": {
      "text/plain": [
       "(1614127, 79)"
      ]
     },
     "execution_count": 114,
     "metadata": {},
     "output_type": "execute_result"
    }
   ],
   "source": [
    "sampled_train = pd.concat([pd.DataFrame(sampled_trainX), pd.DataFrame(sampled_trainY)], axis=1)\n",
    "sampled_train.shape"
   ]
  },
  {
   "cell_type": "code",
   "execution_count": 115,
   "metadata": {},
   "outputs": [
    {
     "data": {
      "text/plain": [
       "Index(['dst_port', 'protocol', 'flow_duration', 'tot_fwd_pkts', 'tot_bwd_pkts',\n",
       "       'totlen_fwd_pkts', 'totlen_bwd_pkts', 'fwd_pkt_len_max',\n",
       "       'fwd_pkt_len_min', 'fwd_pkt_len_mean', 'fwd_pkt_len_std',\n",
       "       'bwd_pkt_len_max', 'bwd_pkt_len_min', 'bwd_pkt_len_mean',\n",
       "       'bwd_pkt_len_std', 'flow_byts_s', 'flow_pkts_s', 'flow_iat_mean',\n",
       "       'flow_iat_std', 'flow_iat_max', 'flow_iat_min', 'fwd_iat_tot',\n",
       "       'fwd_iat_mean', 'fwd_iat_std', 'fwd_iat_max', 'fwd_iat_min',\n",
       "       'bwd_iat_tot', 'bwd_iat_mean', 'bwd_iat_std', 'bwd_iat_max',\n",
       "       'bwd_iat_min', 'fwd_psh_flags', 'bwd_psh_flags', 'fwd_urg_flags',\n",
       "       'bwd_urg_flags', 'fwd_header_len', 'bwd_header_len', 'fwd_pkts_s',\n",
       "       'bwd_pkts_s', 'pkt_len_min', 'pkt_len_max', 'pkt_len_mean',\n",
       "       'pkt_len_std', 'pkt_len_var', 'fin_flag_cnt', 'syn_flag_cnt',\n",
       "       'rst_flag_cnt', 'psh_flag_cnt', 'ack_flag_cnt', 'urg_flag_cnt',\n",
       "       'cwe_flag_count', 'ece_flag_cnt', 'down_up_ratio', 'pkt_size_avg',\n",
       "       'fwd_seg_size_avg', 'bwd_seg_size_avg', 'fwd_byts_b_avg',\n",
       "       'fwd_pkts_b_avg', 'fwd_blk_rate_avg', 'bwd_byts_b_avg',\n",
       "       'bwd_pkts_b_avg', 'bwd_blk_rate_avg', 'subflow_fwd_pkts',\n",
       "       'subflow_fwd_byts', 'subflow_bwd_pkts', 'subflow_bwd_byts',\n",
       "       'init_fwd_win_byts', 'init_bwd_win_byts', 'fwd_act_data_pkts',\n",
       "       'fwd_seg_size_min', 'active_mean', 'active_std', 'active_max',\n",
       "       'active_min', 'idle_mean', 'idle_std', 'idle_max', 'idle_min', 'label'],\n",
       "      dtype='object')"
      ]
     },
     "execution_count": 115,
     "metadata": {},
     "output_type": "execute_result"
    }
   ],
   "source": [
    "sampled_train.columns"
   ]
  },
  {
   "cell_type": "code",
   "execution_count": 29,
   "metadata": {},
   "outputs": [],
   "source": [
    "#oversampled_train.columns = original_IDS_df.columns"
   ]
  },
  {
   "cell_type": "code",
   "execution_count": 30,
   "metadata": {},
   "outputs": [
    {
     "name": "stdout",
     "output_type": "stream",
     "text": [
      "Index(['dst_port', 'protocol', 'flow_duration', 'tot_fwd_pkts', 'tot_bwd_pkts',\n",
      "       'totlen_fwd_pkts', 'totlen_bwd_pkts', 'fwd_pkt_len_max',\n",
      "       'fwd_pkt_len_min', 'fwd_pkt_len_mean', 'fwd_pkt_len_std',\n",
      "       'bwd_pkt_len_max', 'bwd_pkt_len_min', 'bwd_pkt_len_mean',\n",
      "       'bwd_pkt_len_std', 'flow_byts_s', 'flow_pkts_s', 'flow_iat_mean',\n",
      "       'flow_iat_std', 'flow_iat_max', 'flow_iat_min', 'fwd_iat_tot',\n",
      "       'fwd_iat_mean', 'fwd_iat_std', 'fwd_iat_max', 'fwd_iat_min',\n",
      "       'bwd_iat_tot', 'bwd_iat_mean', 'bwd_iat_std', 'bwd_iat_max',\n",
      "       'bwd_iat_min', 'fwd_psh_flags', 'bwd_psh_flags', 'fwd_urg_flags',\n",
      "       'bwd_urg_flags', 'fwd_header_len', 'bwd_header_len', 'fwd_pkts_s',\n",
      "       'bwd_pkts_s', 'pkt_len_min', 'pkt_len_max', 'pkt_len_mean',\n",
      "       'pkt_len_std', 'pkt_len_var', 'fin_flag_cnt', 'syn_flag_cnt',\n",
      "       'rst_flag_cnt', 'psh_flag_cnt', 'ack_flag_cnt', 'urg_flag_cnt',\n",
      "       'cwe_flag_count', 'ece_flag_cnt', 'down_up_ratio', 'pkt_size_avg',\n",
      "       'fwd_seg_size_avg', 'bwd_seg_size_avg', 'fwd_byts_b_avg',\n",
      "       'fwd_pkts_b_avg', 'fwd_blk_rate_avg', 'bwd_byts_b_avg',\n",
      "       'bwd_pkts_b_avg', 'bwd_blk_rate_avg', 'subflow_fwd_pkts',\n",
      "       'subflow_fwd_byts', 'subflow_bwd_pkts', 'subflow_bwd_byts',\n",
      "       'init_fwd_win_byts', 'init_bwd_win_byts', 'fwd_act_data_pkts',\n",
      "       'fwd_seg_size_min', 'active_mean', 'active_std', 'active_max',\n",
      "       'active_min', 'idle_mean', 'idle_std', 'idle_max', 'idle_min'],\n",
      "      dtype='object')\n"
     ]
    }
   ],
   "source": [
    "print(original_IDS_df.columns)"
   ]
  },
  {
   "cell_type": "code",
   "execution_count": 116,
   "metadata": {},
   "outputs": [
    {
     "data": {
      "text/plain": [
       "Benign                      159420\n",
       "DDOS attack-LOIC-UDP        139492\n",
       "DoS attacks-Hulk            139492\n",
       "DoS attacks-GoldenEye       139492\n",
       "DoS attacks-Slowloris       139492\n",
       "DDoS attacks-LOIC-HTTP      119565\n",
       "Brute Force -Web             99638\n",
       "Bot                          99638\n",
       "DoS attacks-SlowHTTPTest     99638\n",
       "Brute Force -XSS             79710\n",
       "Infilteration                79710\n",
       "DDOS attack-HOIC             79710\n",
       "SQL Injection                79710\n",
       "FTP-BruteForce               79710\n",
       "SSH-Bruteforce               79710\n",
       "Name: label, dtype: int64"
      ]
     },
     "execution_count": 116,
     "metadata": {},
     "output_type": "execute_result"
    }
   ],
   "source": [
    "sampled_train['label'].value_counts()"
   ]
  },
  {
   "cell_type": "code",
   "execution_count": 117,
   "metadata": {},
   "outputs": [],
   "source": [
    "def get_label(text):    \n",
    "    if text == \"Benign\":\n",
    "        return 0\n",
    "    elif text == 'Infilteration':\n",
    "        return 1\n",
    "    elif text == 'DoS attacks-Slowloris':\n",
    "        return 2\n",
    "    elif text == 'SSH-Bruteforce':\n",
    "        return 3\n",
    "    elif text == 'DDOS attack-HOIC':\n",
    "        return 4\n",
    "    elif text == 'FTP-BruteForce':\n",
    "        return 5\n",
    "    elif text == 'DoS attacks-SlowHTTPTest':\n",
    "        return 6\n",
    "    elif text == 'Bot':\n",
    "        return 7\n",
    "    elif text == 'DoS attacks-Hulk':\n",
    "        return 8\n",
    "    elif text == 'DoS attacks-GoldenEye':\n",
    "        return 9\n",
    "    elif text == 'DDoS attacks-LOIC-HTTP':\n",
    "        return 10\n",
    "    elif text == 'DDOS attack-LOIC-UDP':\n",
    "        return 11\n",
    "    elif text == 'Brute Force -Web':\n",
    "        return 12\n",
    "    elif text == 'Brute Force -XSS':\n",
    "        return 13\n",
    "    elif text == 'SQL Injection':\n",
    "        return 14\n",
    "\n",
    "sampled_train[\"label\"] = sampled_train[\"label\"].apply(get_label)\n",
    "test_df[\"label\"] = test_df[\"label\"].apply(get_label)"
   ]
  },
  {
   "cell_type": "code",
   "execution_count": 118,
   "metadata": {},
   "outputs": [
    {
     "data": {
      "text/plain": [
       "0     159420\n",
       "11    139492\n",
       "9     139492\n",
       "8     139492\n",
       "2     139492\n",
       "10    119565\n",
       "12     99638\n",
       "7      99638\n",
       "6      99638\n",
       "14     79710\n",
       "13     79710\n",
       "5      79710\n",
       "4      79710\n",
       "3      79710\n",
       "1      79710\n",
       "Name: label, dtype: int64"
      ]
     },
     "execution_count": 118,
     "metadata": {},
     "output_type": "execute_result"
    }
   ],
   "source": [
    "sampled_train['label'].value_counts()"
   ]
  },
  {
   "cell_type": "markdown",
   "metadata": {},
   "source": [
    "Convert all categorical features into numerical form:"
   ]
  },
  {
   "cell_type": "code",
   "execution_count": 119,
   "metadata": {},
   "outputs": [],
   "source": [
    "from sklearn.preprocessing import LabelEncoder\n",
    "\n",
    "encodings_dictionary = dict()\n",
    "for c in IDS_df.columns:\n",
    "    if IDS_df[c].dtype == \"object\":\n",
    "        encodings_dictionary[c] = LabelEncoder()\n",
    "        sampled_train[c] = encodings_dictionary[c].fit_transform(sampled_train[c])\n",
    "        test_df[c] = encodings_dictionary[c].fit_transform(test_df[c])"
   ]
  },
  {
   "cell_type": "markdown",
   "metadata": {},
   "source": [
    "Use Stratified K Fold to split the data into train and validation"
   ]
  },
  {
   "cell_type": "code",
   "execution_count": 125,
   "metadata": {},
   "outputs": [],
   "source": [
    "seed = 1234\n",
    "skf = StratifiedKFold(n_splits=5, shuffle=True, random_state = seed)\n",
    "target = sampled_train.loc[:,'label']"
   ]
  },
  {
   "cell_type": "markdown",
   "metadata": {},
   "source": [
    "Train-test split the dataset:"
   ]
  },
  {
   "cell_type": "code",
   "execution_count": 126,
   "metadata": {},
   "outputs": [],
   "source": [
    "def GetPyTorchDataLoaders(x_train, x_test, y_train, y_test, batch_size = 1000):\n",
    "    # Pytorch\n",
    "    X_train  = torch.from_numpy(x_train).float()\n",
    "    Y_train = torch.from_numpy(y_train)\n",
    "\n",
    "    X_test = torch.from_numpy(x_test).float()\n",
    "    Y_test = torch.from_numpy(y_test)\n",
    "\n",
    "    # Pytorch train and test sets\n",
    "    train = torch.utils.data.TensorDataset(X_train, Y_train)\n",
    "    valid = torch.utils.data.TensorDataset(X_test, Y_test)\n",
    "\n",
    "    # data loader\n",
    "    train_loader = torch.utils.data.DataLoader(train, batch_size = batch_size, shuffle = True)\n",
    "    valid_loader = torch.utils.data.DataLoader(valid, batch_size = batch_size, shuffle = True)\n",
    "\n",
    "    print('Completed loading data and returning pytorch train and validation data loaders')\n",
    "    return train_loader, valid_loader"
   ]
  },
  {
   "cell_type": "code",
   "execution_count": 127,
   "metadata": {},
   "outputs": [
    {
     "name": "stdout",
     "output_type": "stream",
     "text": [
      "MLP(\n",
      "  (layer1): Linear(in_features=78, out_features=128, bias=True)\n",
      "  (activ1): ReLU()\n",
      "  (layer2): Linear(in_features=128, out_features=15, bias=True)\n",
      ")\n"
     ]
    }
   ],
   "source": [
    "device = 'cpu'\n",
    "if torch.cuda.is_available():\n",
    "    device = 'cuda'\n",
    "        \n",
    "# Defining the DNN model\n",
    "#input_size = train_loader.dataset.tensors[0].shape[1]\n",
    "input_size = 78\n",
    "hidden_layers = [128]\n",
    "output_size = 15\n",
    "\n",
    "# model definition\n",
    "class MLP(nn.Module):\n",
    "    # define model elements\n",
    "    def __init__(self, n_inputs):\n",
    "        super(MLP, self).__init__()\n",
    "        self.layer1 = nn.Linear(n_inputs, hidden_layers[0])\n",
    "        self.activ1 = nn.ReLU()\n",
    "        \n",
    "        #self.layer2 = nn.Linear(hidden_layers[0], hidden_layers[1])\n",
    "        #self.activ2 = nn.ReLU()\n",
    "\n",
    "        #self.layer3 = nn.Linear(hidden_layers[1], hidden_layers[2])\n",
    "        #self.activ3 = nn.ReLU()\n",
    "        \n",
    "        self.layer2 = nn.Linear(hidden_layers[0], output_size)\n",
    "        \n",
    "    # forward propagate input\n",
    "    def forward(self, x):\n",
    "        x = self.layer1(x)\n",
    "        x = self.activ1(x)\n",
    "        \n",
    "        #x = self.layer2(x)\n",
    "        #x = self.activ2(x)\n",
    "        \n",
    "        #x = self.layer3(x)\n",
    "        #x = self.activ3(x)\n",
    "        \n",
    "        x = self.layer2(x)\n",
    "        return x\n",
    "\n",
    "model = MLP(input_size)\n",
    "print(model)\n",
    "model.to(device)\n",
    "\n",
    " # Cross Entropy Loss \n",
    "error = nn.CrossEntropyLoss().to(device)\n",
    "# Adam Optimizer\n",
    "learning_rate = 0.0001\n",
    "#ptimizer = torch.optim.Adam(model.parameters(), lr=learning_rate, weight_decay=0.01)\n",
    "optimizer = torch.optim.Adam(model.parameters(), lr=learning_rate)"
   ]
  },
  {
   "cell_type": "code",
   "execution_count": 131,
   "metadata": {},
   "outputs": [],
   "source": [
    "def train_model(train, test, fold_no):\n",
    "    print('Start training...')\n",
    "    start_time = time.time()\n",
    "\n",
    "    epochs = 1\n",
    "\n",
    "    count = 0\n",
    "    loss_list = []\n",
    "    iteration_list = []\n",
    "    accuracy_list = []\n",
    "    accuracy_scores = []\n",
    "    \n",
    "    # Separate into training data and labels, testing data and labels\n",
    "    Y_train = train.pop(\"label\").values\n",
    "    X_train = train.values\n",
    "    \n",
    "    Y_test = test.pop(\"label\").values\n",
    "    X_test = test.values\n",
    "    \n",
    "    # Get PyTorch training and validation data loaders\n",
    "    train_loader, valid_loader = GetPyTorchDataLoaders(X_train, X_test, Y_train, Y_test, batch_size = 1000)\n",
    "\n",
    "    for e in range(epochs):\n",
    "        correct_epoch = 0\n",
    "        total_epoch = 0\n",
    "        for i, (data, labels) in enumerate(train_loader):\n",
    "            train = data.to(device)\n",
    "            labels = labels.to(device)\n",
    "\n",
    "            # Clear gradients\n",
    "            optimizer.zero_grad()\n",
    "\n",
    "            # Forward propagation\n",
    "            outputs = model(train)\n",
    "\n",
    "            # Calculate softmax and cross entropy loss\n",
    "            loss = error(outputs, labels)\n",
    "\n",
    "            # Calculating gradients\n",
    "            loss.backward()\n",
    "\n",
    "            # Update parameters\n",
    "            optimizer.step()\n",
    "\n",
    "            if count % 100 == 0:\n",
    "                # Calculate Accuracy         \n",
    "                correct = 0\n",
    "                total = 0\n",
    "\n",
    "                # Iterate through test dataset\n",
    "                for data, labels in valid_loader:\n",
    "                    valid = data.to(device)                               \n",
    "                    labels = labels.to(device)\n",
    "\n",
    "                    # Forward propagation\n",
    "                    outputs = model(valid)\n",
    "\n",
    "                    # Get predictions from the maximum value\n",
    "                    predicted = torch.max(outputs.data, 1)[1]\n",
    "\n",
    "                    # Total number of labels\n",
    "                    total += len(labels)\n",
    "                    correct += (predicted == labels).sum()\n",
    "\n",
    "                accuracy = 100 * correct / float(total)\n",
    "\n",
    "                # store loss and iteration\n",
    "                loss_list.append(loss.data)\n",
    "                iteration_list.append(count)\n",
    "                accuracy_list.append(accuracy)\n",
    "                \n",
    "            if count % 100 == 0:\n",
    "                # Print Loss\n",
    "                print('Epoch: {} Iteration: {}  Loss: {}  Accuracy: {} %'.format(e + 1, count, loss.data, accuracy))\n",
    "\n",
    "            count += 1\n",
    "              \n",
    "        # calculate accuracy on the validation set\n",
    "        # Iterate through test dataset\n",
    "        for data, labels in valid_loader:\n",
    "            valid = data.to(device)                               \n",
    "            labels = labels.to(device)\n",
    "\n",
    "            # Forward propagation\n",
    "            outputs = model(valid)\n",
    "\n",
    "            # Get predictions from the maximum value\n",
    "            predicted = torch.max(outputs.data, 1)[1]\n",
    "            \n",
    "            total_epoch += len(labels)\n",
    "            correct_epoch += (predicted == labels).sum()\n",
    "\n",
    "        accuracy_epoch = (100 * correct_epoch / float(total_epoch)).item()\n",
    "\n",
    "        print('Fold',str(fold_no), 'Epoch No. :', e, 'Accuracy for Epoch :', accuracy_epoch)\n",
    "\n",
    "    end_time = time.time()\n",
    "\n",
    "    print('Epochs completed. Time taken (seconds): ', str(end_time - start_time))\n",
    "   \n",
    "    return accuracy_epoch, loss_list[-1]"
   ]
  },
  {
   "cell_type": "code",
   "execution_count": 132,
   "metadata": {},
   "outputs": [
    {
     "name": "stdout",
     "output_type": "stream",
     "text": [
      "Start training...\n",
      "Completed loading data and returning pytorch train and validation data loaders\n",
      "Epoch: 1 Iteration: 0  Loss: 11666.3408203125  Accuracy: 46.95222854614258 %\n",
      "Epoch: 1 Iteration: 100  Loss: 12549.181640625  Accuracy: 52.068607330322266 %\n",
      "Epoch: 1 Iteration: 200  Loss: 4328.64990234375  Accuracy: 56.698036193847656 %\n",
      "Epoch: 1 Iteration: 300  Loss: 4696.4091796875  Accuracy: 57.801727294921875 %\n",
      "Epoch: 1 Iteration: 400  Loss: 4927.0390625  Accuracy: 60.156864166259766 %\n",
      "Epoch: 1 Iteration: 500  Loss: 12107.2373046875  Accuracy: 58.656986236572266 %\n",
      "Epoch: 1 Iteration: 600  Loss: 4610.09130859375  Accuracy: 62.93018341064453 %\n",
      "Epoch: 1 Iteration: 700  Loss: 4212.9111328125  Accuracy: 58.611759185791016 %\n",
      "Epoch: 1 Iteration: 800  Loss: 3177.989501953125  Accuracy: 59.82046127319336 %\n",
      "Epoch: 1 Iteration: 900  Loss: 2493.57373046875  Accuracy: 62.36610412597656 %\n",
      "Epoch: 1 Iteration: 1000  Loss: 2978.570068359375  Accuracy: 60.76988983154297 %\n",
      "Epoch: 1 Iteration: 1100  Loss: 2084.389404296875  Accuracy: 68.46350860595703 %\n",
      "Epoch: 1 Iteration: 1200  Loss: 4049.580810546875  Accuracy: 64.0106430053711 %\n",
      "Fold 1 Epoch No. : 0 Accuracy for Epoch : 67.14391326904297\n",
      "Epochs completed. Time taken (seconds):  106.95148611068726\n",
      "Start training...\n",
      "Completed loading data and returning pytorch train and validation data loaders\n",
      "Epoch: 1 Iteration: 0  Loss: 2111.622314453125  Accuracy: 65.34510803222656 %\n",
      "Epoch: 1 Iteration: 100  Loss: 1235.44384765625  Accuracy: 69.01860809326172 %\n",
      "Epoch: 1 Iteration: 200  Loss: 3135.337890625  Accuracy: 68.09860229492188 %\n",
      "Epoch: 1 Iteration: 300  Loss: 1859.5269775390625  Accuracy: 65.3993148803711 %\n",
      "Epoch: 1 Iteration: 400  Loss: 2746.81396484375  Accuracy: 69.31318664550781 %\n",
      "Epoch: 1 Iteration: 500  Loss: 2334.943603515625  Accuracy: 71.15535736083984 %\n",
      "Epoch: 1 Iteration: 600  Loss: 2878.613037109375  Accuracy: 65.5978775024414 %\n",
      "Epoch: 1 Iteration: 700  Loss: 1947.580322265625  Accuracy: 71.97251892089844 %\n",
      "Epoch: 1 Iteration: 800  Loss: 1966.4881591796875  Accuracy: 66.31126403808594 %\n",
      "Epoch: 1 Iteration: 900  Loss: 4323.033203125  Accuracy: 71.46326446533203 %\n",
      "Epoch: 1 Iteration: 1000  Loss: 1818.2919921875  Accuracy: 70.04981231689453 %\n",
      "Epoch: 1 Iteration: 1100  Loss: 1821.2757568359375  Accuracy: 68.08311462402344 %\n",
      "Epoch: 1 Iteration: 1200  Loss: 1609.6956787109375  Accuracy: 66.83879089355469 %\n",
      "Fold 2 Epoch No. : 0 Accuracy for Epoch : 75.2783203125\n",
      "Epochs completed. Time taken (seconds):  117.55903267860413\n",
      "Start training...\n",
      "Completed loading data and returning pytorch train and validation data loaders\n",
      "Epoch: 1 Iteration: 0  Loss: 1829.6217041015625  Accuracy: 73.87252807617188 %\n",
      "Epoch: 1 Iteration: 100  Loss: 4531.142578125  Accuracy: 66.8603744506836 %\n",
      "Epoch: 1 Iteration: 200  Loss: 2913.767578125  Accuracy: 72.07465362548828 %\n",
      "Epoch: 1 Iteration: 300  Loss: 1866.8779296875  Accuracy: 69.30225372314453 %\n",
      "Epoch: 1 Iteration: 400  Loss: 1650.4154052734375  Accuracy: 66.77859497070312 %\n",
      "Epoch: 1 Iteration: 500  Loss: 1340.80615234375  Accuracy: 72.23356628417969 %\n",
      "Epoch: 1 Iteration: 600  Loss: 1405.13330078125  Accuracy: 68.32525634765625 %\n",
      "Epoch: 1 Iteration: 700  Loss: 793.4025268554688  Accuracy: 72.41818237304688 %\n",
      "Epoch: 1 Iteration: 800  Loss: 4434.12158203125  Accuracy: 72.19918060302734 %\n",
      "Epoch: 1 Iteration: 900  Loss: 4376.2529296875  Accuracy: 71.4312744140625 %\n",
      "Epoch: 1 Iteration: 1000  Loss: 2054.876953125  Accuracy: 72.09788513183594 %\n",
      "Epoch: 1 Iteration: 1100  Loss: 6117.13037109375  Accuracy: 64.86300659179688 %\n",
      "Epoch: 1 Iteration: 1200  Loss: 3382.54345703125  Accuracy: 75.15279388427734 %\n",
      "Fold 3 Epoch No. : 0 Accuracy for Epoch : 72.20134735107422\n",
      "Epochs completed. Time taken (seconds):  124.15443921089172\n",
      "Start training...\n",
      "Completed loading data and returning pytorch train and validation data loaders\n",
      "Epoch: 1 Iteration: 0  Loss: 1333.992431640625  Accuracy: 74.96414184570312 %\n",
      "Epoch: 1 Iteration: 100  Loss: 1034.8511962890625  Accuracy: 72.3751220703125 %\n",
      "Epoch: 1 Iteration: 200  Loss: 1449.7080078125  Accuracy: 73.18701934814453 %\n",
      "Epoch: 1 Iteration: 300  Loss: 2539.86865234375  Accuracy: 75.91264343261719 %\n",
      "Epoch: 1 Iteration: 400  Loss: 2207.26220703125  Accuracy: 68.5916519165039 %\n",
      "Epoch: 1 Iteration: 500  Loss: 3381.669921875  Accuracy: 75.66018676757812 %\n",
      "Epoch: 1 Iteration: 600  Loss: 5781.466796875  Accuracy: 66.75505065917969 %\n",
      "Epoch: 1 Iteration: 700  Loss: 1844.2235107421875  Accuracy: 72.036865234375 %\n",
      "Epoch: 1 Iteration: 800  Loss: 1195.4664306640625  Accuracy: 73.41903686523438 %\n",
      "Epoch: 1 Iteration: 900  Loss: 2963.479736328125  Accuracy: 72.25679779052734 %\n",
      "Epoch: 1 Iteration: 1000  Loss: 788.8106079101562  Accuracy: 73.34283447265625 %\n",
      "Epoch: 1 Iteration: 1100  Loss: 1412.647216796875  Accuracy: 73.95802307128906 %\n",
      "Epoch: 1 Iteration: 1200  Loss: 5272.81201171875  Accuracy: 71.58026885986328 %\n",
      "Fold 4 Epoch No. : 0 Accuracy for Epoch : 75.97738647460938\n",
      "Epochs completed. Time taken (seconds):  123.13856673240662\n",
      "Start training...\n",
      "Completed loading data and returning pytorch train and validation data loaders\n",
      "Epoch: 1 Iteration: 0  Loss: 3336.832763671875  Accuracy: 75.08433532714844 %\n",
      "Epoch: 1 Iteration: 100  Loss: 3844.070556640625  Accuracy: 74.45458221435547 %\n",
      "Epoch: 1 Iteration: 200  Loss: 3437.18701171875  Accuracy: 73.94316101074219 %\n",
      "Epoch: 1 Iteration: 300  Loss: 2060.968017578125  Accuracy: 71.33865356445312 %\n",
      "Epoch: 1 Iteration: 400  Loss: 1413.392578125  Accuracy: 70.93843078613281 %\n",
      "Epoch: 1 Iteration: 500  Loss: 1571.095458984375  Accuracy: 71.11779022216797 %\n",
      "Epoch: 1 Iteration: 600  Loss: 3364.032958984375  Accuracy: 69.91156005859375 %\n",
      "Epoch: 1 Iteration: 700  Loss: 826.3432006835938  Accuracy: 74.1891098022461 %\n",
      "Epoch: 1 Iteration: 800  Loss: 1268.9832763671875  Accuracy: 75.57655334472656 %\n",
      "Epoch: 1 Iteration: 900  Loss: 1340.188232421875  Accuracy: 70.99542999267578 %\n",
      "Epoch: 1 Iteration: 1000  Loss: 2600.043701171875  Accuracy: 76.45380401611328 %\n",
      "Epoch: 1 Iteration: 1100  Loss: 2640.52490234375  Accuracy: 69.93262481689453 %\n",
      "Epoch: 1 Iteration: 1200  Loss: 2467.539794921875  Accuracy: 72.49996185302734 %\n",
      "Fold 5 Epoch No. : 0 Accuracy for Epoch : 75.5235824584961\n",
      "Epochs completed. Time taken (seconds):  122.60606122016907\n",
      "Accuracy score after training on all cross validation sets 75.5235824584961\n"
     ]
    }
   ],
   "source": [
    "accuracy_scores = []\n",
    "losses = []\n",
    "fold_no = 1\n",
    "\n",
    "for train_index, test_index in skf.split(sampled_train, target):\n",
    "    train = sampled_train.loc[train_index,:]\n",
    "    test = sampled_train.loc[test_index,:]\n",
    "    accuracy_score, loss = train_model(train, test, fold_no)\n",
    "    accuracy_scores.append(accuracy_score)\n",
    "    losses.append(loss)\n",
    "    fold_no += 1\n",
    "    \n",
    "print('Accuracy score after training on all cross validation sets', accuracy_scores[-1])"
   ]
  },
  {
   "cell_type": "code",
   "execution_count": 133,
   "metadata": {},
   "outputs": [
    {
     "name": "stdout",
     "output_type": "stream",
     "text": [
      "Accuracy score across after stratified K Fold validation and training 75.5235824584961\n"
     ]
    }
   ],
   "source": [
    "print('Accuracy score across after stratified K Fold validation and training', accuracy_scores[-1])"
   ]
  },
  {
   "cell_type": "code",
   "execution_count": 134,
   "metadata": {},
   "outputs": [],
   "source": [
    "def GetPyTorchTestDataLoader(test_data, test_labels, batch_size=1000):\n",
    "    # Pytorch\n",
    "\n",
    "    X_test = torch.from_numpy(test_data).float()\n",
    "    Y_test = torch.from_numpy(test_labels)\n",
    "\n",
    "    # Pytorch train and test sets\n",
    "    test = torch.utils.data.TensorDataset(X_test, Y_test)\n",
    "\n",
    "    # data loader\n",
    "    test_loader = torch.utils.data.DataLoader(test, batch_size=batch_size)\n",
    "\n",
    "    print('Completed loading data and returning pytorch test data loaders')\n",
    "    return test_loader"
   ]
  },
  {
   "cell_type": "code",
   "execution_count": 135,
   "metadata": {},
   "outputs": [],
   "source": [
    "test_labels = test_df.pop(\"label\").values\n",
    "test_data = test_df.values"
   ]
  },
  {
   "cell_type": "code",
   "execution_count": 136,
   "metadata": {},
   "outputs": [
    {
     "name": "stdout",
     "output_type": "stream",
     "text": [
      "Completed loading data and returning pytorch test data loaders\n"
     ]
    }
   ],
   "source": [
    "test_loader = GetPyTorchTestDataLoader(test_data, test_labels, batch_size=5000)"
   ]
  },
  {
   "cell_type": "code",
   "execution_count": 137,
   "metadata": {},
   "outputs": [],
   "source": [
    "def plot_confusion_matrix(conf_matrix, label_names):\n",
    "    '''Plot confusion matrix\n",
    "    # param conf_matrix: confusion matrix nd array\n",
    "    # return: None\n",
    "    '''\n",
    "    fig, ax = plt.subplots(figsize=(15, 10))\n",
    "    ax.matshow(conf_matrix, cmap=plt.cm.Blues, alpha=0.7)\n",
    "    # show all ticks\n",
    "    ax.set_xticks(np.arange(len(label_names)))\n",
    "    ax.set_yticks(np.arange(len(label_names)))\n",
    "    # label them with the respective list entries\n",
    "    ax.set_xticklabels(label_names,  rotation=45)\n",
    "    ax.set_yticklabels(label_names)\n",
    "    \n",
    "    for i in range(conf_matrix.shape[0]):\n",
    "        for j in range(conf_matrix.shape[1]):\n",
    "            ax.text(x=j, y=i, s=conf_matrix[i,j], va='center', ha='center')\n",
    "    plt.xlabel('Predicted Label')\n",
    "    plt.ylabel('True Label')\n",
    "    plt.title('Confusion Matrix')\n",
    "    plt.tight_layout()\n",
    "    plt.show()"
   ]
  },
  {
   "cell_type": "markdown",
   "metadata": {},
   "source": [
    "Completed loading data and returning pytorch train and validation data loaders"
   ]
  },
  {
   "cell_type": "code",
   "execution_count": 138,
   "metadata": {},
   "outputs": [],
   "source": [
    "# Aggregate all predictions in this torch tensor \n",
    "all_labels = torch.LongTensor([]).to(device)\n",
    "all_predictions = torch.LongTensor([]).to(device)\n",
    "\n",
    "for data, label in test_loader:\n",
    "    valid = data.to(device)                               \n",
    "    label = label.to(device)\n",
    "\n",
    "    # Forward propagation\n",
    "    outputs = model(valid)\n",
    "\n",
    "    # Get predictions from the maximum value\n",
    "    predicted = torch.max(outputs.data, 1)[1]\n",
    "    \n",
    "    all_predictions = torch.cat(\n",
    "        (all_predictions, predicted),\n",
    "        dim =0\n",
    "    )\n",
    "    all_labels = torch.cat(\n",
    "        (all_labels, label),\n",
    "        dim =0\n",
    "    )"
   ]
  },
  {
   "cell_type": "code",
   "execution_count": 139,
   "metadata": {},
   "outputs": [
    {
     "name": "stdout",
     "output_type": "stream",
     "text": [
      "torch.Size([1613705])\n",
      "torch.Size([1613705])\n"
     ]
    }
   ],
   "source": [
    "print(all_labels.size())\n",
    "print(all_predictions.size())"
   ]
  },
  {
   "cell_type": "code",
   "execution_count": 140,
   "metadata": {},
   "outputs": [],
   "source": [
    "LABEL_TO_ID = {  \n",
    "    \"Benign\": 0,\n",
    "    'Infilteration': 1,\n",
    "    'DoS attacks-Slowloris': 2,\n",
    "    'SSH-Bruteforce': 3,\n",
    "    'DDOS attack-HOIC': 4,\n",
    "    'FTP-BruteForce': 5,\n",
    "    'DoS attacks-SlowHTTPTest': 6,\n",
    "    'Bot': 7,\n",
    "    'DoS attacks-Hulk': 8,\n",
    "    'DoS attacks-GoldenEye': 9,\n",
    "    'DDoS attacks-LOIC-HTTP': 10,\n",
    "    'DDOS attack-LOIC-UDP': 11,\n",
    "    'Brute Force -Web': 12,\n",
    "    'Brute Force -XSS': 13,\n",
    "    'SQL Injection': 14,\n",
    "}\n",
    "\n",
    "ID_TO_LABEL = {\n",
    "    v: k for k, v in LABEL_TO_ID.items()\n",
    "}"
   ]
  },
  {
   "cell_type": "code",
   "execution_count": 141,
   "metadata": {},
   "outputs": [],
   "source": [
    "label_names = []\n",
    "for i in range(15):\n",
    "    label_names.append(ID_TO_LABEL[i])"
   ]
  },
  {
   "cell_type": "code",
   "execution_count": 142,
   "metadata": {},
   "outputs": [
    {
     "name": "stdout",
     "output_type": "stream",
     "text": [
      "['Benign', 'Infilteration', 'DoS attacks-Slowloris', 'SSH-Bruteforce', 'DDOS attack-HOIC', 'FTP-BruteForce', 'DoS attacks-SlowHTTPTest', 'Bot', 'DoS attacks-Hulk', 'DoS attacks-GoldenEye', 'DDoS attacks-LOIC-HTTP', 'DDOS attack-LOIC-UDP', 'Brute Force -Web', 'Brute Force -XSS', 'SQL Injection']\n"
     ]
    }
   ],
   "source": [
    "print(label_names)"
   ]
  },
  {
   "cell_type": "code",
   "execution_count": 143,
   "metadata": {},
   "outputs": [
    {
     "name": "stdout",
     "output_type": "stream",
     "text": [
      "Converting predictions torch tensor to numpy array\n",
      "Plotting confusion matrix for test data\n"
     ]
    },
    {
     "data": {
      "image/png": "[encoded data removed]",
      "text/plain": [
       "<Figure size 1080x720 with 1 Axes>"
      ]
     },
     "metadata": {
      "needs_background": "light"
     },
     "output_type": "display_data"
    }
   ],
   "source": [
    "print('Converting predictions torch tensor to numpy array')\n",
    "all_preds_np = all_predictions.cpu().data.numpy()\n",
    "all_labels_np = all_labels.cpu().data.numpy()\n",
    "\n",
    "# print the confusion matrix for this epoch and fold\n",
    "print('Plotting confusion matrix for test data')\n",
    "cnf_matrix = confusion_matrix(all_preds_np, all_labels_np, labels=[x for x in range(15)])\n",
    "plot_confusion_matrix(cnf_matrix, label_names)    "
   ]
  },
  {
   "cell_type": "code",
   "execution_count": 144,
   "metadata": {},
   "outputs": [
    {
     "data": {
      "image/png": "[encoded data removed]",
      "text/plain": [
       "<Figure size 432x288 with 1 Axes>"
      ]
     },
     "metadata": {
      "needs_background": "light"
     },
     "output_type": "display_data"
    },
    {
     "data": {
      "image/png": "[encoded data removed]",
      "text/plain": [
       "<Figure size 432x288 with 1 Axes>"
      ]
     },
     "metadata": {
      "needs_background": "light"
     },
     "output_type": "display_data"
    }
   ],
   "source": [
    "plt.plot(losses)\n",
    "plt.xlabel(\"Number of folds\")\n",
    "plt.ylabel(\"Loss\")\n",
    "plt.title(\"Number of folds vs Loss\")\n",
    "plt.show()\n",
    "\n",
    "# visualization accuracy \n",
    "plt.plot(accuracy_scores, color = \"red\")\n",
    "plt.xlabel(\"Number of folds\")\n",
    "plt.ylabel(\"Accuracy\")\n",
    "plt.title(\"Number of folds vs Accuracy\")\n",
    "plt.show()"
   ]
  },
  {
   "cell_type": "code",
   "execution_count": null,
   "metadata": {},
   "outputs": [],
   "source": []
  }
 ],
 "metadata": {
  "kernelspec": {
   "display_name": "Python 3",
   "language": "python",
   "name": "python3"
  },
  "language_info": {
   "codemirror_mode": {
    "name": "ipython",
    "version": 3
   },
   "file_extension": ".py",
   "mimetype": "text/x-python",
   "name": "python",
   "nbconvert_exporter": "python",
   "pygments_lexer": "ipython3",
   "version": "3.8.5"
  }
 },
 "nbformat": 4,
 "nbformat_minor": 4
}
