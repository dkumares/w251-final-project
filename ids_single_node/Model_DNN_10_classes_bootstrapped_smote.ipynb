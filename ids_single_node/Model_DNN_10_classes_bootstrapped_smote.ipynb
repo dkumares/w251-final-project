{
 "cells": [
  {
   "cell_type": "code",
   "execution_count": 1,
   "metadata": {},
   "outputs": [],
   "source": [
    "import torch\n",
    "#import torchvision\n",
    "import torch.nn as nn\n",
    "import torch.nn.functional as F\n",
    "#from torchvision import datasets, transforms\n",
    "import matplotlib.pyplot as plt\n",
    "from torch import optim\n",
    "import numpy as np\n",
    "import pandas as pd\n",
    "import os\n",
    "import io\n",
    "import re\n",
    "import sys\n",
    "import time\n",
    "from sklearn.model_selection import StratifiedKFold\n",
    "from sklearn.metrics import accuracy_score\n",
    "from sklearn.metrics import confusion_matrix\n",
    "from imblearn.over_sampling import BorderlineSMOTE\n",
    "from imblearn.pipeline import Pipeline\n",
    "from imblearn.over_sampling import SMOTE\n",
    "from imblearn.under_sampling import RandomUnderSampler\n",
    "\n",
    "%matplotlib inline"
   ]
  },
  {
   "cell_type": "code",
   "execution_count": 2,
   "metadata": {},
   "outputs": [
    {
     "name": "stdout",
     "output_type": "stream",
     "text": [
      "Python 3.7.10\r\n"
     ]
    }
   ],
   "source": [
    "!python -V"
   ]
  },
  {
   "cell_type": "code",
   "execution_count": 3,
   "metadata": {},
   "outputs": [
    {
     "data": {
      "text/plain": [
       "\"\\ncleaned_csv_files = [\\n  'TRAIN-1-DATA-IDS-2018-multiclass-bootstrap.csv',\\n  'TRAIN-2-DATA-IDS-2018-multiclass-bootstrap.csv',\\n  'TRAIN-3-DATA-IDS-2018-multiclass-bootstrap.csv',\\n  'TRAIN-4-DATA-IDS-2018-multiclass-bootstrap.csv',\\n  #'02-20-2018-ddos-loic-tcp.csv'   # WARNING: 4GB FILE.\\n]\\n\\nlist_of_dataframes = []\\nfor filename in cleaned_csv_files:\\n    fname = os.path.join(processed_path, filename)\\n    list_of_dataframes.append(pd.read_csv(fname))\\n\\nIDS_df = pd.concat(list_of_dataframes)\\n\""
      ]
     },
     "execution_count": 3,
     "metadata": {},
     "output_type": "execute_result"
    }
   ],
   "source": [
    "processed_path = '../data/CSE-CIC-IDS2018/processed'\n",
    "'''\n",
    "cleaned_csv_files = [\n",
    "  'TRAIN-1-DATA-IDS-2018-multiclass-bootstrap.csv',\n",
    "  'TRAIN-2-DATA-IDS-2018-multiclass-bootstrap.csv',\n",
    "  'TRAIN-3-DATA-IDS-2018-multiclass-bootstrap.csv',\n",
    "  'TRAIN-4-DATA-IDS-2018-multiclass-bootstrap.csv',\n",
    "  #'02-20-2018-ddos-loic-tcp.csv'   # WARNING: 4GB FILE.\n",
    "]\n",
    "\n",
    "list_of_dataframes = []\n",
    "for filename in cleaned_csv_files:\n",
    "    fname = os.path.join(processed_path, filename)\n",
    "    list_of_dataframes.append(pd.read_csv(fname))\n",
    "\n",
    "IDS_df = pd.concat(list_of_dataframes)\n",
    "'''"
   ]
  },
  {
   "cell_type": "code",
   "execution_count": 4,
   "metadata": {},
   "outputs": [
    {
     "data": {
      "text/plain": [
       "Index(['dst_port', 'protocol', 'flow_duration', 'tot_fwd_pkts', 'tot_bwd_pkts',\n",
       "       'totlen_fwd_pkts', 'totlen_bwd_pkts', 'fwd_pkt_len_max',\n",
       "       'fwd_pkt_len_min', 'fwd_pkt_len_mean', 'fwd_pkt_len_std',\n",
       "       'bwd_pkt_len_max', 'bwd_pkt_len_min', 'bwd_pkt_len_mean',\n",
       "       'bwd_pkt_len_std', 'flow_byts_s', 'flow_pkts_s', 'flow_iat_mean',\n",
       "       'flow_iat_std', 'flow_iat_max', 'flow_iat_min', 'fwd_iat_tot',\n",
       "       'fwd_iat_mean', 'fwd_iat_std', 'fwd_iat_max', 'fwd_iat_min',\n",
       "       'bwd_iat_tot', 'bwd_iat_mean', 'bwd_iat_std', 'bwd_iat_max',\n",
       "       'bwd_iat_min', 'fwd_psh_flags', 'bwd_psh_flags', 'fwd_urg_flags',\n",
       "       'bwd_urg_flags', 'fwd_header_len', 'bwd_header_len', 'fwd_pkts_s',\n",
       "       'bwd_pkts_s', 'pkt_len_min', 'pkt_len_max', 'pkt_len_mean',\n",
       "       'pkt_len_std', 'pkt_len_var', 'fin_flag_cnt', 'syn_flag_cnt',\n",
       "       'rst_flag_cnt', 'psh_flag_cnt', 'ack_flag_cnt', 'urg_flag_cnt',\n",
       "       'cwe_flag_count', 'ece_flag_cnt', 'down_up_ratio', 'pkt_size_avg',\n",
       "       'fwd_seg_size_avg', 'bwd_seg_size_avg', 'fwd_byts_b_avg',\n",
       "       'fwd_pkts_b_avg', 'fwd_blk_rate_avg', 'bwd_byts_b_avg',\n",
       "       'bwd_pkts_b_avg', 'bwd_blk_rate_avg', 'subflow_fwd_pkts',\n",
       "       'subflow_fwd_byts', 'subflow_bwd_pkts', 'subflow_bwd_byts',\n",
       "       'init_fwd_win_byts', 'init_bwd_win_byts', 'fwd_act_data_pkts',\n",
       "       'fwd_seg_size_min', 'active_mean', 'active_std', 'active_max',\n",
       "       'active_min', 'idle_mean', 'idle_std', 'idle_max', 'idle_min', 'label'],\n",
       "      dtype='object')"
      ]
     },
     "execution_count": 4,
     "metadata": {},
     "output_type": "execute_result"
    }
   ],
   "source": [
    "IDS_df = pd.read_csv(\"../data/CSE-CIC-IDS2018/processed/CSE-CIC-IDS2018-SampledDataset.csv\", low_memory=False)\n",
    "\n",
    "# To display the top 5 rows/\n",
    "# IDS_df.head(5)\n",
    "IDS_df.columns"
   ]
  },
  {
   "cell_type": "code",
   "execution_count": 5,
   "metadata": {},
   "outputs": [],
   "source": [
    "test_df = pd.read_csv(os.path.join(processed_path, 'TEST--DATA-IDS-2018-multiclass.csv'))"
   ]
  },
  {
   "cell_type": "code",
   "execution_count": 6,
   "metadata": {},
   "outputs": [],
   "source": [
    "#IDS_df = IDS_df.drop('timestamp', axis=1)"
   ]
  },
  {
   "cell_type": "code",
   "execution_count": 7,
   "metadata": {
    "jupyter": {
     "outputs_hidden": true
    }
   },
   "outputs": [
    {
     "name": "stdout",
     "output_type": "stream",
     "text": [
      "dst_port - int64\n",
      "protocol - int64\n",
      "flow_duration - int64\n",
      "tot_fwd_pkts - int64\n",
      "tot_bwd_pkts - int64\n",
      "totlen_fwd_pkts - float64\n",
      "totlen_bwd_pkts - float64\n",
      "fwd_pkt_len_max - float64\n",
      "fwd_pkt_len_min - float64\n",
      "fwd_pkt_len_mean - float64\n",
      "fwd_pkt_len_std - float64\n",
      "bwd_pkt_len_max - float64\n",
      "bwd_pkt_len_min - float64\n",
      "bwd_pkt_len_mean - float64\n",
      "bwd_pkt_len_std - float64\n",
      "flow_byts_s - float64\n",
      "flow_pkts_s - float64\n",
      "flow_iat_mean - float64\n",
      "flow_iat_std - float64\n",
      "flow_iat_max - float64\n",
      "flow_iat_min - float64\n",
      "fwd_iat_tot - float64\n",
      "fwd_iat_mean - float64\n",
      "fwd_iat_std - float64\n",
      "fwd_iat_max - float64\n",
      "fwd_iat_min - float64\n",
      "bwd_iat_tot - float64\n",
      "bwd_iat_mean - float64\n",
      "bwd_iat_std - float64\n",
      "bwd_iat_max - float64\n",
      "bwd_iat_min - float64\n",
      "fwd_psh_flags - int64\n",
      "bwd_psh_flags - int64\n",
      "fwd_urg_flags - int64\n",
      "bwd_urg_flags - int64\n",
      "fwd_header_len - int64\n",
      "bwd_header_len - int64\n",
      "fwd_pkts_s - float64\n",
      "bwd_pkts_s - float64\n",
      "pkt_len_min - float64\n",
      "pkt_len_max - float64\n",
      "pkt_len_mean - float64\n",
      "pkt_len_std - float64\n",
      "pkt_len_var - float64\n",
      "fin_flag_cnt - int64\n",
      "syn_flag_cnt - int64\n",
      "rst_flag_cnt - int64\n",
      "psh_flag_cnt - int64\n",
      "ack_flag_cnt - int64\n",
      "urg_flag_cnt - int64\n",
      "cwe_flag_count - int64\n",
      "ece_flag_cnt - int64\n",
      "down_up_ratio - float64\n",
      "pkt_size_avg - float64\n",
      "fwd_seg_size_avg - float64\n",
      "bwd_seg_size_avg - float64\n",
      "fwd_byts_b_avg - int64\n",
      "fwd_pkts_b_avg - int64\n",
      "fwd_blk_rate_avg - int64\n",
      "bwd_byts_b_avg - int64\n",
      "bwd_pkts_b_avg - int64\n",
      "bwd_blk_rate_avg - int64\n",
      "subflow_fwd_pkts - int64\n",
      "subflow_fwd_byts - int64\n",
      "subflow_bwd_pkts - int64\n",
      "subflow_bwd_byts - int64\n",
      "init_fwd_win_byts - int64\n",
      "init_bwd_win_byts - int64\n",
      "fwd_act_data_pkts - int64\n",
      "fwd_seg_size_min - int64\n",
      "active_mean - float64\n",
      "active_std - float64\n",
      "active_max - float64\n",
      "active_min - float64\n",
      "idle_mean - float64\n",
      "idle_std - float64\n",
      "idle_max - float64\n",
      "idle_min - float64\n",
      "label - object\n"
     ]
    }
   ],
   "source": [
    "for i in range(len(IDS_df.columns)):\n",
    "      print(IDS_df.columns[i], '-', IDS_df.dtypes[i])"
   ]
  },
  {
   "cell_type": "code",
   "execution_count": 8,
   "metadata": {},
   "outputs": [
    {
     "name": "stdout",
     "output_type": "stream",
     "text": [
      "(22897324, 79)\n"
     ]
    }
   ],
   "source": [
    "# print shape before dropping NaN rows\n",
    "print(IDS_df.shape)"
   ]
  },
  {
   "cell_type": "code",
   "execution_count": 9,
   "metadata": {},
   "outputs": [
    {
     "name": "stdout",
     "output_type": "stream",
     "text": [
      "(1612354, 79)\n"
     ]
    }
   ],
   "source": [
    "print(test_df.shape)"
   ]
  },
  {
   "cell_type": "code",
   "execution_count": 10,
   "metadata": {},
   "outputs": [
    {
     "data": {
      "text/plain": [
       "Index(['dst_port', 'protocol', 'flow_duration', 'tot_fwd_pkts', 'tot_bwd_pkts',\n",
       "       'totlen_fwd_pkts', 'totlen_bwd_pkts', 'fwd_pkt_len_max',\n",
       "       'fwd_pkt_len_min', 'fwd_pkt_len_mean', 'fwd_pkt_len_std',\n",
       "       'bwd_pkt_len_max', 'bwd_pkt_len_min', 'bwd_pkt_len_mean',\n",
       "       'bwd_pkt_len_std', 'flow_byts_s', 'flow_pkts_s', 'flow_iat_mean',\n",
       "       'flow_iat_std', 'flow_iat_max', 'flow_iat_min', 'fwd_iat_tot',\n",
       "       'fwd_iat_mean', 'fwd_iat_std', 'fwd_iat_max', 'fwd_iat_min',\n",
       "       'bwd_iat_tot', 'bwd_iat_mean', 'bwd_iat_std', 'bwd_iat_max',\n",
       "       'bwd_iat_min', 'fwd_psh_flags', 'bwd_psh_flags', 'fwd_urg_flags',\n",
       "       'bwd_urg_flags', 'fwd_header_len', 'bwd_header_len', 'fwd_pkts_s',\n",
       "       'bwd_pkts_s', 'pkt_len_min', 'pkt_len_max', 'pkt_len_mean',\n",
       "       'pkt_len_std', 'pkt_len_var', 'fin_flag_cnt', 'syn_flag_cnt',\n",
       "       'rst_flag_cnt', 'psh_flag_cnt', 'ack_flag_cnt', 'urg_flag_cnt',\n",
       "       'cwe_flag_count', 'ece_flag_cnt', 'down_up_ratio', 'pkt_size_avg',\n",
       "       'fwd_seg_size_avg', 'bwd_seg_size_avg', 'fwd_byts_b_avg',\n",
       "       'fwd_pkts_b_avg', 'fwd_blk_rate_avg', 'bwd_byts_b_avg',\n",
       "       'bwd_pkts_b_avg', 'bwd_blk_rate_avg', 'subflow_fwd_pkts',\n",
       "       'subflow_fwd_byts', 'subflow_bwd_pkts', 'subflow_bwd_byts',\n",
       "       'init_fwd_win_byts', 'init_bwd_win_byts', 'fwd_act_data_pkts',\n",
       "       'fwd_seg_size_min', 'active_mean', 'active_std', 'active_max',\n",
       "       'active_min', 'idle_mean', 'idle_std', 'idle_max', 'idle_min', 'label'],\n",
       "      dtype='object')"
      ]
     },
     "execution_count": 10,
     "metadata": {},
     "output_type": "execute_result"
    }
   ],
   "source": [
    "IDS_df.columns"
   ]
  },
  {
   "cell_type": "code",
   "execution_count": 11,
   "metadata": {},
   "outputs": [
    {
     "name": "stdout",
     "output_type": "stream",
     "text": [
      "0\n"
     ]
    }
   ],
   "source": [
    "# Finding the null values.\n",
    "print(IDS_df.isin([np.nan, np.inf, -np.inf]).sum().sum())"
   ]
  },
  {
   "cell_type": "code",
   "execution_count": 12,
   "metadata": {},
   "outputs": [],
   "source": [
    "#  first replace infs to NaN:\n",
    "IDS_df = IDS_df.replace([np.inf, -np.inf], np.nan)"
   ]
  },
  {
   "cell_type": "code",
   "execution_count": 13,
   "metadata": {},
   "outputs": [
    {
     "name": "stdout",
     "output_type": "stream",
     "text": [
      "(22897324, 79)\n"
     ]
    }
   ],
   "source": [
    "# print shape after dropping NaN rows\n",
    "IDS_df = IDS_df.dropna()\n",
    "print(IDS_df.shape)\n",
    "IDS_df = IDS_df.reset_index(drop=True)"
   ]
  },
  {
   "cell_type": "code",
   "execution_count": null,
   "metadata": {},
   "outputs": [],
   "source": [
    "# Finding the null values.\n",
    "print(IDS_df.isin([np.nan, np.inf, -np.inf]).sum().sum())"
   ]
  },
  {
   "cell_type": "code",
   "execution_count": null,
   "metadata": {},
   "outputs": [],
   "source": [
    "# print shape before dropping NaN rows\n",
    "print(IDS_df.shape)"
   ]
  },
  {
   "cell_type": "code",
   "execution_count": 11,
   "metadata": {},
   "outputs": [
    {
     "name": "stdout",
     "output_type": "stream",
     "text": [
      "0\n"
     ]
    }
   ],
   "source": [
    "# Finding the null values.\n",
    "print(test_df.isin([np.nan, np.inf, -np.inf]).sum().sum())"
   ]
  },
  {
   "cell_type": "code",
   "execution_count": 12,
   "metadata": {},
   "outputs": [],
   "source": [
    "#  first replace infs to NaN:\n",
    "test_df = test_df.replace([np.inf, -np.inf], np.nan)"
   ]
  },
  {
   "cell_type": "code",
   "execution_count": 13,
   "metadata": {},
   "outputs": [
    {
     "name": "stdout",
     "output_type": "stream",
     "text": [
      "(1612354, 79)\n"
     ]
    }
   ],
   "source": [
    "# print shape after dropping NaN rows\n",
    "test_df = test_df.dropna()\n",
    "print(test_df.shape)\n",
    "test_df = test_df.reset_index(drop=True)"
   ]
  },
  {
   "cell_type": "code",
   "execution_count": 14,
   "metadata": {},
   "outputs": [
    {
     "name": "stdout",
     "output_type": "stream",
     "text": [
      "0\n"
     ]
    }
   ],
   "source": [
    "# Finding the null values.\n",
    "print(test_df.isin([np.nan, np.inf, -np.inf]).sum().sum())"
   ]
  },
  {
   "cell_type": "code",
   "execution_count": 15,
   "metadata": {},
   "outputs": [
    {
     "name": "stdout",
     "output_type": "stream",
     "text": [
      "(1612354, 79)\n"
     ]
    }
   ],
   "source": [
    "print(test_df.shape)"
   ]
  },
  {
   "cell_type": "markdown",
   "metadata": {},
   "source": [
    "Examine the proportion of types of traffic:"
   ]
  },
  {
   "cell_type": "code",
   "execution_count": 16,
   "metadata": {},
   "outputs": [
    {
     "data": {
      "text/plain": [
       "Benign                      8435857\n",
       "DoS attacks-Hulk            2410245\n",
       "DDoS attacks-LOIC-HTTP      2410245\n",
       "DDOS attack-HOIC            2410245\n",
       "DoS attacks-SlowHTTPTest    1205122\n",
       "FTP-BruteForce              1205122\n",
       "Bot                         1205122\n",
       "SSH-Bruteforce              1205122\n",
       "DoS attacks-GoldenEye       1205122\n",
       "Infilteration               1205122\n",
       "Name: label, dtype: int64"
      ]
     },
     "execution_count": 16,
     "metadata": {},
     "output_type": "execute_result"
    }
   ],
   "source": [
    "IDS_df['label'].value_counts()"
   ]
  },
  {
   "cell_type": "code",
   "execution_count": 17,
   "metadata": {},
   "outputs": [
    {
     "data": {
      "text/plain": [
       "Benign                      1339025\n",
       "DDOS attack-HOIC              68601\n",
       "DDoS attacks-LOIC-HTTP        57619\n",
       "DoS attacks-Hulk              46191\n",
       "Bot                           28619\n",
       "FTP-BruteForce                19336\n",
       "SSH-Bruteforce                18759\n",
       "Infilteration                 16064\n",
       "DoS attacks-SlowHTTPTest      13989\n",
       "DoS attacks-GoldenEye          4151\n",
       "Name: label, dtype: int64"
      ]
     },
     "execution_count": 17,
     "metadata": {},
     "output_type": "execute_result"
    }
   ],
   "source": [
    "test_df['label'].value_counts()"
   ]
  },
  {
   "cell_type": "code",
   "execution_count": null,
   "metadata": {},
   "outputs": [],
   "source": [
    "#original_IDS_df = IDS_df\n",
    "#Y_train = IDS_df.pop(\"label\")\n",
    "#X_train = IDS_df"
   ]
  },
  {
   "cell_type": "code",
   "execution_count": null,
   "metadata": {},
   "outputs": [],
   "source": [
    "#IDS_df = pd.concat([X_train, Y_train], axis = 1)"
   ]
  },
  {
   "cell_type": "code",
   "execution_count": 18,
   "metadata": {},
   "outputs": [
    {
     "data": {
      "text/plain": [
       "(22897324, 79)"
      ]
     },
     "execution_count": 18,
     "metadata": {},
     "output_type": "execute_result"
    }
   ],
   "source": [
    "IDS_df.shape"
   ]
  },
  {
   "cell_type": "code",
   "execution_count": 19,
   "metadata": {},
   "outputs": [
    {
     "name": "stdout",
     "output_type": "stream",
     "text": [
      "label=Benign, n=8435857 (36.842%)\n",
      "label=Bot, n=1205122 (5.263%)\n",
      "label=DDOS attack-HOIC, n=2410245 (10.526%)\n",
      "label=DDoS attacks-LOIC-HTTP, n=2410245 (10.526%)\n",
      "label=DoS attacks-GoldenEye, n=1205122 (5.263%)\n",
      "label=DoS attacks-Hulk, n=2410245 (10.526%)\n",
      "label=DoS attacks-SlowHTTPTest, n=1205122 (5.263%)\n",
      "label=FTP-BruteForce, n=1205122 (5.263%)\n",
      "label=Infilteration, n=1205122 (5.263%)\n",
      "label=SSH-Bruteforce, n=1205122 (5.263%)\n"
     ]
    }
   ],
   "source": [
    "# summarize distribution before resampling and augmentation of data\n",
    "from collections import Counter\n",
    "\n",
    "counter = Counter(IDS_df[\"label\"])\n",
    "for k,v in counter.items():\n",
    "    per = v / len(IDS_df[\"label\"]) * 100\n",
    "    print('label=%s, n=%d (%.3f%%)' % (k, v, per))"
   ]
  },
  {
   "cell_type": "code",
   "execution_count": null,
   "metadata": {},
   "outputs": [],
   "source": [
    "'''\n",
    "def get_label(text):    \n",
    "    if text == \"Benign\":\n",
    "        return 0\n",
    "    elif text == 'Infilteration':\n",
    "        return 1\n",
    "    elif text == 'DoS attacks-Slowloris':\n",
    "        return 2\n",
    "    elif text == 'SSH-Bruteforce':\n",
    "        return 3\n",
    "    elif text == 'DDOS attack-HOIC':\n",
    "        return 4\n",
    "    elif text == 'FTP-BruteForce':\n",
    "        return 5\n",
    "    elif text == 'DoS attacks-SlowHTTPTest':\n",
    "        return 6\n",
    "    elif text == 'Bot':\n",
    "        return 7\n",
    "    elif text == 'DoS attacks-Hulk':\n",
    "        return 8\n",
    "    elif text == 'DoS attacks-GoldenEye':\n",
    "        return 9\n",
    "    elif text == 'DDoS attacks-LOIC-HTTP':\n",
    "        return 10\n",
    "    elif text == 'DDOS attack-LOIC-UDP':\n",
    "        return 11\n",
    "    elif text == 'Brute Force -Web':\n",
    "        return 12\n",
    "    elif text == 'Brute Force -XSS':\n",
    "        return 13\n",
    "    elif text == 'SQL Injection':\n",
    "        return 14\n",
    "\n",
    "IDS_df[\"label\"] = IDS_df[\"label\"].apply(get_label)\n",
    "test_df[\"label\"] = test_df[\"label\"].apply(get_label)\n",
    "'''"
   ]
  },
  {
   "cell_type": "code",
   "execution_count": 22,
   "metadata": {},
   "outputs": [],
   "source": [
    "def get_label(text):    \n",
    "    if text == \"Benign\":\n",
    "        return 0\n",
    "    elif text == 'Infilteration':\n",
    "        return 1\n",
    "    elif text == 'SSH-Bruteforce':\n",
    "        return 2\n",
    "    elif text == 'DDOS attack-HOIC':\n",
    "        return 3\n",
    "    elif text == 'FTP-BruteForce':\n",
    "        return 4\n",
    "    elif text == 'DoS attacks-SlowHTTPTest':\n",
    "        return 5\n",
    "    elif text == 'Bot':\n",
    "        return 6\n",
    "    elif text == 'DoS attacks-Hulk':\n",
    "        return 7\n",
    "    elif text == 'DoS attacks-GoldenEye':\n",
    "        return 8\n",
    "    elif text == 'DDoS attacks-LOIC-HTTP':\n",
    "        return 9 \n",
    "    else :\n",
    "        return 10\n",
    "\n",
    "IDS_df[\"label\"] = IDS_df[\"label\"].apply(get_label)\n",
    "test_df[\"label\"] = test_df[\"label\"].apply(get_label)"
   ]
  },
  {
   "cell_type": "code",
   "execution_count": 23,
   "metadata": {},
   "outputs": [
    {
     "data": {
      "text/plain": [
       "0    8435857\n",
       "3    2410245\n",
       "7    2410245\n",
       "9    2410245\n",
       "1    1205122\n",
       "2    1205122\n",
       "4    1205122\n",
       "5    1205122\n",
       "6    1205122\n",
       "8    1205122\n",
       "Name: label, dtype: int64"
      ]
     },
     "execution_count": 23,
     "metadata": {},
     "output_type": "execute_result"
    }
   ],
   "source": [
    "IDS_df['label'].value_counts()"
   ]
  },
  {
   "cell_type": "code",
   "execution_count": 24,
   "metadata": {},
   "outputs": [
    {
     "data": {
      "text/plain": [
       "0    1339025\n",
       "3      68601\n",
       "9      57619\n",
       "7      46191\n",
       "6      28619\n",
       "4      19336\n",
       "2      18759\n",
       "1      16064\n",
       "5      13989\n",
       "8       4151\n",
       "Name: label, dtype: int64"
      ]
     },
     "execution_count": 24,
     "metadata": {},
     "output_type": "execute_result"
    }
   ],
   "source": [
    "test_df['label'].value_counts()"
   ]
  },
  {
   "cell_type": "markdown",
   "metadata": {},
   "source": [
    "Convert all categorical features into numerical form:"
   ]
  },
  {
   "cell_type": "code",
   "execution_count": 31,
   "metadata": {},
   "outputs": [],
   "source": [
    "from sklearn.preprocessing import LabelEncoder\n",
    "\n",
    "encodings_dictionary = dict()\n",
    "for c in IDS_df.columns:\n",
    "    if IDS_df[c].dtype == \"object\":\n",
    "        encodings_dictionary[c] = LabelEncoder()\n",
    "        IDS_df[c] = encodings_dictionary[c].fit_transform(IDS_df[c])\n",
    "        test_df[c] = encodings_dictionary[c].fit_transform(test_df[c])"
   ]
  },
  {
   "cell_type": "markdown",
   "metadata": {},
   "source": [
    "Use Stratified K Fold to split the data into train and validation"
   ]
  },
  {
   "cell_type": "code",
   "execution_count": 32,
   "metadata": {},
   "outputs": [],
   "source": [
    "seed = 1234\n",
    "skf = StratifiedKFold(n_splits=10, shuffle=True, random_state = seed)\n",
    "target = IDS_df.loc[:,'label']"
   ]
  },
  {
   "cell_type": "markdown",
   "metadata": {},
   "source": [
    "Train-test split the dataset:"
   ]
  },
  {
   "cell_type": "code",
   "execution_count": 33,
   "metadata": {},
   "outputs": [],
   "source": [
    "def GetPyTorchDataLoaders(x_train, x_test, y_train, y_test, batch_size = 1000):\n",
    "    # Pytorch\n",
    "    X_train  = torch.from_numpy(x_train).float()\n",
    "    Y_train = torch.from_numpy(y_train)\n",
    "\n",
    "    X_test = torch.from_numpy(x_test).float()\n",
    "    Y_test = torch.from_numpy(y_test)\n",
    "\n",
    "    # Pytorch train and test sets\n",
    "    train = torch.utils.data.TensorDataset(X_train, Y_train)\n",
    "    valid = torch.utils.data.TensorDataset(X_test, Y_test)\n",
    "\n",
    "    # data loader\n",
    "    train_loader = torch.utils.data.DataLoader(train, batch_size = batch_size, shuffle = True)\n",
    "    valid_loader = torch.utils.data.DataLoader(valid, batch_size = batch_size, shuffle = True)\n",
    "\n",
    "    print('Completed loading data and returning pytorch train and validation data loaders')\n",
    "    return train_loader, valid_loader"
   ]
  },
  {
   "cell_type": "code",
   "execution_count": 34,
   "metadata": {},
   "outputs": [
    {
     "name": "stdout",
     "output_type": "stream",
     "text": [
      "MLP(\n",
      "  (layer1): Linear(in_features=78, out_features=512, bias=True)\n",
      "  (activ1): ReLU()\n",
      "  (layer2): Linear(in_features=512, out_features=10, bias=True)\n",
      ")\n"
     ]
    }
   ],
   "source": [
    "device = 'cpu'\n",
    "if torch.cuda.is_available():\n",
    "    device = 'cuda'\n",
    "        \n",
    "# Defining the DNN model\n",
    "#input_size = train_loader.dataset.tensors[0].shape[1]\n",
    "input_size = 78\n",
    "hidden_layers = [512]\n",
    "output_size = 10\n",
    "\n",
    "# model definition\n",
    "class MLP(nn.Module):\n",
    "    # define model elements\n",
    "    def __init__(self, n_inputs):\n",
    "        super(MLP, self).__init__()\n",
    "        self.layer1 = nn.Linear(n_inputs, hidden_layers[0])\n",
    "        self.activ1 = nn.ReLU()\n",
    "        \n",
    "        #self.layer2 = nn.Linear(hidden_layers[0], hidden_layers[1])\n",
    "        #self.activ2 = nn.ReLU()\n",
    "\n",
    "        #self.layer3 = nn.Linear(hidden_layers[1], hidden_layers[2])\n",
    "        #self.activ3 = nn.ReLU()\n",
    "        \n",
    "        self.layer2 = nn.Linear(hidden_layers[0], output_size)\n",
    "        \n",
    "    # forward propagate input\n",
    "    def forward(self, x):\n",
    "        x = self.layer1(x)\n",
    "        x = self.activ1(x)\n",
    "        \n",
    "        #x = self.layer2(x)\n",
    "        #x = self.activ2(x)\n",
    "        \n",
    "        #x = self.layer3(x)\n",
    "        #x = self.activ3(x)\n",
    "        \n",
    "        x = self.layer2(x)\n",
    "        return x\n",
    "\n",
    "model = MLP(input_size)\n",
    "print(model)\n",
    "model.to(device)\n",
    "\n",
    " # Cross Entropy Loss \n",
    "error = nn.CrossEntropyLoss().to(device)\n",
    "# Adam Optimizer\n",
    "learning_rate = 0.0001\n",
    "#ptimizer = torch.optim.Adam(model.parameters(), lr=learning_rate, weight_decay=0.01)\n",
    "optimizer = torch.optim.Adam(model.parameters(), lr=learning_rate)"
   ]
  },
  {
   "cell_type": "code",
   "execution_count": 35,
   "metadata": {},
   "outputs": [],
   "source": [
    "def train_model(train, test, fold_no):\n",
    "    print('Start training...')\n",
    "    start_time = time.time()\n",
    "\n",
    "    epochs = 1\n",
    "\n",
    "    count = 0\n",
    "    loss_list = []\n",
    "    iteration_list = []\n",
    "    accuracy_list = []\n",
    "    accuracy_scores = []\n",
    "    \n",
    "    # Separate into training data and labels, testing data and labels\n",
    "    Y_train = train.pop(\"label\").values\n",
    "    X_train = train.values\n",
    "    \n",
    "    Y_test = test.pop(\"label\").values\n",
    "    X_test = test.values\n",
    "    \n",
    "    # Get PyTorch training and validation data loaders\n",
    "    train_loader, valid_loader = GetPyTorchDataLoaders(X_train, X_test, Y_train, Y_test, batch_size = 5000)\n",
    "\n",
    "    for e in range(epochs):\n",
    "        correct_epoch = 0\n",
    "        total_epoch = 0\n",
    "        for i, (data, labels) in enumerate(train_loader):\n",
    "            train = data.to(device)\n",
    "            labels = labels.to(device)\n",
    "\n",
    "            # Clear gradients\n",
    "            optimizer.zero_grad()\n",
    "\n",
    "            # Forward propagation\n",
    "            outputs = model(train)\n",
    "\n",
    "            # Calculate softmax and cross entropy loss\n",
    "            loss = error(outputs, labels)\n",
    "\n",
    "            # Calculating gradients\n",
    "            loss.backward()\n",
    "\n",
    "            # Update parameters\n",
    "            optimizer.step()\n",
    "\n",
    "            if count % 100 == 0:\n",
    "                # Calculate Accuracy         \n",
    "                correct = 0\n",
    "                total = 0\n",
    "\n",
    "                # Iterate through test dataset\n",
    "                for data, labels in valid_loader:\n",
    "                    valid = data.to(device)                               \n",
    "                    labels = labels.to(device)\n",
    "\n",
    "                    # Forward propagation\n",
    "                    outputs = model(valid)\n",
    "\n",
    "                    # Get predictions from the maximum value\n",
    "                    predicted = torch.max(outputs.data, 1)[1]\n",
    "\n",
    "                    # Total number of labels\n",
    "                    total += len(labels)\n",
    "                    correct += (predicted == labels).sum()\n",
    "\n",
    "                accuracy = 100 * correct / float(total)\n",
    "\n",
    "                # store loss and iteration\n",
    "                loss_list.append(loss.data)\n",
    "                iteration_list.append(count)\n",
    "                accuracy_list.append(accuracy)\n",
    "                \n",
    "            if count % 100 == 0:\n",
    "                # Print Loss\n",
    "                print('Epoch: {} Iteration: {}  Loss: {}  Accuracy: {} %'.format(e + 1, count, loss.data, accuracy))\n",
    "\n",
    "            count += 1\n",
    "              \n",
    "        # calculate accuracy on the validation set\n",
    "        # Iterate through test dataset\n",
    "        for data, labels in valid_loader:\n",
    "            valid = data.to(device)                               \n",
    "            labels = labels.to(device)\n",
    "\n",
    "            # Forward propagation\n",
    "            outputs = model(valid)\n",
    "\n",
    "            # Get predictions from the maximum value\n",
    "            predicted = torch.max(outputs.data, 1)[1]\n",
    "            \n",
    "            total_epoch += len(labels)\n",
    "            correct_epoch += (predicted == labels).sum()\n",
    "\n",
    "        accuracy_epoch = (100 * correct_epoch / float(total_epoch)).item()\n",
    "\n",
    "        print('Fold',str(fold_no), 'Epoch No. :', e, 'Accuracy for Epoch :', accuracy_epoch)\n",
    "\n",
    "    end_time = time.time()\n",
    "\n",
    "    print('Epochs completed. Time taken (seconds): ', str(end_time - start_time))\n",
    "   \n",
    "    return accuracy_epoch, loss_list[-1]"
   ]
  },
  {
   "cell_type": "code",
   "execution_count": 36,
   "metadata": {},
   "outputs": [
    {
     "name": "stdout",
     "output_type": "stream",
     "text": [
      "Start training...\n",
      "Completed loading data and returning pytorch train and validation data loaders\n",
      "Epoch: 1 Iteration: 0  Loss: 379654.71875  Accuracy: 15.127571105957031 %\n",
      "Epoch: 1 Iteration: 100  Loss: 7457.5830078125  Accuracy: 53.88798522949219 %\n",
      "Epoch: 1 Iteration: 200  Loss: 3751.503662109375  Accuracy: 62.32538604736328 %\n",
      "Epoch: 1 Iteration: 300  Loss: 4878.0302734375  Accuracy: 68.67446899414062 %\n",
      "Epoch: 1 Iteration: 400  Loss: 1842.983642578125  Accuracy: 70.27055358886719 %\n",
      "Epoch: 1 Iteration: 500  Loss: 3038.842529296875  Accuracy: 67.4834976196289 %\n",
      "Epoch: 1 Iteration: 600  Loss: 4750.5615234375  Accuracy: 68.40316772460938 %\n",
      "Epoch: 1 Iteration: 700  Loss: 7142.35205078125  Accuracy: 73.19005584716797 %\n",
      "Epoch: 1 Iteration: 800  Loss: 3387.7939453125  Accuracy: 71.37740325927734 %\n",
      "Epoch: 1 Iteration: 900  Loss: 3209.040283203125  Accuracy: 78.97047424316406 %\n",
      "Epoch: 1 Iteration: 1000  Loss: 3489.839111328125  Accuracy: 62.08995056152344 %\n",
      "Epoch: 1 Iteration: 1100  Loss: 5720.09130859375  Accuracy: 66.30423736572266 %\n",
      "Epoch: 1 Iteration: 1200  Loss: 5147.458984375  Accuracy: 69.2406005859375 %\n",
      "Epoch: 1 Iteration: 1300  Loss: 3819.1728515625  Accuracy: 72.65335845947266 %\n",
      "Epoch: 1 Iteration: 1400  Loss: 4323.087890625  Accuracy: 69.99235534667969 %\n",
      "Epoch: 1 Iteration: 1500  Loss: 4672.60791015625  Accuracy: 79.22264099121094 %\n",
      "Epoch: 1 Iteration: 1600  Loss: 2281.622314453125  Accuracy: 83.0273208618164 %\n",
      "Epoch: 1 Iteration: 1700  Loss: 2348.488037109375  Accuracy: 66.26331329345703 %\n",
      "Epoch: 1 Iteration: 1800  Loss: 3667.35595703125  Accuracy: 77.69569396972656 %\n",
      "Epoch: 1 Iteration: 1900  Loss: 4062.37646484375  Accuracy: 83.39840698242188 %\n",
      "Epoch: 1 Iteration: 2000  Loss: 3320.135498046875  Accuracy: 69.76704406738281 %\n",
      "Epoch: 1 Iteration: 2100  Loss: 3551.5615234375  Accuracy: 79.81279754638672 %\n",
      "Epoch: 1 Iteration: 2200  Loss: 3227.748291015625  Accuracy: 68.1781234741211 %\n",
      "Epoch: 1 Iteration: 2300  Loss: 4373.85205078125  Accuracy: 76.20840454101562 %\n",
      "Epoch: 1 Iteration: 2400  Loss: 4704.11962890625  Accuracy: 76.15866088867188 %\n",
      "Epoch: 1 Iteration: 2500  Loss: 1680.510986328125  Accuracy: 75.89827728271484 %\n",
      "Epoch: 1 Iteration: 2600  Loss: 5310.24560546875  Accuracy: 68.88370513916016 %\n",
      "Epoch: 1 Iteration: 2700  Loss: 3005.01806640625  Accuracy: 77.19725799560547 %\n",
      "Epoch: 1 Iteration: 2800  Loss: 1764.039794921875  Accuracy: 80.50209045410156 %\n",
      "Epoch: 1 Iteration: 2900  Loss: 3481.555908203125  Accuracy: 77.9369888305664 %\n",
      "Epoch: 1 Iteration: 3000  Loss: 2197.599609375  Accuracy: 75.08015441894531 %\n",
      "Epoch: 1 Iteration: 3100  Loss: 2995.3271484375  Accuracy: 65.63931274414062 %\n",
      "Epoch: 1 Iteration: 3200  Loss: 1061.824951171875  Accuracy: 75.09713745117188 %\n",
      "Epoch: 1 Iteration: 3300  Loss: 3532.003662109375  Accuracy: 70.5412368774414 %\n",
      "Epoch: 1 Iteration: 3400  Loss: 2508.2060546875  Accuracy: 82.38658905029297 %\n",
      "Epoch: 1 Iteration: 3500  Loss: 3742.474365234375  Accuracy: 75.0061264038086 %\n",
      "Epoch: 1 Iteration: 3600  Loss: 2760.433837890625  Accuracy: 75.80106353759766 %\n",
      "Epoch: 1 Iteration: 3700  Loss: 1704.3525390625  Accuracy: 81.73629760742188 %\n",
      "Epoch: 1 Iteration: 3800  Loss: 1874.47900390625  Accuracy: 81.55007934570312 %\n",
      "Epoch: 1 Iteration: 3900  Loss: 2207.414306640625  Accuracy: 81.2720947265625 %\n",
      "Epoch: 1 Iteration: 4000  Loss: 1076.7137451171875  Accuracy: 64.91914367675781 %\n",
      "Epoch: 1 Iteration: 4100  Loss: 4730.91259765625  Accuracy: 76.7956771850586 %\n",
      "Fold 1 Epoch No. : 0 Accuracy for Epoch : 82.7522201538086\n",
      "Epochs completed. Time taken (seconds):  2034.455683708191\n",
      "Start training...\n",
      "Completed loading data and returning pytorch train and validation data loaders\n",
      "Epoch: 1 Iteration: 0  Loss: 2986.13720703125  Accuracy: 80.52703094482422 %\n",
      "Epoch: 1 Iteration: 100  Loss: 2693.931884765625  Accuracy: 83.60943603515625 %\n",
      "Epoch: 1 Iteration: 200  Loss: 3547.61669921875  Accuracy: 74.65202331542969 %\n",
      "Epoch: 1 Iteration: 300  Loss: 3071.62939453125  Accuracy: 80.35810089111328 %\n",
      "Epoch: 1 Iteration: 400  Loss: 6252.7880859375  Accuracy: 80.25446319580078 %\n",
      "Epoch: 1 Iteration: 500  Loss: 2042.7757568359375  Accuracy: 81.20989990234375 %\n",
      "Epoch: 1 Iteration: 600  Loss: 2578.4892578125  Accuracy: 79.5918960571289 %\n",
      "Epoch: 1 Iteration: 700  Loss: 3683.825927734375  Accuracy: 83.07837677001953 %\n",
      "Epoch: 1 Iteration: 800  Loss: 3872.52490234375  Accuracy: 83.03068542480469 %\n",
      "Epoch: 1 Iteration: 900  Loss: 3237.133056640625  Accuracy: 79.46297454833984 %\n",
      "Epoch: 1 Iteration: 1000  Loss: 1381.6417236328125  Accuracy: 75.3355941772461 %\n",
      "Epoch: 1 Iteration: 1100  Loss: 3481.773681640625  Accuracy: 81.92068481445312 %\n",
      "Epoch: 1 Iteration: 1200  Loss: 7303.60009765625  Accuracy: 72.87329864501953 %\n",
      "Epoch: 1 Iteration: 1300  Loss: 1773.4505615234375  Accuracy: 84.71699523925781 %\n",
      "Epoch: 1 Iteration: 1400  Loss: 2772.532958984375  Accuracy: 76.23190307617188 %\n",
      "Epoch: 1 Iteration: 1500  Loss: 1805.864990234375  Accuracy: 84.60737609863281 %\n",
      "Epoch: 1 Iteration: 1600  Loss: 3950.576416015625  Accuracy: 78.65497589111328 %\n",
      "Epoch: 1 Iteration: 1700  Loss: 1940.0782470703125  Accuracy: 83.8309097290039 %\n",
      "Epoch: 1 Iteration: 1800  Loss: 742.7606201171875  Accuracy: 78.27921295166016 %\n",
      "Epoch: 1 Iteration: 1900  Loss: 3814.280029296875  Accuracy: 81.02957916259766 %\n",
      "Epoch: 1 Iteration: 2000  Loss: 2523.981689453125  Accuracy: 81.0240249633789 %\n",
      "Epoch: 1 Iteration: 2100  Loss: 1095.40380859375  Accuracy: 81.4451675415039 %\n",
      "Epoch: 1 Iteration: 2200  Loss: 1411.545654296875  Accuracy: 81.21632385253906 %\n",
      "Epoch: 1 Iteration: 2300  Loss: 1068.5347900390625  Accuracy: 84.83381652832031 %\n",
      "Epoch: 1 Iteration: 2400  Loss: 1791.3680419921875  Accuracy: 76.72898864746094 %\n",
      "Epoch: 1 Iteration: 2500  Loss: 2239.131591796875  Accuracy: 80.85221862792969 %\n",
      "Epoch: 1 Iteration: 2600  Loss: 2370.280517578125  Accuracy: 78.99641418457031 %\n",
      "Epoch: 1 Iteration: 2700  Loss: 3023.368408203125  Accuracy: 74.09833526611328 %\n",
      "Epoch: 1 Iteration: 2800  Loss: 3884.709716796875  Accuracy: 84.25418853759766 %\n",
      "Epoch: 1 Iteration: 2900  Loss: 1901.4696044921875  Accuracy: 86.39766693115234 %\n",
      "Epoch: 1 Iteration: 3000  Loss: 2105.273193359375  Accuracy: 81.22291564941406 %\n",
      "Epoch: 1 Iteration: 3100  Loss: 5320.10400390625  Accuracy: 79.91783142089844 %\n",
      "Epoch: 1 Iteration: 3200  Loss: 1200.4560546875  Accuracy: 85.80122375488281 %\n",
      "Epoch: 1 Iteration: 3300  Loss: 3339.2548828125  Accuracy: 82.64627075195312 %\n",
      "Epoch: 1 Iteration: 3400  Loss: 4851.53955078125  Accuracy: 83.35325622558594 %\n",
      "Epoch: 1 Iteration: 3500  Loss: 2101.913330078125  Accuracy: 77.86431884765625 %\n",
      "Epoch: 1 Iteration: 3600  Loss: 1451.5123291015625  Accuracy: 79.27007293701172 %\n",
      "Epoch: 1 Iteration: 3700  Loss: 4403.40380859375  Accuracy: 77.96380615234375 %\n",
      "Epoch: 1 Iteration: 3800  Loss: 1676.186767578125  Accuracy: 83.83793640136719 %\n",
      "Epoch: 1 Iteration: 3900  Loss: 1879.765380859375  Accuracy: 78.43827056884766 %\n",
      "Epoch: 1 Iteration: 4000  Loss: 2502.5087890625  Accuracy: 78.67877960205078 %\n",
      "Epoch: 1 Iteration: 4100  Loss: 4469.072265625  Accuracy: 85.4996566772461 %\n",
      "Fold 2 Epoch No. : 0 Accuracy for Epoch : 86.21612548828125\n",
      "Epochs completed. Time taken (seconds):  2033.806705713272\n",
      "Start training...\n",
      "Completed loading data and returning pytorch train and validation data loaders\n",
      "Epoch: 1 Iteration: 0  Loss: 1725.8133544921875  Accuracy: 85.9061279296875 %\n",
      "Epoch: 1 Iteration: 100  Loss: 2028.462646484375  Accuracy: 81.1919174194336 %\n",
      "Epoch: 1 Iteration: 200  Loss: 4770.22509765625  Accuracy: 87.79573822021484 %\n",
      "Epoch: 1 Iteration: 300  Loss: 1172.678955078125  Accuracy: 78.79678344726562 %\n",
      "Epoch: 1 Iteration: 400  Loss: 2130.669921875  Accuracy: 75.24069213867188 %\n",
      "Epoch: 1 Iteration: 500  Loss: 1719.93115234375  Accuracy: 82.18272399902344 %\n",
      "Epoch: 1 Iteration: 600  Loss: 1399.2476806640625  Accuracy: 85.12800598144531 %\n",
      "Epoch: 1 Iteration: 700  Loss: 1300.3905029296875  Accuracy: 83.72679138183594 %\n",
      "Epoch: 1 Iteration: 800  Loss: 1664.589111328125  Accuracy: 75.85015869140625 %\n",
      "Epoch: 1 Iteration: 900  Loss: 1740.2342529296875  Accuracy: 64.63294982910156 %\n",
      "Epoch: 1 Iteration: 1000  Loss: 1545.153076171875  Accuracy: 82.66374206542969 %\n",
      "Epoch: 1 Iteration: 1100  Loss: 2446.6552734375  Accuracy: 85.856689453125 %\n",
      "Epoch: 1 Iteration: 1200  Loss: 1735.359619140625  Accuracy: 83.21546173095703 %\n"
     ]
    },
    {
     "name": "stdout",
     "output_type": "stream",
     "text": [
      "Epoch: 1 Iteration: 1300  Loss: 2445.16650390625  Accuracy: 85.37554168701172 %\n",
      "Epoch: 1 Iteration: 1400  Loss: 2588.74658203125  Accuracy: 79.65557098388672 %\n",
      "Epoch: 1 Iteration: 1500  Loss: 1474.6802978515625  Accuracy: 74.80278015136719 %\n",
      "Epoch: 1 Iteration: 1600  Loss: 3794.645263671875  Accuracy: 85.5731201171875 %\n",
      "Epoch: 1 Iteration: 1700  Loss: 2432.41650390625  Accuracy: 82.88275909423828 %\n",
      "Epoch: 1 Iteration: 1800  Loss: 2527.83447265625  Accuracy: 86.22402954101562 %\n",
      "Epoch: 1 Iteration: 1900  Loss: 1331.4285888671875  Accuracy: 83.29110717773438 %\n",
      "Epoch: 1 Iteration: 2000  Loss: 3515.8701171875  Accuracy: 83.00841522216797 %\n",
      "Epoch: 1 Iteration: 2100  Loss: 4945.97802734375  Accuracy: 84.56151580810547 %\n",
      "Epoch: 1 Iteration: 2200  Loss: 1189.671142578125  Accuracy: 81.41971588134766 %\n",
      "Epoch: 1 Iteration: 2300  Loss: 1906.7967529296875  Accuracy: 81.13430786132812 %\n",
      "Epoch: 1 Iteration: 2400  Loss: 3576.802490234375  Accuracy: 83.60978698730469 %\n",
      "Epoch: 1 Iteration: 2500  Loss: 5997.642578125  Accuracy: 87.53125 %\n",
      "Epoch: 1 Iteration: 2600  Loss: 2214.979736328125  Accuracy: 81.74455261230469 %\n",
      "Epoch: 1 Iteration: 2700  Loss: 2793.427001953125  Accuracy: 72.65619659423828 %\n",
      "Epoch: 1 Iteration: 2800  Loss: 968.0009155273438  Accuracy: 83.04387664794922 %\n",
      "Epoch: 1 Iteration: 2900  Loss: 910.2045288085938  Accuracy: 80.70455932617188 %\n",
      "Epoch: 1 Iteration: 3000  Loss: 3453.13720703125  Accuracy: 79.61444091796875 %\n",
      "Epoch: 1 Iteration: 3100  Loss: 2276.404296875  Accuracy: 85.99591827392578 %\n",
      "Epoch: 1 Iteration: 3200  Loss: 3324.355712890625  Accuracy: 77.6314926147461 %\n",
      "Epoch: 1 Iteration: 3300  Loss: 1702.9539794921875  Accuracy: 69.90229797363281 %\n",
      "Epoch: 1 Iteration: 3400  Loss: 1357.883544921875  Accuracy: 85.26172637939453 %\n",
      "Epoch: 1 Iteration: 3500  Loss: 1068.1116943359375  Accuracy: 84.97903442382812 %\n",
      "Epoch: 1 Iteration: 3600  Loss: 3019.87451171875  Accuracy: 83.58424377441406 %\n",
      "Epoch: 1 Iteration: 3700  Loss: 2994.457275390625  Accuracy: 87.55772399902344 %\n",
      "Epoch: 1 Iteration: 3800  Loss: 1658.1341552734375  Accuracy: 76.56005859375 %\n",
      "Epoch: 1 Iteration: 3900  Loss: 2143.09130859375  Accuracy: 79.51660919189453 %\n",
      "Epoch: 1 Iteration: 4000  Loss: 2483.9482421875  Accuracy: 79.32671356201172 %\n",
      "Epoch: 1 Iteration: 4100  Loss: 1345.5045166015625  Accuracy: 84.5296401977539 %\n",
      "Fold 3 Epoch No. : 0 Accuracy for Epoch : 85.567138671875\n",
      "Epochs completed. Time taken (seconds):  2034.034870147705\n",
      "Start training...\n",
      "Completed loading data and returning pytorch train and validation data loaders\n",
      "Epoch: 1 Iteration: 0  Loss: 3230.959716796875  Accuracy: 77.61009216308594 %\n",
      "Epoch: 1 Iteration: 100  Loss: 2106.612060546875  Accuracy: 86.94668579101562 %\n",
      "Epoch: 1 Iteration: 200  Loss: 1535.306396484375  Accuracy: 84.22405242919922 %\n",
      "Epoch: 1 Iteration: 300  Loss: 2036.9432373046875  Accuracy: 82.3389892578125 %\n",
      "Epoch: 1 Iteration: 400  Loss: 4036.476806640625  Accuracy: 81.99776458740234 %\n",
      "Epoch: 1 Iteration: 500  Loss: 1267.8526611328125  Accuracy: 83.5328369140625 %\n",
      "Epoch: 1 Iteration: 600  Loss: 3160.84375  Accuracy: 83.83103942871094 %\n",
      "Epoch: 1 Iteration: 700  Loss: 1037.6953125  Accuracy: 84.87670135498047 %\n",
      "Epoch: 1 Iteration: 800  Loss: 3476.62841796875  Accuracy: 83.10182189941406 %\n",
      "Epoch: 1 Iteration: 900  Loss: 2614.056396484375  Accuracy: 86.76268768310547 %\n",
      "Epoch: 1 Iteration: 1000  Loss: 2226.84423828125  Accuracy: 86.59656524658203 %\n",
      "Epoch: 1 Iteration: 1100  Loss: 1445.271240234375  Accuracy: 84.7596206665039 %\n",
      "Epoch: 1 Iteration: 1200  Loss: 1928.639404296875  Accuracy: 80.33329010009766 %\n",
      "Epoch: 1 Iteration: 1300  Loss: 1124.7706298828125  Accuracy: 79.89940643310547 %\n",
      "Epoch: 1 Iteration: 1400  Loss: 1647.04833984375  Accuracy: 85.28453063964844 %\n",
      "Epoch: 1 Iteration: 1500  Loss: 1508.262451171875  Accuracy: 81.7370376586914 %\n",
      "Epoch: 1 Iteration: 1600  Loss: 1526.0445556640625  Accuracy: 78.12836456298828 %\n",
      "Epoch: 1 Iteration: 1700  Loss: 930.2839965820312  Accuracy: 83.14764404296875 %\n",
      "Epoch: 1 Iteration: 1800  Loss: 1848.29638671875  Accuracy: 88.03816986083984 %\n",
      "Epoch: 1 Iteration: 1900  Loss: 1224.98486328125  Accuracy: 86.37133026123047 %\n",
      "Epoch: 1 Iteration: 2000  Loss: 2385.822265625  Accuracy: 83.1785659790039 %\n",
      "Epoch: 1 Iteration: 2100  Loss: 1347.7843017578125  Accuracy: 81.21064758300781 %\n",
      "Epoch: 1 Iteration: 2200  Loss: 1272.60205078125  Accuracy: 87.6522216796875 %\n",
      "Epoch: 1 Iteration: 2300  Loss: 1821.5025634765625  Accuracy: 84.73934936523438 %\n",
      "Epoch: 1 Iteration: 2400  Loss: 2734.990234375  Accuracy: 87.97225952148438 %\n",
      "Epoch: 1 Iteration: 2500  Loss: 779.0477905273438  Accuracy: 87.15129852294922 %\n",
      "Epoch: 1 Iteration: 2600  Loss: 3257.423828125  Accuracy: 88.3863296508789 %\n",
      "Epoch: 1 Iteration: 2700  Loss: 2608.855712890625  Accuracy: 88.41441345214844 %\n",
      "Epoch: 1 Iteration: 2800  Loss: 2407.0791015625  Accuracy: 88.23674774169922 %\n",
      "Epoch: 1 Iteration: 2900  Loss: 3229.582275390625  Accuracy: 72.44896697998047 %\n",
      "Epoch: 1 Iteration: 3000  Loss: 2789.07568359375  Accuracy: 83.51004028320312 %\n",
      "Epoch: 1 Iteration: 3100  Loss: 2146.445556640625  Accuracy: 84.78433990478516 %\n",
      "Epoch: 1 Iteration: 3200  Loss: 1285.7607421875  Accuracy: 86.17166137695312 %\n",
      "Epoch: 1 Iteration: 3300  Loss: 2758.612548828125  Accuracy: 86.73220825195312 %\n",
      "Epoch: 1 Iteration: 3400  Loss: 1387.82666015625  Accuracy: 82.44703674316406 %\n",
      "Epoch: 1 Iteration: 3500  Loss: 1271.6768798828125  Accuracy: 81.43219757080078 %\n",
      "Epoch: 1 Iteration: 3600  Loss: 4571.07177734375  Accuracy: 87.7855224609375 %\n",
      "Epoch: 1 Iteration: 3700  Loss: 2351.0322265625  Accuracy: 86.05990600585938 %\n",
      "Epoch: 1 Iteration: 3800  Loss: 3082.934326171875  Accuracy: 84.75996398925781 %\n",
      "Epoch: 1 Iteration: 3900  Loss: 2573.031005859375  Accuracy: 81.51238250732422 %\n",
      "Epoch: 1 Iteration: 4000  Loss: 2588.995849609375  Accuracy: 85.29631805419922 %\n",
      "Epoch: 1 Iteration: 4100  Loss: 2206.62890625  Accuracy: 84.34227752685547 %\n",
      "Fold 4 Epoch No. : 0 Accuracy for Epoch : 85.6657485961914\n",
      "Epochs completed. Time taken (seconds):  2024.3435788154602\n",
      "Start training...\n",
      "Completed loading data and returning pytorch train and validation data loaders\n",
      "Epoch: 1 Iteration: 0  Loss: 1171.82958984375  Accuracy: 80.1747055053711 %\n",
      "Epoch: 1 Iteration: 100  Loss: 1737.7691650390625  Accuracy: 87.75267028808594 %\n",
      "Epoch: 1 Iteration: 200  Loss: 1392.3736572265625  Accuracy: 83.44059753417969 %\n",
      "Epoch: 1 Iteration: 300  Loss: 3751.352783203125  Accuracy: 87.68991088867188 %\n",
      "Epoch: 1 Iteration: 400  Loss: 3553.626708984375  Accuracy: 82.40663146972656 %\n",
      "Epoch: 1 Iteration: 500  Loss: 2333.60888671875  Accuracy: 76.13786315917969 %\n",
      "Epoch: 1 Iteration: 600  Loss: 1572.091552734375  Accuracy: 85.5741195678711 %\n",
      "Epoch: 1 Iteration: 700  Loss: 2550.6787109375  Accuracy: 84.87626647949219 %\n",
      "Epoch: 1 Iteration: 800  Loss: 2688.26806640625  Accuracy: 82.39086151123047 %\n",
      "Epoch: 1 Iteration: 900  Loss: 2178.391845703125  Accuracy: 88.3978500366211 %\n",
      "Epoch: 1 Iteration: 1000  Loss: 1225.51904296875  Accuracy: 71.93597412109375 %\n",
      "Epoch: 1 Iteration: 1100  Loss: 2608.523681640625  Accuracy: 75.9880142211914 %\n",
      "Epoch: 1 Iteration: 1200  Loss: 1571.8392333984375  Accuracy: 88.80074310302734 %\n",
      "Epoch: 1 Iteration: 1300  Loss: 1495.720458984375  Accuracy: 85.45449829101562 %\n",
      "Epoch: 1 Iteration: 1400  Loss: 2469.619384765625  Accuracy: 87.9613037109375 %\n",
      "Epoch: 1 Iteration: 1500  Loss: 4662.0419921875  Accuracy: 86.85330963134766 %\n",
      "Epoch: 1 Iteration: 1600  Loss: 3267.644287109375  Accuracy: 85.27557373046875 %\n",
      "Epoch: 1 Iteration: 1700  Loss: 1820.193603515625  Accuracy: 84.86054229736328 %\n",
      "Epoch: 1 Iteration: 1800  Loss: 1954.5146484375  Accuracy: 82.69103240966797 %\n",
      "Epoch: 1 Iteration: 1900  Loss: 2659.335693359375  Accuracy: 81.23308563232422 %\n",
      "Epoch: 1 Iteration: 2000  Loss: 2940.089111328125  Accuracy: 83.35709381103516 %\n",
      "Epoch: 1 Iteration: 2100  Loss: 1453.287841796875  Accuracy: 87.52609252929688 %\n",
      "Epoch: 1 Iteration: 2200  Loss: 4871.45947265625  Accuracy: 85.38872528076172 %\n",
      "Epoch: 1 Iteration: 2300  Loss: 5333.32470703125  Accuracy: 86.73442840576172 %\n",
      "Epoch: 1 Iteration: 2400  Loss: 2341.841064453125  Accuracy: 81.99321746826172 %\n",
      "Epoch: 1 Iteration: 2500  Loss: 2560.0849609375  Accuracy: 87.95269012451172 %\n",
      "Epoch: 1 Iteration: 2600  Loss: 1233.34521484375  Accuracy: 88.75405883789062 %\n"
     ]
    },
    {
     "name": "stdout",
     "output_type": "stream",
     "text": [
      "Epoch: 1 Iteration: 2700  Loss: 1795.9508056640625  Accuracy: 83.52134704589844 %\n",
      "Epoch: 1 Iteration: 2800  Loss: 1831.045654296875  Accuracy: 74.05508422851562 %\n",
      "Epoch: 1 Iteration: 2900  Loss: 2442.784912109375  Accuracy: 84.27130889892578 %\n",
      "Epoch: 1 Iteration: 3000  Loss: 1081.5440673828125  Accuracy: 81.9794692993164 %\n",
      "Epoch: 1 Iteration: 3100  Loss: 1045.396240234375  Accuracy: 72.03607177734375 %\n",
      "Epoch: 1 Iteration: 3200  Loss: 1350.17138671875  Accuracy: 85.96394348144531 %\n",
      "Epoch: 1 Iteration: 3300  Loss: 642.5394287109375  Accuracy: 77.11588287353516 %\n",
      "Epoch: 1 Iteration: 3400  Loss: 2854.214111328125  Accuracy: 82.75029754638672 %\n",
      "Epoch: 1 Iteration: 3500  Loss: 3644.699951171875  Accuracy: 88.5525894165039 %\n",
      "Epoch: 1 Iteration: 3600  Loss: 995.8572998046875  Accuracy: 83.4512939453125 %\n",
      "Epoch: 1 Iteration: 3700  Loss: 1793.58642578125  Accuracy: 83.07015991210938 %\n",
      "Epoch: 1 Iteration: 3800  Loss: 3864.288330078125  Accuracy: 77.44640350341797 %\n",
      "Epoch: 1 Iteration: 3900  Loss: 2102.72119140625  Accuracy: 88.08174896240234 %\n",
      "Epoch: 1 Iteration: 4000  Loss: 1673.58349609375  Accuracy: 88.80571746826172 %\n",
      "Epoch: 1 Iteration: 4100  Loss: 1988.8994140625  Accuracy: 86.7020263671875 %\n",
      "Fold 5 Epoch No. : 0 Accuracy for Epoch : 72.58504486083984\n",
      "Epochs completed. Time taken (seconds):  2050.500385761261\n",
      "Start training...\n",
      "Completed loading data and returning pytorch train and validation data loaders\n",
      "Epoch: 1 Iteration: 0  Loss: 4221.658203125  Accuracy: 85.97984313964844 %\n",
      "Epoch: 1 Iteration: 100  Loss: 724.0408325195312  Accuracy: 83.52872467041016 %\n",
      "Epoch: 1 Iteration: 200  Loss: 3637.51806640625  Accuracy: 76.8404769897461 %\n",
      "Epoch: 1 Iteration: 300  Loss: 1296.5926513671875  Accuracy: 86.50951385498047 %\n",
      "Epoch: 1 Iteration: 400  Loss: 2840.027099609375  Accuracy: 87.86648559570312 %\n",
      "Epoch: 1 Iteration: 500  Loss: 765.709228515625  Accuracy: 81.84172058105469 %\n",
      "Epoch: 1 Iteration: 600  Loss: 1154.837646484375  Accuracy: 82.99866485595703 %\n",
      "Epoch: 1 Iteration: 700  Loss: 1882.11962890625  Accuracy: 88.88896179199219 %\n",
      "Epoch: 1 Iteration: 800  Loss: 1948.2431640625  Accuracy: 88.1946029663086 %\n",
      "Epoch: 1 Iteration: 900  Loss: 3173.768310546875  Accuracy: 87.12312316894531 %\n",
      "Epoch: 1 Iteration: 1000  Loss: 2674.51025390625  Accuracy: 88.62657165527344 %\n",
      "Epoch: 1 Iteration: 1100  Loss: 1793.293212890625  Accuracy: 87.11688232421875 %\n",
      "Epoch: 1 Iteration: 1200  Loss: 1467.34375  Accuracy: 74.27699279785156 %\n",
      "Epoch: 1 Iteration: 1300  Loss: 1502.107666015625  Accuracy: 78.50765991210938 %\n",
      "Epoch: 1 Iteration: 1400  Loss: 2335.80029296875  Accuracy: 84.22893524169922 %\n",
      "Epoch: 1 Iteration: 1500  Loss: 3274.194091796875  Accuracy: 87.1861801147461 %\n",
      "Epoch: 1 Iteration: 1600  Loss: 2014.6146240234375  Accuracy: 88.75370788574219 %\n",
      "Epoch: 1 Iteration: 1700  Loss: 2269.548583984375  Accuracy: 83.66014099121094 %\n",
      "Epoch: 1 Iteration: 1800  Loss: 2171.69482421875  Accuracy: 83.34591674804688 %\n",
      "Epoch: 1 Iteration: 1900  Loss: 2240.2177734375  Accuracy: 84.93937683105469 %\n",
      "Epoch: 1 Iteration: 2000  Loss: 2437.04736328125  Accuracy: 86.03321075439453 %\n",
      "Epoch: 1 Iteration: 2100  Loss: 2986.705810546875  Accuracy: 85.30364990234375 %\n",
      "Epoch: 1 Iteration: 2200  Loss: 1736.27197265625  Accuracy: 84.10172271728516 %\n",
      "Epoch: 1 Iteration: 2300  Loss: 2079.108154296875  Accuracy: 75.66047668457031 %\n",
      "Epoch: 1 Iteration: 2400  Loss: 951.8389282226562  Accuracy: 86.12012481689453 %\n",
      "Epoch: 1 Iteration: 2500  Loss: 1726.6590576171875  Accuracy: 88.76615142822266 %\n",
      "Epoch: 1 Iteration: 2600  Loss: 1545.1644287109375  Accuracy: 88.5650863647461 %\n",
      "Epoch: 1 Iteration: 2700  Loss: 3767.056884765625  Accuracy: 84.69589233398438 %\n",
      "Epoch: 1 Iteration: 2800  Loss: 1269.15576171875  Accuracy: 82.44982147216797 %\n",
      "Epoch: 1 Iteration: 2900  Loss: 1994.3480224609375  Accuracy: 88.21477508544922 %\n",
      "Epoch: 1 Iteration: 3000  Loss: 1500.0330810546875  Accuracy: 84.57090759277344 %\n",
      "Epoch: 1 Iteration: 3100  Loss: 2707.443359375  Accuracy: 86.08094787597656 %\n",
      "Epoch: 1 Iteration: 3200  Loss: 3103.548583984375  Accuracy: 86.15428161621094 %\n",
      "Epoch: 1 Iteration: 3300  Loss: 984.7570190429688  Accuracy: 88.26683044433594 %\n",
      "Epoch: 1 Iteration: 3400  Loss: 2924.805908203125  Accuracy: 82.41480255126953 %\n",
      "Epoch: 1 Iteration: 3500  Loss: 3826.284423828125  Accuracy: 79.49624633789062 %\n",
      "Epoch: 1 Iteration: 3600  Loss: 2484.47900390625  Accuracy: 82.68098449707031 %\n",
      "Epoch: 1 Iteration: 3700  Loss: 2079.4462890625  Accuracy: 89.14916229248047 %\n",
      "Epoch: 1 Iteration: 3800  Loss: 2281.99853515625  Accuracy: 87.01952362060547 %\n",
      "Epoch: 1 Iteration: 3900  Loss: 1004.956787109375  Accuracy: 85.63595581054688 %\n",
      "Epoch: 1 Iteration: 4000  Loss: 2274.502685546875  Accuracy: 75.56272888183594 %\n",
      "Epoch: 1 Iteration: 4100  Loss: 2377.09033203125  Accuracy: 86.97406005859375 %\n",
      "Fold 6 Epoch No. : 0 Accuracy for Epoch : 82.26530456542969\n",
      "Epochs completed. Time taken (seconds):  2053.610652923584\n",
      "Start training...\n",
      "Completed loading data and returning pytorch train and validation data loaders\n",
      "Epoch: 1 Iteration: 0  Loss: 1451.4317626953125  Accuracy: 78.78983306884766 %\n",
      "Epoch: 1 Iteration: 100  Loss: 1259.3817138671875  Accuracy: 87.04617309570312 %\n",
      "Epoch: 1 Iteration: 200  Loss: 1186.468505859375  Accuracy: 87.20841979980469 %\n",
      "Epoch: 1 Iteration: 300  Loss: 995.8748168945312  Accuracy: 82.28875732421875 %\n",
      "Epoch: 1 Iteration: 400  Loss: 1861.387451171875  Accuracy: 77.22734069824219 %\n",
      "Epoch: 1 Iteration: 500  Loss: 1070.0433349609375  Accuracy: 72.2033462524414 %\n",
      "Epoch: 1 Iteration: 600  Loss: 1323.8331298828125  Accuracy: 84.18666076660156 %\n",
      "Epoch: 1 Iteration: 700  Loss: 1241.2464599609375  Accuracy: 76.70176696777344 %\n",
      "Epoch: 1 Iteration: 800  Loss: 1610.958251953125  Accuracy: 88.62028503417969 %\n",
      "Epoch: 1 Iteration: 900  Loss: 2442.22021484375  Accuracy: 88.5484848022461 %\n",
      "Epoch: 1 Iteration: 1000  Loss: 1662.3548583984375  Accuracy: 83.52606201171875 %\n",
      "Epoch: 1 Iteration: 1100  Loss: 1732.386962890625  Accuracy: 86.54825592041016 %\n",
      "Epoch: 1 Iteration: 1200  Loss: 1375.66455078125  Accuracy: 83.84907531738281 %\n",
      "Epoch: 1 Iteration: 1300  Loss: 2917.497802734375  Accuracy: 88.38907623291016 %\n",
      "Epoch: 1 Iteration: 1400  Loss: 2558.907470703125  Accuracy: 86.701416015625 %\n",
      "Epoch: 1 Iteration: 1500  Loss: 2392.49853515625  Accuracy: 84.96308898925781 %\n",
      "Epoch: 1 Iteration: 1600  Loss: 1749.829833984375  Accuracy: 84.60352325439453 %\n",
      "Epoch: 1 Iteration: 1700  Loss: 2091.6962890625  Accuracy: 83.84208679199219 %\n",
      "Epoch: 1 Iteration: 1800  Loss: 1432.0855712890625  Accuracy: 85.96822357177734 %\n",
      "Epoch: 1 Iteration: 1900  Loss: 1419.3553466796875  Accuracy: 76.53616333007812 %\n",
      "Epoch: 1 Iteration: 2000  Loss: 1456.6295166015625  Accuracy: 87.90037536621094 %\n",
      "Epoch: 1 Iteration: 2100  Loss: 2986.553955078125  Accuracy: 86.50077819824219 %\n",
      "Epoch: 1 Iteration: 2200  Loss: 2795.41748046875  Accuracy: 88.18307495117188 %\n",
      "Epoch: 1 Iteration: 2300  Loss: 1186.0655517578125  Accuracy: 84.0833740234375 %\n",
      "Epoch: 1 Iteration: 2400  Loss: 1924.3763427734375  Accuracy: 82.72173309326172 %\n",
      "Epoch: 1 Iteration: 2500  Loss: 1789.773193359375  Accuracy: 88.80977630615234 %\n",
      "Epoch: 1 Iteration: 2600  Loss: 1176.203125  Accuracy: 80.92051696777344 %\n",
      "Epoch: 1 Iteration: 2700  Loss: 2058.099365234375  Accuracy: 69.94617462158203 %\n",
      "Epoch: 1 Iteration: 2800  Loss: 1378.0052490234375  Accuracy: 88.74282836914062 %\n",
      "Epoch: 1 Iteration: 2900  Loss: 1185.914794921875  Accuracy: 79.83113861083984 %\n",
      "Epoch: 1 Iteration: 3000  Loss: 1644.584228515625  Accuracy: 85.10092163085938 %\n",
      "Epoch: 1 Iteration: 3100  Loss: 1415.08935546875  Accuracy: 86.27742767333984 %\n",
      "Epoch: 1 Iteration: 3200  Loss: 1699.598388671875  Accuracy: 87.40027618408203 %\n",
      "Epoch: 1 Iteration: 3300  Loss: 1960.3123779296875  Accuracy: 84.80398559570312 %\n",
      "Epoch: 1 Iteration: 3400  Loss: 2751.78955078125  Accuracy: 84.03590393066406 %\n",
      "Epoch: 1 Iteration: 3500  Loss: 1713.1031494140625  Accuracy: 83.18409729003906 %\n",
      "Epoch: 1 Iteration: 3600  Loss: 3989.24365234375  Accuracy: 87.86779022216797 %\n",
      "Epoch: 1 Iteration: 3700  Loss: 2862.68310546875  Accuracy: 81.08909606933594 %\n",
      "Epoch: 1 Iteration: 3800  Loss: 811.41357421875  Accuracy: 76.25394439697266 %\n",
      "Epoch: 1 Iteration: 3900  Loss: 645.6207885742188  Accuracy: 83.71363830566406 %\n"
     ]
    },
    {
     "name": "stdout",
     "output_type": "stream",
     "text": [
      "Epoch: 1 Iteration: 4000  Loss: 2857.91455078125  Accuracy: 82.54267883300781 %\n",
      "Epoch: 1 Iteration: 4100  Loss: 1270.3221435546875  Accuracy: 86.50741577148438 %\n",
      "Fold 7 Epoch No. : 0 Accuracy for Epoch : 82.38335418701172\n",
      "Epochs completed. Time taken (seconds):  2055.5274481773376\n",
      "Start training...\n",
      "Completed loading data and returning pytorch train and validation data loaders\n",
      "Epoch: 1 Iteration: 0  Loss: 2192.41650390625  Accuracy: 81.49604034423828 %\n",
      "Epoch: 1 Iteration: 100  Loss: 774.2271728515625  Accuracy: 79.78353118896484 %\n",
      "Epoch: 1 Iteration: 200  Loss: 3993.279541015625  Accuracy: 87.20919799804688 %\n",
      "Epoch: 1 Iteration: 300  Loss: 4587.07177734375  Accuracy: 84.36415100097656 %\n",
      "Epoch: 1 Iteration: 400  Loss: 1515.619873046875  Accuracy: 88.74348449707031 %\n",
      "Epoch: 1 Iteration: 500  Loss: 1927.3204345703125  Accuracy: 88.69745635986328 %\n",
      "Epoch: 1 Iteration: 600  Loss: 2143.126708984375  Accuracy: 88.5042495727539 %\n",
      "Epoch: 1 Iteration: 700  Loss: 1842.5419921875  Accuracy: 77.40264129638672 %\n",
      "Epoch: 1 Iteration: 800  Loss: 2272.991455078125  Accuracy: 85.0254135131836 %\n",
      "Epoch: 1 Iteration: 900  Loss: 1147.5863037109375  Accuracy: 88.87834930419922 %\n",
      "Epoch: 1 Iteration: 1000  Loss: 898.2813720703125  Accuracy: 79.76457977294922 %\n",
      "Epoch: 1 Iteration: 1100  Loss: 3256.351318359375  Accuracy: 84.44635009765625 %\n",
      "Epoch: 1 Iteration: 1200  Loss: 2969.623046875  Accuracy: 89.00574493408203 %\n",
      "Epoch: 1 Iteration: 1300  Loss: 922.08642578125  Accuracy: 85.13607788085938 %\n",
      "Epoch: 1 Iteration: 1400  Loss: 2174.694580078125  Accuracy: 84.8634262084961 %\n",
      "Epoch: 1 Iteration: 1500  Loss: 839.8663940429688  Accuracy: 86.6162109375 %\n",
      "Epoch: 1 Iteration: 1600  Loss: 1293.8487548828125  Accuracy: 82.10965728759766 %\n",
      "Epoch: 1 Iteration: 1700  Loss: 1359.8033447265625  Accuracy: 83.84941864013672 %\n",
      "Epoch: 1 Iteration: 1800  Loss: 1419.5650634765625  Accuracy: 88.5546875 %\n",
      "Epoch: 1 Iteration: 1900  Loss: 3365.365234375  Accuracy: 86.2270736694336 %\n",
      "Epoch: 1 Iteration: 2000  Loss: 1721.8912353515625  Accuracy: 87.11910247802734 %\n",
      "Epoch: 1 Iteration: 2100  Loss: 2250.50830078125  Accuracy: 86.49479675292969 %\n",
      "Epoch: 1 Iteration: 2200  Loss: 2558.531982421875  Accuracy: 65.52334594726562 %\n",
      "Epoch: 1 Iteration: 2300  Loss: 1484.7742919921875  Accuracy: 74.42626190185547 %\n",
      "Epoch: 1 Iteration: 2400  Loss: 2044.300048828125  Accuracy: 83.32154083251953 %\n",
      "Epoch: 1 Iteration: 2500  Loss: 1730.7161865234375  Accuracy: 84.69091796875 %\n",
      "Epoch: 1 Iteration: 2600  Loss: 1791.187744140625  Accuracy: 88.23731994628906 %\n",
      "Epoch: 1 Iteration: 2700  Loss: 2071.330810546875  Accuracy: 88.62098693847656 %\n",
      "Epoch: 1 Iteration: 2800  Loss: 4260.43798828125  Accuracy: 85.51826477050781 %\n",
      "Epoch: 1 Iteration: 2900  Loss: 3061.0771484375  Accuracy: 86.96437072753906 %\n",
      "Epoch: 1 Iteration: 3000  Loss: 1132.7095947265625  Accuracy: 88.86101531982422 %\n",
      "Epoch: 1 Iteration: 3100  Loss: 1302.970703125  Accuracy: 88.32548522949219 %\n",
      "Epoch: 1 Iteration: 3200  Loss: 1655.49560546875  Accuracy: 89.17759704589844 %\n",
      "Epoch: 1 Iteration: 3300  Loss: 1560.9215087890625  Accuracy: 86.96214294433594 %\n",
      "Epoch: 1 Iteration: 3400  Loss: 942.27978515625  Accuracy: 81.1241683959961 %\n",
      "Epoch: 1 Iteration: 3500  Loss: 978.7412109375  Accuracy: 79.70033264160156 %\n",
      "Epoch: 1 Iteration: 3600  Loss: 1479.1258544921875  Accuracy: 85.1052017211914 %\n",
      "Epoch: 1 Iteration: 3700  Loss: 1874.5009765625  Accuracy: 88.32758331298828 %\n",
      "Epoch: 1 Iteration: 3800  Loss: 1333.751220703125  Accuracy: 86.54012298583984 %\n",
      "Epoch: 1 Iteration: 3900  Loss: 1188.034423828125  Accuracy: 76.0867691040039 %\n",
      "Epoch: 1 Iteration: 4000  Loss: 2949.40087890625  Accuracy: 85.74510192871094 %\n",
      "Epoch: 1 Iteration: 4100  Loss: 1863.3243408203125  Accuracy: 88.91079711914062 %\n",
      "Fold 8 Epoch No. : 0 Accuracy for Epoch : 73.68395233154297\n",
      "Epochs completed. Time taken (seconds):  2040.7405970096588\n",
      "Start training...\n",
      "Completed loading data and returning pytorch train and validation data loaders\n",
      "Epoch: 1 Iteration: 0  Loss: 2863.356689453125  Accuracy: 81.82469177246094 %\n",
      "Epoch: 1 Iteration: 100  Loss: 1546.6219482421875  Accuracy: 86.05413055419922 %\n",
      "Epoch: 1 Iteration: 200  Loss: 2585.658935546875  Accuracy: 88.9446029663086 %\n",
      "Epoch: 1 Iteration: 300  Loss: 1721.620361328125  Accuracy: 88.70606231689453 %\n",
      "Epoch: 1 Iteration: 400  Loss: 2069.1552734375  Accuracy: 86.8033447265625 %\n",
      "Epoch: 1 Iteration: 500  Loss: 1564.171630859375  Accuracy: 88.8540267944336 %\n",
      "Epoch: 1 Iteration: 600  Loss: 1194.13525390625  Accuracy: 88.56639099121094 %\n",
      "Epoch: 1 Iteration: 700  Loss: 2195.02099609375  Accuracy: 77.48688507080078 %\n",
      "Epoch: 1 Iteration: 800  Loss: 907.2567749023438  Accuracy: 88.27513122558594 %\n",
      "Epoch: 1 Iteration: 900  Loss: 1125.6866455078125  Accuracy: 78.56517791748047 %\n",
      "Epoch: 1 Iteration: 1000  Loss: 1553.225341796875  Accuracy: 86.33516693115234 %\n",
      "Epoch: 1 Iteration: 1100  Loss: 1311.1451416015625  Accuracy: 76.65940856933594 %\n",
      "Epoch: 1 Iteration: 1200  Loss: 2313.541015625  Accuracy: 86.49742126464844 %\n",
      "Epoch: 1 Iteration: 1300  Loss: 1225.2313232421875  Accuracy: 75.26963806152344 %\n",
      "Epoch: 1 Iteration: 1400  Loss: 1618.66455078125  Accuracy: 73.02552795410156 %\n",
      "Epoch: 1 Iteration: 1500  Loss: 1602.2337646484375  Accuracy: 87.95111846923828 %\n",
      "Epoch: 1 Iteration: 1600  Loss: 2471.436767578125  Accuracy: 88.05253601074219 %\n",
      "Epoch: 1 Iteration: 1700  Loss: 990.5294189453125  Accuracy: 87.92182159423828 %\n",
      "Epoch: 1 Iteration: 1800  Loss: 1221.5107421875  Accuracy: 78.7142333984375 %\n",
      "Epoch: 1 Iteration: 1900  Loss: 1908.4056396484375  Accuracy: 73.70356750488281 %\n",
      "Epoch: 1 Iteration: 2000  Loss: 2311.548583984375  Accuracy: 83.93939208984375 %\n",
      "Epoch: 1 Iteration: 2100  Loss: 2206.1103515625  Accuracy: 85.94316101074219 %\n",
      "Epoch: 1 Iteration: 2200  Loss: 1153.6943359375  Accuracy: 89.26529693603516 %\n",
      "Epoch: 1 Iteration: 2300  Loss: 3016.060302734375  Accuracy: 88.19019317626953 %\n",
      "Epoch: 1 Iteration: 2400  Loss: 2380.576904296875  Accuracy: 88.5550765991211 %\n",
      "Epoch: 1 Iteration: 2500  Loss: 1419.900390625  Accuracy: 81.68795013427734 %\n",
      "Epoch: 1 Iteration: 2600  Loss: 920.0238037109375  Accuracy: 83.13990020751953 %\n",
      "Epoch: 1 Iteration: 2700  Loss: 1092.1656494140625  Accuracy: 84.34039306640625 %\n",
      "Epoch: 1 Iteration: 2800  Loss: 3496.231201171875  Accuracy: 85.40339660644531 %\n",
      "Epoch: 1 Iteration: 2900  Loss: 2758.9423828125  Accuracy: 84.78218841552734 %\n",
      "Epoch: 1 Iteration: 3000  Loss: 1321.0264892578125  Accuracy: 86.80775451660156 %\n",
      "Epoch: 1 Iteration: 3100  Loss: 1078.9525146484375  Accuracy: 75.89665985107422 %\n",
      "Epoch: 1 Iteration: 3200  Loss: 1355.104248046875  Accuracy: 88.30805969238281 %\n",
      "Epoch: 1 Iteration: 3300  Loss: 1998.5506591796875  Accuracy: 86.9441909790039 %\n",
      "Epoch: 1 Iteration: 3400  Loss: 2126.52490234375  Accuracy: 84.97999572753906 %\n",
      "Epoch: 1 Iteration: 3500  Loss: 2080.0361328125  Accuracy: 80.69066619873047 %\n",
      "Epoch: 1 Iteration: 3600  Loss: 2582.61865234375  Accuracy: 89.04784393310547 %\n",
      "Epoch: 1 Iteration: 3700  Loss: 1887.350830078125  Accuracy: 77.72529602050781 %\n",
      "Epoch: 1 Iteration: 3800  Loss: 914.095703125  Accuracy: 87.92182159423828 %\n",
      "Epoch: 1 Iteration: 3900  Loss: 643.744873046875  Accuracy: 86.4926986694336 %\n",
      "Epoch: 1 Iteration: 4000  Loss: 2658.32373046875  Accuracy: 85.97634887695312 %\n",
      "Epoch: 1 Iteration: 4100  Loss: 1311.757568359375  Accuracy: 87.89216613769531 %\n",
      "Fold 9 Epoch No. : 0 Accuracy for Epoch : 86.75621795654297\n",
      "Epochs completed. Time taken (seconds):  2038.9603006839752\n",
      "Start training...\n",
      "Completed loading data and returning pytorch train and validation data loaders\n",
      "Epoch: 1 Iteration: 0  Loss: 2004.541748046875  Accuracy: 89.34941101074219 %\n",
      "Epoch: 1 Iteration: 100  Loss: 724.7927856445312  Accuracy: 87.10923767089844 %\n",
      "Epoch: 1 Iteration: 200  Loss: 621.2958374023438  Accuracy: 85.40003967285156 %\n",
      "Epoch: 1 Iteration: 300  Loss: 696.7747802734375  Accuracy: 86.56449890136719 %\n",
      "Epoch: 1 Iteration: 400  Loss: 2783.066650390625  Accuracy: 87.4797134399414 %\n",
      "Epoch: 1 Iteration: 500  Loss: 736.33447265625  Accuracy: 79.68120574951172 %\n",
      "Epoch: 1 Iteration: 600  Loss: 876.0911254882812  Accuracy: 70.40548706054688 %\n",
      "Epoch: 1 Iteration: 700  Loss: 1556.3594970703125  Accuracy: 88.98365020751953 %\n",
      "Epoch: 1 Iteration: 800  Loss: 1936.628173828125  Accuracy: 85.5752944946289 %\n"
     ]
    },
    {
     "name": "stdout",
     "output_type": "stream",
     "text": [
      "Epoch: 1 Iteration: 900  Loss: 1167.20263671875  Accuracy: 88.46882629394531 %\n",
      "Epoch: 1 Iteration: 1000  Loss: 2346.8740234375  Accuracy: 87.08870697021484 %\n",
      "Epoch: 1 Iteration: 1100  Loss: 1811.8145751953125  Accuracy: 82.83624267578125 %\n",
      "Epoch: 1 Iteration: 1200  Loss: 3120.365234375  Accuracy: 88.42803192138672 %\n",
      "Epoch: 1 Iteration: 1300  Loss: 2166.7841796875  Accuracy: 85.20451354980469 %\n",
      "Epoch: 1 Iteration: 1400  Loss: 3321.013916015625  Accuracy: 88.4079818725586 %\n",
      "Epoch: 1 Iteration: 1500  Loss: 1721.1573486328125  Accuracy: 86.94017028808594 %\n",
      "Epoch: 1 Iteration: 1600  Loss: 1277.5701904296875  Accuracy: 88.23735809326172 %\n",
      "Epoch: 1 Iteration: 1700  Loss: 1170.7364501953125  Accuracy: 86.89680480957031 %\n",
      "Epoch: 1 Iteration: 1800  Loss: 2760.3115234375  Accuracy: 74.45089721679688 %\n",
      "Epoch: 1 Iteration: 1900  Loss: 2156.677490234375  Accuracy: 89.173583984375 %\n",
      "Epoch: 1 Iteration: 2000  Loss: 3226.25732421875  Accuracy: 87.1295394897461 %\n",
      "Epoch: 1 Iteration: 2100  Loss: 527.79248046875  Accuracy: 78.31348419189453 %\n",
      "Epoch: 1 Iteration: 2200  Loss: 2484.333984375  Accuracy: 79.08951568603516 %\n",
      "Epoch: 1 Iteration: 2300  Loss: 2840.319091796875  Accuracy: 88.6512451171875 %\n",
      "Epoch: 1 Iteration: 2400  Loss: 2413.929443359375  Accuracy: 77.09334564208984 %\n",
      "Epoch: 1 Iteration: 2500  Loss: 1917.8057861328125  Accuracy: 80.81889343261719 %\n",
      "Epoch: 1 Iteration: 2600  Loss: 1268.059814453125  Accuracy: 84.30549621582031 %\n",
      "Epoch: 1 Iteration: 2700  Loss: 3050.81494140625  Accuracy: 78.94819641113281 %\n",
      "Epoch: 1 Iteration: 2800  Loss: 3751.488037109375  Accuracy: 88.92861938476562 %\n",
      "Epoch: 1 Iteration: 2900  Loss: 1946.0107421875  Accuracy: 86.16702270507812 %\n",
      "Epoch: 1 Iteration: 3000  Loss: 2317.20166015625  Accuracy: 71.72476959228516 %\n",
      "Epoch: 1 Iteration: 3100  Loss: 592.4489135742188  Accuracy: 79.15926361083984 %\n",
      "Epoch: 1 Iteration: 3200  Loss: 1482.41015625  Accuracy: 85.3280258178711 %\n",
      "Epoch: 1 Iteration: 3300  Loss: 1389.1014404296875  Accuracy: 86.21930694580078 %\n",
      "Epoch: 1 Iteration: 3400  Loss: 2067.002685546875  Accuracy: 85.4983901977539 %\n",
      "Epoch: 1 Iteration: 3500  Loss: 1148.912109375  Accuracy: 87.73030853271484 %\n",
      "Epoch: 1 Iteration: 3600  Loss: 2093.99951171875  Accuracy: 82.72885131835938 %\n",
      "Epoch: 1 Iteration: 3700  Loss: 2284.090087890625  Accuracy: 88.74427795410156 %\n",
      "Epoch: 1 Iteration: 3800  Loss: 746.9073486328125  Accuracy: 81.27457427978516 %\n",
      "Epoch: 1 Iteration: 3900  Loss: 1268.0936279296875  Accuracy: 88.03453826904297 %\n",
      "Epoch: 1 Iteration: 4000  Loss: 1571.9810791015625  Accuracy: 84.3123550415039 %\n",
      "Epoch: 1 Iteration: 4100  Loss: 2072.572998046875  Accuracy: 88.71448516845703 %\n",
      "Fold 10 Epoch No. : 0 Accuracy for Epoch : 86.33695983886719\n",
      "Epochs completed. Time taken (seconds):  2028.2645618915558\n",
      "Accuracy score after training on all cross validation sets 86.33695983886719\n"
     ]
    }
   ],
   "source": [
    "accuracy_scores = []\n",
    "losses = []\n",
    "fold_no = 1\n",
    "\n",
    "for train_index, test_index in skf.split(IDS_df, target):\n",
    "    train = IDS_df.loc[train_index,:]\n",
    "    test = IDS_df.loc[test_index,:]\n",
    "    accuracy_score, loss = train_model(train, test, fold_no)\n",
    "    accuracy_scores.append(accuracy_score)\n",
    "    losses.append(loss)\n",
    "    fold_no += 1\n",
    "    \n",
    "print('Accuracy score after training on all cross validation sets', accuracy_scores[-1])"
   ]
  },
  {
   "cell_type": "code",
   "execution_count": 37,
   "metadata": {},
   "outputs": [
    {
     "name": "stdout",
     "output_type": "stream",
     "text": [
      "Accuracy score across after stratified K Fold validation and training 86.33695983886719\n"
     ]
    }
   ],
   "source": [
    "print('Accuracy score across after stratified K Fold validation and training', accuracy_scores[-1])"
   ]
  },
  {
   "cell_type": "code",
   "execution_count": 38,
   "metadata": {},
   "outputs": [],
   "source": [
    "def GetPyTorchTestDataLoader(test_data, test_labels, batch_size=1000):\n",
    "    # Pytorch\n",
    "\n",
    "    X_test = torch.from_numpy(test_data).float()\n",
    "    Y_test = torch.from_numpy(test_labels)\n",
    "\n",
    "    # Pytorch train and test sets\n",
    "    test = torch.utils.data.TensorDataset(X_test, Y_test)\n",
    "\n",
    "    # data loader\n",
    "    test_loader = torch.utils.data.DataLoader(test, batch_size=batch_size)\n",
    "\n",
    "    print('Completed loading data and returning pytorch test data loaders')\n",
    "    return test_loader"
   ]
  },
  {
   "cell_type": "code",
   "execution_count": 39,
   "metadata": {},
   "outputs": [],
   "source": [
    "test_labels = test_df.pop(\"label\").values\n",
    "test_data = test_df.values"
   ]
  },
  {
   "cell_type": "code",
   "execution_count": 40,
   "metadata": {},
   "outputs": [
    {
     "name": "stdout",
     "output_type": "stream",
     "text": [
      "Completed loading data and returning pytorch test data loaders\n"
     ]
    }
   ],
   "source": [
    "test_loader = GetPyTorchTestDataLoader(test_data, test_labels, batch_size=5000)"
   ]
  },
  {
   "cell_type": "code",
   "execution_count": 41,
   "metadata": {},
   "outputs": [],
   "source": [
    "def plot_confusion_matrix(conf_matrix, label_names):\n",
    "    '''Plot confusion matrix\n",
    "    # param conf_matrix: confusion matrix nd array\n",
    "    # return: None\n",
    "    '''\n",
    "    fig, ax = plt.subplots(figsize=(15, 10))\n",
    "    ax.matshow(conf_matrix, cmap=plt.cm.Blues, alpha=0.7)\n",
    "    # show all ticks\n",
    "    ax.set_xticks(np.arange(len(label_names)))\n",
    "    ax.set_yticks(np.arange(len(label_names)))\n",
    "    # label them with the respective list entries\n",
    "    ax.set_xticklabels(label_names,  rotation=45)\n",
    "    ax.set_yticklabels(label_names)\n",
    "    \n",
    "    for i in range(conf_matrix.shape[0]):\n",
    "        for j in range(conf_matrix.shape[1]):\n",
    "            ax.text(x=j, y=i, s=conf_matrix[i,j], va='center', ha='center')\n",
    "    plt.xlabel('Predicted Label')\n",
    "    plt.ylabel('True Label')\n",
    "    plt.title('Confusion Matrix')\n",
    "    plt.tight_layout()\n",
    "    plt.show()"
   ]
  },
  {
   "cell_type": "markdown",
   "metadata": {},
   "source": [
    "Completed loading data and returning pytorch train and validation data loaders"
   ]
  },
  {
   "cell_type": "code",
   "execution_count": 42,
   "metadata": {},
   "outputs": [],
   "source": [
    "# Aggregate all predictions in this torch tensor \n",
    "all_labels = torch.LongTensor([]).to(device)\n",
    "all_predictions = torch.LongTensor([]).to(device)\n",
    "\n",
    "for data, label in test_loader:\n",
    "    valid = data.to(device)                               \n",
    "    label = label.to(device)\n",
    "\n",
    "    # Forward propagation\n",
    "    outputs = model(valid)\n",
    "\n",
    "    # Get predictions from the maximum value\n",
    "    predicted = torch.max(outputs.data, 1)[1]\n",
    "    \n",
    "    all_predictions = torch.cat(\n",
    "        (all_predictions, predicted),\n",
    "        dim =0\n",
    "    )\n",
    "    all_labels = torch.cat(\n",
    "        (all_labels, label),\n",
    "        dim =0\n",
    "    )"
   ]
  },
  {
   "cell_type": "code",
   "execution_count": 43,
   "metadata": {},
   "outputs": [
    {
     "name": "stdout",
     "output_type": "stream",
     "text": [
      "torch.Size([1612354])\n",
      "torch.Size([1612354])\n"
     ]
    }
   ],
   "source": [
    "print(all_labels.size())\n",
    "print(all_predictions.size())"
   ]
  },
  {
   "cell_type": "code",
   "execution_count": 44,
   "metadata": {},
   "outputs": [],
   "source": [
    "LABEL_TO_ID = {  \n",
    "    \"Benign\": 0,\n",
    "    'Infilteration': 1,\n",
    "    'SSH-Bruteforce': 2,\n",
    "    'DDOS attack-HOIC': 3,\n",
    "    'FTP-BruteForce': 4,\n",
    "    'DoS attacks-SlowHTTPTest': 5,\n",
    "    'Bot': 6,\n",
    "    'DoS attacks-Hulk': 7,\n",
    "    'DoS attacks-GoldenEye': 8,\n",
    "    'DDoS attacks-LOIC-HTTP': 9    \n",
    "}\n",
    "\n",
    "ID_TO_LABEL = {\n",
    "    v: k for k, v in LABEL_TO_ID.items()\n",
    "}"
   ]
  },
  {
   "cell_type": "code",
   "execution_count": 45,
   "metadata": {},
   "outputs": [],
   "source": [
    "label_names = []\n",
    "for i in range(10):\n",
    "    label_names.append(ID_TO_LABEL[i])"
   ]
  },
  {
   "cell_type": "code",
   "execution_count": 46,
   "metadata": {},
   "outputs": [
    {
     "name": "stdout",
     "output_type": "stream",
     "text": [
      "['Benign', 'Infilteration', 'SSH-Bruteforce', 'DDOS attack-HOIC', 'FTP-BruteForce', 'DoS attacks-SlowHTTPTest', 'Bot', 'DoS attacks-Hulk', 'DoS attacks-GoldenEye', 'DDoS attacks-LOIC-HTTP']\n"
     ]
    }
   ],
   "source": [
    "print(label_names)"
   ]
  },
  {
   "cell_type": "code",
   "execution_count": 47,
   "metadata": {},
   "outputs": [
    {
     "name": "stdout",
     "output_type": "stream",
     "text": [
      "Converting predictions torch tensor to numpy array\n",
      "Plotting confusion matrix for test data\n"
     ]
    },
    {
     "data": {
      "image/png": "[encoded data removed]",
      "text/plain": [
       "<Figure size 1080x720 with 1 Axes>"
      ]
     },
     "metadata": {
      "needs_background": "light"
     },
     "output_type": "display_data"
    }
   ],
   "source": [
    "print('Converting predictions torch tensor to numpy array')\n",
    "all_preds_np = all_predictions.cpu().data.numpy()\n",
    "all_labels_np = all_labels.cpu().data.numpy()\n",
    "\n",
    "# print the confusion matrix for this epoch and fold\n",
    "print('Plotting confusion matrix for test data')\n",
    "cnf_matrix = confusion_matrix(all_preds_np, all_labels_np, labels=[x for x in range(10)])\n",
    "plot_confusion_matrix(cnf_matrix, label_names)    "
   ]
  },
  {
   "cell_type": "code",
   "execution_count": 48,
   "metadata": {},
   "outputs": [
    {
     "data": {
      "image/png": "[encoded data removed]",
      "text/plain": [
       "<Figure size 432x288 with 1 Axes>"
      ]
     },
     "metadata": {
      "needs_background": "light"
     },
     "output_type": "display_data"
    },
    {
     "data": {
      "image/png": "[encoded data removed]",
      "text/plain": [
       "<Figure size 432x288 with 1 Axes>"
      ]
     },
     "metadata": {
      "needs_background": "light"
     },
     "output_type": "display_data"
    }
   ],
   "source": [
    "plt.plot(losses)\n",
    "plt.xlabel(\"Number of folds\")\n",
    "plt.ylabel(\"Loss\")\n",
    "plt.title(\"Number of folds vs Loss\")\n",
    "plt.show()\n",
    "\n",
    "# visualization accuracy \n",
    "plt.plot(accuracy_scores, color = \"red\")\n",
    "plt.xlabel(\"Number of folds\")\n",
    "plt.ylabel(\"Accuracy\")\n",
    "plt.title(\"Number of folds vs Accuracy\")\n",
    "plt.show()"
   ]
  },
  {
   "cell_type": "code",
   "execution_count": null,
   "metadata": {},
   "outputs": [],
   "source": []
  }
 ],
 "metadata": {
  "kernelspec": {
   "display_name": "Python 3",
   "language": "python",
   "name": "python3"
  },
  "language_info": {
   "codemirror_mode": {
    "name": "ipython",
    "version": 3
   },
   "file_extension": ".py",
   "mimetype": "text/x-python",
   "name": "python",
   "nbconvert_exporter": "python",
   "pygments_lexer": "ipython3",
   "version": "3.7.10"
  }
 },
 "nbformat": 4,
 "nbformat_minor": 4
}
