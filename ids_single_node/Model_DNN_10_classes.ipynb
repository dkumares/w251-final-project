{
 "cells": [
  {
   "cell_type": "code",
   "execution_count": 1,
   "metadata": {},
   "outputs": [],
   "source": [
    "import torch\n",
    "import torchvision\n",
    "import torch.nn as nn\n",
    "import torch.nn.functional as F\n",
    "from torchvision import datasets, transforms\n",
    "import matplotlib.pyplot as plt\n",
    "from torch import optim\n",
    "import numpy as np\n",
    "import pandas as pd\n",
    "import os\n",
    "import io\n",
    "import re\n",
    "import sys\n",
    "import time\n",
    "%matplotlib inline"
   ]
  },
  {
   "cell_type": "code",
   "execution_count": 2,
   "metadata": {
    "scrolled": false
   },
   "outputs": [
    {
     "data": {
      "text/plain": [
       "Index(['Dst Port', 'Protocol', 'Timestamp', 'Flow Duration', 'Tot Fwd Pkts',\n",
       "       'Tot Bwd Pkts', 'TotLen Fwd Pkts', 'TotLen Bwd Pkts', 'Fwd Pkt Len Max',\n",
       "       'Fwd Pkt Len Min', 'Fwd Pkt Len Mean', 'Fwd Pkt Len Std',\n",
       "       'Bwd Pkt Len Max', 'Bwd Pkt Len Min', 'Bwd Pkt Len Mean',\n",
       "       'Bwd Pkt Len Std', 'Flow Byts/s', 'Flow Pkts/s', 'Flow IAT Mean',\n",
       "       'Flow IAT Std', 'Flow IAT Max', 'Flow IAT Min', 'Fwd IAT Tot',\n",
       "       'Fwd IAT Mean', 'Fwd IAT Std', 'Fwd IAT Max', 'Fwd IAT Min',\n",
       "       'Bwd IAT Tot', 'Bwd IAT Mean', 'Bwd IAT Std', 'Bwd IAT Max',\n",
       "       'Bwd IAT Min', 'Fwd PSH Flags', 'Bwd PSH Flags', 'Fwd URG Flags',\n",
       "       'Bwd URG Flags', 'Fwd Header Len', 'Bwd Header Len', 'Fwd Pkts/s',\n",
       "       'Bwd Pkts/s', 'Pkt Len Min', 'Pkt Len Max', 'Pkt Len Mean',\n",
       "       'Pkt Len Std', 'Pkt Len Var', 'FIN Flag Cnt', 'SYN Flag Cnt',\n",
       "       'RST Flag Cnt', 'PSH Flag Cnt', 'ACK Flag Cnt', 'URG Flag Cnt',\n",
       "       'CWE Flag Count', 'ECE Flag Cnt', 'Down/Up Ratio', 'Pkt Size Avg',\n",
       "       'Fwd Seg Size Avg', 'Bwd Seg Size Avg', 'Fwd Byts/b Avg',\n",
       "       'Fwd Pkts/b Avg', 'Fwd Blk Rate Avg', 'Bwd Byts/b Avg',\n",
       "       'Bwd Pkts/b Avg', 'Bwd Blk Rate Avg', 'Subflow Fwd Pkts',\n",
       "       'Subflow Fwd Byts', 'Subflow Bwd Pkts', 'Subflow Bwd Byts',\n",
       "       'Init Fwd Win Byts', 'Init Bwd Win Byts', 'Fwd Act Data Pkts',\n",
       "       'Fwd Seg Size Min', 'Active Mean', 'Active Std', 'Active Max',\n",
       "       'Active Min', 'Idle Mean', 'Idle Std', 'Idle Max', 'Idle Min', 'Label'],\n",
       "      dtype='object')"
      ]
     },
     "execution_count": 2,
     "metadata": {},
     "output_type": "execute_result"
    }
   ],
   "source": [
    "IDS_df = pd.read_csv(\"data/ids_small.csv\")\n",
    "\n",
    "# To display the top 5 rows\n",
    "# IDS_df.head(5)\n",
    "IDS_df.columns"
   ]
  },
  {
   "cell_type": "code",
   "execution_count": 3,
   "metadata": {},
   "outputs": [],
   "source": [
    "IDS_df = IDS_df.drop('Timestamp', axis=1)\n",
    "# IDS_df.columns"
   ]
  },
  {
   "cell_type": "code",
   "execution_count": 4,
   "metadata": {},
   "outputs": [],
   "source": [
    "# for i in range(len(IDS_df.columns)):\n",
    "#     print(IDS_df.columns[i], '-', IDS_df.dtypes[i])"
   ]
  },
  {
   "cell_type": "code",
   "execution_count": 5,
   "metadata": {},
   "outputs": [
    {
     "name": "stdout",
     "output_type": "stream",
     "text": [
      "(60000, 79)\n"
     ]
    }
   ],
   "source": [
    "# print shape before dropping NaN rows\n",
    "print(IDS_df.shape)"
   ]
  },
  {
   "cell_type": "code",
   "execution_count": 6,
   "metadata": {},
   "outputs": [
    {
     "name": "stdout",
     "output_type": "stream",
     "text": [
      "222\n"
     ]
    }
   ],
   "source": [
    "# Finding the null values.\n",
    "print(IDS_df.isin([np.nan, np.inf, -np.inf]).sum().sum())"
   ]
  },
  {
   "cell_type": "code",
   "execution_count": 7,
   "metadata": {},
   "outputs": [],
   "source": [
    "#  first replace infs to NaN:\n",
    "IDS_df = IDS_df.replace([np.inf, -np.inf], np.nan)"
   ]
  },
  {
   "cell_type": "code",
   "execution_count": 8,
   "metadata": {},
   "outputs": [
    {
     "name": "stdout",
     "output_type": "stream",
     "text": [
      "(59889, 79)\n"
     ]
    }
   ],
   "source": [
    "# print shape after dropping NaN rows\n",
    "IDS_df = IDS_df.dropna()\n",
    "print(IDS_df.shape)\n",
    "IDS_df = IDS_df.reset_index(drop=True)"
   ]
  },
  {
   "cell_type": "code",
   "execution_count": 9,
   "metadata": {},
   "outputs": [
    {
     "name": "stdout",
     "output_type": "stream",
     "text": [
      "0\n"
     ]
    }
   ],
   "source": [
    "# Finding the null values.\n",
    "print(IDS_df.isin([np.nan, np.inf, -np.inf]).sum().sum())"
   ]
  },
  {
   "cell_type": "markdown",
   "metadata": {},
   "source": [
    "Examine the proportion of types of traffic:"
   ]
  },
  {
   "cell_type": "code",
   "execution_count": 10,
   "metadata": {},
   "outputs": [
    {
     "data": {
      "text/plain": [
       "SSH-Bruteforce    20000\n",
       "FTP-BruteForce    19999\n",
       "Benign            19890\n",
       "Name: Label, dtype: int64"
      ]
     },
     "execution_count": 10,
     "metadata": {},
     "output_type": "execute_result"
    }
   ],
   "source": [
    "IDS_df['Label'].value_counts()"
   ]
  },
  {
   "cell_type": "markdown",
   "metadata": {},
   "source": [
    "Convert all non-normal observations into a single class:"
   ]
  },
  {
   "cell_type": "code",
   "execution_count": 11,
   "metadata": {},
   "outputs": [],
   "source": [
    "def get_label(text):\n",
    "    \n",
    "    if text == \"Benign\":\n",
    "        return 0\n",
    "    elif text == 'Infilteration':\n",
    "        return 1\n",
    "    elif text == 'DoS attacks-Slowloris':\n",
    "        return 2\n",
    "    elif text == 'SSH-Bruteforce':\n",
    "        return 3\n",
    "    elif text == 'DDOS attack-HOIC':\n",
    "        return 4\n",
    "    elif text == 'FTP-BruteForce':\n",
    "        return 5\n",
    "    elif text == 'DoS attacks-SlowHTTPTest':\n",
    "        return 6\n",
    "    elif text == 'Bot':\n",
    "        return 7\n",
    "    elif text == 'DoS attacks-Hulk':\n",
    "        return 8\n",
    "    elif text == 'DoS attacks-GoldenEye':\n",
    "        return 9\n",
    "\n",
    "IDS_df[\"Label\"] = IDS_df[\"Label\"].apply(get_label)"
   ]
  },
  {
   "cell_type": "code",
   "execution_count": 12,
   "metadata": {},
   "outputs": [
    {
     "name": "stdout",
     "output_type": "stream",
     "text": [
      "3    20000\n",
      "5    19999\n",
      "0    19890\n",
      "Name: Label, dtype: int64\n"
     ]
    }
   ],
   "source": [
    "#y = IDS_df[\"Label\"].values\n",
    "print(IDS_df[\"Label\"].value_counts())"
   ]
  },
  {
   "cell_type": "markdown",
   "metadata": {},
   "source": [
    "Convert all categorical features into numerical form:"
   ]
  },
  {
   "cell_type": "code",
   "execution_count": 13,
   "metadata": {},
   "outputs": [],
   "source": [
    "from sklearn.preprocessing import LabelEncoder\n",
    "\n",
    "encodings_dictionary = dict()\n",
    "for c in IDS_df.columns:\n",
    "    if IDS_df[c].dtype == \"object\":\n",
    "        encodings_dictionary[c] = LabelEncoder()\n",
    "        IDS_df[c] = encodings_dictionary[c].fit_transform(IDS_df[c])"
   ]
  },
  {
   "cell_type": "markdown",
   "metadata": {},
   "source": [
    "Split the dataset into normal and abnormal observations:"
   ]
  },
  {
   "cell_type": "code",
   "execution_count": 15,
   "metadata": {},
   "outputs": [],
   "source": [
    "IDS_df_normal = IDS_df[IDS_df[\"Label\"] == 0] #.sample(50000)  # Taking only 50000 samples to balance. Change this as required.\n",
    "IDS_df_abnormal = IDS_df[IDS_df[\"Label\"] != 0]\n",
    "y_normal = IDS_df_normal.pop(\"Label\").values\n",
    "X_normal = IDS_df_normal.values\n",
    "y_anomaly = IDS_df_abnormal.pop(\"Label\").values\n",
    "X_anomaly = IDS_df_abnormal.values"
   ]
  },
  {
   "cell_type": "markdown",
   "metadata": {},
   "source": [
    "Train-test split the dataset:"
   ]
  },
  {
   "cell_type": "code",
   "execution_count": 16,
   "metadata": {},
   "outputs": [],
   "source": [
    "from sklearn.model_selection import train_test_split\n",
    "\n",
    "X_normal_train, X_normal_test, y_normal_train, y_normal_test = train_test_split(\n",
    "    X_normal, y_normal, test_size=0.2, random_state=11)\n",
    "\n",
    "X_anomaly_train, X_anomaly_test, y_anomaly_train, y_anomaly_test = train_test_split(\n",
    "    X_anomaly, y_anomaly, test_size=0.2, random_state=11, stratify=y_anomaly)\n",
    "\n",
    "import numpy as np\n",
    "\n",
    "X_train = np.concatenate((X_normal_train, X_anomaly_train))\n",
    "y_train = np.concatenate((y_normal_train, y_anomaly_train))\n",
    "X_test = np.concatenate((X_normal_test, X_anomaly_test))\n",
    "y_test = np.concatenate((y_normal_test, y_anomaly_test))\n",
    "\n",
    "# X_train = np.concatenate((X_normal_train[:10000], X_anomaly_train[:10000]))\n",
    "# y_train = np.concatenate((y_normal_train[:10000], y_anomaly_train[:10000]))\n",
    "# X_test = np.concatenate((X_normal_test[:1000], X_anomaly_test[:1000]))\n",
    "# y_test = np.concatenate((y_normal_test[:1000], y_anomaly_test[:1000]))"
   ]
  },
  {
   "cell_type": "code",
   "execution_count": 17,
   "metadata": {},
   "outputs": [
    {
     "name": "stdout",
     "output_type": "stream",
     "text": [
      "(47911, 78)\n",
      "(11978, 78)\n",
      "(47911,)\n",
      "(11978,)\n"
     ]
    }
   ],
   "source": [
    "print(X_train.shape)\n",
    "print(X_test.shape)\n",
    "print(y_train.shape)\n",
    "print(y_test.shape)"
   ]
  },
  {
   "cell_type": "code",
   "execution_count": 18,
   "metadata": {},
   "outputs": [
    {
     "name": "stdout",
     "output_type": "stream",
     "text": [
      "Completed loading data\n"
     ]
    }
   ],
   "source": [
    "batch_size = 1000\n",
    "\n",
    "# Pytorch\n",
    "X_train  = torch.from_numpy(X_train).float()\n",
    "y_train = torch.from_numpy(y_train)\n",
    "\n",
    "X_test = torch.from_numpy(X_test).float()\n",
    "y_test = torch.from_numpy(y_test)\n",
    "\n",
    "# Pytorch train and test sets\n",
    "train = torch.utils.data.TensorDataset(X_train, y_train)\n",
    "valid = torch.utils.data.TensorDataset(X_test, y_test)\n",
    "\n",
    "# data loader\n",
    "train_loader = torch.utils.data.DataLoader(train, batch_size = batch_size, shuffle = True)\n",
    "valid_loader = torch.utils.data.DataLoader(valid, batch_size = batch_size, shuffle = True)\n",
    "\n",
    "print('Completed loading data')"
   ]
  },
  {
   "cell_type": "code",
   "execution_count": 19,
   "metadata": {},
   "outputs": [
    {
     "data": {
      "text/plain": [
       "torch.Size([47911, 78])"
      ]
     },
     "execution_count": 19,
     "metadata": {},
     "output_type": "execute_result"
    }
   ],
   "source": [
    "train_loader.dataset.tensors[0].shape"
   ]
  },
  {
   "cell_type": "code",
   "execution_count": 22,
   "metadata": {},
   "outputs": [
    {
     "name": "stdout",
     "output_type": "stream",
     "text": [
      "MLP(\n",
      "  (layer1): Linear(in_features=78, out_features=128, bias=True)\n",
      "  (activ1): ReLU()\n",
      "  (layer2): Linear(in_features=128, out_features=10, bias=True)\n",
      ")\n"
     ]
    }
   ],
   "source": [
    "device = 'cpu'\n",
    "if torch.cuda.is_available():\n",
    "    device = 'cuda'\n",
    "        \n",
    "# Defining the DNN model\n",
    "input_size = train_loader.dataset.tensors[0].shape[1]\n",
    "hidden_layers = [128]\n",
    "output_size = 10\n",
    "\n",
    "# model definition\n",
    "class MLP(nn.Module):\n",
    "    # define model elements\n",
    "    def __init__(self, n_inputs):\n",
    "        super(MLP, self).__init__()\n",
    "        self.layer1 = nn.Linear(n_inputs, hidden_layers[0])\n",
    "        self.activ1 = nn.ReLU()\n",
    "        \n",
    "#         self.layer2 = nn.Linear(hidden_layers[0], hidden_layers[1])\n",
    "#         self.activ2 = nn.ReLU()\n",
    "        \n",
    "#         self.layer3 = nn.Linear(hidden_layers[1], hidden_layers[2])\n",
    "#         self.activ3 = nn.ReLU()\n",
    "        \n",
    "        self.layer2 = nn.Linear(hidden_layers[0], output_size)\n",
    "        \n",
    "    # forward propagate input\n",
    "    def forward(self, x):\n",
    "        x = self.layer1(x)\n",
    "        x = self.activ1(x)\n",
    "        \n",
    "        x = self.layer2(x)\n",
    "#         x = self.activ2(x)\n",
    "        \n",
    "#         x = self.layer3(x)\n",
    "#         x = self.activ3(x)\n",
    "        \n",
    "#         x = self.layer4(x)\n",
    "        return x\n",
    "\n",
    "model = MLP(input_size)\n",
    "print(model)\n",
    "model.to(device)\n",
    "\n",
    " # Cross Entropy Loss \n",
    "error = nn.CrossEntropyLoss().to(device)\n",
    "# SGD Optimizer\n",
    "learning_rate = 0.0001\n",
    "# TODO: Try SGD\n",
    "optimizer = torch.optim.Adam(model.parameters(), lr=learning_rate)"
   ]
  },
  {
   "cell_type": "code",
   "execution_count": 23,
   "metadata": {},
   "outputs": [
    {
     "name": "stdout",
     "output_type": "stream",
     "text": [
      "Start training...\n",
      "Epoch: 1 Iteration: 0  Loss: 623777.5  Accuracy: 3 %\n",
      "Epoch: 11 Iteration: 500  Loss: 26.48093605041504  Accuracy: 98 %\n",
      "Epoch: 21 Iteration: 1000  Loss: 0.2559714615345001  Accuracy: 99 %\n",
      "Epoch: 32 Iteration: 1500  Loss: 0.2896396517753601  Accuracy: 99 %\n",
      "Epoch: 42 Iteration: 2000  Loss: 0.5781799554824829  Accuracy: 99 %\n",
      "Epochs completed. Time taken (seconds):  65.97516202926636\n"
     ]
    }
   ],
   "source": [
    "print('Start training...')\n",
    "start_time = time.time()\n",
    "    \n",
    "epochs = 50\n",
    "\n",
    "count = 0\n",
    "loss_list = []\n",
    "iteration_list = []\n",
    "accuracy_list = []\n",
    "\n",
    "for e in range(epochs):\n",
    "    for i, (data, labels) in enumerate(train_loader):\n",
    "        train = data.to(device)\n",
    "        #print(labels)\n",
    "        labels = labels.to(device)\n",
    "\n",
    "        # Clear gradients\n",
    "        optimizer.zero_grad()\n",
    "        # Forward propagation\n",
    "        outputs = model(train)\n",
    "        \n",
    "        # Calculate softmax and cross entropy loss\n",
    "        loss = error(outputs, labels)\n",
    "        # Calculating gradients\n",
    "        loss.backward()\n",
    "        # Update parameters\n",
    "        optimizer.step()\n",
    "\n",
    "        if count % 500 == 0:\n",
    "            # Calculate Accuracy         \n",
    "            correct = 0\n",
    "            total = 0\n",
    "            # Iterate through test dataset\n",
    "            for data, labels in valid_loader:\n",
    "                valid = data.to(device)\n",
    "                #print('Lables:', labels)\n",
    "                \n",
    "                labels = labels.to(device)\n",
    "\n",
    "                # Forward propagation\n",
    "                outputs = model(valid)\n",
    "                # Get predictions from the maximum value\n",
    "                predicted = torch.max(outputs.data, 1)[1]\n",
    "\n",
    "                #print('Predicted: ', predicted)\n",
    "                \n",
    "                # Total number of labels\n",
    "                total += len(labels)\n",
    "                correct += (predicted == labels).sum()\n",
    "\n",
    "            accuracy = 100 * correct / float(total)\n",
    "\n",
    "            # store loss and iteration\n",
    "            loss_list.append(loss.data)\n",
    "            iteration_list.append(count)\n",
    "            accuracy_list.append(accuracy)\n",
    "        if count % 500 == 0:\n",
    "            # Print Loss\n",
    "            print('Epoch: {} Iteration: {}  Loss: {}  Accuracy: {} %'.format(e + 1, count, loss.data, accuracy))\n",
    "\n",
    "        count += 1\n",
    "\n",
    "end_time = time.time()\n",
    "print('Epochs completed. Time taken (seconds): ', str(end_time - start_time))\n",
    "    "
   ]
  },
  {
   "cell_type": "code",
   "execution_count": 24,
   "metadata": {},
   "outputs": [
    {
     "data": {
      "image/png": "[encoded data removed]",
      "text/plain": [
       "<Figure size 432x288 with 1 Axes>"
      ]
     },
     "metadata": {
      "needs_background": "light"
     },
     "output_type": "display_data"
    },
    {
     "data": {
      "image/png": "[encoded data removed]",
      "text/plain": [
       "<Figure size 432x288 with 1 Axes>"
      ]
     },
     "metadata": {
      "needs_background": "light"
     },
     "output_type": "display_data"
    }
   ],
   "source": [
    "plt.plot(iteration_list,loss_list)\n",
    "plt.xlabel(\"Number of iteration\")\n",
    "plt.ylabel(\"Loss\")\n",
    "plt.title(\"Loss vs Number of iteration\")\n",
    "plt.show()\n",
    "\n",
    "# visualization accuracy \n",
    "plt.plot(iteration_list,accuracy_list,color = \"red\")\n",
    "plt.xlabel(\"Number of iteration\")\n",
    "plt.ylabel(\"Accuracy\")\n",
    "plt.title(\"Accuracy vs Number of iteration\")\n",
    "plt.show()"
   ]
  },
  {
   "cell_type": "code",
   "execution_count": null,
   "metadata": {},
   "outputs": [],
   "source": []
  }
 ],
 "metadata": {
  "kernelspec": {
   "display_name": "Python 3",
   "language": "python",
   "name": "python3"
  },
  "language_info": {
   "codemirror_mode": {
    "name": "ipython",
    "version": 3
   },
   "file_extension": ".py",
   "mimetype": "text/x-python",
   "name": "python",
   "nbconvert_exporter": "python",
   "pygments_lexer": "ipython3",
   "version": "3.6.9"
  }
 },
 "nbformat": 4,
 "nbformat_minor": 4
}
