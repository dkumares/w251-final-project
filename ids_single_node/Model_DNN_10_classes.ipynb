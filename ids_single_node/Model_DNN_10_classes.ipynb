{
 "cells": [
  {
   "cell_type": "code",
   "execution_count": 1,
   "metadata": {},
   "outputs": [],
   "source": [
    "import torch\n",
    "import torchvision\n",
    "import torch.nn as nn\n",
    "import torch.nn.functional as F\n",
    "from torchvision import datasets, transforms\n",
    "import matplotlib.pyplot as plt\n",
    "from torch import optim\n",
    "import numpy as np\n",
    "import pandas as pd\n",
    "import os\n",
    "import io\n",
    "import re\n",
    "import sys\n",
    "import time\n",
    "%matplotlib inline"
   ]
  },
  {
   "cell_type": "code",
   "execution_count": 2,
   "metadata": {
    "scrolled": false
   },
   "outputs": [
    {
     "data": {
      "text/plain": [
       "Index(['Dst Port', 'Protocol', 'Timestamp', 'Flow Duration', 'Tot Fwd Pkts',\n",
       "       'Tot Bwd Pkts', 'TotLen Fwd Pkts', 'TotLen Bwd Pkts', 'Fwd Pkt Len Max',\n",
       "       'Fwd Pkt Len Min', 'Fwd Pkt Len Mean', 'Fwd Pkt Len Std',\n",
       "       'Bwd Pkt Len Max', 'Bwd Pkt Len Min', 'Bwd Pkt Len Mean',\n",
       "       'Bwd Pkt Len Std', 'Flow Byts/s', 'Flow Pkts/s', 'Flow IAT Mean',\n",
       "       'Flow IAT Std', 'Flow IAT Max', 'Flow IAT Min', 'Fwd IAT Tot',\n",
       "       'Fwd IAT Mean', 'Fwd IAT Std', 'Fwd IAT Max', 'Fwd IAT Min',\n",
       "       'Bwd IAT Tot', 'Bwd IAT Mean', 'Bwd IAT Std', 'Bwd IAT Max',\n",
       "       'Bwd IAT Min', 'Fwd PSH Flags', 'Bwd PSH Flags', 'Fwd URG Flags',\n",
       "       'Bwd URG Flags', 'Fwd Header Len', 'Bwd Header Len', 'Fwd Pkts/s',\n",
       "       'Bwd Pkts/s', 'Pkt Len Min', 'Pkt Len Max', 'Pkt Len Mean',\n",
       "       'Pkt Len Std', 'Pkt Len Var', 'FIN Flag Cnt', 'SYN Flag Cnt',\n",
       "       'RST Flag Cnt', 'PSH Flag Cnt', 'ACK Flag Cnt', 'URG Flag Cnt',\n",
       "       'CWE Flag Count', 'ECE Flag Cnt', 'Down/Up Ratio', 'Pkt Size Avg',\n",
       "       'Fwd Seg Size Avg', 'Bwd Seg Size Avg', 'Fwd Byts/b Avg',\n",
       "       'Fwd Pkts/b Avg', 'Fwd Blk Rate Avg', 'Bwd Byts/b Avg',\n",
       "       'Bwd Pkts/b Avg', 'Bwd Blk Rate Avg', 'Subflow Fwd Pkts',\n",
       "       'Subflow Fwd Byts', 'Subflow Bwd Pkts', 'Subflow Bwd Byts',\n",
       "       'Init Fwd Win Byts', 'Init Bwd Win Byts', 'Fwd Act Data Pkts',\n",
       "       'Fwd Seg Size Min', 'Active Mean', 'Active Std', 'Active Max',\n",
       "       'Active Min', 'Idle Mean', 'Idle Std', 'Idle Max', 'Idle Min', 'Label'],\n",
       "      dtype='object')"
      ]
     },
     "execution_count": 2,
     "metadata": {},
     "output_type": "execute_result"
    }
   ],
   "source": [
    "IDS_df = pd.read_csv(\"data/ids.csv\")\n",
    "\n",
    "# To display the top 5 rows\n",
    "# IDS_df.head(5)\n",
    "IDS_df.columns"
   ]
  },
  {
   "cell_type": "code",
   "execution_count": 3,
   "metadata": {},
   "outputs": [],
   "source": [
    "IDS_df = IDS_df.drop('Timestamp', axis=1)\n",
    "# IDS_df.columns"
   ]
  },
  {
   "cell_type": "code",
   "execution_count": 4,
   "metadata": {},
   "outputs": [],
   "source": [
    "# for i in range(len(IDS_df.columns)):\n",
    "#     print(IDS_df.columns[i], '-', IDS_df.dtypes[i])"
   ]
  },
  {
   "cell_type": "code",
   "execution_count": 5,
   "metadata": {},
   "outputs": [
    {
     "name": "stdout",
     "output_type": "stream",
     "text": [
      "(350990, 79)\n"
     ]
    }
   ],
   "source": [
    "# print shape before dropping NaN rows\n",
    "print(IDS_df.shape)"
   ]
  },
  {
   "cell_type": "code",
   "execution_count": 6,
   "metadata": {},
   "outputs": [
    {
     "name": "stdout",
     "output_type": "stream",
     "text": [
      "2390\n"
     ]
    }
   ],
   "source": [
    "# Finding the null values.\n",
    "print(IDS_df.isin([np.nan, np.inf, -np.inf]).sum().sum())"
   ]
  },
  {
   "cell_type": "code",
   "execution_count": 7,
   "metadata": {},
   "outputs": [],
   "source": [
    "#  first replace infs to NaN:\n",
    "IDS_df = IDS_df.replace([np.inf, -np.inf], np.nan)"
   ]
  },
  {
   "cell_type": "code",
   "execution_count": 8,
   "metadata": {},
   "outputs": [
    {
     "name": "stdout",
     "output_type": "stream",
     "text": [
      "(349795, 79)\n"
     ]
    }
   ],
   "source": [
    "# print shape after dropping NaN rows\n",
    "IDS_df = IDS_df.dropna()\n",
    "print(IDS_df.shape)\n",
    "IDS_df = IDS_df.reset_index(drop=True)"
   ]
  },
  {
   "cell_type": "code",
   "execution_count": 9,
   "metadata": {},
   "outputs": [
    {
     "name": "stdout",
     "output_type": "stream",
     "text": [
      "0\n"
     ]
    }
   ],
   "source": [
    "# Finding the null values.\n",
    "print(IDS_df.isin([np.nan, np.inf, -np.inf]).sum().sum())"
   ]
  },
  {
   "cell_type": "markdown",
   "metadata": {},
   "source": [
    "Examine the proportion of types of traffic:"
   ]
  },
  {
   "cell_type": "code",
   "execution_count": 10,
   "metadata": {},
   "outputs": [
    {
     "data": {
      "text/plain": [
       "Benign                      159133\n",
       "Infilteration                39672\n",
       "DoS attacks-SlowHTTPTest     20000\n",
       "FTP-BruteForce               20000\n",
       "Bot                          20000\n",
       "DoS attacks-Hulk             20000\n",
       "DDOS attack-HOIC             20000\n",
       "DoS attacks-GoldenEye        20000\n",
       "SSH-Bruteforce               20000\n",
       "DoS attacks-Slowloris        10990\n",
       "Name: Label, dtype: int64"
      ]
     },
     "execution_count": 10,
     "metadata": {},
     "output_type": "execute_result"
    }
   ],
   "source": [
    "IDS_df['Label'].value_counts()"
   ]
  },
  {
   "cell_type": "markdown",
   "metadata": {},
   "source": [
    "Convert all non-normal observations into a single class:"
   ]
  },
  {
   "cell_type": "code",
   "execution_count": 11,
   "metadata": {},
   "outputs": [],
   "source": [
    "def get_label(text):\n",
    "    \n",
    "    if text == \"Benign\":\n",
    "        return 0\n",
    "    elif text == 'Infilteration':\n",
    "        return 1\n",
    "    elif text == 'DoS attacks-Slowloris':\n",
    "        return 2\n",
    "    elif text == 'SSH-Bruteforce':\n",
    "        return 3\n",
    "    elif text == 'DDOS attack-HOIC':\n",
    "        return 4\n",
    "    elif text == 'FTP-BruteForce':\n",
    "        return 5\n",
    "    elif text == 'DoS attacks-SlowHTTPTest':\n",
    "        return 6\n",
    "    elif text == 'Bot':\n",
    "        return 7\n",
    "    elif text == 'DoS attacks-Hulk':\n",
    "        return 8\n",
    "    elif text == 'DoS attacks-GoldenEye':\n",
    "        return 9\n",
    "\n",
    "IDS_df[\"Label\"] = IDS_df[\"Label\"].apply(get_label)"
   ]
  },
  {
   "cell_type": "code",
   "execution_count": 12,
   "metadata": {},
   "outputs": [
    {
     "name": "stdout",
     "output_type": "stream",
     "text": [
      "0    159133\n",
      "1     39672\n",
      "9     20000\n",
      "8     20000\n",
      "7     20000\n",
      "6     20000\n",
      "5     20000\n",
      "4     20000\n",
      "3     20000\n",
      "2     10990\n",
      "Name: Label, dtype: int64\n"
     ]
    }
   ],
   "source": [
    "#y = IDS_df[\"Label\"].values\n",
    "print(IDS_df[\"Label\"].value_counts())"
   ]
  },
  {
   "cell_type": "markdown",
   "metadata": {},
   "source": [
    "Convert all categorical features into numerical form:"
   ]
  },
  {
   "cell_type": "code",
   "execution_count": 13,
   "metadata": {},
   "outputs": [],
   "source": [
    "from sklearn.preprocessing import LabelEncoder\n",
    "\n",
    "encodings_dictionary = dict()\n",
    "for c in IDS_df.columns:\n",
    "    if IDS_df[c].dtype == \"object\":\n",
    "        encodings_dictionary[c] = LabelEncoder()\n",
    "        IDS_df[c] = encodings_dictionary[c].fit_transform(IDS_df[c])"
   ]
  },
  {
   "cell_type": "markdown",
   "metadata": {},
   "source": [
    "Split the dataset into normal and abnormal observations:"
   ]
  },
  {
   "cell_type": "code",
   "execution_count": 14,
   "metadata": {},
   "outputs": [],
   "source": [
    "IDS_df_normal = IDS_df[IDS_df[\"Label\"] == 0].sample(50000)  # Taking only 50000 samples to balance. Change this as required.\n",
    "IDS_df_abnormal = IDS_df[IDS_df[\"Label\"] != 0]\n",
    "y_normal = IDS_df_normal.pop(\"Label\").values\n",
    "X_normal = IDS_df_normal.values\n",
    "y_anomaly = IDS_df_abnormal.pop(\"Label\").values\n",
    "X_anomaly = IDS_df_abnormal.values"
   ]
  },
  {
   "cell_type": "markdown",
   "metadata": {},
   "source": [
    "Train-test split the dataset:"
   ]
  },
  {
   "cell_type": "code",
   "execution_count": 15,
   "metadata": {},
   "outputs": [],
   "source": [
    "from sklearn.model_selection import train_test_split\n",
    "\n",
    "X_normal_train, X_normal_test, y_normal_train, y_normal_test = train_test_split(\n",
    "    X_normal, y_normal, test_size=0.2, random_state=11)\n",
    "\n",
    "X_anomaly_train, X_anomaly_test, y_anomaly_train, y_anomaly_test = train_test_split(\n",
    "    X_anomaly, y_anomaly, test_size=0.2, random_state=11, stratify=y_anomaly)\n",
    "\n",
    "import numpy as np\n",
    "\n",
    "X_train = np.concatenate((X_normal_train, X_anomaly_train))\n",
    "y_train = np.concatenate((y_normal_train, y_anomaly_train))\n",
    "X_test = np.concatenate((X_normal_test, X_anomaly_test))\n",
    "y_test = np.concatenate((y_normal_test, y_anomaly_test))\n",
    "\n",
    "# X_train = np.concatenate((X_normal_train[:10000], X_anomaly_train[:10000]))\n",
    "# y_train = np.concatenate((y_normal_train[:10000], y_anomaly_train[:10000]))\n",
    "# X_test = np.concatenate((X_normal_test[:1000], X_anomaly_test[:1000]))\n",
    "# y_test = np.concatenate((y_normal_test[:1000], y_anomaly_test[:1000]))"
   ]
  },
  {
   "cell_type": "code",
   "execution_count": 16,
   "metadata": {},
   "outputs": [
    {
     "name": "stdout",
     "output_type": "stream",
     "text": [
      "(192529, 78)\n",
      "(48133, 78)\n",
      "(192529,)\n",
      "(48133,)\n"
     ]
    }
   ],
   "source": [
    "print(X_train.shape)\n",
    "print(X_test.shape)\n",
    "print(y_train.shape)\n",
    "print(y_test.shape)"
   ]
  },
  {
   "cell_type": "code",
   "execution_count": 17,
   "metadata": {},
   "outputs": [
    {
     "name": "stdout",
     "output_type": "stream",
     "text": [
      "Completed loading data\n"
     ]
    }
   ],
   "source": [
    "batch_size = 1000\n",
    "\n",
    "# Pytorch\n",
    "X_train  = torch.from_numpy(X_train).float()\n",
    "y_train = torch.from_numpy(y_train)\n",
    "\n",
    "X_test = torch.from_numpy(X_test).float()\n",
    "y_test = torch.from_numpy(y_test)\n",
    "\n",
    "# Pytorch train and test sets\n",
    "train = torch.utils.data.TensorDataset(X_train, y_train)\n",
    "valid = torch.utils.data.TensorDataset(X_test, y_test)\n",
    "\n",
    "# data loader\n",
    "train_loader = torch.utils.data.DataLoader(train, batch_size = batch_size, shuffle = True)\n",
    "valid_loader = torch.utils.data.DataLoader(valid, batch_size = batch_size, shuffle = True)\n",
    "\n",
    "print('Completed loading data')"
   ]
  },
  {
   "cell_type": "code",
   "execution_count": 18,
   "metadata": {},
   "outputs": [
    {
     "data": {
      "text/plain": [
       "torch.Size([192529, 78])"
      ]
     },
     "execution_count": 18,
     "metadata": {},
     "output_type": "execute_result"
    }
   ],
   "source": [
    "train_loader.dataset.tensors[0].shape"
   ]
  },
  {
   "cell_type": "code",
   "execution_count": 21,
   "metadata": {},
   "outputs": [
    {
     "name": "stdout",
     "output_type": "stream",
     "text": [
      "MLP(\n",
      "  (layer1): Linear(in_features=78, out_features=128, bias=True)\n",
      "  (activ1): ReLU()\n",
      "  (layer2): Linear(in_features=128, out_features=10, bias=True)\n",
      ")\n"
     ]
    }
   ],
   "source": [
    "device = 'cpu'\n",
    "if torch.cuda.is_available():\n",
    "    device = 'cuda'\n",
    "        \n",
    "# Defining the DNN model\n",
    "input_size = train_loader.dataset.tensors[0].shape[1]\n",
    "hidden_layers = [128]\n",
    "output_size = 10\n",
    "\n",
    "# model definition\n",
    "class MLP(nn.Module):\n",
    "    # define model elements\n",
    "    def __init__(self, n_inputs):\n",
    "        super(MLP, self).__init__()\n",
    "        self.layer1 = nn.Linear(n_inputs, hidden_layers[0])\n",
    "        self.activ1 = nn.ReLU()\n",
    "        \n",
    "#         self.layer2 = nn.Linear(hidden_layers[0], hidden_layers[1])\n",
    "#         self.activ2 = nn.ReLU()\n",
    "        \n",
    "#         self.layer3 = nn.Linear(hidden_layers[1], hidden_layers[2])\n",
    "#         self.activ3 = nn.ReLU()\n",
    "        \n",
    "        self.layer2 = nn.Linear(hidden_layers[0], output_size)\n",
    "        \n",
    "    # forward propagate input\n",
    "    def forward(self, x):\n",
    "        x = self.layer1(x)\n",
    "        x = self.activ1(x)\n",
    "        \n",
    "        x = self.layer2(x)\n",
    "#         x = self.activ2(x)\n",
    "        \n",
    "#         x = self.layer3(x)\n",
    "#         x = self.activ3(x)\n",
    "        \n",
    "#         x = self.layer4(x)\n",
    "        return x\n",
    "\n",
    "model = MLP(input_size)\n",
    "print(model)\n",
    "model.to(device)\n",
    "\n",
    " # Cross Entropy Loss \n",
    "error = nn.CrossEntropyLoss().to(device)\n",
    "# SGD Optimizer\n",
    "learning_rate = 0.0001\n",
    "# TODO: Try SGD\n",
    "optimizer = torch.optim.Adam(model.parameters(), lr=learning_rate)"
   ]
  },
  {
   "cell_type": "code",
   "execution_count": 22,
   "metadata": {},
   "outputs": [
    {
     "name": "stdout",
     "output_type": "stream",
     "text": [
      "Start training...\n",
      "Epoch: 1 Iteration: 0  Loss: 909584.8125  Accuracy: 7 %\n",
      "Epoch: 3 Iteration: 500  Loss: 4218.39794921875  Accuracy: 59 %\n",
      "Epoch: 6 Iteration: 1000  Loss: 4317.57568359375  Accuracy: 63 %\n",
      "Epoch: 8 Iteration: 1500  Loss: 2082.132568359375  Accuracy: 59 %\n",
      "Epoch: 11 Iteration: 2000  Loss: 2756.876220703125  Accuracy: 68 %\n",
      "Epoch: 13 Iteration: 2500  Loss: 1122.4595947265625  Accuracy: 65 %\n",
      "Epoch: 16 Iteration: 3000  Loss: 1546.0135498046875  Accuracy: 65 %\n",
      "Epoch: 19 Iteration: 3500  Loss: 2396.613037109375  Accuracy: 63 %\n",
      "Epoch: 21 Iteration: 4000  Loss: 1397.1307373046875  Accuracy: 69 %\n",
      "Epoch: 24 Iteration: 4500  Loss: 2363.828369140625  Accuracy: 73 %\n",
      "Epoch: 26 Iteration: 5000  Loss: 1485.408203125  Accuracy: 68 %\n",
      "Epoch: 29 Iteration: 5500  Loss: 2084.679443359375  Accuracy: 74 %\n",
      "Epoch: 32 Iteration: 6000  Loss: 1211.1502685546875  Accuracy: 68 %\n",
      "Epoch: 34 Iteration: 6500  Loss: 1215.8023681640625  Accuracy: 73 %\n",
      "Epoch: 37 Iteration: 7000  Loss: 1270.429931640625  Accuracy: 76 %\n",
      "Epoch: 39 Iteration: 7500  Loss: 639.7523803710938  Accuracy: 72 %\n",
      "Epoch: 42 Iteration: 8000  Loss: 1384.97607421875  Accuracy: 72 %\n",
      "Epoch: 45 Iteration: 8500  Loss: 1947.5030517578125  Accuracy: 70 %\n",
      "Epoch: 47 Iteration: 9000  Loss: 922.2549438476562  Accuracy: 72 %\n",
      "Epoch: 50 Iteration: 9500  Loss: 819.9815063476562  Accuracy: 77 %\n",
      "Epoch: 52 Iteration: 10000  Loss: 1053.3927001953125  Accuracy: 75 %\n",
      "Epoch: 55 Iteration: 10500  Loss: 1479.19482421875  Accuracy: 77 %\n",
      "Epoch: 57 Iteration: 11000  Loss: 1336.14794921875  Accuracy: 70 %\n",
      "Epoch: 60 Iteration: 11500  Loss: 627.58251953125  Accuracy: 75 %\n",
      "Epoch: 63 Iteration: 12000  Loss: 1041.8670654296875  Accuracy: 77 %\n",
      "Epoch: 65 Iteration: 12500  Loss: 905.2742919921875  Accuracy: 77 %\n",
      "Epoch: 68 Iteration: 13000  Loss: 1044.0843505859375  Accuracy: 76 %\n",
      "Epoch: 70 Iteration: 13500  Loss: 2050.685546875  Accuracy: 73 %\n",
      "Epoch: 73 Iteration: 14000  Loss: 2238.7265625  Accuracy: 76 %\n",
      "Epoch: 76 Iteration: 14500  Loss: 1006.0606689453125  Accuracy: 72 %\n",
      "Epoch: 78 Iteration: 15000  Loss: 1242.26171875  Accuracy: 75 %\n",
      "Epoch: 81 Iteration: 15500  Loss: 1056.1668701171875  Accuracy: 73 %\n",
      "Epoch: 83 Iteration: 16000  Loss: 1446.6883544921875  Accuracy: 75 %\n",
      "Epoch: 86 Iteration: 16500  Loss: 648.6609497070312  Accuracy: 75 %\n",
      "Epoch: 89 Iteration: 17000  Loss: 612.5807495117188  Accuracy: 75 %\n",
      "Epoch: 91 Iteration: 17500  Loss: 940.5383911132812  Accuracy: 75 %\n",
      "Epoch: 94 Iteration: 18000  Loss: 875.642822265625  Accuracy: 76 %\n",
      "Epoch: 96 Iteration: 18500  Loss: 1205.382568359375  Accuracy: 75 %\n",
      "Epoch: 99 Iteration: 19000  Loss: 3278.158203125  Accuracy: 76 %\n",
      "Epoch: 102 Iteration: 19500  Loss: 634.5336303710938  Accuracy: 78 %\n",
      "Epoch: 104 Iteration: 20000  Loss: 1442.7230224609375  Accuracy: 77 %\n",
      "Epoch: 107 Iteration: 20500  Loss: 1549.35107421875  Accuracy: 77 %\n",
      "Epoch: 109 Iteration: 21000  Loss: 948.412109375  Accuracy: 74 %\n",
      "Epoch: 112 Iteration: 21500  Loss: 803.2691650390625  Accuracy: 72 %\n",
      "Epoch: 114 Iteration: 22000  Loss: 905.5352172851562  Accuracy: 76 %\n",
      "Epoch: 117 Iteration: 22500  Loss: 613.4334716796875  Accuracy: 76 %\n",
      "Epoch: 120 Iteration: 23000  Loss: 1414.5482177734375  Accuracy: 76 %\n",
      "Epoch: 122 Iteration: 23500  Loss: 808.08642578125  Accuracy: 77 %\n",
      "Epoch: 125 Iteration: 24000  Loss: 790.3720703125  Accuracy: 76 %\n",
      "Epoch: 127 Iteration: 24500  Loss: 569.1978759765625  Accuracy: 76 %\n",
      "Epoch: 130 Iteration: 25000  Loss: 1292.4144287109375  Accuracy: 79 %\n",
      "Epoch: 133 Iteration: 25500  Loss: 1564.4345703125  Accuracy: 77 %\n",
      "Epoch: 135 Iteration: 26000  Loss: 510.5232849121094  Accuracy: 79 %\n",
      "Epoch: 138 Iteration: 26500  Loss: 770.951416015625  Accuracy: 76 %\n",
      "Epoch: 140 Iteration: 27000  Loss: 580.8492431640625  Accuracy: 79 %\n",
      "Epoch: 143 Iteration: 27500  Loss: 1933.2879638671875  Accuracy: 75 %\n",
      "Epoch: 146 Iteration: 28000  Loss: 624.9575805664062  Accuracy: 79 %\n",
      "Epoch: 148 Iteration: 28500  Loss: 589.415283203125  Accuracy: 76 %\n",
      "Epoch: 151 Iteration: 29000  Loss: 317.0094299316406  Accuracy: 78 %\n",
      "Epoch: 153 Iteration: 29500  Loss: 1247.8897705078125  Accuracy: 76 %\n",
      "Epoch: 156 Iteration: 30000  Loss: 1435.8909912109375  Accuracy: 77 %\n",
      "Epoch: 159 Iteration: 30500  Loss: 1949.762939453125  Accuracy: 76 %\n",
      "Epoch: 161 Iteration: 31000  Loss: 997.2700805664062  Accuracy: 76 %\n",
      "Epoch: 164 Iteration: 31500  Loss: 805.92822265625  Accuracy: 77 %\n",
      "Epoch: 166 Iteration: 32000  Loss: 1013.1984252929688  Accuracy: 77 %\n",
      "Epoch: 169 Iteration: 32500  Loss: 526.5565795898438  Accuracy: 78 %\n",
      "Epoch: 171 Iteration: 33000  Loss: 267.9134826660156  Accuracy: 77 %\n",
      "Epoch: 174 Iteration: 33500  Loss: 602.14404296875  Accuracy: 73 %\n",
      "Epoch: 177 Iteration: 34000  Loss: 804.1443481445312  Accuracy: 75 %\n",
      "Epoch: 179 Iteration: 34500  Loss: 1119.757568359375  Accuracy: 79 %\n",
      "Epoch: 182 Iteration: 35000  Loss: 1856.6363525390625  Accuracy: 75 %\n",
      "Epoch: 184 Iteration: 35500  Loss: 977.0969848632812  Accuracy: 79 %\n",
      "Epoch: 187 Iteration: 36000  Loss: 664.6556396484375  Accuracy: 78 %\n",
      "Epoch: 190 Iteration: 36500  Loss: 705.6488647460938  Accuracy: 79 %\n",
      "Epoch: 192 Iteration: 37000  Loss: 720.6441040039062  Accuracy: 78 %\n",
      "Epoch: 195 Iteration: 37500  Loss: 791.067138671875  Accuracy: 79 %\n",
      "Epoch: 197 Iteration: 38000  Loss: 1095.4091796875  Accuracy: 77 %\n",
      "Epoch: 200 Iteration: 38500  Loss: 638.6718139648438  Accuracy: 77 %\n",
      "Epoch: 203 Iteration: 39000  Loss: 261.22149658203125  Accuracy: 76 %\n",
      "Epoch: 205 Iteration: 39500  Loss: 1121.4697265625  Accuracy: 77 %\n",
      "Epoch: 208 Iteration: 40000  Loss: 1221.6180419921875  Accuracy: 75 %\n",
      "Epoch: 210 Iteration: 40500  Loss: 304.69317626953125  Accuracy: 78 %\n",
      "Epoch: 213 Iteration: 41000  Loss: 528.9446411132812  Accuracy: 79 %\n",
      "Epoch: 216 Iteration: 41500  Loss: 515.3812866210938  Accuracy: 75 %\n",
      "Epoch: 218 Iteration: 42000  Loss: 1612.9423828125  Accuracy: 75 %\n",
      "Epoch: 221 Iteration: 42500  Loss: 214.42816162109375  Accuracy: 78 %\n",
      "Epoch: 223 Iteration: 43000  Loss: 454.89630126953125  Accuracy: 78 %\n",
      "Epoch: 226 Iteration: 43500  Loss: 414.2117004394531  Accuracy: 75 %\n",
      "Epoch: 228 Iteration: 44000  Loss: 1162.5872802734375  Accuracy: 79 %\n",
      "Epoch: 231 Iteration: 44500  Loss: 590.2618408203125  Accuracy: 78 %\n",
      "Epoch: 234 Iteration: 45000  Loss: 616.3226318359375  Accuracy: 79 %\n",
      "Epoch: 236 Iteration: 45500  Loss: 1142.7127685546875  Accuracy: 79 %\n",
      "Epoch: 239 Iteration: 46000  Loss: 585.8088989257812  Accuracy: 77 %\n",
      "Epoch: 241 Iteration: 46500  Loss: 556.7402954101562  Accuracy: 75 %\n",
      "Epoch: 244 Iteration: 47000  Loss: 988.730712890625  Accuracy: 75 %\n",
      "Epoch: 247 Iteration: 47500  Loss: 915.6052856445312  Accuracy: 77 %\n",
      "Epoch: 249 Iteration: 48000  Loss: 1240.2548828125  Accuracy: 79 %\n",
      "Epoch: 252 Iteration: 48500  Loss: 1111.0548095703125  Accuracy: 78 %\n",
      "Epoch: 254 Iteration: 49000  Loss: 418.6765441894531  Accuracy: 78 %\n",
      "Epoch: 257 Iteration: 49500  Loss: 237.4080810546875  Accuracy: 80 %\n",
      "Epoch: 260 Iteration: 50000  Loss: 1155.9755859375  Accuracy: 76 %\n",
      "Epoch: 262 Iteration: 50500  Loss: 167.93235778808594  Accuracy: 79 %\n",
      "Epoch: 265 Iteration: 51000  Loss: 414.9172058105469  Accuracy: 78 %\n",
      "Epoch: 267 Iteration: 51500  Loss: 1012.0279541015625  Accuracy: 78 %\n",
      "Epoch: 270 Iteration: 52000  Loss: 324.2203674316406  Accuracy: 79 %\n",
      "Epoch: 273 Iteration: 52500  Loss: 510.018798828125  Accuracy: 78 %\n",
      "Epoch: 275 Iteration: 53000  Loss: 3764.554931640625  Accuracy: 79 %\n",
      "Epoch: 278 Iteration: 53500  Loss: 878.5759887695312  Accuracy: 78 %\n",
      "Epoch: 280 Iteration: 54000  Loss: 1912.4854736328125  Accuracy: 77 %\n",
      "Epoch: 283 Iteration: 54500  Loss: 1039.386962890625  Accuracy: 80 %\n",
      "Epoch: 285 Iteration: 55000  Loss: 1520.757080078125  Accuracy: 76 %\n",
      "Epoch: 288 Iteration: 55500  Loss: 1099.6219482421875  Accuracy: 75 %\n",
      "Epoch: 291 Iteration: 56000  Loss: 213.6973876953125  Accuracy: 75 %\n",
      "Epoch: 293 Iteration: 56500  Loss: 671.9619140625  Accuracy: 78 %\n",
      "Epoch: 296 Iteration: 57000  Loss: 1138.008544921875  Accuracy: 77 %\n",
      "Epoch: 298 Iteration: 57500  Loss: 573.3131103515625  Accuracy: 79 %\n",
      "Epoch: 301 Iteration: 58000  Loss: 509.0779724121094  Accuracy: 76 %\n",
      "Epoch: 304 Iteration: 58500  Loss: 502.7571105957031  Accuracy: 77 %\n",
      "Epoch: 306 Iteration: 59000  Loss: 627.1770629882812  Accuracy: 79 %\n",
      "Epoch: 309 Iteration: 59500  Loss: 472.868408203125  Accuracy: 79 %\n"
     ]
    },
    {
     "name": "stdout",
     "output_type": "stream",
     "text": [
      "Epoch: 311 Iteration: 60000  Loss: 247.7758026123047  Accuracy: 77 %\n",
      "Epoch: 314 Iteration: 60500  Loss: 925.552490234375  Accuracy: 77 %\n",
      "Epoch: 317 Iteration: 61000  Loss: 268.18603515625  Accuracy: 80 %\n",
      "Epoch: 319 Iteration: 61500  Loss: 388.2151794433594  Accuracy: 79 %\n",
      "Epoch: 322 Iteration: 62000  Loss: 817.0745849609375  Accuracy: 78 %\n",
      "Epoch: 324 Iteration: 62500  Loss: 1125.8154296875  Accuracy: 78 %\n",
      "Epoch: 327 Iteration: 63000  Loss: 575.9903564453125  Accuracy: 76 %\n",
      "Epoch: 330 Iteration: 63500  Loss: 1851.139892578125  Accuracy: 79 %\n",
      "Epoch: 332 Iteration: 64000  Loss: 585.001953125  Accuracy: 79 %\n",
      "Epoch: 335 Iteration: 64500  Loss: 537.973876953125  Accuracy: 79 %\n",
      "Epoch: 337 Iteration: 65000  Loss: 485.5899963378906  Accuracy: 76 %\n",
      "Epoch: 340 Iteration: 65500  Loss: 1131.3973388671875  Accuracy: 79 %\n",
      "Epoch: 342 Iteration: 66000  Loss: 642.083740234375  Accuracy: 77 %\n",
      "Epoch: 345 Iteration: 66500  Loss: 1967.5496826171875  Accuracy: 76 %\n",
      "Epoch: 348 Iteration: 67000  Loss: 670.992431640625  Accuracy: 78 %\n",
      "Epoch: 350 Iteration: 67500  Loss: 436.3728332519531  Accuracy: 80 %\n",
      "Epoch: 353 Iteration: 68000  Loss: 391.32611083984375  Accuracy: 79 %\n",
      "Epoch: 355 Iteration: 68500  Loss: 195.75669860839844  Accuracy: 80 %\n",
      "Epoch: 358 Iteration: 69000  Loss: 1467.16748046875  Accuracy: 79 %\n",
      "Epoch: 361 Iteration: 69500  Loss: 578.5849609375  Accuracy: 80 %\n",
      "Epoch: 363 Iteration: 70000  Loss: 964.6616821289062  Accuracy: 79 %\n",
      "Epoch: 366 Iteration: 70500  Loss: 817.4571533203125  Accuracy: 79 %\n",
      "Epoch: 368 Iteration: 71000  Loss: 1112.6771240234375  Accuracy: 75 %\n",
      "Epoch: 371 Iteration: 71500  Loss: 627.6800537109375  Accuracy: 81 %\n",
      "Epoch: 374 Iteration: 72000  Loss: 902.6322631835938  Accuracy: 78 %\n",
      "Epoch: 376 Iteration: 72500  Loss: 1584.8853759765625  Accuracy: 80 %\n",
      "Epoch: 379 Iteration: 73000  Loss: 659.494384765625  Accuracy: 80 %\n",
      "Epoch: 381 Iteration: 73500  Loss: 451.50616455078125  Accuracy: 76 %\n",
      "Epoch: 384 Iteration: 74000  Loss: 195.03012084960938  Accuracy: 81 %\n",
      "Epoch: 387 Iteration: 74500  Loss: 297.78070068359375  Accuracy: 78 %\n",
      "Epoch: 389 Iteration: 75000  Loss: 590.9821166992188  Accuracy: 80 %\n",
      "Epoch: 392 Iteration: 75500  Loss: 2004.585205078125  Accuracy: 78 %\n",
      "Epoch: 394 Iteration: 76000  Loss: 932.5821533203125  Accuracy: 78 %\n",
      "Epoch: 397 Iteration: 76500  Loss: 622.7650146484375  Accuracy: 79 %\n",
      "Epoch: 399 Iteration: 77000  Loss: 1374.9560546875  Accuracy: 77 %\n",
      "Epoch: 402 Iteration: 77500  Loss: 282.6421813964844  Accuracy: 78 %\n",
      "Epoch: 405 Iteration: 78000  Loss: 1103.3695068359375  Accuracy: 79 %\n",
      "Epoch: 407 Iteration: 78500  Loss: 772.7939453125  Accuracy: 78 %\n",
      "Epoch: 410 Iteration: 79000  Loss: 438.0777282714844  Accuracy: 79 %\n",
      "Epoch: 412 Iteration: 79500  Loss: 406.5037536621094  Accuracy: 78 %\n",
      "Epoch: 415 Iteration: 80000  Loss: 406.36151123046875  Accuracy: 79 %\n",
      "Epoch: 418 Iteration: 80500  Loss: 1194.797607421875  Accuracy: 79 %\n",
      "Epoch: 420 Iteration: 81000  Loss: 769.0076904296875  Accuracy: 79 %\n",
      "Epoch: 423 Iteration: 81500  Loss: 440.4063720703125  Accuracy: 79 %\n",
      "Epoch: 425 Iteration: 82000  Loss: 453.18408203125  Accuracy: 79 %\n",
      "Epoch: 428 Iteration: 82500  Loss: 265.1121826171875  Accuracy: 76 %\n",
      "Epoch: 431 Iteration: 83000  Loss: 345.86883544921875  Accuracy: 78 %\n",
      "Epoch: 433 Iteration: 83500  Loss: 668.852294921875  Accuracy: 81 %\n",
      "Epoch: 436 Iteration: 84000  Loss: 430.9917297363281  Accuracy: 76 %\n",
      "Epoch: 438 Iteration: 84500  Loss: 328.38946533203125  Accuracy: 76 %\n",
      "Epoch: 441 Iteration: 85000  Loss: 1497.05224609375  Accuracy: 77 %\n",
      "Epoch: 444 Iteration: 85500  Loss: 495.748779296875  Accuracy: 77 %\n",
      "Epoch: 446 Iteration: 86000  Loss: 731.2930297851562  Accuracy: 79 %\n",
      "Epoch: 449 Iteration: 86500  Loss: 1521.7406005859375  Accuracy: 80 %\n",
      "Epoch: 451 Iteration: 87000  Loss: 1262.48193359375  Accuracy: 80 %\n",
      "Epoch: 454 Iteration: 87500  Loss: 407.8416748046875  Accuracy: 79 %\n",
      "Epoch: 456 Iteration: 88000  Loss: 1586.1353759765625  Accuracy: 78 %\n",
      "Epoch: 459 Iteration: 88500  Loss: 903.0921020507812  Accuracy: 78 %\n",
      "Epoch: 462 Iteration: 89000  Loss: 313.8787841796875  Accuracy: 76 %\n",
      "Epoch: 464 Iteration: 89500  Loss: 678.777099609375  Accuracy: 76 %\n",
      "Epoch: 467 Iteration: 90000  Loss: 1958.826171875  Accuracy: 80 %\n",
      "Epoch: 469 Iteration: 90500  Loss: 760.9766235351562  Accuracy: 79 %\n",
      "Epoch: 472 Iteration: 91000  Loss: 460.58123779296875  Accuracy: 79 %\n",
      "Epoch: 475 Iteration: 91500  Loss: 1026.52490234375  Accuracy: 77 %\n",
      "Epoch: 477 Iteration: 92000  Loss: 485.2742614746094  Accuracy: 80 %\n",
      "Epoch: 480 Iteration: 92500  Loss: 742.7313232421875  Accuracy: 79 %\n",
      "Epoch: 482 Iteration: 93000  Loss: 926.9100952148438  Accuracy: 79 %\n",
      "Epoch: 485 Iteration: 93500  Loss: 1437.9345703125  Accuracy: 80 %\n",
      "Epoch: 488 Iteration: 94000  Loss: 355.51239013671875  Accuracy: 76 %\n",
      "Epoch: 490 Iteration: 94500  Loss: 939.3994750976562  Accuracy: 79 %\n",
      "Epoch: 493 Iteration: 95000  Loss: 488.1912536621094  Accuracy: 79 %\n",
      "Epoch: 495 Iteration: 95500  Loss: 682.6603393554688  Accuracy: 79 %\n",
      "Epoch: 498 Iteration: 96000  Loss: 610.3262329101562  Accuracy: 78 %\n",
      "Epochs completed. Time taken (seconds):  3024.5884375572205\n"
     ]
    }
   ],
   "source": [
    "print('Start training...')\n",
    "start_time = time.time()\n",
    "    \n",
    "epochs = 500\n",
    "\n",
    "count = 0\n",
    "loss_list = []\n",
    "iteration_list = []\n",
    "accuracy_list = []\n",
    "\n",
    "for e in range(epochs):\n",
    "    for i, (data, labels) in enumerate(train_loader):\n",
    "        train = data.to(device)\n",
    "        #print(labels)\n",
    "        labels = labels.to(device)\n",
    "\n",
    "        # Clear gradients\n",
    "        optimizer.zero_grad()\n",
    "        # Forward propagation\n",
    "        outputs = model(train)\n",
    "        \n",
    "        # Calculate softmax and cross entropy loss\n",
    "        loss = error(outputs, labels)\n",
    "        # Calculating gradients\n",
    "        loss.backward()\n",
    "        # Update parameters\n",
    "        optimizer.step()\n",
    "\n",
    "        if count % 500 == 0:\n",
    "            # Calculate Accuracy         \n",
    "            correct = 0\n",
    "            total = 0\n",
    "            # Iterate through test dataset\n",
    "            for data, labels in valid_loader:\n",
    "                valid = data.to(device)\n",
    "                #print('Lables:', labels)\n",
    "                \n",
    "                labels = labels.to(device)\n",
    "\n",
    "                # Forward propagation\n",
    "                outputs = model(valid)\n",
    "                # Get predictions from the maximum value\n",
    "                predicted = torch.max(outputs.data, 1)[1]\n",
    "\n",
    "                #print('Predicted: ', predicted)\n",
    "                \n",
    "                # Total number of labels\n",
    "                total += len(labels)\n",
    "                correct += (predicted == labels).sum()\n",
    "\n",
    "            accuracy = 100 * correct / float(total)\n",
    "\n",
    "            # store loss and iteration\n",
    "            loss_list.append(loss.data)\n",
    "            iteration_list.append(count)\n",
    "            accuracy_list.append(accuracy)\n",
    "        if count % 500 == 0:\n",
    "            # Print Loss\n",
    "            print('Epoch: {} Iteration: {}  Loss: {}  Accuracy: {} %'.format(e + 1, count, loss.data, accuracy))\n",
    "\n",
    "        count += 1\n",
    "\n",
    "end_time = time.time()\n",
    "print('Epochs completed. Time taken (seconds): ', str(end_time - start_time))\n",
    "    "
   ]
  },
  {
   "cell_type": "code",
   "execution_count": 23,
   "metadata": {},
   "outputs": [
    {
     "data": {
      "image/png": "[encoded data removed]",
      "text/plain": [
       "<Figure size 432x288 with 1 Axes>"
      ]
     },
     "metadata": {
      "needs_background": "light"
     },
     "output_type": "display_data"
    },
    {
     "data": {
      "image/png": "[encoded data removed]",
      "text/plain": [
       "<Figure size 432x288 with 1 Axes>"
      ]
     },
     "metadata": {
      "needs_background": "light"
     },
     "output_type": "display_data"
    }
   ],
   "source": [
    "plt.plot(iteration_list,loss_list)\n",
    "plt.xlabel(\"Number of iteration\")\n",
    "plt.ylabel(\"Loss\")\n",
    "plt.title(\"Loss vs Number of iteration\")\n",
    "plt.show()\n",
    "\n",
    "# visualization accuracy \n",
    "plt.plot(iteration_list,accuracy_list,color = \"red\")\n",
    "plt.xlabel(\"Number of iteration\")\n",
    "plt.ylabel(\"Accuracy\")\n",
    "plt.title(\"Accuracy vs Number of iteration\")\n",
    "plt.show()"
   ]
  },
  {
   "cell_type": "code",
   "execution_count": null,
   "metadata": {},
   "outputs": [],
   "source": []
  }
 ],
 "metadata": {
  "kernelspec": {
   "display_name": "Python 3",
   "language": "python",
   "name": "python3"
  },
  "language_info": {
   "codemirror_mode": {
    "name": "ipython",
    "version": 3
   },
   "file_extension": ".py",
   "mimetype": "text/x-python",
   "name": "python",
   "nbconvert_exporter": "python",
   "pygments_lexer": "ipython3",
   "version": "3.6.9"
  }
 },
 "nbformat": 4,
 "nbformat_minor": 4
}
