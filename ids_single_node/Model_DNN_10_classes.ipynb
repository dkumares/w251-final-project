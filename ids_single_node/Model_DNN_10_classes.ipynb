{
 "cells": [
  {
   "cell_type": "code",
   "execution_count": 1,
   "metadata": {},
   "outputs": [],
   "source": [
    "import torch\n",
    "import torchvision\n",
    "import torch.nn as nn\n",
    "import torch.nn.functional as F\n",
    "from torchvision import datasets, transforms\n",
    "import matplotlib.pyplot as plt\n",
    "from torch import optim\n",
    "import numpy as np\n",
    "import pandas as pd\n",
    "import os\n",
    "import io\n",
    "import re\n",
    "import sys\n",
    "import time\n",
    "%matplotlib inline"
   ]
  },
  {
   "cell_type": "code",
   "execution_count": 2,
   "metadata": {
    "scrolled": false
   },
   "outputs": [
    {
     "data": {
      "text/plain": [
       "Index(['dst_port', 'protocol', 'timestamp', 'flow_duration', 'tot_fwd_pkts',\n",
       "       'tot_bwd_pkts', 'totlen_fwd_pkts', 'totlen_bwd_pkts', 'fwd_pkt_len_max',\n",
       "       'fwd_pkt_len_min', 'fwd_pkt_len_mean', 'fwd_pkt_len_std',\n",
       "       'bwd_pkt_len_max', 'bwd_pkt_len_min', 'bwd_pkt_len_mean',\n",
       "       'bwd_pkt_len_std', 'flow_byts_s', 'flow_pkts_s', 'flow_iat_mean',\n",
       "       'flow_iat_std', 'flow_iat_max', 'flow_iat_min', 'fwd_iat_tot',\n",
       "       'fwd_iat_mean', 'fwd_iat_std', 'fwd_iat_max', 'fwd_iat_min',\n",
       "       'bwd_iat_tot', 'bwd_iat_mean', 'bwd_iat_std', 'bwd_iat_max',\n",
       "       'bwd_iat_min', 'fwd_psh_flags', 'bwd_psh_flags', 'fwd_urg_flags',\n",
       "       'bwd_urg_flags', 'fwd_header_len', 'bwd_header_len', 'fwd_pkts_s',\n",
       "       'bwd_pkts_s', 'pkt_len_min', 'pkt_len_max', 'pkt_len_mean',\n",
       "       'pkt_len_std', 'pkt_len_var', 'fin_flag_cnt', 'syn_flag_cnt',\n",
       "       'rst_flag_cnt', 'psh_flag_cnt', 'ack_flag_cnt', 'urg_flag_cnt',\n",
       "       'cwe_flag_count', 'ece_flag_cnt', 'down_up_ratio', 'pkt_size_avg',\n",
       "       'fwd_seg_size_avg', 'bwd_seg_size_avg', 'fwd_byts_b_avg',\n",
       "       'fwd_pkts_b_avg', 'fwd_blk_rate_avg', 'bwd_byts_b_avg',\n",
       "       'bwd_pkts_b_avg', 'bwd_blk_rate_avg', 'subflow_fwd_pkts',\n",
       "       'subflow_fwd_byts', 'subflow_bwd_pkts', 'subflow_bwd_byts',\n",
       "       'init_fwd_win_byts', 'init_bwd_win_byts', 'fwd_act_data_pkts',\n",
       "       'fwd_seg_size_min', 'active_mean', 'active_std', 'active_max',\n",
       "       'active_min', 'idle_mean', 'idle_std', 'idle_max', 'idle_min', 'label'],\n",
       "      dtype='object')"
      ]
     },
     "execution_count": 2,
     "metadata": {},
     "output_type": "execute_result"
    }
   ],
   "source": [
    "IDS_df = pd.read_csv(\"../data/IDS-2018-multiclass.csv\")\n",
    "\n",
    "# To display the top 5 rows\n",
    "# IDS_df.head(5)\n",
    "IDS_df.columns"
   ]
  },
  {
   "cell_type": "code",
   "execution_count": 3,
   "metadata": {},
   "outputs": [],
   "source": [
    "IDS_df = IDS_df.drop('timestamp', axis=1)\n",
    "# IDS_df.columns"
   ]
  },
  {
   "cell_type": "code",
   "execution_count": 4,
   "metadata": {},
   "outputs": [
    {
     "name": "stdout",
     "output_type": "stream",
     "text": [
      "dst_port - int64\n",
      "protocol - int64\n",
      "flow_duration - int64\n",
      "tot_fwd_pkts - int64\n",
      "tot_bwd_pkts - int64\n",
      "totlen_fwd_pkts - float64\n",
      "totlen_bwd_pkts - float64\n",
      "fwd_pkt_len_max - float64\n",
      "fwd_pkt_len_min - float64\n",
      "fwd_pkt_len_mean - float64\n",
      "fwd_pkt_len_std - float64\n",
      "bwd_pkt_len_max - float64\n",
      "bwd_pkt_len_min - float64\n",
      "bwd_pkt_len_mean - float64\n",
      "bwd_pkt_len_std - float64\n",
      "flow_byts_s - float64\n",
      "flow_pkts_s - float64\n",
      "flow_iat_mean - float64\n",
      "flow_iat_std - float64\n",
      "flow_iat_max - float64\n",
      "flow_iat_min - float64\n",
      "fwd_iat_tot - float64\n",
      "fwd_iat_mean - float64\n",
      "fwd_iat_std - float64\n",
      "fwd_iat_max - float64\n",
      "fwd_iat_min - float64\n",
      "bwd_iat_tot - float64\n",
      "bwd_iat_mean - float64\n",
      "bwd_iat_std - float64\n",
      "bwd_iat_max - float64\n",
      "bwd_iat_min - float64\n",
      "fwd_psh_flags - int64\n",
      "bwd_psh_flags - int64\n",
      "fwd_urg_flags - int64\n",
      "bwd_urg_flags - int64\n",
      "fwd_header_len - int64\n",
      "bwd_header_len - int64\n",
      "fwd_pkts_s - float64\n",
      "bwd_pkts_s - float64\n",
      "pkt_len_min - float64\n",
      "pkt_len_max - float64\n",
      "pkt_len_mean - float64\n",
      "pkt_len_std - float64\n",
      "pkt_len_var - float64\n",
      "fin_flag_cnt - int64\n",
      "syn_flag_cnt - int64\n",
      "rst_flag_cnt - int64\n",
      "psh_flag_cnt - int64\n",
      "ack_flag_cnt - int64\n",
      "urg_flag_cnt - int64\n",
      "cwe_flag_count - int64\n",
      "ece_flag_cnt - int64\n",
      "down_up_ratio - float64\n",
      "pkt_size_avg - float64\n",
      "fwd_seg_size_avg - float64\n",
      "bwd_seg_size_avg - float64\n",
      "fwd_byts_b_avg - int64\n",
      "fwd_pkts_b_avg - int64\n",
      "fwd_blk_rate_avg - int64\n",
      "bwd_byts_b_avg - int64\n",
      "bwd_pkts_b_avg - int64\n",
      "bwd_blk_rate_avg - int64\n",
      "subflow_fwd_pkts - int64\n",
      "subflow_fwd_byts - int64\n",
      "subflow_bwd_pkts - int64\n",
      "subflow_bwd_byts - int64\n",
      "init_fwd_win_byts - int64\n",
      "init_bwd_win_byts - int64\n",
      "fwd_act_data_pkts - int64\n",
      "fwd_seg_size_min - int64\n",
      "active_mean - float64\n",
      "active_std - float64\n",
      "active_max - float64\n",
      "active_min - float64\n",
      "idle_mean - float64\n",
      "idle_std - float64\n",
      "idle_max - float64\n",
      "idle_min - float64\n",
      "label - object\n"
     ]
    }
   ],
   "source": [
    "for i in range(len(IDS_df.columns)):\n",
    "     print(IDS_df.columns[i], '-', IDS_df.dtypes[i])"
   ]
  },
  {
   "cell_type": "code",
   "execution_count": 5,
   "metadata": {},
   "outputs": [
    {
     "name": "stdout",
     "output_type": "stream",
     "text": [
      "(413648, 79)\n"
     ]
    }
   ],
   "source": [
    "# print shape before dropping NaN rows\n",
    "print(IDS_df.shape)"
   ]
  },
  {
   "cell_type": "code",
   "execution_count": 6,
   "metadata": {},
   "outputs": [
    {
     "name": "stdout",
     "output_type": "stream",
     "text": [
      "1900\n"
     ]
    }
   ],
   "source": [
    "# Finding the null values.\n",
    "print(IDS_df.isin([np.nan, np.inf, -np.inf]).sum().sum())"
   ]
  },
  {
   "cell_type": "code",
   "execution_count": 7,
   "metadata": {},
   "outputs": [],
   "source": [
    "#  first replace infs to NaN:\n",
    "IDS_df = IDS_df.replace([np.inf, -np.inf], np.nan)"
   ]
  },
  {
   "cell_type": "code",
   "execution_count": 8,
   "metadata": {},
   "outputs": [
    {
     "name": "stdout",
     "output_type": "stream",
     "text": [
      "(412698, 79)\n"
     ]
    }
   ],
   "source": [
    "# print shape after dropping NaN rows\n",
    "IDS_df = IDS_df.dropna()\n",
    "print(IDS_df.shape)\n",
    "IDS_df = IDS_df.reset_index(drop=True)"
   ]
  },
  {
   "cell_type": "code",
   "execution_count": 9,
   "metadata": {},
   "outputs": [
    {
     "name": "stdout",
     "output_type": "stream",
     "text": [
      "0\n"
     ]
    }
   ],
   "source": [
    "# Finding the null values.\n",
    "print(IDS_df.isin([np.nan, np.inf, -np.inf]).sum().sum())"
   ]
  },
  {
   "cell_type": "markdown",
   "metadata": {},
   "source": [
    "Examine the proportion of types of traffic:"
   ]
  },
  {
   "cell_type": "code",
   "execution_count": 10,
   "metadata": {},
   "outputs": [
    {
     "data": {
      "text/plain": [
       "Benign                      199275\n",
       "Infilteration                39777\n",
       "Bot                          20000\n",
       "DDoS attacks-LOIC-HTTP       20000\n",
       "DDOS attack-HOIC             20000\n",
       "DoS attacks-Hulk             20000\n",
       "DoS attacks-GoldenEye        20000\n",
       "SSH-Bruteforce               20000\n",
       "DoS attacks-SlowHTTPTest     20000\n",
       "FTP-BruteForce               19998\n",
       "DoS attacks-Slowloris        10990\n",
       "DDOS attack-LOIC-UDP          1730\n",
       "Brute Force -Web               611\n",
       "Brute Force -XSS               230\n",
       "SQL Injection                   87\n",
       "Name: label, dtype: int64"
      ]
     },
     "execution_count": 10,
     "metadata": {},
     "output_type": "execute_result"
    }
   ],
   "source": [
    "IDS_df['label'].value_counts()"
   ]
  },
  {
   "cell_type": "markdown",
   "metadata": {},
   "source": [
    "Convert all non-normal observations into a single class:"
   ]
  },
  {
   "cell_type": "code",
   "execution_count": 11,
   "metadata": {},
   "outputs": [],
   "source": [
    "def get_label(text):    \n",
    "    if text == \"Benign\":\n",
    "        return 0\n",
    "    elif text == 'Infilteration':\n",
    "        return 1\n",
    "    elif text == 'DoS attacks-Slowloris':\n",
    "        return 2\n",
    "    elif text == 'SSH-Bruteforce':\n",
    "        return 3\n",
    "    elif text == 'DDOS attack-HOIC':\n",
    "        return 4\n",
    "    elif text == 'FTP-BruteForce':\n",
    "        return 5\n",
    "    elif text == 'DoS attacks-SlowHTTPTest':\n",
    "        return 6\n",
    "    elif text == 'Bot':\n",
    "        return 7\n",
    "    elif text == 'DoS attacks-Hulk':\n",
    "        return 8\n",
    "    elif text == 'DoS attacks-GoldenEye':\n",
    "        return 9\n",
    "    elif text == 'DDoS attacks-LOIC-HTTP':\n",
    "        return 10\n",
    "    elif text == 'DDOS attack-LOIC-UDP':\n",
    "        return 11\n",
    "    elif text == 'Brute Force -Web':\n",
    "        return 12\n",
    "    elif text == 'Brute Force -XSS':\n",
    "        return 13\n",
    "    elif text == 'SQL Injection':\n",
    "        return 14\n",
    "\n",
    "IDS_df[\"label\"] = IDS_df[\"label\"].apply(get_label)"
   ]
  },
  {
   "cell_type": "code",
   "execution_count": 12,
   "metadata": {},
   "outputs": [
    {
     "name": "stdout",
     "output_type": "stream",
     "text": [
      "0     199275\n",
      "1      39777\n",
      "10     20000\n",
      "9      20000\n",
      "8      20000\n",
      "7      20000\n",
      "6      20000\n",
      "4      20000\n",
      "3      20000\n",
      "5      19998\n",
      "2      10990\n",
      "11      1730\n",
      "12       611\n",
      "13       230\n",
      "14        87\n",
      "Name: label, dtype: int64\n"
     ]
    }
   ],
   "source": [
    "#y = IDS_df[\"Label\"].values\n",
    "print(IDS_df[\"label\"].value_counts())"
   ]
  },
  {
   "cell_type": "markdown",
   "metadata": {},
   "source": [
    "Convert all categorical features into numerical form:"
   ]
  },
  {
   "cell_type": "code",
   "execution_count": 13,
   "metadata": {},
   "outputs": [],
   "source": [
    "from sklearn.preprocessing import LabelEncoder\n",
    "\n",
    "encodings_dictionary = dict()\n",
    "for c in IDS_df.columns:\n",
    "    if IDS_df[c].dtype == \"object\":\n",
    "        encodings_dictionary[c] = LabelEncoder()\n",
    "        IDS_df[c] = encodings_dictionary[c].fit_transform(IDS_df[c])"
   ]
  },
  {
   "cell_type": "markdown",
   "metadata": {},
   "source": [
    "Split the dataset into normal and abnormal observations:"
   ]
  },
  {
   "cell_type": "code",
   "execution_count": 14,
   "metadata": {},
   "outputs": [],
   "source": [
    "IDS_df_normal = IDS_df[IDS_df[\"label\"] == 0] #.sample(50000)  # Taking only 50000 samples to balance. Change this as required.\n",
    "IDS_df_abnormal = IDS_df[IDS_df[\"label\"] != 0]\n",
    "y_normal = IDS_df_normal.pop(\"label\").values\n",
    "X_normal = IDS_df_normal.values\n",
    "y_anomaly = IDS_df_abnormal.pop(\"label\").values\n",
    "X_anomaly = IDS_df_abnormal.values"
   ]
  },
  {
   "cell_type": "markdown",
   "metadata": {},
   "source": [
    "Train-test split the dataset:"
   ]
  },
  {
   "cell_type": "code",
   "execution_count": 15,
   "metadata": {},
   "outputs": [],
   "source": [
    "from sklearn.model_selection import train_test_split\n",
    "\n",
    "X_normal_train, X_normal_test, y_normal_train, y_normal_test = train_test_split(\n",
    "    X_normal, y_normal, test_size=0.2, random_state=11)\n",
    "\n",
    "X_anomaly_train, X_anomaly_test, y_anomaly_train, y_anomaly_test = train_test_split(\n",
    "    X_anomaly, y_anomaly, test_size=0.2, random_state=11, stratify=y_anomaly)\n",
    "\n",
    "import numpy as np\n",
    "\n",
    "X_train = np.concatenate((X_normal_train, X_anomaly_train))\n",
    "y_train = np.concatenate((y_normal_train, y_anomaly_train))\n",
    "X_test = np.concatenate((X_normal_test, X_anomaly_test))\n",
    "y_test = np.concatenate((y_normal_test, y_anomaly_test))\n",
    "\n",
    "# X_train = np.concatenate((X_normal_train[:10000], X_anomaly_train[:10000]))\n",
    "# y_train = np.concatenate((y_normal_train[:10000], y_anomaly_train[:10000]))\n",
    "# X_test = np.concatenate((X_normal_test[:1000], X_anomaly_test[:1000]))\n",
    "# y_test = np.concatenate((y_normal_test[:1000], y_anomaly_test[:1000]))"
   ]
  },
  {
   "cell_type": "code",
   "execution_count": 16,
   "metadata": {},
   "outputs": [
    {
     "name": "stdout",
     "output_type": "stream",
     "text": [
      "(330158, 78)\n",
      "(82540, 78)\n",
      "(330158,)\n",
      "(82540,)\n"
     ]
    }
   ],
   "source": [
    "print(X_train.shape)\n",
    "print(X_test.shape)\n",
    "print(y_train.shape)\n",
    "print(y_test.shape)"
   ]
  },
  {
   "cell_type": "code",
   "execution_count": 17,
   "metadata": {},
   "outputs": [
    {
     "name": "stdout",
     "output_type": "stream",
     "text": [
      "Completed loading data\n"
     ]
    }
   ],
   "source": [
    "batch_size = 1000\n",
    "\n",
    "# Pytorch\n",
    "X_train  = torch.from_numpy(X_train).float()\n",
    "y_train = torch.from_numpy(y_train)\n",
    "\n",
    "X_test = torch.from_numpy(X_test).float()\n",
    "y_test = torch.from_numpy(y_test)\n",
    "\n",
    "# Pytorch train and test sets\n",
    "train = torch.utils.data.TensorDataset(X_train, y_train)\n",
    "valid = torch.utils.data.TensorDataset(X_test, y_test)\n",
    "\n",
    "# data loader\n",
    "train_loader = torch.utils.data.DataLoader(train, batch_size = batch_size, shuffle = True)\n",
    "valid_loader = torch.utils.data.DataLoader(valid, batch_size = batch_size, shuffle = True)\n",
    "\n",
    "print('Completed loading data')"
   ]
  },
  {
   "cell_type": "code",
   "execution_count": 18,
   "metadata": {},
   "outputs": [
    {
     "data": {
      "text/plain": [
       "torch.Size([330158, 78])"
      ]
     },
     "execution_count": 18,
     "metadata": {},
     "output_type": "execute_result"
    }
   ],
   "source": [
    "train_loader.dataset.tensors[0].shape"
   ]
  },
  {
   "cell_type": "code",
   "execution_count": 19,
   "metadata": {},
   "outputs": [
    {
     "name": "stdout",
     "output_type": "stream",
     "text": [
      "MLP(\n",
      "  (layer1): Linear(in_features=78, out_features=128, bias=True)\n",
      "  (activ1): ReLU()\n",
      "  (layer2): Linear(in_features=128, out_features=15, bias=True)\n",
      ")\n"
     ]
    }
   ],
   "source": [
    "device = 'cpu'\n",
    "if torch.cuda.is_available():\n",
    "    device = 'cuda'\n",
    "        \n",
    "# Defining the DNN model\n",
    "input_size = train_loader.dataset.tensors[0].shape[1]\n",
    "hidden_layers = [128]\n",
    "output_size = 15\n",
    "\n",
    "# model definition\n",
    "class MLP(nn.Module):\n",
    "    # define model elements\n",
    "    def __init__(self, n_inputs):\n",
    "        super(MLP, self).__init__()\n",
    "        self.layer1 = nn.Linear(n_inputs, hidden_layers[0])\n",
    "        self.activ1 = nn.ReLU()\n",
    "        \n",
    "#         self.layer2 = nn.Linear(hidden_layers[0], hidden_layers[1])\n",
    "#         self.activ2 = nn.ReLU()\n",
    "        \n",
    "#         self.layer3 = nn.Linear(hidden_layers[1], hidden_layers[2])\n",
    "#         self.activ3 = nn.ReLU()\n",
    "        \n",
    "        self.layer2 = nn.Linear(hidden_layers[0], output_size)\n",
    "        \n",
    "    # forward propagate input\n",
    "    def forward(self, x):\n",
    "        x = self.layer1(x)\n",
    "        x = self.activ1(x)\n",
    "        \n",
    "        x = self.layer2(x)\n",
    "#         x = self.activ2(x)\n",
    "        \n",
    "#         x = self.layer3(x)\n",
    "#         x = self.activ3(x)\n",
    "        \n",
    "#         x = self.layer4(x)\n",
    "        return x\n",
    "\n",
    "model = MLP(input_size)\n",
    "print(model)\n",
    "model.to(device)\n",
    "\n",
    " # Cross Entropy Loss \n",
    "error = nn.CrossEntropyLoss().to(device)\n",
    "# Adam Optimizer\n",
    "learning_rate = 0.0001\n",
    "optimizer = torch.optim.Adam(model.parameters(), lr=learning_rate)"
   ]
  },
  {
   "cell_type": "code",
   "execution_count": 20,
   "metadata": {},
   "outputs": [
    {
     "name": "stdout",
     "output_type": "stream",
     "text": [
      "Start training...\n",
      "Epoch: 1 Iteration: 0  Loss: 1176652.0  Accuracy: 15 %\n",
      "Epoch: 2 Iteration: 500  Loss: 21952.84375  Accuracy: 65 %\n",
      "Epoch: 4 Iteration: 1000  Loss: 6891.7578125  Accuracy: 66 %\n",
      "Epoch: 5 Iteration: 1500  Loss: 2255.09912109375  Accuracy: 67 %\n",
      "Epoch: 7 Iteration: 2000  Loss: 2808.266357421875  Accuracy: 70 %\n",
      "Epoch: 8 Iteration: 2500  Loss: 3689.66845703125  Accuracy: 70 %\n",
      "Epoch: 10 Iteration: 3000  Loss: 1584.7640380859375  Accuracy: 66 %\n",
      "Epoch: 11 Iteration: 3500  Loss: 1561.7852783203125  Accuracy: 71 %\n",
      "Epoch: 13 Iteration: 4000  Loss: 2451.412353515625  Accuracy: 71 %\n",
      "Epoch: 14 Iteration: 4500  Loss: 1586.82861328125  Accuracy: 74 %\n",
      "Epoch: 16 Iteration: 5000  Loss: 1501.1944580078125  Accuracy: 77 %\n",
      "Epoch: 17 Iteration: 5500  Loss: 1598.2200927734375  Accuracy: 70 %\n",
      "Epoch: 19 Iteration: 6000  Loss: 1011.4992065429688  Accuracy: 67 %\n",
      "Epoch: 20 Iteration: 6500  Loss: 1148.776123046875  Accuracy: 77 %\n",
      "Epoch: 22 Iteration: 7000  Loss: 2308.802978515625  Accuracy: 72 %\n",
      "Epoch: 23 Iteration: 7500  Loss: 1809.2379150390625  Accuracy: 69 %\n",
      "Epoch: 25 Iteration: 8000  Loss: 1805.0518798828125  Accuracy: 73 %\n",
      "Epoch: 26 Iteration: 8500  Loss: 1594.6683349609375  Accuracy: 74 %\n",
      "Epoch: 28 Iteration: 9000  Loss: 1952.0313720703125  Accuracy: 74 %\n",
      "Epoch: 29 Iteration: 9500  Loss: 1051.6668701171875  Accuracy: 73 %\n",
      "Epoch: 31 Iteration: 10000  Loss: 800.1011352539062  Accuracy: 77 %\n",
      "Epoch: 32 Iteration: 10500  Loss: 1339.191650390625  Accuracy: 74 %\n",
      "Epoch: 34 Iteration: 11000  Loss: 1099.30419921875  Accuracy: 80 %\n",
      "Epoch: 35 Iteration: 11500  Loss: 1095.2841796875  Accuracy: 73 %\n",
      "Epoch: 37 Iteration: 12000  Loss: 1095.988037109375  Accuracy: 70 %\n",
      "Epoch: 38 Iteration: 12500  Loss: 908.07275390625  Accuracy: 71 %\n",
      "Epoch: 40 Iteration: 13000  Loss: 895.943359375  Accuracy: 79 %\n",
      "Epoch: 41 Iteration: 13500  Loss: 883.3084106445312  Accuracy: 78 %\n",
      "Epoch: 43 Iteration: 14000  Loss: 1262.093017578125  Accuracy: 78 %\n",
      "Epoch: 44 Iteration: 14500  Loss: 714.7113037109375  Accuracy: 71 %\n",
      "Epoch: 46 Iteration: 15000  Loss: 1307.251708984375  Accuracy: 78 %\n",
      "Epoch: 47 Iteration: 15500  Loss: 1012.9634399414062  Accuracy: 70 %\n",
      "Epoch: 49 Iteration: 16000  Loss: 656.0852661132812  Accuracy: 80 %\n",
      "Epoch: 50 Iteration: 16500  Loss: 1030.4267578125  Accuracy: 74 %\n",
      "Epochs completed. Time taken (seconds):  489.0001745223999\n"
     ]
    }
   ],
   "source": [
    "print('Start training...')\n",
    "start_time = time.time()\n",
    "    \n",
    "epochs = 50\n",
    "\n",
    "count = 0\n",
    "loss_list = []\n",
    "iteration_list = []\n",
    "accuracy_list = []\n",
    "\n",
    "for e in range(epochs):\n",
    "    for i, (data, labels) in enumerate(train_loader):\n",
    "        train = data.to(device)\n",
    "        labels = labels.to(device)\n",
    "\n",
    "        # Clear gradients\n",
    "        optimizer.zero_grad()\n",
    "        \n",
    "        # Forward propagation\n",
    "        outputs = model(train)\n",
    "        \n",
    "        # Calculate softmax and cross entropy loss\n",
    "        loss = error(outputs, labels)\n",
    "        \n",
    "        # Calculating gradients\n",
    "        loss.backward()\n",
    "        \n",
    "        # Update parameters\n",
    "        optimizer.step()\n",
    "\n",
    "        if count % 500 == 0:\n",
    "            # Calculate Accuracy         \n",
    "            correct = 0\n",
    "            total = 0\n",
    "            \n",
    "            # Iterate through test dataset\n",
    "            for data, labels in valid_loader:\n",
    "                valid = data.to(device)                               \n",
    "                labels = labels.to(device)\n",
    "\n",
    "                # Forward propagation\n",
    "                outputs = model(valid)\n",
    "                \n",
    "                # Get predictions from the maximum value\n",
    "                predicted = torch.max(outputs.data, 1)[1]\n",
    "\n",
    "                #print('Predicted: ', predicted)\n",
    "                \n",
    "                # Total number of labels\n",
    "                total += len(labels)\n",
    "                correct += (predicted == labels).sum()\n",
    "\n",
    "            accuracy = 100 * correct / float(total)\n",
    "\n",
    "            # store loss and iteration\n",
    "            loss_list.append(loss.data)\n",
    "            iteration_list.append(count)\n",
    "            accuracy_list.append(accuracy)\n",
    "        if count % 500 == 0:\n",
    "            # Print Loss\n",
    "            print('Epoch: {} Iteration: {}  Loss: {}  Accuracy: {} %'.format(e + 1, count, loss.data, accuracy))\n",
    "\n",
    "        count += 1\n",
    "\n",
    "end_time = time.time()\n",
    "print('Epochs completed. Time taken (seconds): ', str(end_time - start_time))\n",
    "    "
   ]
  },
  {
   "cell_type": "code",
   "execution_count": 21,
   "metadata": {},
   "outputs": [
    {
     "data": {
      "image/png": "[encoded data removed]",
      "text/plain": [
       "<Figure size 432x288 with 1 Axes>"
      ]
     },
     "metadata": {
      "needs_background": "light"
     },
     "output_type": "display_data"
    },
    {
     "data": {
      "image/png": "[encoded data removed]",
      "text/plain": [
       "<Figure size 432x288 with 1 Axes>"
      ]
     },
     "metadata": {
      "needs_background": "light"
     },
     "output_type": "display_data"
    }
   ],
   "source": [
    "plt.plot(iteration_list,loss_list)\n",
    "plt.xlabel(\"Number of iteration\")\n",
    "plt.ylabel(\"Loss\")\n",
    "plt.title(\"Loss vs Number of iteration\")\n",
    "plt.show()\n",
    "\n",
    "# visualization accuracy \n",
    "plt.plot(iteration_list,accuracy_list,color = \"red\")\n",
    "plt.xlabel(\"Number of iteration\")\n",
    "plt.ylabel(\"Accuracy\")\n",
    "plt.title(\"Accuracy vs Number of iteration\")\n",
    "plt.show()"
   ]
  },
  {
   "cell_type": "code",
   "execution_count": null,
   "metadata": {},
   "outputs": [],
   "source": []
  }
 ],
 "metadata": {
  "kernelspec": {
   "display_name": "Python 3",
   "language": "python",
   "name": "python3"
  },
  "language_info": {
   "codemirror_mode": {
    "name": "ipython",
    "version": 3
   },
   "file_extension": ".py",
   "mimetype": "text/x-python",
   "name": "python",
   "nbconvert_exporter": "python",
   "pygments_lexer": "ipython3",
   "version": "3.6.9"
  }
 },
 "nbformat": 4,
 "nbformat_minor": 4
}
