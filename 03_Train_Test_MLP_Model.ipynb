{
 "cells": [
  {
   "cell_type": "code",
   "execution_count": 1,
   "id": "37960378",
   "metadata": {
    "ExecuteTime": {
     "end_time": "2021-04-04T03:01:10.018960Z",
     "start_time": "2021-04-04T03:01:10.009457Z"
    }
   },
   "outputs": [],
   "source": [
    "####################################################################################\n",
    "# Notebook to be used for training and testing an MLP model using FASTAI/Pytorch   # \n",
    "####################################################################################"
   ]
  },
  {
   "cell_type": "code",
   "execution_count": 2,
   "id": "c8e3b543",
   "metadata": {
    "ExecuteTime": {
     "end_time": "2021-04-04T03:01:10.034993Z",
     "start_time": "2021-04-04T03:01:10.027740Z"
    },
    "scrolled": false
   },
   "outputs": [],
   "source": [
    "# Need to add the FASTAI install to Dockerfile \n",
    "# ! pip3 install fastai==1.0.61"
   ]
  },
  {
   "cell_type": "code",
   "execution_count": 3,
   "id": "1b4f3d10",
   "metadata": {
    "ExecuteTime": {
     "end_time": "2021-04-04T03:01:15.311811Z",
     "start_time": "2021-04-04T03:01:10.043899Z"
    }
   },
   "outputs": [],
   "source": [
    "# Import libraries\n",
    "from fastai.tabular import *\n",
    "import pandas as pd\n",
    "import numpy as np\n",
    "from sklearn.model_selection import StratifiedKFold\n",
    "from sklearn.model_selection import train_test_split, StratifiedShuffleSplit\n",
    "import os\n",
    "import sys\n",
    "import glob\n",
    "from sklearn.utils import shuffle"
   ]
  },
  {
   "cell_type": "code",
   "execution_count": 4,
   "id": "5a3a4db2",
   "metadata": {
    "ExecuteTime": {
     "end_time": "2021-04-04T03:01:15.348599Z",
     "start_time": "2021-04-04T03:01:15.318728Z"
    }
   },
   "outputs": [],
   "source": [
    "dep_var = 'label'\n",
    "cat_names = ['dst_port', 'protocol']\n",
    "\n",
    "cont_names = ['timestamp', 'flow_duration', 'tot_fwd_pkts', \n",
    "              'tot_bwd_pkts', 'totlen_fwd_pkts', 'totlen_bwd_pkts', 'fwd_pkt_len_max', \n",
    "              'fwd_pkt_len_min', 'fwd_pkt_len_mean', 'fwd_pkt_len_std', \n",
    "              'bwd_pkt_len_max', 'bwd_pkt_len_min', 'bwd_pkt_len_mean', \n",
    "              'bwd_pkt_len_std', 'flow_byts_s', 'flow_pkts_s', 'flow_iat_mean', \n",
    "              'flow_iat_std', 'flow_iat_max', 'flow_iat_min', 'fwd_iat_tot', \n",
    "              'fwd_iat_mean', 'fwd_iat_std', 'fwd_iat_max', 'fwd_iat_min', \n",
    "              'bwd_iat_tot', 'bwd_iat_mean', 'bwd_iat_std', 'bwd_iat_max',\n",
    "              'bwd_iat_min', 'fwd_psh_flags', 'bwd_psh_flags', 'fwd_urg_flags', \n",
    "              'bwd_urg_flags', 'fwd_header_len', 'bwd_header_len', 'fwd_pkts_s',\n",
    "              'bwd_pkts_s', 'pkt_len_min', 'pkt_len_max', 'pkt_len_mean', \n",
    "              'pkt_len_std', 'pkt_len_var', 'fin_flag_cnt', 'syn_flag_cnt',\n",
    "              'rst_flag_cnt', 'psh_flag_cnt', 'ack_flag_cnt', 'urg_flag_cnt',\n",
    "              'cwe_flag_count', 'ece_flag_cnt', 'down_up_ratio', 'pkt_size_avg',\n",
    "              'fwd_seg_size_avg', 'bwd_seg_size_avg', 'fwd_byts_b_avg',\n",
    "              'fwd_pkts_b_avg', 'fwd_blk_rate_avg', 'bwd_byts_b_avg', \n",
    "              'bwd_pkts_b_avg', 'bwd_blk_rate_avg', 'subflow_fwd_pkts', \n",
    "              'subflow_fwd_byts', 'subflow_bwd_pkts', 'subflow_bwd_byts', \n",
    "              'init_fwd_win_byts', 'init_bwd_win_byts', 'fwd_act_data_pkts',\n",
    "              'fwd_seg_size_min', 'active_mean', 'active_std', 'active_max',\n",
    "              'active_min', 'idle_mean', 'idle_std', 'idle_max', 'idle_min']"
   ]
  },
  {
   "cell_type": "code",
   "execution_count": 5,
   "id": "be56abe6",
   "metadata": {
    "ExecuteTime": {
     "end_time": "2021-04-04T03:01:15.368477Z",
     "start_time": "2021-04-04T03:01:15.356180Z"
    }
   },
   "outputs": [],
   "source": [
    "rawdata_path = './data'\n",
    "processed_path = os.path.join(rawdata_path, 'processed')\n",
    "results_path = './results'"
   ]
  },
  {
   "cell_type": "code",
   "execution_count": 6,
   "id": "309a50c9",
   "metadata": {
    "ExecuteTime": {
     "end_time": "2021-04-04T03:01:15.393956Z",
     "start_time": "2021-04-04T03:01:15.375480Z"
    }
   },
   "outputs": [],
   "source": [
    "def loadDataFile(fileName):\n",
    "    global processed_path\n",
    "    dataFile = os.path.join(processed_path, fileName)\n",
    "    pickleDump = '{}.pickle'.format(dataFile)\n",
    "    if os.path.exists(pickleDump):\n",
    "        df = pd.read_pickle(pickleDump)\n",
    "    else:\n",
    "        df = pd.read_csv(dataFile)\n",
    "        df = df.dropna()\n",
    "        df = shuffle(df)\n",
    "        df.to_pickle(pickleDump)\n",
    "    return df"
   ]
  },
  {
   "cell_type": "code",
   "execution_count": 7,
   "id": "3cd31143",
   "metadata": {
    "ExecuteTime": {
     "end_time": "2021-04-04T03:01:15.448281Z",
     "start_time": "2021-04-04T03:01:15.401236Z"
    }
   },
   "outputs": [],
   "source": [
    "def modelIndividual(dataFile, epochs=5, normalize=False):\n",
    "    global processed_path\n",
    "    global results_path\n",
    "    \n",
    "    # Create folder for processed files if none exists\n",
    "    if not os.path.exists(results_path):\n",
    "        os.mkdir(results_path)    \n",
    "    \n",
    "    # procs = [FillMissing, Categorify, Normalize]\n",
    "    procs = [FillMissing, Categorify]\n",
    "    if normalize:\n",
    "        procs.append(Normalize)\n",
    "\n",
    "    seed = 7\n",
    "    np.random.seed(seed)\n",
    "    # load data\n",
    "    data = loadDataFile(dataFile)\n",
    "    # define 10-fold cross validation test harness\n",
    "    kfold = StratifiedKFold(n_splits=5, shuffle=True, random_state=seed)\n",
    "    cvscores = []\n",
    "    fold = 1\n",
    "    for train_idx, test_idx in kfold.split(data.index, data[dep_var]):\n",
    "        print('running fold = ', fold)\n",
    "        fold += 1\n",
    "        # create model\n",
    "        data_fold = (TabularList.from_df(data, path=processed_path, cat_names=cat_names, cont_names=cont_names, procs=procs)\n",
    "                     .split_by_idxs(train_idx, test_idx)\n",
    "                     .label_from_df(cols=dep_var)\n",
    "                     .databunch())\n",
    "        # create model and learn\n",
    "        model = tabular_learner(\n",
    "            data_fold, layers=[200, 100], metrics=accuracy, callback_fns=ShowGraph)\n",
    "        model.fit(epochs, 1e-2)\n",
    "        model.save('{}.model'.format(os.path.basename(dataFile)))\n",
    "        # train the model, iterating on the data in batches of batch_size\n",
    "        # evaluate the model\n",
    "        loss, acc = model.validate()\n",
    "        print('loss {}: accuracy: {:.2f}%'.format(loss, acc*100))\n",
    "        cvscores.append(acc*100)\n",
    "        resultFile = os.path.join(results_path, dataFile)\n",
    "        with open('{}.result'.format(resultFile), 'a') as fout:\n",
    "            fout.write(\n",
    "                'accuracy: {:.2f} std-dev: {:.2f}\\n'.format(np.mean(cvscores), np.std(cvscores)))"
   ]
  },
  {
   "cell_type": "code",
   "execution_count": 8,
   "id": "d23fd254",
   "metadata": {
    "ExecuteTime": {
     "end_time": "2021-04-04T03:30:43.874823Z",
     "start_time": "2021-04-04T03:01:15.458615Z"
    },
    "scrolled": false
   },
   "outputs": [
    {
     "name": "stdout",
     "output_type": "stream",
     "text": [
      "running fold =  1\n"
     ]
    },
    {
     "data": {
      "text/html": [
       "<table border=\"1\" class=\"dataframe\">\n",
       "  <thead>\n",
       "    <tr style=\"text-align: left;\">\n",
       "      <th>epoch</th>\n",
       "      <th>train_loss</th>\n",
       "      <th>valid_loss</th>\n",
       "      <th>accuracy</th>\n",
       "      <th>time</th>\n",
       "    </tr>\n",
       "  </thead>\n",
       "  <tbody>\n",
       "    <tr>\n",
       "      <td>0</td>\n",
       "      <td>0.212715</td>\n",
       "      <td>117.128151</td>\n",
       "      <td>0.889158</td>\n",
       "      <td>01:11</td>\n",
       "    </tr>\n",
       "    <tr>\n",
       "      <td>1</td>\n",
       "      <td>0.205006</td>\n",
       "      <td>229.097366</td>\n",
       "      <td>0.864165</td>\n",
       "      <td>01:07</td>\n",
       "    </tr>\n",
       "    <tr>\n",
       "      <td>2</td>\n",
       "      <td>0.181729</td>\n",
       "      <td>74.325691</td>\n",
       "      <td>0.841122</td>\n",
       "      <td>01:07</td>\n",
       "    </tr>\n",
       "    <tr>\n",
       "      <td>3</td>\n",
       "      <td>0.168782</td>\n",
       "      <td>25.966249</td>\n",
       "      <td>0.848352</td>\n",
       "      <td>01:08</td>\n",
       "    </tr>\n",
       "    <tr>\n",
       "      <td>4</td>\n",
       "      <td>0.151549</td>\n",
       "      <td>27.155172</td>\n",
       "      <td>0.893735</td>\n",
       "      <td>01:07</td>\n",
       "    </tr>\n",
       "  </tbody>\n",
       "</table>"
      ],
      "text/plain": [
       "<IPython.core.display.HTML object>"
      ]
     },
     "metadata": {},
     "output_type": "display_data"
    },
    {
     "data": {
      "image/png": "[encoded data removed]",
      "text/plain": [
       "<Figure size 432x288 with 1 Axes>"
      ]
     },
     "metadata": {},
     "output_type": "display_data"
    },
    {
     "data": {
      "text/html": [],
      "text/plain": [
       "<IPython.core.display.HTML object>"
      ]
     },
     "metadata": {},
     "output_type": "display_data"
    },
    {
     "name": "stdout",
     "output_type": "stream",
     "text": [
      "loss 27.15517234802246: accuracy: 89.37%\n",
      "running fold =  2\n"
     ]
    },
    {
     "data": {
      "text/html": [
       "<table border=\"1\" class=\"dataframe\">\n",
       "  <thead>\n",
       "    <tr style=\"text-align: left;\">\n",
       "      <th>epoch</th>\n",
       "      <th>train_loss</th>\n",
       "      <th>valid_loss</th>\n",
       "      <th>accuracy</th>\n",
       "      <th>time</th>\n",
       "    </tr>\n",
       "  </thead>\n",
       "  <tbody>\n",
       "    <tr>\n",
       "      <td>0</td>\n",
       "      <td>0.218029</td>\n",
       "      <td>173.861572</td>\n",
       "      <td>0.899222</td>\n",
       "      <td>01:06</td>\n",
       "    </tr>\n",
       "    <tr>\n",
       "      <td>1</td>\n",
       "      <td>0.181688</td>\n",
       "      <td>52.729332</td>\n",
       "      <td>0.902655</td>\n",
       "      <td>01:07</td>\n",
       "    </tr>\n",
       "    <tr>\n",
       "      <td>2</td>\n",
       "      <td>0.180876</td>\n",
       "      <td>4890.038574</td>\n",
       "      <td>0.853762</td>\n",
       "      <td>01:07</td>\n",
       "    </tr>\n",
       "    <tr>\n",
       "      <td>3</td>\n",
       "      <td>0.167836</td>\n",
       "      <td>58.775215</td>\n",
       "      <td>0.867780</td>\n",
       "      <td>01:06</td>\n",
       "    </tr>\n",
       "    <tr>\n",
       "      <td>4</td>\n",
       "      <td>0.152602</td>\n",
       "      <td>9.062429</td>\n",
       "      <td>0.902707</td>\n",
       "      <td>01:06</td>\n",
       "    </tr>\n",
       "  </tbody>\n",
       "</table>"
      ],
      "text/plain": [
       "<IPython.core.display.HTML object>"
      ]
     },
     "metadata": {},
     "output_type": "display_data"
    },
    {
     "data": {
      "image/png": "[encoded data removed]",
      "text/plain": [
       "<Figure size 432x288 with 1 Axes>"
      ]
     },
     "metadata": {},
     "output_type": "display_data"
    },
    {
     "data": {
      "text/html": [],
      "text/plain": [
       "<IPython.core.display.HTML object>"
      ]
     },
     "metadata": {},
     "output_type": "display_data"
    },
    {
     "name": "stdout",
     "output_type": "stream",
     "text": [
      "loss 9.062429428100586: accuracy: 90.27%\n",
      "running fold =  3\n"
     ]
    },
    {
     "data": {
      "text/html": [
       "<table border=\"1\" class=\"dataframe\">\n",
       "  <thead>\n",
       "    <tr style=\"text-align: left;\">\n",
       "      <th>epoch</th>\n",
       "      <th>train_loss</th>\n",
       "      <th>valid_loss</th>\n",
       "      <th>accuracy</th>\n",
       "      <th>time</th>\n",
       "    </tr>\n",
       "  </thead>\n",
       "  <tbody>\n",
       "    <tr>\n",
       "      <td>0</td>\n",
       "      <td>0.215696</td>\n",
       "      <td>94.952599</td>\n",
       "      <td>0.886791</td>\n",
       "      <td>01:06</td>\n",
       "    </tr>\n",
       "    <tr>\n",
       "      <td>1</td>\n",
       "      <td>0.179148</td>\n",
       "      <td>966.887207</td>\n",
       "      <td>0.856753</td>\n",
       "      <td>01:06</td>\n",
       "    </tr>\n",
       "    <tr>\n",
       "      <td>2</td>\n",
       "      <td>0.164901</td>\n",
       "      <td>1.887090</td>\n",
       "      <td>0.850303</td>\n",
       "      <td>01:07</td>\n",
       "    </tr>\n",
       "    <tr>\n",
       "      <td>3</td>\n",
       "      <td>0.175641</td>\n",
       "      <td>331.498749</td>\n",
       "      <td>0.892825</td>\n",
       "      <td>01:06</td>\n",
       "    </tr>\n",
       "    <tr>\n",
       "      <td>4</td>\n",
       "      <td>0.142660</td>\n",
       "      <td>0.877149</td>\n",
       "      <td>0.848508</td>\n",
       "      <td>01:06</td>\n",
       "    </tr>\n",
       "  </tbody>\n",
       "</table>"
      ],
      "text/plain": [
       "<IPython.core.display.HTML object>"
      ]
     },
     "metadata": {},
     "output_type": "display_data"
    },
    {
     "data": {
      "image/png": "[encoded data removed]",
      "text/plain": [
       "<Figure size 432x288 with 1 Axes>"
      ]
     },
     "metadata": {},
     "output_type": "display_data"
    },
    {
     "data": {
      "text/html": [],
      "text/plain": [
       "<IPython.core.display.HTML object>"
      ]
     },
     "metadata": {},
     "output_type": "display_data"
    },
    {
     "name": "stdout",
     "output_type": "stream",
     "text": [
      "loss 0.8771494626998901: accuracy: 84.85%\n",
      "running fold =  4\n"
     ]
    },
    {
     "data": {
      "text/html": [
       "<table border=\"1\" class=\"dataframe\">\n",
       "  <thead>\n",
       "    <tr style=\"text-align: left;\">\n",
       "      <th>epoch</th>\n",
       "      <th>train_loss</th>\n",
       "      <th>valid_loss</th>\n",
       "      <th>accuracy</th>\n",
       "      <th>time</th>\n",
       "    </tr>\n",
       "  </thead>\n",
       "  <tbody>\n",
       "    <tr>\n",
       "      <td>0</td>\n",
       "      <td>0.203677</td>\n",
       "      <td>42.693756</td>\n",
       "      <td>0.850901</td>\n",
       "      <td>01:07</td>\n",
       "    </tr>\n",
       "    <tr>\n",
       "      <td>1</td>\n",
       "      <td>0.208265</td>\n",
       "      <td>82.169762</td>\n",
       "      <td>0.789732</td>\n",
       "      <td>01:06</td>\n",
       "    </tr>\n",
       "    <tr>\n",
       "      <td>2</td>\n",
       "      <td>0.166830</td>\n",
       "      <td>13.165901</td>\n",
       "      <td>0.902135</td>\n",
       "      <td>01:07</td>\n",
       "    </tr>\n",
       "    <tr>\n",
       "      <td>3</td>\n",
       "      <td>0.163664</td>\n",
       "      <td>70.806282</td>\n",
       "      <td>0.897662</td>\n",
       "      <td>01:06</td>\n",
       "    </tr>\n",
       "    <tr>\n",
       "      <td>4</td>\n",
       "      <td>0.169005</td>\n",
       "      <td>1.063565</td>\n",
       "      <td>0.874802</td>\n",
       "      <td>01:07</td>\n",
       "    </tr>\n",
       "  </tbody>\n",
       "</table>"
      ],
      "text/plain": [
       "<IPython.core.display.HTML object>"
      ]
     },
     "metadata": {},
     "output_type": "display_data"
    },
    {
     "data": {
      "image/png": "[encoded data removed]",
      "text/plain": [
       "<Figure size 432x288 with 1 Axes>"
      ]
     },
     "metadata": {},
     "output_type": "display_data"
    },
    {
     "data": {
      "text/html": [],
      "text/plain": [
       "<IPython.core.display.HTML object>"
      ]
     },
     "metadata": {},
     "output_type": "display_data"
    },
    {
     "name": "stdout",
     "output_type": "stream",
     "text": [
      "loss 1.0635648965835571: accuracy: 87.48%\n",
      "running fold =  5\n"
     ]
    },
    {
     "data": {
      "text/html": [
       "<table border=\"1\" class=\"dataframe\">\n",
       "  <thead>\n",
       "    <tr style=\"text-align: left;\">\n",
       "      <th>epoch</th>\n",
       "      <th>train_loss</th>\n",
       "      <th>valid_loss</th>\n",
       "      <th>accuracy</th>\n",
       "      <th>time</th>\n",
       "    </tr>\n",
       "  </thead>\n",
       "  <tbody>\n",
       "    <tr>\n",
       "      <td>0</td>\n",
       "      <td>0.212937</td>\n",
       "      <td>5.263823</td>\n",
       "      <td>0.879688</td>\n",
       "      <td>01:07</td>\n",
       "    </tr>\n",
       "    <tr>\n",
       "      <td>1</td>\n",
       "      <td>0.183462</td>\n",
       "      <td>9.473620</td>\n",
       "      <td>0.900884</td>\n",
       "      <td>01:08</td>\n",
       "    </tr>\n",
       "    <tr>\n",
       "      <td>2</td>\n",
       "      <td>0.158924</td>\n",
       "      <td>30.835276</td>\n",
       "      <td>0.903849</td>\n",
       "      <td>01:06</td>\n",
       "    </tr>\n",
       "    <tr>\n",
       "      <td>3</td>\n",
       "      <td>0.161706</td>\n",
       "      <td>11.988036</td>\n",
       "      <td>0.904473</td>\n",
       "      <td>01:07</td>\n",
       "    </tr>\n",
       "    <tr>\n",
       "      <td>4</td>\n",
       "      <td>0.165638</td>\n",
       "      <td>0.238497</td>\n",
       "      <td>0.857217</td>\n",
       "      <td>01:07</td>\n",
       "    </tr>\n",
       "  </tbody>\n",
       "</table>"
      ],
      "text/plain": [
       "<IPython.core.display.HTML object>"
      ]
     },
     "metadata": {},
     "output_type": "display_data"
    },
    {
     "data": {
      "image/png": "[encoded data removed]",
      "text/plain": [
       "<Figure size 432x288 with 1 Axes>"
      ]
     },
     "metadata": {},
     "output_type": "display_data"
    },
    {
     "data": {
      "text/html": [],
      "text/plain": [
       "<IPython.core.display.HTML object>"
      ]
     },
     "metadata": {},
     "output_type": "display_data"
    },
    {
     "name": "stdout",
     "output_type": "stream",
     "text": [
      "loss 0.2384968250989914: accuracy: 85.72%\n"
     ]
    }
   ],
   "source": [
    " modelIndividual('IDS-2018-multiclass.csv')"
   ]
  }
 ],
 "metadata": {
  "kernelspec": {
   "display_name": "Python 3",
   "language": "python",
   "name": "python3"
  },
  "language_info": {
   "codemirror_mode": {
    "name": "ipython",
    "version": 3
   },
   "file_extension": ".py",
   "mimetype": "text/x-python",
   "name": "python",
   "nbconvert_exporter": "python",
   "pygments_lexer": "ipython3",
   "version": "3.6.9"
  }
 },
 "nbformat": 4,
 "nbformat_minor": 5
}
